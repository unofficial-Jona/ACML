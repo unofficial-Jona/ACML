{
 "cells": [
  {
   "cell_type": "code",
   "execution_count": 25,
   "metadata": {},
   "outputs": [],
   "source": [
    "import numpy as np\n",
    "from scipy.special import expit as sigmoid"
   ]
  },
  {
   "cell_type": "code",
   "execution_count": 8,
   "metadata": {},
   "outputs": [],
   "source": [
    "X = np.identity(8)\n",
    "y = X"
   ]
  },
  {
   "cell_type": "code",
   "execution_count": 124,
   "metadata": {},
   "outputs": [
    {
     "data": {
      "text/plain": [
       "[array([[0., 0.],\n",
       "        [0., 0.],\n",
       "        [0., 0.],\n",
       "        [0., 0.],\n",
       "        [0., 0.],\n",
       "        [0., 0.],\n",
       "        [0., 0.],\n",
       "        [0., 0.]]),\n",
       " array([[0., 0.],\n",
       "        [0., 0.],\n",
       "        [0., 0.]]),\n",
       " array([[0., 0.],\n",
       "        [0., 0.],\n",
       "        [0., 0.],\n",
       "        [0., 0.],\n",
       "        [0., 0.],\n",
       "        [0., 0.],\n",
       "        [0., 0.],\n",
       "        [0., 0.]])]"
      ]
     },
     "execution_count": 124,
     "metadata": {},
     "output_type": "execute_result"
    }
   ],
   "source": [
    "def init_network(input_size, hidden_size, output_size):\n",
    "    input = np.zeros((input_size, 2))\n",
    "    hidden = np.zeros((hidden_size, 2))\n",
    "    output = np.zeros((output_size, 2))\n",
    "    network = list((input, hidden, output))\n",
    "    return network\n",
    "network = init_network(8,3,8)\n",
    "network"
   ]
  },
  {
   "cell_type": "code",
   "execution_count": 204,
   "metadata": {},
   "outputs": [
    {
     "name": "stdout",
     "output_type": "stream",
     "text": [
      "(8, 1) (8, 3)\n",
      "[[0. 0. 0.]]\n"
     ]
    }
   ],
   "source": [
    "class Layer:\n",
    "    def __init__(self, size, size_n1):\n",
    "        self.activation = np.zeros((size, 1))\n",
    "        self.weights = np.zeros((size, size_n1))\n",
    "    \n",
    "    def print_weights(self):\n",
    "        print(self.weights)\n",
    "\n",
    "class Network:\n",
    "    def __init__(self, nodes) -> None:\n",
    "        nodes = [nodes[i]+1 if i < len(nodes) - 1 else nodes[i] for i in range(len(nodes))]\n",
    "        nodes.append(0)\n",
    "        self.layers = []\n",
    "        for i in range(len(nodes)-1):\n",
    "            self.layers.append(Layer(nodes[i], nodes[i+1]))\n",
    "    \n",
    "    def activation(self, layer_int):\n",
    "        layer = self.layers[layer_int]\n",
    "        prev_layer = self.layers[layer_int -1]\n",
    "        print(prev_layer.activation[:-1].shape, prev_layer.weights[:-1, :-1].shape)\n",
    "        layer.activation = np.dot(prev_layer.activation.T[:, :-1], prev_layer.weights[:-1, :-1]) + prev_layer.weights[-1, -1]\n",
    "        print(layer.activation)\n",
    "\n",
    "\n",
    "Network([8,3,8]).activation(1)"
   ]
  },
  {
   "cell_type": "code",
   "execution_count": 123,
   "metadata": {},
   "outputs": [
    {
     "name": "stdout",
     "output_type": "stream",
     "text": [
      "[0.5]\n"
     ]
    }
   ],
   "source": [
    "def activation(inputs, weights, bias=True):\n",
    "    \n",
    "    if bias == True:\n",
    "        term = 1\n",
    "    else: \n",
    "        term = 0\n",
    "    for input, weight in zip(inputs, weights):\n",
    "        term += (input * weight)\n",
    "    return sigmoid(term)\n",
    "\n",
    "\n",
    "\n",
    "# activation function for top node hidden layer.\n",
    "print(activation([1,0,0,0,0,0,0,0], np.zeros((8,1)), False))\n"
   ]
  },
  {
   "cell_type": "code",
   "execution_count": 121,
   "metadata": {},
   "outputs": [],
   "source": [
    "def forward(network, input):\n",
    "    for i in range(len(network)):\n",
    "        if i == 0:\n",
    "            network[i] = input\n",
    "        elif i == 1:\n",
    "            for node_i in range(len(network[i])):\n",
    "                network[i][node_i] = activation(network[i-1], np.zeros(network[i-1].shape), bias=False)\n",
    "        else: \n",
    "            for node_i in range(len(network[i])):\n",
    "                network[i][node_i] = activation(network[i-1], np.zeros(network[i-1].shape))\n",
    "    return network"
   ]
  },
  {
   "cell_type": "code",
   "execution_count": 184,
   "metadata": {},
   "outputs": [
    {
     "data": {
      "text/plain": [
       "array([0.73105858, 0.62245933, 0.5       ])"
      ]
     },
     "execution_count": 184,
     "metadata": {},
     "output_type": "execute_result"
    }
   ],
   "source": [
    "sigmoid([1,0.5,0])"
   ]
  },
  {
   "cell_type": "code",
   "execution_count": 194,
   "metadata": {},
   "outputs": [
    {
     "data": {
      "text/plain": [
       "array([[8., 8.]])"
      ]
     },
     "execution_count": 194,
     "metadata": {},
     "output_type": "execute_result"
    }
   ],
   "source": [
    "activation = np.ones((1,8))\n",
    "weights = np.ones((8,2))\n",
    "np.dot(activation, weights)"
   ]
  },
  {
   "cell_type": "code",
   "execution_count": null,
   "metadata": {},
   "outputs": [],
   "source": []
  }
 ],
 "metadata": {
  "interpreter": {
   "hash": "ddda031869fb8ce91032b63195a611ad81bb421fc11bd1c32a8661751b914dac"
  },
  "kernelspec": {
   "display_name": "Python 3.8.11 64-bit ('base': conda)",
   "name": "python3"
  },
  "language_info": {
   "codemirror_mode": {
    "name": "ipython",
    "version": 3
   },
   "file_extension": ".py",
   "mimetype": "text/x-python",
   "name": "python",
   "nbconvert_exporter": "python",
   "pygments_lexer": "ipython3",
   "version": "3.8.11"
  },
  "orig_nbformat": 4
 },
 "nbformat": 4,
 "nbformat_minor": 2
}
