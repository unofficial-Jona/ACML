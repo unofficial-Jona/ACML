{
 "cells": [
  {
   "cell_type": "code",
   "execution_count": 25,
   "metadata": {},
   "outputs": [],
   "source": [
    "import numpy as np\n",
    "from scipy.special import expit as sigmoid"
   ]
  },
  {
   "cell_type": "code",
   "execution_count": 8,
   "metadata": {},
   "outputs": [],
   "source": [
    "X = np.identity(8)\n",
    "y = X"
   ]
  },
  {
   "cell_type": "code",
   "execution_count": 124,
   "metadata": {},
   "outputs": [
    {
     "data": {
      "text/plain": [
       "[array([[0., 0.],\n",
       "        [0., 0.],\n",
       "        [0., 0.],\n",
       "        [0., 0.],\n",
       "        [0., 0.],\n",
       "        [0., 0.],\n",
       "        [0., 0.],\n",
       "        [0., 0.]]),\n",
       " array([[0., 0.],\n",
       "        [0., 0.],\n",
       "        [0., 0.]]),\n",
       " array([[0., 0.],\n",
       "        [0., 0.],\n",
       "        [0., 0.],\n",
       "        [0., 0.],\n",
       "        [0., 0.],\n",
       "        [0., 0.],\n",
       "        [0., 0.],\n",
       "        [0., 0.]])]"
      ]
     },
     "execution_count": 124,
     "metadata": {},
     "output_type": "execute_result"
    }
   ],
   "source": [
    "def init_network(input_size, hidden_size, output_size):\n",
    "    input = np.zeros((input_size, 2))\n",
    "    hidden = np.zeros((hidden_size, 2))\n",
    "    output = np.zeros((output_size, 2))\n",
    "    network = list((input, hidden, output))\n",
    "    return network\n",
    "network = init_network(8,3,8)\n",
    "network"
   ]
  },
  {
   "cell_type": "code",
   "execution_count": 322,
   "metadata": {},
   "outputs": [
    {
     "name": "stdout",
     "output_type": "stream",
     "text": [
      "nr nodes:  [9, 4, 8, 0]\n",
      "weights:  [[0.37454012 0.95071431 0.73199394 0.59865848]\n",
      " [0.15601864 0.15599452 0.05808361 0.86617615]\n",
      " [0.60111501 0.70807258 0.02058449 0.96990985]\n",
      " [0.83244264 0.21233911 0.18182497 0.18340451]\n",
      " [0.30424224 0.52475643 0.43194502 0.29122914]\n",
      " [0.61185289 0.13949386 0.29214465 0.36636184]\n",
      " [0.45606998 0.78517596 0.19967378 0.51423444]\n",
      " [0.59241457 0.04645041 0.60754485 0.17052412]\n",
      " [0.06505159 0.94888554 0.96563203 0.80839735]] \n",
      "activation:  [[1.]\n",
      " [0.]\n",
      " [0.]\n",
      " [0.]\n",
      " [0.]\n",
      " [0.]\n",
      " [0.]\n",
      " [0.]\n",
      " [1.]]\n",
      "act_vector:  [[0.60816174 0.86984623 0.84522442 0.80330116]]\n",
      "weights:  [[0.30461377 0.09767211 0.68423303 0.44015249 0.12203823 0.49517691\n",
      "  0.03438852 0.9093204 ]\n",
      " [0.25877998 0.66252228 0.31171108 0.52006802 0.54671028 0.18485446\n",
      "  0.96958463 0.77513282]\n",
      " [0.93949894 0.89482735 0.59789998 0.92187424 0.0884925  0.19598286\n",
      "  0.04522729 0.32533033]\n",
      " [0.38867729 0.27134903 0.82873751 0.35675333 0.28093451 0.54269608\n",
      "  0.14092422 0.80219698]] \n",
      "activation:  None\n"
     ]
    },
    {
     "ename": "AttributeError",
     "evalue": "'NoneType' object has no attribute 'T'",
     "output_type": "error",
     "traceback": [
      "\u001b[0;31m---------------------------------------------------------------------------\u001b[0m",
      "\u001b[0;31mAttributeError\u001b[0m                            Traceback (most recent call last)",
      "\u001b[0;32m/var/folders/yh/5g0l_qvd0fs6sjcr166g3y4m0000gn/T/ipykernel_12390/3895972545.py\u001b[0m in \u001b[0;36m<module>\u001b[0;34m\u001b[0m\n\u001b[1;32m     49\u001b[0m \u001b[0;34m\u001b[0m\u001b[0m\n\u001b[1;32m     50\u001b[0m \u001b[0ma\u001b[0m \u001b[0;34m=\u001b[0m \u001b[0mNetwork\u001b[0m\u001b[0;34m(\u001b[0m\u001b[0;34m[\u001b[0m\u001b[0;36m8\u001b[0m\u001b[0;34m,\u001b[0m\u001b[0;36m3\u001b[0m\u001b[0;34m,\u001b[0m\u001b[0;36m8\u001b[0m\u001b[0;34m]\u001b[0m\u001b[0;34m)\u001b[0m\u001b[0;34m\u001b[0m\u001b[0;34m\u001b[0m\u001b[0m\n\u001b[0;32m---> 51\u001b[0;31m \u001b[0ma\u001b[0m\u001b[0;34m.\u001b[0m\u001b[0mforward\u001b[0m\u001b[0;34m(\u001b[0m\u001b[0mnp\u001b[0m\u001b[0;34m.\u001b[0m\u001b[0marray\u001b[0m\u001b[0;34m(\u001b[0m\u001b[0;34m[\u001b[0m\u001b[0;36m1\u001b[0m\u001b[0;34m,\u001b[0m\u001b[0;36m0\u001b[0m\u001b[0;34m,\u001b[0m\u001b[0;36m0\u001b[0m\u001b[0;34m,\u001b[0m\u001b[0;36m0\u001b[0m\u001b[0;34m,\u001b[0m\u001b[0;36m0\u001b[0m\u001b[0;34m,\u001b[0m\u001b[0;36m0\u001b[0m\u001b[0;34m,\u001b[0m\u001b[0;36m0\u001b[0m\u001b[0;34m,\u001b[0m\u001b[0;36m0\u001b[0m\u001b[0;34m]\u001b[0m\u001b[0;34m)\u001b[0m\u001b[0;34m)\u001b[0m\u001b[0;34m\u001b[0m\u001b[0;34m\u001b[0m\u001b[0m\n\u001b[0m\u001b[1;32m     52\u001b[0m \u001b[0;31m# a.layers[2]\u001b[0m\u001b[0;34m\u001b[0m\u001b[0;34m\u001b[0m\u001b[0;34m\u001b[0m\u001b[0m\n",
      "\u001b[0;32m/var/folders/yh/5g0l_qvd0fs6sjcr166g3y4m0000gn/T/ipykernel_12390/3895972545.py\u001b[0m in \u001b[0;36mforward\u001b[0;34m(self, input)\u001b[0m\n\u001b[1;32m     44\u001b[0m         \u001b[0mself\u001b[0m\u001b[0;34m.\u001b[0m\u001b[0mlayers\u001b[0m\u001b[0;34m[\u001b[0m\u001b[0;36m0\u001b[0m\u001b[0;34m]\u001b[0m\u001b[0;34m.\u001b[0m\u001b[0mactivation\u001b[0m\u001b[0;34m[\u001b[0m\u001b[0;34m-\u001b[0m\u001b[0;36m1\u001b[0m\u001b[0;34m]\u001b[0m \u001b[0;34m=\u001b[0m \u001b[0;36m1\u001b[0m\u001b[0;34m\u001b[0m\u001b[0;34m\u001b[0m\u001b[0m\n\u001b[1;32m     45\u001b[0m         \u001b[0;32mfor\u001b[0m \u001b[0mi\u001b[0m \u001b[0;32min\u001b[0m \u001b[0mrange\u001b[0m\u001b[0;34m(\u001b[0m\u001b[0;36m1\u001b[0m\u001b[0;34m,\u001b[0m \u001b[0mlen\u001b[0m\u001b[0;34m(\u001b[0m\u001b[0mself\u001b[0m\u001b[0;34m.\u001b[0m\u001b[0mlayers\u001b[0m\u001b[0;34m)\u001b[0m\u001b[0;34m)\u001b[0m\u001b[0;34m:\u001b[0m\u001b[0;34m\u001b[0m\u001b[0;34m\u001b[0m\u001b[0m\n\u001b[0;32m---> 46\u001b[0;31m             \u001b[0mself\u001b[0m\u001b[0;34m.\u001b[0m\u001b[0mlayers\u001b[0m\u001b[0;34m[\u001b[0m\u001b[0mi\u001b[0m\u001b[0;34m]\u001b[0m\u001b[0;34m.\u001b[0m\u001b[0mactivation\u001b[0m \u001b[0;34m=\u001b[0m \u001b[0mself\u001b[0m\u001b[0;34m.\u001b[0m\u001b[0mactivation\u001b[0m\u001b[0;34m(\u001b[0m\u001b[0mi\u001b[0m\u001b[0;34m)\u001b[0m\u001b[0;34m\u001b[0m\u001b[0;34m\u001b[0m\u001b[0m\n\u001b[0m\u001b[1;32m     47\u001b[0m \u001b[0;34m\u001b[0m\u001b[0m\n\u001b[1;32m     48\u001b[0m \u001b[0;34m\u001b[0m\u001b[0m\n",
      "\u001b[0;32m/var/folders/yh/5g0l_qvd0fs6sjcr166g3y4m0000gn/T/ipykernel_12390/3895972545.py\u001b[0m in \u001b[0;36mactivation\u001b[0;34m(self, layer_int)\u001b[0m\n\u001b[1;32m     33\u001b[0m \u001b[0;34m\u001b[0m\u001b[0m\n\u001b[1;32m     34\u001b[0m         \u001b[0mprint\u001b[0m\u001b[0;34m(\u001b[0m\u001b[0;34m'weights: '\u001b[0m\u001b[0;34m,\u001b[0m \u001b[0mprev_layer\u001b[0m\u001b[0;34m.\u001b[0m\u001b[0mweights\u001b[0m\u001b[0;34m,\u001b[0m \u001b[0;34m'\\nactivation: '\u001b[0m\u001b[0;34m,\u001b[0m \u001b[0mprev_layer\u001b[0m\u001b[0;34m.\u001b[0m\u001b[0mactivation\u001b[0m\u001b[0;34m)\u001b[0m\u001b[0;34m\u001b[0m\u001b[0;34m\u001b[0m\u001b[0m\n\u001b[0;32m---> 35\u001b[0;31m         \u001b[0mact_vector\u001b[0m \u001b[0;34m=\u001b[0m \u001b[0mnp\u001b[0m\u001b[0;34m.\u001b[0m\u001b[0mdot\u001b[0m\u001b[0;34m(\u001b[0m\u001b[0mprev_layer\u001b[0m\u001b[0;34m.\u001b[0m\u001b[0mactivation\u001b[0m\u001b[0;34m.\u001b[0m\u001b[0mT\u001b[0m\u001b[0;34m,\u001b[0m \u001b[0mprev_layer\u001b[0m\u001b[0;34m.\u001b[0m\u001b[0mweights\u001b[0m\u001b[0;34m)\u001b[0m\u001b[0;34m\u001b[0m\u001b[0;34m\u001b[0m\u001b[0m\n\u001b[0m\u001b[1;32m     36\u001b[0m \u001b[0;34m\u001b[0m\u001b[0m\n\u001b[1;32m     37\u001b[0m         \u001b[0mprint\u001b[0m\u001b[0;34m(\u001b[0m\u001b[0;34m'act_vector: '\u001b[0m\u001b[0;34m,\u001b[0m \u001b[0msigmoid\u001b[0m\u001b[0;34m(\u001b[0m\u001b[0mact_vector\u001b[0m\u001b[0;34m)\u001b[0m\u001b[0;34m)\u001b[0m\u001b[0;34m\u001b[0m\u001b[0;34m\u001b[0m\u001b[0m\n",
      "\u001b[0;31mAttributeError\u001b[0m: 'NoneType' object has no attribute 'T'"
     ]
    }
   ],
   "source": [
    "np.random.seed(42)\n",
    "class Layer:\n",
    "    def __init__(self, size, size_n1):\n",
    "        self.activation = np.zeros((size, 1))\n",
    "        self.weights = np.random.rand(size, size_n1)\n",
    "           \n",
    "    \n",
    "    def print_weights(self):\n",
    "        print(self.weights)\n",
    "\n",
    "\n",
    "\n",
    "class Network:\n",
    "    def __init__(self, nodes) -> None:\n",
    "        # add bias nodes to network\n",
    "        #FIXME: Right now we're calculating for 4 hidden nodes, because of this addition.\n",
    "        nodes = [nodes[i]+1 if i < len(nodes) - 1 else nodes[i] for i in range(len(nodes))]\n",
    "        nodes.append(0)\n",
    "        print('nr nodes: ', nodes)\n",
    "        self.layers = []\n",
    "        for i in range(len(nodes)-1):\n",
    "            self.layers.append(Layer(nodes[i], nodes[i+1]))\n",
    "    \n",
    "\n",
    "\n",
    "    def activation(self, layer_int):\n",
    "        layer = self.layers[layer_int]\n",
    "        prev_layer = self.layers[layer_int -1]\n",
    "\n",
    "        print('weights: ', prev_layer.weights, '\\nactivation: ', prev_layer.activation)\n",
    "        act_vector = np.dot(prev_layer.activation.T, prev_layer.weights)\n",
    "\n",
    "        print('act_vector: ', sigmoid(act_vector))\n",
    "        \n",
    "        layer.activation = sigmoid(act_vector)\n",
    "\n",
    "    def forward(self, input):\n",
    "        input = input.reshape((input.shape[0], 1))\n",
    "        self.layers[0].activation[:-1] = input\n",
    "        self.layers[0].activation[-1] = 1\n",
    "        for i in range(1, len(self.layers)):\n",
    "            self.layers[i].activation = self.activation(i)\n",
    "\n",
    "\n",
    "\n",
    "a = Network([8,3,8])\n",
    "a.forward(np.array([1,0,0,0,0,0,0,0]))\n",
    "# a.layers[2]"
   ]
  },
  {
   "cell_type": "code",
   "execution_count": 123,
   "metadata": {},
   "outputs": [
    {
     "name": "stdout",
     "output_type": "stream",
     "text": [
      "[0.5]\n"
     ]
    }
   ],
   "source": [
    "def activation(inputs, weights, bias=True):\n",
    "    \n",
    "    if bias == True:\n",
    "        term = 1\n",
    "    else: \n",
    "        term = 0\n",
    "    for input, weight in zip(inputs, weights):\n",
    "        term += (input * weight)\n",
    "    return sigmoid(term)\n",
    "\n",
    "\n",
    "\n",
    "# activation function for top node hidden layer.\n",
    "print(activation([1,0,0,0,0,0,0,0], np.zeros((8,1)), False))\n"
   ]
  },
  {
   "cell_type": "code",
   "execution_count": 121,
   "metadata": {},
   "outputs": [],
   "source": [
    "def forward(network, input):\n",
    "    for i in range(len(network)):\n",
    "        if i == 0:\n",
    "            network[i] = input\n",
    "        elif i == 1:\n",
    "            for node_i in range(len(network[i])):\n",
    "                network[i][node_i] = activation(network[i-1], np.zeros(network[i-1].shape), bias=False)\n",
    "        else: \n",
    "            for node_i in range(len(network[i])):\n",
    "                network[i][node_i] = activation(network[i-1], np.zeros(network[i-1].shape))\n",
    "    return network"
   ]
  },
  {
   "cell_type": "code",
   "execution_count": 314,
   "metadata": {},
   "outputs": [
    {
     "data": {
      "text/plain": [
       "array([[0., 0.],\n",
       "       [0., 0.],\n",
       "       [0., 0.]])"
      ]
     },
     "execution_count": 314,
     "metadata": {},
     "output_type": "execute_result"
    }
   ],
   "source": [
    "np.ndarray((3,2))"
   ]
  },
  {
   "cell_type": "code",
   "execution_count": 194,
   "metadata": {},
   "outputs": [
    {
     "data": {
      "text/plain": [
       "array([[8., 8.]])"
      ]
     },
     "execution_count": 194,
     "metadata": {},
     "output_type": "execute_result"
    }
   ],
   "source": [
    "activation = np.ones((1,8))\n",
    "weights = np.ones((8,2))\n",
    "np.dot(activation, weights)"
   ]
  },
  {
   "cell_type": "code",
   "execution_count": 259,
   "metadata": {},
   "outputs": [
    {
     "data": {
      "text/plain": [
       "array([[0.56735159, 0.49764832, 0.19076445],\n",
       "       [0.50458865, 0.99448377, 0.73499222],\n",
       "       [0.08844741, 0.33895126, 0.75708864]])"
      ]
     },
     "execution_count": 259,
     "metadata": {},
     "output_type": "execute_result"
    }
   ],
   "source": [
    "np.random.rand(3,3)"
   ]
  },
  {
   "cell_type": "code",
   "execution_count": null,
   "metadata": {},
   "outputs": [],
   "source": []
  }
 ],
 "metadata": {
  "interpreter": {
   "hash": "ddda031869fb8ce91032b63195a611ad81bb421fc11bd1c32a8661751b914dac"
  },
  "kernelspec": {
   "display_name": "Python 3.8.11 64-bit ('base': conda)",
   "name": "python3"
  },
  "language_info": {
   "codemirror_mode": {
    "name": "ipython",
    "version": 3
   },
   "file_extension": ".py",
   "mimetype": "text/x-python",
   "name": "python",
   "nbconvert_exporter": "python",
   "pygments_lexer": "ipython3",
   "version": "3.8.11"
  },
  "orig_nbformat": 4
 },
 "nbformat": 4,
 "nbformat_minor": 2
}
