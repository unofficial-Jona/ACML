{
  "cells": [
    {
      "cell_type": "markdown",
      "metadata": {
        "id": "view-in-github",
        "colab_type": "text"
      },
      "source": [
        "<a href=\"https://colab.research.google.com/github/unofficial-Jona/ACML/blob/main/bounding_box_regression.ipynb\" target=\"_parent\"><img src=\"https://colab.research.google.com/assets/colab-badge.svg\" alt=\"Open In Colab\"/></a>"
      ]
    },
    {
      "cell_type": "code",
      "source": [
        "pip install optuna"
      ],
      "metadata": {
        "colab": {
          "base_uri": "https://localhost:8080/"
        },
        "id": "N2Kj0HBxTloc",
        "outputId": "67ff48ec-6f2b-4522-9fc6-9d4de6ec0575"
      },
      "execution_count": 1,
      "outputs": [
        {
          "output_type": "stream",
          "name": "stdout",
          "text": [
            "Collecting optuna\n",
            "  Downloading optuna-2.10.0-py3-none-any.whl (308 kB)\n",
            "\u001b[?25l\r\u001b[K     |█                               | 10 kB 23.6 MB/s eta 0:00:01\r\u001b[K     |██▏                             | 20 kB 27.0 MB/s eta 0:00:01\r\u001b[K     |███▏                            | 30 kB 18.5 MB/s eta 0:00:01\r\u001b[K     |████▎                           | 40 kB 12.6 MB/s eta 0:00:01\r\u001b[K     |█████▎                          | 51 kB 5.4 MB/s eta 0:00:01\r\u001b[K     |██████▍                         | 61 kB 6.0 MB/s eta 0:00:01\r\u001b[K     |███████▍                        | 71 kB 5.3 MB/s eta 0:00:01\r\u001b[K     |████████▌                       | 81 kB 5.8 MB/s eta 0:00:01\r\u001b[K     |█████████▋                      | 92 kB 5.9 MB/s eta 0:00:01\r\u001b[K     |██████████▋                     | 102 kB 5.1 MB/s eta 0:00:01\r\u001b[K     |███████████▊                    | 112 kB 5.1 MB/s eta 0:00:01\r\u001b[K     |████████████▊                   | 122 kB 5.1 MB/s eta 0:00:01\r\u001b[K     |█████████████▉                  | 133 kB 5.1 MB/s eta 0:00:01\r\u001b[K     |██████████████▉                 | 143 kB 5.1 MB/s eta 0:00:01\r\u001b[K     |████████████████                | 153 kB 5.1 MB/s eta 0:00:01\r\u001b[K     |█████████████████               | 163 kB 5.1 MB/s eta 0:00:01\r\u001b[K     |██████████████████              | 174 kB 5.1 MB/s eta 0:00:01\r\u001b[K     |███████████████████▏            | 184 kB 5.1 MB/s eta 0:00:01\r\u001b[K     |████████████████████▏           | 194 kB 5.1 MB/s eta 0:00:01\r\u001b[K     |█████████████████████▎          | 204 kB 5.1 MB/s eta 0:00:01\r\u001b[K     |██████████████████████▎         | 215 kB 5.1 MB/s eta 0:00:01\r\u001b[K     |███████████████████████▍        | 225 kB 5.1 MB/s eta 0:00:01\r\u001b[K     |████████████████████████▌       | 235 kB 5.1 MB/s eta 0:00:01\r\u001b[K     |█████████████████████████▌      | 245 kB 5.1 MB/s eta 0:00:01\r\u001b[K     |██████████████████████████▋     | 256 kB 5.1 MB/s eta 0:00:01\r\u001b[K     |███████████████████████████▋    | 266 kB 5.1 MB/s eta 0:00:01\r\u001b[K     |████████████████████████████▊   | 276 kB 5.1 MB/s eta 0:00:01\r\u001b[K     |█████████████████████████████▊  | 286 kB 5.1 MB/s eta 0:00:01\r\u001b[K     |██████████████████████████████▉ | 296 kB 5.1 MB/s eta 0:00:01\r\u001b[K     |████████████████████████████████| 307 kB 5.1 MB/s eta 0:00:01\r\u001b[K     |████████████████████████████████| 308 kB 5.1 MB/s \n",
            "\u001b[?25hRequirement already satisfied: packaging>=20.0 in /usr/local/lib/python3.7/dist-packages (from optuna) (21.3)\n",
            "Requirement already satisfied: PyYAML in /usr/local/lib/python3.7/dist-packages (from optuna) (3.13)\n",
            "Collecting cmaes>=0.8.2\n",
            "  Downloading cmaes-0.8.2-py3-none-any.whl (15 kB)\n",
            "Requirement already satisfied: numpy in /usr/local/lib/python3.7/dist-packages (from optuna) (1.19.5)\n",
            "Collecting colorlog\n",
            "  Downloading colorlog-6.6.0-py2.py3-none-any.whl (11 kB)\n",
            "Requirement already satisfied: sqlalchemy>=1.1.0 in /usr/local/lib/python3.7/dist-packages (from optuna) (1.4.27)\n",
            "Requirement already satisfied: tqdm in /usr/local/lib/python3.7/dist-packages (from optuna) (4.62.3)\n",
            "Requirement already satisfied: scipy!=1.4.0 in /usr/local/lib/python3.7/dist-packages (from optuna) (1.4.1)\n",
            "Collecting cliff\n",
            "  Downloading cliff-3.10.0-py3-none-any.whl (80 kB)\n",
            "\u001b[K     |████████████████████████████████| 80 kB 6.9 MB/s \n",
            "\u001b[?25hCollecting alembic\n",
            "  Downloading alembic-1.7.5-py3-none-any.whl (209 kB)\n",
            "\u001b[K     |████████████████████████████████| 209 kB 44.6 MB/s \n",
            "\u001b[?25hRequirement already satisfied: pyparsing!=3.0.5,>=2.0.2 in /usr/local/lib/python3.7/dist-packages (from packaging>=20.0->optuna) (3.0.6)\n",
            "Requirement already satisfied: greenlet!=0.4.17 in /usr/local/lib/python3.7/dist-packages (from sqlalchemy>=1.1.0->optuna) (1.1.2)\n",
            "Requirement already satisfied: importlib-metadata in /usr/local/lib/python3.7/dist-packages (from sqlalchemy>=1.1.0->optuna) (4.8.2)\n",
            "Requirement already satisfied: importlib-resources in /usr/local/lib/python3.7/dist-packages (from alembic->optuna) (5.4.0)\n",
            "Collecting Mako\n",
            "  Downloading Mako-1.1.6-py2.py3-none-any.whl (75 kB)\n",
            "\u001b[K     |████████████████████████████████| 75 kB 3.5 MB/s \n",
            "\u001b[?25hCollecting stevedore>=2.0.1\n",
            "  Downloading stevedore-3.5.0-py3-none-any.whl (49 kB)\n",
            "\u001b[K     |████████████████████████████████| 49 kB 4.9 MB/s \n",
            "\u001b[?25hCollecting pbr!=2.1.0,>=2.0.0\n",
            "  Downloading pbr-5.8.0-py2.py3-none-any.whl (112 kB)\n",
            "\u001b[K     |████████████████████████████████| 112 kB 51.6 MB/s \n",
            "\u001b[?25hRequirement already satisfied: PrettyTable>=0.7.2 in /usr/local/lib/python3.7/dist-packages (from cliff->optuna) (2.4.0)\n",
            "Collecting cmd2>=1.0.0\n",
            "  Downloading cmd2-2.3.3-py3-none-any.whl (149 kB)\n",
            "\u001b[K     |████████████████████████████████| 149 kB 48.3 MB/s \n",
            "\u001b[?25hCollecting autopage>=0.4.0\n",
            "  Downloading autopage-0.4.0-py3-none-any.whl (20 kB)\n",
            "Requirement already satisfied: attrs>=16.3.0 in /usr/local/lib/python3.7/dist-packages (from cmd2>=1.0.0->cliff->optuna) (21.2.0)\n",
            "Collecting pyperclip>=1.6\n",
            "  Downloading pyperclip-1.8.2.tar.gz (20 kB)\n",
            "Requirement already satisfied: typing-extensions in /usr/local/lib/python3.7/dist-packages (from cmd2>=1.0.0->cliff->optuna) (3.10.0.2)\n",
            "Requirement already satisfied: wcwidth>=0.1.7 in /usr/local/lib/python3.7/dist-packages (from cmd2>=1.0.0->cliff->optuna) (0.2.5)\n",
            "Requirement already satisfied: zipp>=0.5 in /usr/local/lib/python3.7/dist-packages (from importlib-metadata->sqlalchemy>=1.1.0->optuna) (3.6.0)\n",
            "Requirement already satisfied: MarkupSafe>=0.9.2 in /usr/local/lib/python3.7/dist-packages (from Mako->alembic->optuna) (2.0.1)\n",
            "Building wheels for collected packages: pyperclip\n",
            "  Building wheel for pyperclip (setup.py) ... \u001b[?25l\u001b[?25hdone\n",
            "  Created wheel for pyperclip: filename=pyperclip-1.8.2-py3-none-any.whl size=11136 sha256=5ec58502e8604d6e64202a39dd2f62f27a240e875f753c1bcae429ef405f876f\n",
            "  Stored in directory: /root/.cache/pip/wheels/9f/18/84/8f69f8b08169c7bae2dde6bd7daf0c19fca8c8e500ee620a28\n",
            "Successfully built pyperclip\n",
            "Installing collected packages: pyperclip, pbr, stevedore, Mako, cmd2, autopage, colorlog, cmaes, cliff, alembic, optuna\n",
            "Successfully installed Mako-1.1.6 alembic-1.7.5 autopage-0.4.0 cliff-3.10.0 cmaes-0.8.2 cmd2-2.3.3 colorlog-6.6.0 optuna-2.10.0 pbr-5.8.0 pyperclip-1.8.2 stevedore-3.5.0\n"
          ]
        }
      ]
    },
    {
      "cell_type": "code",
      "execution_count": 34,
      "metadata": {
        "id": "AXVFNKB4TXnX"
      },
      "outputs": [],
      "source": [
        "import tensorflow as tf\n",
        "from tensorflow import keras\n",
        "from tensorflow.keras.layers import Conv2D, MaxPool2D, Dense, Flatten, Input, UpSampling2D, Reshape, Cropping2D\n",
        "from tensorflow.keras.applications import VGG16\n",
        "from keras.models import Sequential, Model\n",
        "import numpy as np\n",
        "import pandas as pd\n",
        "import matplotlib.pyplot as plt\n",
        "import matplotlib.patches as patches\n",
        "from matplotlib import patches\n",
        "import os\n",
        "import optuna"
      ]
    },
    {
      "cell_type": "markdown",
      "metadata": {
        "id": "8tAJTH69TTY_"
      },
      "source": [
        "# create the dataset"
      ]
    },
    {
      "cell_type": "code",
      "execution_count": 3,
      "metadata": {
        "id": "FeISA6HZpavb"
      },
      "outputs": [],
      "source": [
        "pre_string = 'drive/MyDrive/hippo data/'\n",
        "X_valid = np.load(pre_string + 'valid.npz')['x']/255\n",
        "y_valid = np.load(pre_string + 'valid.npz')['y']\n",
        "X_test = np.load(pre_string + 'test.npz')['x']/255\n",
        "y_test = np.load(pre_string + 'test.npz')['y']\n",
        "X_train = np.load(pre_string + 'train.npz')['x']/255\n",
        "y_train = np.load(pre_string + 'train.npz')['y']"
      ]
    },
    {
      "cell_type": "code",
      "execution_count": 4,
      "metadata": {
        "id": "Jc0dD02J_BL1"
      },
      "outputs": [],
      "source": [
        "train_data = tf.data.Dataset.from_tensor_slices((X_train, y_train))\n",
        "valid_data = tf.data.Dataset.from_tensor_slices((X_valid, y_valid))\n",
        "test_data = tf.data.Dataset.from_tensor_slices((X_test, y_test))"
      ]
    },
    {
      "cell_type": "code",
      "execution_count": 5,
      "metadata": {
        "id": "CM1Yf4HVCDkR"
      },
      "outputs": [],
      "source": [
        "batch_size = 256\n",
        "shuffle_buffer_size = 100\n",
        "\n",
        "train_data = train_data.shuffle(shuffle_buffer_size).batch(batch_size)\n",
        "valid_data = valid_data.shuffle(shuffle_buffer_size).batch(batch_size)\n",
        "test_data = test_data.batch(batch_size)"
      ]
    },
    {
      "cell_type": "markdown",
      "source": [
        "# first model"
      ],
      "metadata": {
        "id": "0CUC2GDB-8B9"
      }
    },
    {
      "cell_type": "code",
      "execution_count": 21,
      "metadata": {
        "colab": {
          "base_uri": "https://localhost:8080/",
          "height": 224
        },
        "id": "KDrQ6K7CE5Dl",
        "outputId": "096186dc-9d7c-4062-99b3-b1329dc039db"
      },
      "outputs": [
        {
          "output_type": "error",
          "ename": "NameError",
          "evalue": "ignored",
          "traceback": [
            "\u001b[0;31m---------------------------------------------------------------------------\u001b[0m",
            "\u001b[0;31mNameError\u001b[0m                                 Traceback (most recent call last)",
            "\u001b[0;32m<ipython-input-21-bbcd083d207a>\u001b[0m in \u001b[0;36m<module>\u001b[0;34m()\u001b[0m\n\u001b[0;32m----> 1\u001b[0;31m model = Sequential([\n\u001b[0m\u001b[1;32m      2\u001b[0m     \u001b[0mInput\u001b[0m\u001b[0;34m(\u001b[0m\u001b[0;34m(\u001b[0m\u001b[0;36m400\u001b[0m\u001b[0;34m,\u001b[0m\u001b[0;36m150\u001b[0m\u001b[0;34m,\u001b[0m\u001b[0;36m1\u001b[0m\u001b[0;34m)\u001b[0m\u001b[0;34m)\u001b[0m\u001b[0;34m,\u001b[0m\u001b[0;34m\u001b[0m\u001b[0;34m\u001b[0m\u001b[0m\n\u001b[1;32m      3\u001b[0m     \u001b[0mConv2D\u001b[0m\u001b[0;34m(\u001b[0m\u001b[0;36m8\u001b[0m\u001b[0;34m,\u001b[0m \u001b[0mkernel_size\u001b[0m\u001b[0;34m=\u001b[0m\u001b[0;34m(\u001b[0m\u001b[0;36m5\u001b[0m\u001b[0;34m,\u001b[0m\u001b[0;36m5\u001b[0m\u001b[0;34m)\u001b[0m\u001b[0;34m,\u001b[0m \u001b[0mpadding\u001b[0m\u001b[0;34m=\u001b[0m\u001b[0;34m'valid'\u001b[0m\u001b[0;34m,\u001b[0m \u001b[0mactivation\u001b[0m \u001b[0;34m=\u001b[0m \u001b[0;34m'relu'\u001b[0m\u001b[0;34m)\u001b[0m\u001b[0;34m,\u001b[0m\u001b[0;34m\u001b[0m\u001b[0;34m\u001b[0m\u001b[0m\n\u001b[1;32m      4\u001b[0m     \u001b[0mConv2D\u001b[0m\u001b[0;34m(\u001b[0m\u001b[0;36m16\u001b[0m\u001b[0;34m,\u001b[0m \u001b[0mkernel_size\u001b[0m\u001b[0;34m=\u001b[0m\u001b[0;34m(\u001b[0m\u001b[0;36m3\u001b[0m\u001b[0;34m,\u001b[0m\u001b[0;36m3\u001b[0m\u001b[0;34m)\u001b[0m\u001b[0;34m,\u001b[0m \u001b[0mpadding\u001b[0m\u001b[0;34m=\u001b[0m\u001b[0;34m'valid'\u001b[0m\u001b[0;34m,\u001b[0m \u001b[0mactivation\u001b[0m \u001b[0;34m=\u001b[0m \u001b[0;34m'relu'\u001b[0m\u001b[0;34m)\u001b[0m\u001b[0;34m,\u001b[0m\u001b[0;34m\u001b[0m\u001b[0;34m\u001b[0m\u001b[0m\n\u001b[1;32m      5\u001b[0m     \u001b[0mConv2D\u001b[0m\u001b[0;34m(\u001b[0m\u001b[0;36m8\u001b[0m\u001b[0;34m,\u001b[0m \u001b[0mkernel_size\u001b[0m\u001b[0;34m=\u001b[0m\u001b[0;34m(\u001b[0m\u001b[0;36m5\u001b[0m\u001b[0;34m,\u001b[0m\u001b[0;36m5\u001b[0m\u001b[0;34m)\u001b[0m\u001b[0;34m,\u001b[0m \u001b[0mpadding\u001b[0m\u001b[0;34m=\u001b[0m\u001b[0;34m'valid'\u001b[0m\u001b[0;34m,\u001b[0m \u001b[0mactivation\u001b[0m \u001b[0;34m=\u001b[0m \u001b[0;34m'relu'\u001b[0m\u001b[0;34m)\u001b[0m\u001b[0;34m,\u001b[0m\u001b[0;34m\u001b[0m\u001b[0;34m\u001b[0m\u001b[0m\n",
            "\u001b[0;31mNameError\u001b[0m: name 'Sequential' is not defined"
          ]
        }
      ],
      "source": [
        "model = Sequential([\n",
        "    Input((400,150,1)),\n",
        "    Conv2D(8, kernel_size=(5,5), padding='valid', activation = 'relu'),\n",
        "    Conv2D(16, kernel_size=(3,3), padding='valid', activation = 'relu'),\n",
        "    Conv2D(8, kernel_size=(5,5), padding='valid', activation = 'relu'),\n",
        "    MaxPool2D((4,4)),\n",
        "    Conv2D(16, kernel_size=(5,5), padding='valid', activation = 'relu'),\n",
        "    Conv2D(32, kernel_size=(3,3), padding='valid', activation = 'relu'),\n",
        "    Conv2D(16, kernel_size=(5,5), padding='valid', activation = 'relu'),\n",
        "    MaxPool2D((2,2)),\n",
        "    Conv2D(64, kernel_size=(3,3), padding='valid', activation = 'relu'),\n",
        "    # Conv2D(128, kernel_size=(5,5), padding='valid', activation = 'relu'),\n",
        "    # Conv2D(32, kernel_size=(3,3), padding='valid', activation = 'relu'),\n",
        "    Flatten(),\n",
        "    Dense(128, activation='relu'),\n",
        "    Dense(64, activation='relu'),\n",
        "    Dense(32, activation='relu'),\n",
        "    Dense(4, activation='sigmoid')\n",
        "])\n",
        "\n",
        "opt = tf.keras.optimizers.Adam(learning_rate=1e-2)\n",
        "model.compile(optimizer = opt, loss='mae', metrics=['cosine_similarity', 'mse', 'mae'])\n",
        "model.summary()"
      ]
    },
    {
      "cell_type": "code",
      "execution_count": null,
      "metadata": {
        "id": "UE92SuHjJ62b"
      },
      "outputs": [],
      "source": [
        "model.fit(train_data, validation_data=valid_data, epochs=70, verbose=1)\n",
        "model.evaluate(test_data)\n",
        "predictions = model.predict(test_data)\n",
        "predictions"
      ]
    },
    {
      "cell_type": "code",
      "execution_count": null,
      "metadata": {
        "id": "MCAm3pLqBJLE"
      },
      "outputs": [],
      "source": [
        "y_test"
      ]
    },
    {
      "cell_type": "code",
      "source": [
        "def plot_result(img_idx = 0):\n",
        "  img = X_test[img_idx]\n",
        "  org_coord = y_test[img_idx]\n",
        "  pred_coord = predictions[img_idx]\n",
        "\n",
        "  org_bbx = patches.Rectangle((org_coord[0] * 150, org_coord[1] * 400), (org_coord[2]-org_coord[0]) * 150, (org_coord[3]-org_coord[1]) * 400, linewidth=1, edgecolor = 'r', facecolor='none')\n",
        "  pred_bbx = patches.Rectangle((pred_coord[0] * 150, pred_coord[1] * 400), (pred_coord[2]-pred_coord[0]) * 150, (pred_coord[3]-pred_coord[1]) * 400,  linewidth=1, edgecolor = 'g', facecolor='none')\n",
        "\n",
        "  fig, axs = plt.subplots()\n",
        "  axs.imshow(img, cmap='gray')\n",
        "  axs.add_patch(org_bbx)\n",
        "  axs.scatter([org_coord[0], org_coord[2]], [org_coord[1], org_coord[3]])\n",
        "  axs.add_patch(pred_bbx)\n",
        "  print(org_bbx, pred_bbx)\n",
        "\n",
        "plot_result(15)"
      ],
      "metadata": {
        "colab": {
          "base_uri": "https://localhost:8080/",
          "height": 285
        },
        "id": "7kJLfvnp4GBF",
        "outputId": "bdf72597-2cce-4487-9c1c-da420b216340"
      },
      "execution_count": 49,
      "outputs": [
        {
          "output_type": "stream",
          "name": "stdout",
          "text": [
            "Rectangle(xy=(74.1031, 148.838), width=29.9929, height=48.163, angle=0) Rectangle(xy=(84.3024, 137.96), width=20.7988, height=53.3681, angle=0)\n"
          ]
        },
        {
          "output_type": "display_data",
          "data": {
            "image/png": "[encoded data removed]",
            "text/plain": [
              "<Figure size 432x288 with 1 Axes>"
            ]
          },
          "metadata": {
            "needs_background": "light"
          }
        }
      ]
    },
    {
      "cell_type": "markdown",
      "source": [
        "## study to optimize model architecture"
      ],
      "metadata": {
        "id": "WEyRmnSzYm_W"
      }
    },
    {
      "cell_type": "code",
      "execution_count": null,
      "metadata": {
        "id": "9viOkp3lB0sC"
      },
      "outputs": [],
      "source": [
        "def objective(trial):\n",
        "  model = Sequential()\n",
        "\n",
        "  model.add(Input((400,150,1)))\n",
        "  # first convolutional block\n",
        "  model.add(\n",
        "    Conv2D(\n",
        "      filters = trial.suggest_categorical('filters_1_1', [8,16]),\n",
        "      kernel_size = trial.suggest_categorical('kernel_size_1_1', [3,5,7]),\n",
        "      activation = trial.suggest_categorical('activation_1_1', ['relu']),\n",
        "      padding= trial.suggest_categorical('padding_1_1', ['same', 'valid'])))\n",
        "  \n",
        "  model.add(\n",
        "    Conv2D(\n",
        "      filters = trial.suggest_categorical('filters_1_2', [8,16,32]),\n",
        "      kernel_size = trial.suggest_categorical('kernel_size_1_2', [3,5,7]),\n",
        "      activation = trial.suggest_categorical('activation_1_2', ['relu']),\n",
        "      padding= trial.suggest_categorical('padding_1_2', ['same', 'valid'])))\n",
        "  \n",
        "  model.add(\n",
        "    Conv2D(\n",
        "      filters = trial.suggest_categorical('filters_1_3', [8,16,32]),\n",
        "      kernel_size = trial.suggest_categorical('kernel_size_1_3', [3,5,7]),\n",
        "      activation = trial.suggest_categorical('activation_1_3', ['relu']),\n",
        "      padding= trial.suggest_categorical('padding_1_3', ['same', 'valid'])))\n",
        "\n",
        "  # first MaxPool \n",
        "  model.add(MaxPool2D(\n",
        "      pool_size = trial.suggest_categorical('pool_size_1', [2,4])))\n",
        "  \n",
        "  # second convolutional block\n",
        "  model.add(\n",
        "    Conv2D(\n",
        "      filters = trial.suggest_categorical('filters_2_1', [16, 32]),\n",
        "      kernel_size = trial.suggest_categorical('kernel_size_2_1', [3,5,7]),\n",
        "      activation = trial.suggest_categorical('activation_2_1', ['relu']),\n",
        "      padding= trial.suggest_categorical('padding_2_1', ['same', 'valid'])))\n",
        "\n",
        "  model.add(\n",
        "    Conv2D(\n",
        "      filters = trial.suggest_categorical('filters_2_2', [16, 32, 64]),\n",
        "      kernel_size = trial.suggest_categorical('kernel_size_2_2', [3,5,7]),\n",
        "      activation = trial.suggest_categorical('activation_2_2', ['relu']),\n",
        "      padding= trial.suggest_categorical('padding_2_2', ['same', 'valid'])))\n",
        "\n",
        "  model.add(\n",
        "    Conv2D(\n",
        "      filters = trial.suggest_categorical('filters_2_3', [16, 32, 64]),\n",
        "      kernel_size = trial.suggest_categorical('kernel_size_2_3', [3,5,7]),\n",
        "      activation = trial.suggest_categorical('activation_2_3', ['relu']),\n",
        "      padding= trial.suggest_categorical('padding_2_3', ['same', 'valid'])))\n",
        "  # second MaxPool\n",
        "  model.add(MaxPool2D(\n",
        "      pool_size = (2,2)))\n",
        "\n",
        "  # third convolutional block\n",
        "  model.add(\n",
        "    Conv2D(\n",
        "      filters = trial.suggest_categorical('filters_3_1', [32, 64,128]),\n",
        "      kernel_size = trial.suggest_categorical('kernel_size_3_1', [3,5,7]),\n",
        "      activation = trial.suggest_categorical('activation_3_1', ['relu']),\n",
        "      padding= trial.suggest_categorical('padding_3_1', ['same', 'valid'])))\n",
        "\n",
        "  model.add(\n",
        "    Conv2D(\n",
        "      filters = trial.suggest_categorical('filters_3_2', [32, 64,128]),\n",
        "      kernel_size = trial.suggest_categorical('kernel_size_3_2', [3,5,7]),\n",
        "      activation = trial.suggest_categorical('activation_3_2', ['relu']),\n",
        "      padding = trial.suggest_categorical('padding_3_2', ['same', 'valid'])))\n",
        "\n",
        "  model.add(\n",
        "    Conv2D(\n",
        "      filters = trial.suggest_categorical('filters_3_3', [32, 64,128]),\n",
        "      kernel_size = trial.suggest_categorical('kernel_size_3_3', [3,5,7]),\n",
        "      activation = trial.suggest_categorical('activation_3_3', ['relu']),\n",
        "      padding= trial.suggest_categorical('padding_3_3', ['valid'])))\n",
        "  # third MaxPool\n",
        "  model.add(MaxPool2D(\n",
        "      pool_size = trial.suggest_categorical('pool_size_3', [2,4])))  \n",
        "\n",
        "  model.add(Flatten())\n",
        "  # Dense 1\n",
        "  model.add(Dense(\n",
        "      units = trial.suggest_categorical('units_1', [64,128]),\n",
        "      activation = trial.suggest_categorical('activation_d1', ['relu'])))\n",
        "  # Dense 2\n",
        "  model.add(Dense(\n",
        "      units = trial.suggest_categorical('units_2', [32,64]),\n",
        "      activation = trial.suggest_categorical('activation_d2', ['relu'])))\n",
        "  # Dense 3\n",
        "  model.add(Dense(\n",
        "      units = trial.suggest_categorical('units_3', [8,16]),\n",
        "      activation = trial.suggest_categorical('activation_d3', ['relu'])))\n",
        "  # Dense 4 => output\n",
        "  model.add(Dense(\n",
        "    units = 4,\n",
        "    activation = 'sigmoid'))\n",
        "  \n",
        "  lr = trial.suggest_float('lr', 1e-5, 1e-1, log=True)\n",
        "  opt = tf.keras.optimizers.Adam(learning_rate=lr)\n",
        "\n",
        "  model.compile(loss = 'mae', optimizer=opt, metrics=['mse', 'cosine_similarity', 'mae'])\n",
        "\n",
        "  model.fit(train_data, validation_data=valid_data, epochs=30)\n",
        "  eval = model.evaluate(test_data, verbose=0)\n",
        "  return eval[0]\n",
        "\n",
        "study = optuna.create_study(direction='minimize')\n",
        "study.optimize(objective, n_trials=15)"
      ]
    },
    {
      "cell_type": "markdown",
      "source": [
        "# test"
      ],
      "metadata": {
        "id": "luHNWfaxZVgH"
      }
    },
    {
      "cell_type": "code",
      "source": [
        "test_model = Sequential(\n",
        "    [\n",
        "     Input((400,150,1)),\n",
        "     Conv2D(64, 3, 2, activation='relu', padding='same'),\n",
        "     Conv2D(128, 5, 2, activation='relu', padding ='same'),\n",
        "     Conv2D(128, 3, 2, activation='relu', padding ='same'),\n",
        "     MaxPool2D(2),\n",
        "     Conv2D(256, 3, 2, activation='relu', padding='same'),\n",
        "     Conv2D(256, 3, 2, activation='relu', padding='same'),\n",
        "\n",
        "     Flatten(),\n",
        "     Dense(256),\n",
        "     Dense(256),\n",
        "     Dense(4)\n",
        "    ], name = 'test_model'\n",
        ")\n",
        "lr = 1e-3\n",
        "opt = tf.keras.optimizers.Adam(learning_rate=lr)\n",
        "\n",
        "test_model.compile(loss = 'mse', optimizer=opt, metrics=['mse', 'cosine_similarity', 'mae'])\n",
        "test_model.summary()"
      ],
      "metadata": {
        "colab": {
          "base_uri": "https://localhost:8080/"
        },
        "id": "E7Khhy5OZUGu",
        "outputId": "b3e17809-532c-4acf-f59e-b0d624d5cdff"
      },
      "execution_count": 11,
      "outputs": [
        {
          "output_type": "stream",
          "name": "stdout",
          "text": [
            "Model: \"encoder\"\n",
            "_________________________________________________________________\n",
            " Layer (type)                Output Shape              Param #   \n",
            "=================================================================\n",
            " conv2d_15 (Conv2D)          (None, 200, 75, 64)       640       \n",
            "                                                                 \n",
            " conv2d_16 (Conv2D)          (None, 100, 38, 128)      204928    \n",
            "                                                                 \n",
            " conv2d_17 (Conv2D)          (None, 50, 19, 128)       147584    \n",
            "                                                                 \n",
            " max_pooling2d_3 (MaxPooling  (None, 25, 9, 128)       0         \n",
            " 2D)                                                             \n",
            "                                                                 \n",
            " conv2d_18 (Conv2D)          (None, 13, 5, 256)        295168    \n",
            "                                                                 \n",
            " conv2d_19 (Conv2D)          (None, 7, 3, 256)         590080    \n",
            "                                                                 \n",
            " flatten_3 (Flatten)         (None, 5376)              0         \n",
            "                                                                 \n",
            " dense_9 (Dense)             (None, 256)               1376512   \n",
            "                                                                 \n",
            " dense_10 (Dense)            (None, 256)               65792     \n",
            "                                                                 \n",
            " dense_11 (Dense)            (None, 4)                 1028      \n",
            "                                                                 \n",
            "=================================================================\n",
            "Total params: 2,681,732\n",
            "Trainable params: 2,681,732\n",
            "Non-trainable params: 0\n",
            "_________________________________________________________________\n"
          ]
        }
      ]
    },
    {
      "cell_type": "code",
      "source": [
        "keras.backend.set_value(encoder.optimizer.learning_rate, 1e-2)\n",
        "encoder.fit(train_data, validation_data=valid_data, epochs=20, verbose=1)\n",
        "encoder.evaluate(test_data)\n",
        "predictions = encoder.predict(test_data)\n",
        "predictions"
      ],
      "metadata": {
        "id": "mM1s_eKibdZ-"
      },
      "execution_count": null,
      "outputs": []
    },
    {
      "cell_type": "markdown",
      "source": [
        "# different label form \n",
        "labels are given as mask of binary values"
      ],
      "metadata": {
        "id": "3b5WTIIBYsKz"
      }
    },
    {
      "cell_type": "code",
      "source": [
        "def change_label(label):\n",
        "    ret_arr = np.zeros((label.shape[0],400,150))\n",
        "    for i in range(ret_arr.shape[0]):\n",
        "        x_tl, ytl, xbr, ybr = label[i,:,:]\n",
        "        xtl *= 150\n",
        "        xbr *= 150\n",
        "        ytl *= 400\n",
        "        ybr *= 400\n",
        "        ret_arr[i,ytl:ybr, xtl:xbr] = 1\n",
        "    return ret_arr\n",
        "\n",
        "y_train_new = change_label(y_train)\n",
        "y_valid_new = change_label(y_valid)\n",
        "y_test_new = change_label(y_test)\n",
        "\n",
        "train_data = tf.data.Dataset.from_tensor_slices((X_train, y_train_new))\n",
        "valid_data = tf.data.Dataset.from_tensor_slices((X_valid, y_valid_new))\n",
        "test_data = tf.data.Dataset.from_tensor_slices((X_test, y_test_new))\n",
        "\n",
        "batch_size = 256\n",
        "shuffle_buffer_size = 100\n",
        "\n",
        "train_data = train_data.shuffle(shuffle_buffer_size).batch(batch_size)\n",
        "valid_data = valid_data.shuffle(shuffle_buffer_size).batch(batch_size)\n",
        "test_data = test_data.batch(batch_size)"
      ],
      "metadata": {
        "id": "U0ZtCocAYyS1"
      },
      "execution_count": null,
      "outputs": []
    },
    {
      "cell_type": "code",
      "source": [
        "def get_encoder(lr=1e-3): \n",
        "    encoder = Sequential([\n",
        "        Input(shape=(400,150,1)),\n",
        "        Conv2D(32, 3, 1, activation='relu', padding ='same'),\n",
        "        Conv2D(64, 3, 2, activation='relu', padding ='same'),\n",
        "        Conv2D(128, 3, 2, activation='relu', padding ='same'),\n",
        "        Conv2D(128, 3, 2, activation='relu', padding ='same'),\n",
        "        Conv2D(128, 3, 2, activation='relu', padding ='same'),\n",
        "        Conv2D(128, 3, 2, activation='relu', padding ='same'),\n",
        "    ], name='encoder')\n",
        "    opt = tf.keras.optimizers.Adam(learning_rate=lr)\n",
        "    encoder.compile(loss= 'mse', optimizer = opt, metrics = ['mse', 'cosine_similarity', 'mae'])\n",
        "    encoder.summary()\n",
        "    return encoder\n",
        "\n",
        "def get_decoder(lr=1e-3, input_shape=(13,5,128)):\n",
        "    decoder = Sequential([\n",
        "        Input(shape=input_shape),\n",
        "        UpSampling2D(2),\n",
        "        Conv2D(256, 3, 1, activation='relu', padding='same'),\n",
        "        UpSampling2D(2),\n",
        "        Conv2D(128, 3, 1, activation='relu', padding='same'),\n",
        "        UpSampling2D(2),\n",
        "        Conv2D(64, 3, 1, activation='relu', padding='same'),\n",
        "        UpSampling2D(2),\n",
        "        Conv2D(16, 3, 1, activation='relu', padding='same'),\n",
        "        UpSampling2D(2),\n",
        "        Conv2D(8, 3, 1, activation='relu', padding='same'),\n",
        "        Cropping2D(((0, 16), (0,10))),\n",
        "        Conv2D(1, 3, 1, activation='sigmoid', padding='same'),\n",
        "    ], name='decoder')\n",
        "\n",
        "    opt = tf.keras.optimizers.Adam(learning_rate=lr)\n",
        "    decoder.compile(loss= 'mse', optimizer = opt, metrics = ['mse', 'cosine_similarity', 'mae'])\n",
        "    decoder.summary()\n",
        "    return decoder\n",
        "\n",
        "\n",
        "def get_model():\n",
        "    return Sequential([\n",
        "        Input(shape=(400,150,1)),\n",
        "        get_encoder(),\n",
        "        get_decoder(input_shape=encoder.output_shape[1:])\n",
        "    ])\n",
        "model1 = get_model()\n",
        "\n",
        "lr = 1e-3\n",
        "opt = tf.keras.optimizers.Adam(learning_rate=lr)\n",
        "model1.compile(loss= 'mse', optimizer = opt, metrics = ['mse', 'cosine_similarity', 'mae'])\n",
        "model1.summary()"
      ],
      "metadata": {
        "colab": {
          "base_uri": "https://localhost:8080/"
        },
        "id": "JT3UdoY1glo8",
        "outputId": "de200783-9fcc-4f2f-849e-49ecd31df521"
      },
      "execution_count": 55,
      "outputs": [
        {
          "output_type": "stream",
          "name": "stdout",
          "text": [
            "Model: \"encoder\"\n",
            "_________________________________________________________________\n",
            " Layer (type)                Output Shape              Param #   \n",
            "=================================================================\n",
            " conv2d_401 (Conv2D)         (None, 400, 150, 32)      320       \n",
            "                                                                 \n",
            " conv2d_402 (Conv2D)         (None, 200, 75, 64)       18496     \n",
            "                                                                 \n",
            " conv2d_403 (Conv2D)         (None, 100, 38, 128)      73856     \n",
            "                                                                 \n",
            " conv2d_404 (Conv2D)         (None, 50, 19, 128)       147584    \n",
            "                                                                 \n",
            " conv2d_405 (Conv2D)         (None, 25, 10, 128)       147584    \n",
            "                                                                 \n",
            " conv2d_406 (Conv2D)         (None, 13, 5, 128)        147584    \n",
            "                                                                 \n",
            "=================================================================\n",
            "Total params: 535,424\n",
            "Trainable params: 535,424\n",
            "Non-trainable params: 0\n",
            "_________________________________________________________________\n",
            "Model: \"decoder\"\n",
            "_________________________________________________________________\n",
            " Layer (type)                Output Shape              Param #   \n",
            "=================================================================\n",
            " up_sampling2d_137 (UpSampli  (None, 26, 10, 128)      0         \n",
            " ng2D)                                                           \n",
            "                                                                 \n",
            " conv2d_407 (Conv2D)         (None, 26, 10, 256)       295168    \n",
            "                                                                 \n",
            " up_sampling2d_138 (UpSampli  (None, 52, 20, 256)      0         \n",
            " ng2D)                                                           \n",
            "                                                                 \n",
            " conv2d_408 (Conv2D)         (None, 52, 20, 128)       295040    \n",
            "                                                                 \n",
            " up_sampling2d_139 (UpSampli  (None, 104, 40, 128)     0         \n",
            " ng2D)                                                           \n",
            "                                                                 \n",
            " conv2d_409 (Conv2D)         (None, 104, 40, 64)       73792     \n",
            "                                                                 \n",
            " up_sampling2d_140 (UpSampli  (None, 208, 80, 64)      0         \n",
            " ng2D)                                                           \n",
            "                                                                 \n",
            " conv2d_410 (Conv2D)         (None, 208, 80, 16)       9232      \n",
            "                                                                 \n",
            " up_sampling2d_141 (UpSampli  (None, 416, 160, 16)     0         \n",
            " ng2D)                                                           \n",
            "                                                                 \n",
            " conv2d_411 (Conv2D)         (None, 416, 160, 8)       1160      \n",
            "                                                                 \n",
            " cropping2d_12 (Cropping2D)  (None, 400, 150, 8)       0         \n",
            "                                                                 \n",
            " conv2d_412 (Conv2D)         (None, 400, 150, 1)       73        \n",
            "                                                                 \n",
            "=================================================================\n",
            "Total params: 674,465\n",
            "Trainable params: 674,465\n",
            "Non-trainable params: 0\n",
            "_________________________________________________________________\n",
            "Model: \"sequential_30\"\n",
            "_________________________________________________________________\n",
            " Layer (type)                Output Shape              Param #   \n",
            "=================================================================\n",
            " encoder (Sequential)        (None, 13, 5, 128)        535424    \n",
            "                                                                 \n",
            " decoder (Sequential)        (None, 400, 150, 1)       674465    \n",
            "                                                                 \n",
            "=================================================================\n",
            "Total params: 1,209,889\n",
            "Trainable params: 1,209,889\n",
            "Non-trainable params: 0\n",
            "_________________________________________________________________\n"
          ]
        }
      ]
    },
    {
      "cell_type": "code",
      "source": [
        "model1.fit(train_data, validation_data=valid_data, epochs=20, verbose=1)\n",
        "model1.evaluate(test_data)\n",
        "predictions = encoder.predict(test_data)\n",
        "predictions"
      ],
      "metadata": {
        "colab": {
          "base_uri": "https://localhost:8080/"
        },
        "id": "h48MoCz4tN_M",
        "outputId": "372978ac-621e-4a5d-89a8-21629207def8"
      },
      "execution_count": 50,
      "outputs": [
        {
          "output_type": "execute_result",
          "data": {
            "text/plain": [
              "(13, 5, 128)"
            ]
          },
          "metadata": {},
          "execution_count": 50
        }
      ]
    },
    {
      "cell_type": "markdown",
      "metadata": {
        "id": "FpegNnER_Yyf"
      },
      "source": [
        "# ideas\n",
        "\n",
        "- change image preprocessing: only scale, translate, rotate\n",
        "- ask Stelios for literature\n",
        "- build very small network --> one feature layer, 4 output nodes\n",
        "\n",
        "{'filters_1_1': 8, 'kernel_size_1_1': 3, 'activation_1_1': 'relu', 'padding_1_1': 'same', 'filters_1_2': 16, 'kernel_size_1_2': 5, 'activation_1_2': 'relu', 'padding_1_2': 'valid', 'filters_1_3': 8, 'kernel_size_1_3': 5, 'activation_1_3': 'relu', 'padding_1_3': 'valid', 'pool_size_1': 2, 'filters_2_1': 32, 'kernel_size_2_1': 7, 'activation_2_1': 'relu', 'padding_2_1': 'same', 'filters_2_2': 16, 'kernel_size_2_2': 5, 'activation_2_2': 'relu', 'padding_2_2': 'same', 'filters_2_3': 32, 'kernel_size_2_3': 7, 'activation_2_3': 'relu', 'padding_2_3': 'valid', 'filters_3_1': 64, 'kernel_size_3_1': 3, 'activation_3_1': 'relu', 'padding_3_1': 'same', 'filters_3_2': 32, 'kernel_size_3_2': 3, 'activation_3_2': 'relu', 'padding_3_2': 'valid', 'filters_3_3': 64, 'kernel_size_3_3': 5, 'activation_3_3': 'relu', 'padding_3_3': 'valid', 'pool_size_3': 4, 'units_1': 64, 'activation_d1': 'relu', 'units_2': 64, 'activation_d2': 'relu', 'units_3': 16, 'activation_d3': 'relu', 'lr': 6.860850841131023e-05}\n"
      ]
    },
    {
      "cell_type": "code",
      "source": [
        ""
      ],
      "metadata": {
        "id": "Qtnru5o14imN"
      },
      "execution_count": null,
      "outputs": []
    }
  ],
  "metadata": {
    "accelerator": "GPU",
    "colab": {
      "collapsed_sections": [
        "WEyRmnSzYm_W"
      ],
      "name": "bounding box regression.ipynb",
      "provenance": [],
      "toc_visible": true,
      "mount_file_id": "1Z3l0G15ydUiWDZ6gfMoIghvpU8sJrlNc",
      "authorship_tag": "ABX9TyN3ss7uxY8uawflT6I3rmcj",
      "include_colab_link": true
    },
    "kernelspec": {
      "display_name": "Python 3",
      "name": "python3"
    },
    "language_info": {
      "name": "python"
    }
  },
  "nbformat": 4,
  "nbformat_minor": 0
}