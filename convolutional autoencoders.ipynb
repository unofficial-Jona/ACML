{
 "cells": [
  {
   "cell_type": "code",
   "execution_count": 1,
   "metadata": {},
   "outputs": [],
   "source": [
    "import tensorflow as tf\n",
    "from tensorflow import keras\n",
    "from keras import layers\n",
    "from keras.models import Sequential\n",
    "from keras.layers import Conv2D, MaxPooling2D, UpSampling2D, Input\n",
    "from tensorflow.keras import layers\n",
    "import numpy as np\n",
    "from sklearn.model_selection import train_test_split"
   ]
  },
  {
   "cell_type": "markdown",
   "metadata": {},
   "source": [
    "# Building the model"
   ]
  },
  {
   "cell_type": "code",
   "execution_count": 2,
   "metadata": {},
   "outputs": [
    {
     "name": "stdout",
     "output_type": "stream",
     "text": [
      "Shape of a single sample: (32, 32, 3)\n"
     ]
    }
   ],
   "source": [
    "# load data and split it into Test, train and validation sets\n",
    "\n",
    "(X_1, y_1), (X_2, y_2) = tf.keras.datasets.cifar10.load_data()\n",
    "X = np.vstack((X_1, X_2))\n",
    "y = np.vstack((y_1, y_2))\n",
    "X_train, X, y_train, y = train_test_split(X, y, train_size=0.8, stratify=y)\n",
    "X_test, X_valid, y_test, y_valid = train_test_split(X, y, test_size=0.5, stratify=y)\n",
    "\n",
    "assert X_test.shape == X_valid.shape, 'X_test and X_valid have different shapes'\n",
    "for i in range(10):\n",
    "    assert np.count_nonzero(keras.utils.to_categorical(y_train)[:, i]) == 4800 , 'Sample is not stratified'\n",
    "sample_shape = X_train[0].shape\n",
    "print(f'Shape of a single sample: {sample_shape}')"
   ]
  },
  {
   "cell_type": "code",
   "execution_count": 7,
   "metadata": {},
   "outputs": [
    {
     "name": "stdout",
     "output_type": "stream",
     "text": [
      "Model: \"sequential_3\"\n",
      "_________________________________________________________________\n",
      "Layer (type)                 Output Shape              Param #   \n",
      "=================================================================\n",
      "conv2d_15 (Conv2D)           (None, 32, 32, 8)         224       \n",
      "_________________________________________________________________\n",
      "max_pooling2d_6 (MaxPooling2 (None, 16, 16, 8)         0         \n",
      "_________________________________________________________________\n",
      "conv2d_16 (Conv2D)           (None, 16, 16, 12)        876       \n",
      "_________________________________________________________________\n",
      "max_pooling2d_7 (MaxPooling2 (None, 8, 8, 12)          0         \n",
      "_________________________________________________________________\n",
      "conv2d_17 (Conv2D)           (None, 8, 8, 16)          1744      \n",
      "_________________________________________________________________\n",
      "up_sampling2d_6 (UpSampling2 (None, 16, 16, 16)        0         \n",
      "_________________________________________________________________\n",
      "conv2d_18 (Conv2D)           (None, 16, 16, 12)        1740      \n",
      "_________________________________________________________________\n",
      "up_sampling2d_7 (UpSampling2 (None, 32, 32, 12)        0         \n",
      "_________________________________________________________________\n",
      "conv2d_19 (Conv2D)           (None, 32, 32, 3)         327       \n",
      "=================================================================\n",
      "Total params: 4,911\n",
      "Trainable params: 4,911\n",
      "Non-trainable params: 0\n",
      "_________________________________________________________________\n"
     ]
    }
   ],
   "source": [
    "# build the model\n",
    "\n",
    "model = Sequential()\n",
    "model.add(Input(shape=sample_shape))\n",
    "model.add(Conv2D(8, kernel_size = (3,3), padding='same', activation='relu'))\n",
    "model.add(MaxPooling2D(pool_size = (2,2)))\n",
    "model.add(Conv2D(12, kernel_size = (3,3), padding='same', activation='relu'))\n",
    "model.add(MaxPooling2D(pool_size = (2,2)))\n",
    "model.add(Conv2D(16, kernel_size = (3,3), padding='same', activation='relu'))\n",
    "model.add(UpSampling2D())\n",
    "model.add(Conv2D(12,kernel_size = (3,3), padding='same', activation='relu'))\n",
    "model.add(UpSampling2D(size = (2,2)))\n",
    "model.add(Conv2D(3,(3,3), padding='same', activation='relu'))\n",
    "\n",
    "\n",
    "# compile the model\n",
    "model.compile(\n",
    "    optimizer=keras.optimizers.Adam(learning_rate=1e-3),\n",
    "    loss=keras.losses.MeanSquaredError(),\n",
    "    metrics=[keras.metrics.MeanAbsoluteError(),\n",
    "            keras.metrics.CosineSimilarity()])\n",
    "# model.build(input_shape=(4800,32,32,1))\n",
    "model.summary()"
   ]
  },
  {
   "cell_type": "code",
   "execution_count": 8,
   "metadata": {},
   "outputs": [
    {
     "name": "stdout",
     "output_type": "stream",
     "text": [
      "Epoch 1/10\n",
      "1500/1500 [==============================] - 48s 31ms/step - loss: 731.0197 - mean_absolute_error: 18.9471 - cosine_similarity: 0.9868\n",
      "Epoch 2/10\n",
      "1500/1500 [==============================] - 48s 32ms/step - loss: 399.6917 - mean_absolute_error: 14.3238 - cosine_similarity: 0.9907\n",
      "Epoch 3/10\n",
      "1500/1500 [==============================] - 50s 34ms/step - loss: 358.0405 - mean_absolute_error: 13.4980 - cosine_similarity: 0.9908\n",
      "Epoch 4/10\n",
      "1500/1500 [==============================] - 50s 33ms/step - loss: 334.2354 - mean_absolute_error: 13.0176 - cosine_similarity: 0.9908\n",
      "Epoch 5/10\n",
      "1500/1500 [==============================] - 51s 34ms/step - loss: 317.3307 - mean_absolute_error: 12.6550 - cosine_similarity: 0.9908\n",
      "Epoch 6/10\n",
      "1500/1500 [==============================] - 50s 33ms/step - loss: 304.5045 - mean_absolute_error: 12.3768 - cosine_similarity: 0.9909\n",
      "Epoch 7/10\n",
      "1500/1500 [==============================] - 50s 33ms/step - loss: 293.6784 - mean_absolute_error: 12.1414 - cosine_similarity: 0.9910\n",
      "Epoch 8/10\n",
      "1500/1500 [==============================] - 50s 33ms/step - loss: 284.5829 - mean_absolute_error: 11.9292 - cosine_similarity: 0.9910\n",
      "Epoch 9/10\n",
      "1500/1500 [==============================] - 55s 37ms/step - loss: 277.5080 - mean_absolute_error: 11.7613 - cosine_similarity: 0.9910\n",
      "Epoch 10/10\n",
      "1500/1500 [==============================] - 61s 41ms/step - loss: 272.4713 - mean_absolute_error: 11.6453 - cosine_similarity: 0.9910\n"
     ]
    }
   ],
   "source": [
    "# train the model\n",
    "history = model.fit(X_train, X_train, epochs=10, verbose=1, use_multiprocessing=True)"
   ]
  },
  {
   "cell_type": "code",
   "execution_count": 15,
   "metadata": {},
   "outputs": [
    {
     "name": "stdout",
     "output_type": "stream",
     "text": [
      "INFO:tensorflow:Assets written to: models/CAE/assets\n"
     ]
    }
   ],
   "source": [
    "# save trained model\n",
    "\n",
    "def save_model(model, path='models/CAE'):\n",
    "    model.save(path)\n",
    "\n",
    "save_model(model)"
   ]
  },
  {
   "cell_type": "code",
   "execution_count": 13,
   "metadata": {},
   "outputs": [],
   "source": [
    "# load a pretrained model\n",
    "\n",
    "def load_model(path = 'models/CAE'):\n",
    "    return keras.models.load_model(path)\n",
    "\n",
    "\n",
    "pretrained_model = load_model()"
   ]
  },
  {
   "cell_type": "markdown",
   "metadata": {},
   "source": []
  }
 ],
 "metadata": {
  "interpreter": {
   "hash": "ddda031869fb8ce91032b63195a611ad81bb421fc11bd1c32a8661751b914dac"
  },
  "kernelspec": {
   "display_name": "Python 3.8.11 64-bit ('base': conda)",
   "name": "python3"
  },
  "language_info": {
   "codemirror_mode": {
    "name": "ipython",
    "version": 3
   },
   "file_extension": ".py",
   "mimetype": "text/x-python",
   "name": "python",
   "nbconvert_exporter": "python",
   "pygments_lexer": "ipython3",
   "version": "3.8.11"
  },
  "orig_nbformat": 4
 },
 "nbformat": 4,
 "nbformat_minor": 2
}
