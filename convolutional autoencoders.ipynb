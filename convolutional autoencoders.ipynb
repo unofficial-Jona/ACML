{
 "cells": [
  {
   "cell_type": "code",
   "execution_count": 1,
   "metadata": {},
   "outputs": [],
   "source": [
    "import tensorflow as tf\n",
    "from tensorflow import keras\n",
    "from keras import layers\n",
    "from keras.models import Sequential\n",
    "from keras.layers import Conv2D, MaxPooling2D, UpSampling2D, Input\n",
    "from tensorflow.keras import layers\n",
    "import numpy as np\n",
    "from sklearn.model_selection import train_test_split"
   ]
  },
  {
   "cell_type": "markdown",
   "metadata": {},
   "source": [
    "# Building the model"
   ]
  },
  {
   "cell_type": "code",
   "execution_count": 2,
   "metadata": {},
   "outputs": [
    {
     "name": "stdout",
     "output_type": "stream",
     "text": [
      "Shape of a single sample: (32, 32, 3)\n"
     ]
    }
   ],
   "source": [
    "# load data and split it into Test, train and validation sets\n",
    "\n",
    "(X_1, y_1), (X_2, y_2) = tf.keras.datasets.cifar10.load_data()\n",
    "X = np.vstack((X_1, X_2))\n",
    "y = np.vstack((y_1, y_2))\n",
    "X_train, X, y_train, y = train_test_split(X, y, train_size=0.8, stratify=y)\n",
    "X_test, X_valid, y_test, y_valid = train_test_split(X, y, test_size=0.5, stratify=y)\n",
    "\n",
    "assert X_test.shape == X_valid.shape, 'X_test and X_valid have different shapes'\n",
    "for i in range(10):\n",
    "    assert np.count_nonzero(keras.utils.to_categorical(y_train)[:, i]) == 4800 , 'Sample is not stratified'\n",
    "sample_shape = X_train[0].shape\n",
    "print(f'Shape of a single sample: {sample_shape}')"
   ]
  },
  {
   "cell_type": "code",
   "execution_count": 3,
   "metadata": {},
   "outputs": [],
   "source": [
    "# Normalize the data\n",
    "\n",
    "X_train = keras.utils.normalize(X_train)\n",
    "X_valid = keras.utils.normalize(X_valid)\n",
    "X_test = keras.utils.normalize(X_test)"
   ]
  },
  {
   "cell_type": "code",
   "execution_count": 4,
   "metadata": {},
   "outputs": [
    {
     "name": "stdout",
     "output_type": "stream",
     "text": [
      "Model: \"sequential\"\n",
      "_________________________________________________________________\n",
      "Layer (type)                 Output Shape              Param #   \n",
      "=================================================================\n",
      "conv2d (Conv2D)              (None, 32, 32, 8)         224       \n",
      "_________________________________________________________________\n",
      "max_pooling2d (MaxPooling2D) (None, 16, 16, 8)         0         \n",
      "_________________________________________________________________\n",
      "conv2d_1 (Conv2D)            (None, 16, 16, 12)        876       \n",
      "_________________________________________________________________\n",
      "max_pooling2d_1 (MaxPooling2 (None, 8, 8, 12)          0         \n",
      "_________________________________________________________________\n",
      "conv2d_2 (Conv2D)            (None, 8, 8, 16)          1744      \n",
      "_________________________________________________________________\n",
      "up_sampling2d (UpSampling2D) (None, 16, 16, 16)        0         \n",
      "_________________________________________________________________\n",
      "conv2d_3 (Conv2D)            (None, 16, 16, 12)        1740      \n",
      "_________________________________________________________________\n",
      "up_sampling2d_1 (UpSampling2 (None, 32, 32, 12)        0         \n",
      "_________________________________________________________________\n",
      "conv2d_4 (Conv2D)            (None, 32, 32, 3)         327       \n",
      "=================================================================\n",
      "Total params: 4,911\n",
      "Trainable params: 4,911\n",
      "Non-trainable params: 0\n",
      "_________________________________________________________________\n"
     ]
    },
    {
     "name": "stderr",
     "output_type": "stream",
     "text": [
      "2021-11-04 17:05:41.000542: I tensorflow/core/platform/cpu_feature_guard.cc:142] This TensorFlow binary is optimized with oneAPI Deep Neural Network Library (oneDNN) to use the following CPU instructions in performance-critical operations:  AVX2 FMA\n",
      "To enable them in other operations, rebuild TensorFlow with the appropriate compiler flags.\n"
     ]
    }
   ],
   "source": [
    "# build the model\n",
    "\n",
    "model = Sequential()\n",
    "model.add(Input(shape=sample_shape))\n",
    "model.add(Conv2D(8, kernel_size = (3,3), padding='same', activation='relu'))\n",
    "model.add(MaxPooling2D(pool_size = (2,2)))\n",
    "model.add(Conv2D(12, kernel_size = (3,3), padding='same', activation='relu'))\n",
    "model.add(MaxPooling2D(pool_size = (2,2)))\n",
    "model.add(Conv2D(16, kernel_size = (3,3), padding='same', activation='relu'))\n",
    "model.add(UpSampling2D())\n",
    "model.add(Conv2D(12,kernel_size = (3,3), padding='same', activation='relu'))\n",
    "model.add(UpSampling2D(size = (2,2)))\n",
    "model.add(Conv2D(3,(3,3), padding='same', activation='relu'))\n",
    "\n",
    "\n",
    "# compile the model\n",
    "model.compile(\n",
    "    optimizer=keras.optimizers.Adam(learning_rate=1e-3),\n",
    "    loss=keras.losses.MeanSquaredError(),\n",
    "    metrics=[keras.metrics.MeanAbsoluteError(),\n",
    "            keras.metrics.CosineSimilarity()])\n",
    "\n",
    "model.summary()"
   ]
  },
  {
   "cell_type": "code",
   "execution_count": 5,
   "metadata": {},
   "outputs": [
    {
     "name": "stderr",
     "output_type": "stream",
     "text": [
      "2021-11-04 17:05:43.340157: I tensorflow/compiler/mlir/mlir_graph_optimization_pass.cc:185] None of the MLIR Optimization Passes are enabled (registered 2)\n"
     ]
    },
    {
     "name": "stdout",
     "output_type": "stream",
     "text": [
      "Epoch 1/10\n",
      "1500/1500 [==============================] - 50s 33ms/step - loss: 0.0071 - mean_absolute_error: 0.0458 - cosine_similarity: 0.9918\n",
      "Epoch 2/10\n",
      "1500/1500 [==============================] - 48s 32ms/step - loss: 0.0022 - mean_absolute_error: 0.0279 - cosine_similarity: 0.9958\n",
      "Epoch 3/10\n",
      "1500/1500 [==============================] - 47s 32ms/step - loss: 0.0020 - mean_absolute_error: 0.0256 - cosine_similarity: 0.9962\n",
      "Epoch 4/10\n",
      "1500/1500 [==============================] - 49s 32ms/step - loss: 0.0018 - mean_absolute_error: 0.0241 - cosine_similarity: 0.9964\n",
      "Epoch 5/10\n",
      "1500/1500 [==============================] - 45s 30ms/step - loss: 0.0017 - mean_absolute_error: 0.0232 - cosine_similarity: 0.9965\n",
      "Epoch 6/10\n",
      "1500/1500 [==============================] - 48s 32ms/step - loss: 0.0016 - mean_absolute_error: 0.0225 - cosine_similarity: 0.9966\n",
      "Epoch 7/10\n",
      "1500/1500 [==============================] - 47s 31ms/step - loss: 0.0016 - mean_absolute_error: 0.0221 - cosine_similarity: 0.9967\n",
      "Epoch 8/10\n",
      "1500/1500 [==============================] - 47s 32ms/step - loss: 0.0015 - mean_absolute_error: 0.0217 - cosine_similarity: 0.9968\n",
      "Epoch 9/10\n",
      "1500/1500 [==============================] - 46s 31ms/step - loss: 0.0015 - mean_absolute_error: 0.0215 - cosine_similarity: 0.9968\n",
      "Epoch 10/10\n",
      "1500/1500 [==============================] - 68s 45ms/step - loss: 0.0015 - mean_absolute_error: 0.0212 - cosine_similarity: 0.9968\n"
     ]
    }
   ],
   "source": [
    "# train the model\n",
    "history = model.fit(X_train, X_train, epochs=10, verbose=1, use_multiprocessing=True)"
   ]
  },
  {
   "cell_type": "code",
   "execution_count": 8,
   "metadata": {},
   "outputs": [
    {
     "name": "stdout",
     "output_type": "stream",
     "text": [
      "INFO:tensorflow:Assets written to: models/CAE/assets\n"
     ]
    }
   ],
   "source": [
    "# save trained model\n",
    "\n",
    "def save_model(model, path='models/CAE'):\n",
    "    model.save(path)\n",
    "\n",
    "save_model(model)"
   ]
  },
  {
   "cell_type": "code",
   "execution_count": 7,
   "metadata": {},
   "outputs": [],
   "source": [
    "# load a pretrained model\n",
    "\n",
    "def load_model(path = 'models/CAE'):\n",
    "    return keras.models.load_model(path)\n",
    "\n",
    "\n",
    "pretrained_model = load_model()"
   ]
  },
  {
   "cell_type": "markdown",
   "metadata": {},
   "source": []
  }
 ],
 "metadata": {
  "interpreter": {
   "hash": "ddda031869fb8ce91032b63195a611ad81bb421fc11bd1c32a8661751b914dac"
  },
  "kernelspec": {
   "display_name": "Python 3.8.11 64-bit ('base': conda)",
   "name": "python3"
  },
  "language_info": {
   "codemirror_mode": {
    "name": "ipython",
    "version": 3
   },
   "file_extension": ".py",
   "mimetype": "text/x-python",
   "name": "python",
   "nbconvert_exporter": "python",
   "pygments_lexer": "ipython3",
   "version": "3.8.11"
  },
  "orig_nbformat": 4
 },
 "nbformat": 4,
 "nbformat_minor": 2
}
