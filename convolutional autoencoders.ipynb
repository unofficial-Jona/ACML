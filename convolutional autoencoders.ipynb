{
  "nbformat": 4,
  "nbformat_minor": 0,
  "metadata": {
    "interpreter": {
      "hash": "ddda031869fb8ce91032b63195a611ad81bb421fc11bd1c32a8661751b914dac"
    },
    "kernelspec": {
      "display_name": "Python 3.8.11 64-bit ('base': conda)",
      "name": "python3"
    },
    "language_info": {
      "codemirror_mode": {
        "name": "ipython",
        "version": 3
      },
      "file_extension": ".py",
      "mimetype": "text/x-python",
      "name": "python",
      "nbconvert_exporter": "python",
      "pygments_lexer": "ipython3",
      "version": "3.8.11"
    },
    "orig_nbformat": 4,
    "colab": {
      "name": "convolutional autoencoders.ipynb",
      "provenance": []
    },
    "accelerator": "GPU"
  },
  "cells": [
    {
      "cell_type": "code",
      "metadata": {
        "id": "ofBRmadJEOeu"
      },
      "source": [
        "import tensorflow as tf\n",
        "from tensorflow import keras\n",
        "from keras import layers\n",
        "from keras.models import Sequential\n",
        "from keras.layers import Conv2D, MaxPooling2D, UpSampling2D, Input\n",
        "from tensorflow.keras import layers\n",
        "import numpy as np\n",
        "from sklearn.model_selection import train_test_split\n",
        "import matplotlib.pyplot as plt\n",
        "from PIL import Image"
      ],
      "execution_count": 1,
      "outputs": []
    },
    {
      "cell_type": "markdown",
      "metadata": {
        "id": "fs3610g4EOew"
      },
      "source": [
        "# Experiment 1\n"
      ]
    },
    {
      "cell_type": "code",
      "metadata": {
        "colab": {
          "base_uri": "https://localhost:8080/",
          "height": 297
        },
        "id": "vZbgIJzjEOex",
        "outputId": "12b908a1-8ded-48e5-9814-f0f824cb9d7d"
      },
      "source": [
        "# load data and split it into Test, train and validation sets\n",
        "\n",
        "(X_1, y_1), (X_2, y_2) = tf.keras.datasets.cifar10.load_data()\n",
        "X = np.vstack((X_1, X_2))\n",
        "y = np.vstack((y_1, y_2))\n",
        "X_train, X, y_train, y = train_test_split(X, y, train_size=0.8, stratify=y)\n",
        "X_test, X_valid, y_test, y_valid = train_test_split(X, y, test_size=0.5, stratify=y)\n",
        "\n",
        "assert X_test.shape == X_valid.shape, 'X_test and X_valid have different shapes'\n",
        "for i in range(10):\n",
        "    assert np.count_nonzero(keras.utils.to_categorical(y_train)[:, i]) == 4800 , 'Sample is not stratified'\n",
        "sample_shape = X_train[0].shape\n",
        "plt.imshow(X_train[1])\n",
        "plt.title(f'Shape: {sample_shape}')"
      ],
      "execution_count": 2,
      "outputs": [
        {
          "output_type": "execute_result",
          "data": {
            "text/plain": [
              "Text(0.5, 1.0, 'Shape: (32, 32, 3)')"
            ]
          },
          "metadata": {},
          "execution_count": 2
        },
        {
          "output_type": "display_data",
          "data": {
            "image/png": "[encoded data removed]",
            "text/plain": [
              "<Figure size 432x288 with 1 Axes>"
            ]
          },
          "metadata": {
            "needs_background": "light"
          }
        }
      ]
    },
    {
      "cell_type": "code",
      "metadata": {
        "id": "qOHLkgmIEOey"
      },
      "source": [
        "# normalize the data\n",
        "# it would be better to use keras.utils.normalize for this, but then it would be impossible to de-normalize the data\n",
        "\n",
        "X_train = X_train/255\n",
        "X_valid = X_valid/255\n",
        "X_test = X_test/255"
      ],
      "execution_count": 3,
      "outputs": []
    },
    {
      "cell_type": "code",
      "metadata": {
        "colab": {
          "base_uri": "https://localhost:8080/"
        },
        "id": "XY7eM8eREOez",
        "outputId": "d8e7ad10-d996-4186-b73c-e4d66a305218"
      },
      "source": [
        "# build the model\n",
        "\n",
        "model = Sequential()\n",
        "model.add(Input(shape=sample_shape))\n",
        "model.add(Conv2D(8, kernel_size = (3,3), padding='same',  activation='relu'))\n",
        "model.add(MaxPooling2D(pool_size = (2,2)))\n",
        "model.add(Conv2D(12, kernel_size = (3,3), padding='same', activation='relu'))\n",
        "model.add(MaxPooling2D(pool_size = (2,2)))\n",
        "model.add(Conv2D(16, kernel_size = (3,3), padding='same', activation='relu'))\n",
        "model.add(UpSampling2D(size=(2,2)))\n",
        "model.add(Conv2D(12,kernel_size = (3,3), padding='same', activation='relu'))\n",
        "model.add(UpSampling2D())\n",
        "model.add(Conv2D(3,(3,3), padding='same', activation='relu'))\n",
        "\n",
        "\n",
        "# compile the model\n",
        "model.compile(\n",
        "    optimizer=keras.optimizers.Adam(learning_rate=1e-3),\n",
        "    loss=keras.losses.MeanSquaredError(),\n",
        "    metrics=[keras.metrics.MeanAbsoluteError(),\n",
        "            keras.metrics.CosineSimilarity()])\n",
        "\n",
        "model.summary()"
      ],
      "execution_count": 5,
      "outputs": [
        {
          "output_type": "stream",
          "name": "stdout",
          "text": [
            "Model: \"sequential\"\n",
            "_________________________________________________________________\n",
            "Layer (type)                 Output Shape              Param #   \n",
            "=================================================================\n",
            "conv2d (Conv2D)              (None, 32, 32, 8)         224       \n",
            "_________________________________________________________________\n",
            "max_pooling2d (MaxPooling2D) (None, 16, 16, 8)         0         \n",
            "_________________________________________________________________\n",
            "conv2d_1 (Conv2D)            (None, 16, 16, 12)        876       \n",
            "_________________________________________________________________\n",
            "max_pooling2d_1 (MaxPooling2 (None, 8, 8, 12)          0         \n",
            "_________________________________________________________________\n",
            "conv2d_2 (Conv2D)            (None, 8, 8, 16)          1744      \n",
            "_________________________________________________________________\n",
            "up_sampling2d (UpSampling2D) (None, 16, 16, 16)        0         \n",
            "_________________________________________________________________\n",
            "conv2d_3 (Conv2D)            (None, 16, 16, 12)        1740      \n",
            "_________________________________________________________________\n",
            "up_sampling2d_1 (UpSampling2 (None, 32, 32, 12)        0         \n",
            "_________________________________________________________________\n",
            "conv2d_4 (Conv2D)            (None, 32, 32, 3)         327       \n",
            "=================================================================\n",
            "Total params: 4,911\n",
            "Trainable params: 4,911\n",
            "Non-trainable params: 0\n",
            "_________________________________________________________________\n"
          ]
        }
      ]
    },
    {
      "cell_type": "code",
      "metadata": {
        "id": "cBN1BetoEOe0",
        "outputId": "cb03e1c9-ac9b-4b60-c149-1c00125e7bfb",
        "colab": {
          "base_uri": "https://localhost:8080/"
        }
      },
      "source": [
        "# train the model\n",
        "history = model.fit(X_train, X_train, validation_data=(X_valid, X_valid), epochs=10, verbose=1, use_multiprocessing=True)"
      ],
      "execution_count": 6,
      "outputs": [
        {
          "output_type": "stream",
          "name": "stdout",
          "text": [
            "Epoch 1/10\n",
            "1500/1500 [==============================] - 42s 8ms/step - loss: 0.0128 - mean_absolute_error: 0.0753 - cosine_similarity: 0.9819 - val_loss: 0.0063 - val_mean_absolute_error: 0.0573 - val_cosine_similarity: 0.9886\n",
            "Epoch 2/10\n",
            "1500/1500 [==============================] - 11s 7ms/step - loss: 0.0059 - mean_absolute_error: 0.0549 - cosine_similarity: 0.9895 - val_loss: 0.0054 - val_mean_absolute_error: 0.0524 - val_cosine_similarity: 0.9896\n",
            "Epoch 3/10\n",
            "1500/1500 [==============================] - 11s 7ms/step - loss: 0.0052 - mean_absolute_error: 0.0513 - cosine_similarity: 0.9897 - val_loss: 0.0049 - val_mean_absolute_error: 0.0494 - val_cosine_similarity: 0.9902\n",
            "Epoch 4/10\n",
            "1500/1500 [==============================] - 11s 7ms/step - loss: 0.0048 - mean_absolute_error: 0.0492 - cosine_similarity: 0.9899 - val_loss: 0.0046 - val_mean_absolute_error: 0.0481 - val_cosine_similarity: 0.9907\n",
            "Epoch 5/10\n",
            "1500/1500 [==============================] - 11s 7ms/step - loss: 0.0046 - mean_absolute_error: 0.0479 - cosine_similarity: 0.9900 - val_loss: 0.0044 - val_mean_absolute_error: 0.0468 - val_cosine_similarity: 0.9902\n",
            "Epoch 6/10\n",
            "1500/1500 [==============================] - 11s 8ms/step - loss: 0.0044 - mean_absolute_error: 0.0469 - cosine_similarity: 0.9899 - val_loss: 0.0042 - val_mean_absolute_error: 0.0455 - val_cosine_similarity: 0.9902\n",
            "Epoch 7/10\n",
            "1500/1500 [==============================] - 11s 8ms/step - loss: 0.0042 - mean_absolute_error: 0.0459 - cosine_similarity: 0.9895 - val_loss: 0.0042 - val_mean_absolute_error: 0.0458 - val_cosine_similarity: 0.9893\n",
            "Epoch 8/10\n",
            "1500/1500 [==============================] - 11s 7ms/step - loss: 0.0041 - mean_absolute_error: 0.0451 - cosine_similarity: 0.9897 - val_loss: 0.0041 - val_mean_absolute_error: 0.0451 - val_cosine_similarity: 0.9912\n",
            "Epoch 9/10\n",
            "1500/1500 [==============================] - 11s 7ms/step - loss: 0.0040 - mean_absolute_error: 0.0445 - cosine_similarity: 0.9900 - val_loss: 0.0039 - val_mean_absolute_error: 0.0434 - val_cosine_similarity: 0.9903\n",
            "Epoch 10/10\n",
            "1500/1500 [==============================] - 11s 7ms/step - loss: 0.0039 - mean_absolute_error: 0.0439 - cosine_similarity: 0.9902 - val_loss: 0.0038 - val_mean_absolute_error: 0.0431 - val_cosine_similarity: 0.9912\n"
          ]
        }
      ]
    },
    {
      "cell_type": "code",
      "metadata": {
        "id": "avBdguu4EOe1"
      },
      "source": [
        "model.evaluate(X_test, X_test)\n"
      ],
      "execution_count": null,
      "outputs": []
    },
    {
      "cell_type": "code",
      "metadata": {
        "id": "y_YwEJEXEOe1"
      },
      "source": [
        "predictions = model.predict(X_train, verbose=1)"
      ],
      "execution_count": null,
      "outputs": []
    },
    {
      "cell_type": "code",
      "metadata": {
        "id": "pnb6yCg6EOe2"
      },
      "source": [
        "def plot_img_compare(model, data, img_nr):\n",
        "    \"\"\"Plot original image next to predicted image \n",
        "\n",
        "    Args:\n",
        "        model (model accepting.predict() method): the model to predict\n",
        "        data (np.array): the whole data stack\n",
        "        img_nr (int): the index of to use for image plot.\n",
        "    \"\"\"\n",
        "    assert type(img_nr) == int, 'wrong dtype for img_nr'\n",
        "    predictions = model.predict(data)\n",
        "    pred_img = predictions[img_nr]\n",
        "    plt.subplot(221).imshow(data[img_nr])\n",
        "    plt.subplot(221).set_title(f'original img: {data[img_nr].shape}')\n",
        "    plt.subplot(222).imshow(pred_img)\n",
        "    plt.subplot(222).set_title(f'predict img: {predictions[img_nr].shape}')\n",
        "    plt.show()\n",
        "\n",
        "plot_img_compare(model, X_test, 1)"
      ],
      "execution_count": null,
      "outputs": []
    },
    {
      "cell_type": "code",
      "metadata": {
        "id": "5EuHmdoLEOe4"
      },
      "source": [
        "def save_model(model, path = 'models/CAE'):\n",
        "    model.save(path)\n",
        "def load_model(path = 'models/CAE'):\n",
        "    return keras.models.load_model(path)\n",
        "model = load_model()"
      ],
      "execution_count": null,
      "outputs": []
    },
    {
      "cell_type": "markdown",
      "metadata": {
        "id": "VM7s67jGEbcq"
      },
      "source": [
        "## stuff"
      ]
    },
    {
      "cell_type": "markdown",
      "metadata": {
        "id": "k7_Pp8P-Eg_W"
      },
      "source": [
        "### learn seperate model for greyscale and model for combination of color and grayscale"
      ]
    },
    {
      "cell_type": "code",
      "metadata": {
        "id": "iSmALk85EOe4"
      },
      "source": [
        "# learn model for b-w version of the images\n",
        "\n",
        "to_grayscale = lambda x: x[:,:,:,0]/3 + x[:,:,:,1]/3 + x[:,:,:,2]/3\n",
        "\n",
        "X_train_bw = to_grayscale(X_train)\n",
        "X_test_bw = to_grayscale(X_test)\n",
        "X_valid_bw = to_grayscale(X_valid)"
      ],
      "execution_count": 4,
      "outputs": []
    },
    {
      "cell_type": "code",
      "metadata": {
        "id": "avIXkHyIEOe5"
      },
      "source": [
        "X_train_bw = X_train_bw[:,:,:,np.newaxis]\n",
        "X_test_bw = X_test_bw[:,:,:,np.newaxis]\n",
        "X_valid_bw = X_valid_bw[:,:,:,np.newaxis]\n"
      ],
      "execution_count": 5,
      "outputs": []
    },
    {
      "cell_type": "code",
      "metadata": {
        "id": "aT93fElnEOe6"
      },
      "source": [
        "def comp_rgb_bw(rgb_img, gray_img):\n",
        "    plt.subplot(221).imshow(rgb_img)\n",
        "    plt.subplot(221).set_title(f'original img: {rgb_img.shape}')\n",
        "    plt.subplot(222).imshow(gray_img, cmap='gray')\n",
        "    plt.subplot(222).set_title(f'predict img: {gray_img.shape}')\n",
        "    plt.show()\n",
        "comp_rgb_bw(X_train[0], X_train_bw[0])"
      ],
      "execution_count": null,
      "outputs": []
    },
    {
      "cell_type": "code",
      "metadata": {
        "id": "k6qj9ERREOe7"
      },
      "source": [
        "# build the model_bw\n",
        "\n",
        "model_bw = Sequential()\n",
        "model_bw.add(Input(shape=X_train_bw[0].shape))\n",
        "model_bw.add(Conv2D(8, kernel_size = (3,3), padding='same',  activation='relu'))\n",
        "model_bw.add(Conv2D(12, kernel_size = (3,3), padding='same',  activation='relu'))\n",
        "model_bw.add(MaxPooling2D(pool_size = (2,2)))\n",
        "model_bw.add(Conv2D(16, kernel_size = (3,3), padding='same', activation='relu'))\n",
        "model_bw.add(MaxPooling2D(pool_size = (2,2)))\n",
        "model_bw.add(Conv2D(32, kernel_size = (3,3), padding='same', activation='relu'))\n",
        "model_bw.add(Conv2D(32, kernel_size = (3,3), padding='same', activation='relu'))\n",
        "model_bw.add(UpSampling2D(size=(2,2)))\n",
        "model_bw.add(Conv2D(16,kernel_size = (3,3), padding='same', activation='relu'))\n",
        "model_bw.add(UpSampling2D())\n",
        "model_bw.add(Conv2D(12,kernel_size = (3,3), padding='same', activation='relu'))\n",
        "model_bw.add(UpSampling2D())\n",
        "model_bw.add(Conv2D(6,kernel_size = (3,3), padding='same', activation='relu'))\n",
        "model_bw.add(MaxPooling2D(pool_size = (2,2)))\n",
        "model_bw.add(Conv2D(1,(3,3), padding='same', activation='relu'))\n",
        "\n",
        "\n",
        "# compile the model_bw\n",
        "model_bw.compile(\n",
        "    optimizer=keras.optimizers.Adam(learning_rate=1e-3),\n",
        "    loss=keras.losses.MeanSquaredError(),\n",
        "    metrics=[keras.metrics.MeanAbsoluteError(),\n",
        "            keras.metrics.CosineSimilarity()])\n",
        "\n",
        "model_bw.summary()"
      ],
      "execution_count": null,
      "outputs": []
    },
    {
      "cell_type": "code",
      "metadata": {
        "id": "LFkBfLEvEOe8",
        "outputId": "9692246c-c062-4a89-a56b-9e3442a8e77b"
      },
      "source": [
        "history_bw = model_bw.fit(X_train_bw, X_train_bw, epochs=7, validation_data=(X_valid_bw, X_valid_bw), verbose=1, use_multiprocessing=True)"
      ],
      "execution_count": null,
      "outputs": [
        {
          "name": "stdout",
          "output_type": "stream",
          "text": [
            "Epoch 1/2\n",
            "1500/1500 [==============================] - 175s 116ms/step - loss: 0.0083 - mean_absolute_error: 0.0575 - cosine_similarity: 0.9980 - val_loss: 0.0038 - val_mean_absolute_error: 0.0434 - val_cosine_similarity: 0.9986\n",
            "Epoch 2/2\n",
            "1500/1500 [==============================] - 176s 117ms/step - loss: 0.0035 - mean_absolute_error: 0.0413 - cosine_similarity: 0.9977 - val_loss: 0.0034 - val_mean_absolute_error: 0.0414 - val_cosine_similarity: 0.9961\n"
          ]
        }
      ]
    },
    {
      "cell_type": "code",
      "metadata": {
        "id": "DntU0H0XEOe9",
        "outputId": "8e5dbeff-cd7c-41c5-926d-fc854991863d"
      },
      "source": [
        "model_bw.evaluate(X_test_bw, X_test_bw)"
      ],
      "execution_count": null,
      "outputs": [
        {
          "name": "stdout",
          "output_type": "stream",
          "text": [
            "188/188 [==============================] - 5s 27ms/step - loss: 0.0034 - mean_absolute_error: 0.0416 - cosine_similarity: 0.9970\n"
          ]
        },
        {
          "data": {
            "text/plain": [
              "[0.003407752141356468, 0.041581299155950546, 0.996958315372467]"
            ]
          },
          "execution_count": 46,
          "metadata": {},
          "output_type": "execute_result"
        }
      ]
    },
    {
      "cell_type": "code",
      "metadata": {
        "id": "17EmNzViEOe9"
      },
      "source": [
        "predictions_bw = model_bw.predict(X_train_bw, verbose=1)"
      ],
      "execution_count": null,
      "outputs": []
    },
    {
      "cell_type": "code",
      "metadata": {
        "id": "Sg2wENd1EOe-"
      },
      "source": [
        "predictions_bw.shape\n",
        "X_train_comb = np.concatenate((predictions, predictions_bw),3)"
      ],
      "execution_count": null,
      "outputs": []
    },
    {
      "cell_type": "code",
      "metadata": {
        "id": "x9fXTGGXEOe-",
        "outputId": "ea7cb4d8-a3dc-4b27-e816-f746951ebcdf"
      },
      "source": [
        "# build model_comb for combination of prediction model_comb\n",
        "\n",
        "model_comb = Sequential()\n",
        "model_comb.add(Input(shape=X_train_comb[0].shape))\n",
        "model_comb.add(Conv2D(8, kernel_size = (3,3), padding='same',  activation='relu'))\n",
        "model_comb.add(MaxPooling2D(pool_size = (2,2)))\n",
        "model_comb.add(Conv2D(12, kernel_size = (3,3), padding='same', activation='relu'))\n",
        "model_comb.add(MaxPooling2D(pool_size = (2,2)))\n",
        "model_comb.add(Conv2D(16, kernel_size = (3,3), padding='same', activation='relu'))\n",
        "model_comb.add(UpSampling2D(size=(2,2)))\n",
        "model_comb.add(Conv2D(12,kernel_size = (3,3), padding='same', activation='relu'))\n",
        "model_comb.add(UpSampling2D())\n",
        "model_comb.add(Conv2D(3,(3,3), padding='same', activation='relu'))\n",
        "\n",
        "\n",
        "# compile the model_comb\n",
        "model_comb.compile(\n",
        "    optimizer=keras.optimizers.Adam(learning_rate=1e-3),\n",
        "    loss=keras.losses.MeanSquaredError(),\n",
        "    metrics=[keras.metrics.MeanAbsoluteError(),\n",
        "            keras.metrics.CosineSimilarity()])\n",
        "\n",
        "model_comb.summary()"
      ],
      "execution_count": null,
      "outputs": [
        {
          "name": "stdout",
          "output_type": "stream",
          "text": [
            "Model: \"sequential_18\"\n",
            "_________________________________________________________________\n",
            "Layer (type)                 Output Shape              Param #   \n",
            "=================================================================\n",
            "conv2d_102 (Conv2D)          (None, 32, 32, 8)         296       \n",
            "_________________________________________________________________\n",
            "max_pooling2d_40 (MaxPooling (None, 16, 16, 8)         0         \n",
            "_________________________________________________________________\n",
            "conv2d_103 (Conv2D)          (None, 16, 16, 12)        876       \n",
            "_________________________________________________________________\n",
            "max_pooling2d_41 (MaxPooling (None, 8, 8, 12)          0         \n",
            "_________________________________________________________________\n",
            "conv2d_104 (Conv2D)          (None, 8, 8, 16)          1744      \n",
            "_________________________________________________________________\n",
            "up_sampling2d_34 (UpSampling (None, 16, 16, 16)        0         \n",
            "_________________________________________________________________\n",
            "conv2d_105 (Conv2D)          (None, 16, 16, 12)        1740      \n",
            "_________________________________________________________________\n",
            "up_sampling2d_35 (UpSampling (None, 32, 32, 12)        0         \n",
            "_________________________________________________________________\n",
            "conv2d_106 (Conv2D)          (None, 32, 32, 3)         327       \n",
            "=================================================================\n",
            "Total params: 4,983\n",
            "Trainable params: 4,983\n",
            "Non-trainable params: 0\n",
            "_________________________________________________________________\n"
          ]
        }
      ]
    },
    {
      "cell_type": "code",
      "metadata": {
        "id": "gaRl_T_BEOe_",
        "outputId": "88181f03-3b37-4474-b180-06fb089e859a"
      },
      "source": [
        "history_comb = model_comb.fit(X_train_comb, X_train, epochs=7, verbose=1, use_multiprocessing=True)"
      ],
      "execution_count": null,
      "outputs": [
        {
          "name": "stdout",
          "output_type": "stream",
          "text": [
            "Epoch 1/7\n",
            "1500/1500 [==============================] - 52s 34ms/step - loss: 0.0134 - mean_absolute_error: 0.0769 - cosine_similarity: 0.9834\n",
            "Epoch 2/7\n",
            "1500/1500 [==============================] - 51s 34ms/step - loss: 0.0062 - mean_absolute_error: 0.0568 - cosine_similarity: 0.9917\n",
            "Epoch 3/7\n",
            "1500/1500 [==============================] - 52s 35ms/step - loss: 0.0057 - mean_absolute_error: 0.0542 - cosine_similarity: 0.9921\n",
            "Epoch 4/7\n",
            "1500/1500 [==============================] - 52s 35ms/step - loss: 0.0054 - mean_absolute_error: 0.0526 - cosine_similarity: 0.9921\n",
            "Epoch 5/7\n",
            "1500/1500 [==============================] - 52s 34ms/step - loss: 0.0052 - mean_absolute_error: 0.0516 - cosine_similarity: 0.9921\n",
            "Epoch 6/7\n",
            "1500/1500 [==============================] - 49s 33ms/step - loss: 0.0051 - mean_absolute_error: 0.0508 - cosine_similarity: 0.9921\n",
            "Epoch 7/7\n",
            "1500/1500 [==============================] - 53s 35ms/step - loss: 0.0050 - mean_absolute_error: 0.0502 - cosine_similarity: 0.9920\n"
          ]
        }
      ]
    },
    {
      "cell_type": "code",
      "metadata": {
        "id": "QmZ0BkcPEOe_",
        "outputId": "eeae56ec-043c-4824-ac7a-0b1dd057c5a5"
      },
      "source": [
        "predict_comb = model_comb.predict(X_train_comb)\n",
        "\n",
        "def comp_comb_org(comb_img, org_img):\n",
        "    plt.subplot(221).imshow(org_img)\n",
        "    plt.subplot(221).set_title(f'original img: {org_img.shape}')\n",
        "    plt.subplot(222).imshow(comb_img)\n",
        "    plt.subplot(222).set_title(f'predict img: {comb_img.shape}')\n",
        "    plt.show()\n"
      ],
      "execution_count": null,
      "outputs": [
        {
          "name": "stderr",
          "output_type": "stream",
          "text": [
            "Clipping input data to the valid range for imshow with RGB data ([0..1] for floats or [0..255] for integers).\n"
          ]
        },
        {
          "data": {
            "image/png": "[encoded data removed]",
            "text/plain": [
              "<Figure size 432x288 with 2 Axes>"
            ]
          },
          "metadata": {
            "needs_background": "light"
          },
          "output_type": "display_data"
        }
      ]
    },
    {
      "cell_type": "code",
      "metadata": {
        "id": "aBT7BpUoEOfA",
        "outputId": "b6975e1a-99a5-4d52-d3fd-530bba531087"
      },
      "source": [
        "comp_rgb_bw(X_train[1], X_train_comb[1])"
      ],
      "execution_count": null,
      "outputs": [
        {
          "data": {
            "image/png": "[encoded data removed]",
            "text/plain": [
              "<Figure size 432x288 with 2 Axes>"
            ]
          },
          "metadata": {
            "needs_background": "light"
          },
          "output_type": "display_data"
        }
      ]
    },
    {
      "cell_type": "code",
      "metadata": {
        "id": "y3sW2ZaEEOfA",
        "outputId": "af34530e-9dae-41e7-8b03-2fe21794e973"
      },
      "source": [
        "save_model(model_comb, 'models/model_pipe_comb')\n",
        "save_model(model_bw, 'models/model_pipe_bw')"
      ],
      "execution_count": null,
      "outputs": [
        {
          "name": "stdout",
          "output_type": "stream",
          "text": [
            "INFO:tensorflow:Assets written to: models/model_pipe_comb/assets\n",
            "INFO:tensorflow:Assets written to: models/model_pipe_bw/assets\n"
          ]
        }
      ]
    },
    {
      "cell_type": "markdown",
      "metadata": {
        "id": "7XHRcFerEQzd"
      },
      "source": [
        "### try different model architectures"
      ]
    },
    {
      "cell_type": "code",
      "metadata": {
        "colab": {
          "base_uri": "https://localhost:8080/"
        },
        "id": "9fV5ePTBET33",
        "outputId": "0c18fdf8-b277-4d54-cfce-df89c7f963d7"
      },
      "source": [
        "model_test = Sequential()\n",
        "model_test.add(Input(shape=sample_shape))\n",
        "model_test.add(Conv2D(128, kernel_size = (3,3), padding='same',  activation='relu'))\n",
        "model_test.add(Conv2D(92, kernel_size = (3,3), padding='same',  activation='relu'))\n",
        "model_test.add(MaxPooling2D(pool_size = (2,2)))\n",
        "model_test.add(Conv2D(78, kernel_size = (3,3), padding='same', activation='relu'))\n",
        "model_test.add(MaxPooling2D(pool_size = (2,2)))\n",
        "model_test.add(Conv2D(64, kernel_size = (3,3), padding='same', activation='relu'))\n",
        "\n",
        "model_test.add(UpSampling2D(size=(2,2)))\n",
        "model_test.add(Conv2D(32,kernel_size = (3,3), padding='same', activation='relu'))\n",
        "model_test.add(Conv2D(24,kernel_size = (3,3), padding='same', activation='relu'))\n",
        "model_test.add(Conv2D(16,kernel_size = (3,3), padding='same', activation='relu'))\n",
        "\n",
        "model_test.add(UpSampling2D())\n",
        "model_test.add(Conv2D(8,kernel_size = (3,3), padding='same', activation='relu'))\n",
        "model_test.add(Conv2D(3,(3,3), padding='same', activation='relu'))\n",
        "\n",
        "model_test.compile(\n",
        "    optimizer=keras.optimizers.Adam(learning_rate=1e-3),\n",
        "    loss=keras.losses.MeanSquaredError(),\n",
        "    metrics=[keras.metrics.MeanAbsoluteError(),\n",
        "            keras.metrics.CosineSimilarity()])\n",
        "model_test.summary()\n"
      ],
      "execution_count": 6,
      "outputs": [
        {
          "output_type": "stream",
          "name": "stdout",
          "text": [
            "Model: \"sequential\"\n",
            "_________________________________________________________________\n",
            "Layer (type)                 Output Shape              Param #   \n",
            "=================================================================\n",
            "conv2d (Conv2D)              (None, 32, 32, 128)       3584      \n",
            "_________________________________________________________________\n",
            "conv2d_1 (Conv2D)            (None, 32, 32, 92)        106076    \n",
            "_________________________________________________________________\n",
            "max_pooling2d (MaxPooling2D) (None, 16, 16, 92)        0         \n",
            "_________________________________________________________________\n",
            "conv2d_2 (Conv2D)            (None, 16, 16, 78)        64662     \n",
            "_________________________________________________________________\n",
            "max_pooling2d_1 (MaxPooling2 (None, 8, 8, 78)          0         \n",
            "_________________________________________________________________\n",
            "conv2d_3 (Conv2D)            (None, 8, 8, 64)          44992     \n",
            "_________________________________________________________________\n",
            "up_sampling2d (UpSampling2D) (None, 16, 16, 64)        0         \n",
            "_________________________________________________________________\n",
            "conv2d_4 (Conv2D)            (None, 16, 16, 32)        18464     \n",
            "_________________________________________________________________\n",
            "conv2d_5 (Conv2D)            (None, 16, 16, 24)        6936      \n",
            "_________________________________________________________________\n",
            "conv2d_6 (Conv2D)            (None, 16, 16, 16)        3472      \n",
            "_________________________________________________________________\n",
            "up_sampling2d_1 (UpSampling2 (None, 32, 32, 16)        0         \n",
            "_________________________________________________________________\n",
            "conv2d_7 (Conv2D)            (None, 32, 32, 8)         1160      \n",
            "_________________________________________________________________\n",
            "conv2d_8 (Conv2D)            (None, 32, 32, 3)         219       \n",
            "=================================================================\n",
            "Total params: 249,565\n",
            "Trainable params: 249,565\n",
            "Non-trainable params: 0\n",
            "_________________________________________________________________\n"
          ]
        }
      ]
    },
    {
      "cell_type": "code",
      "metadata": {
        "id": "tBdnjEvOQNxN",
        "outputId": "3dfb9237-e145-4d6e-d98e-27433207fb46",
        "colab": {
          "base_uri": "https://localhost:8080/"
        }
      },
      "source": [
        "model_test.fit(X_train, X_train, validation_data=(X_valid, X_valid), epochs=10, verbose=1)\n",
        "predictions_test = model_test.predict(X_test)"
      ],
      "execution_count": 7,
      "outputs": [
        {
          "output_type": "stream",
          "name": "stdout",
          "text": [
            "Epoch 1/10\n",
            "1500/1500 [==============================] - 69s 26ms/step - loss: 0.0088 - mean_absolute_error: 0.0613 - cosine_similarity: 0.9872 - val_loss: 0.0035 - val_mean_absolute_error: 0.0424 - val_cosine_similarity: 0.9908\n",
            "Epoch 2/10\n",
            "1500/1500 [==============================] - 38s 25ms/step - loss: 0.0032 - mean_absolute_error: 0.0407 - cosine_similarity: 0.9924 - val_loss: 0.0025 - val_mean_absolute_error: 0.0355 - val_cosine_similarity: 0.9927\n",
            "Epoch 3/10\n",
            "1500/1500 [==============================] - 38s 25ms/step - loss: 0.0025 - mean_absolute_error: 0.0360 - cosine_similarity: 0.9928 - val_loss: 0.0021 - val_mean_absolute_error: 0.0328 - val_cosine_similarity: 0.9932\n",
            "Epoch 4/10\n",
            "1500/1500 [==============================] - 38s 25ms/step - loss: 0.0021 - mean_absolute_error: 0.0332 - cosine_similarity: 0.9932 - val_loss: 0.0022 - val_mean_absolute_error: 0.0351 - val_cosine_similarity: 0.9927\n",
            "Epoch 5/10\n",
            "1500/1500 [==============================] - 37s 25ms/step - loss: 0.0019 - mean_absolute_error: 0.0313 - cosine_similarity: 0.9934 - val_loss: 0.0016 - val_mean_absolute_error: 0.0291 - val_cosine_similarity: 0.9934\n",
            "Epoch 6/10\n",
            "1500/1500 [==============================] - 38s 25ms/step - loss: 0.0017 - mean_absolute_error: 0.0298 - cosine_similarity: 0.9936 - val_loss: 0.0014 - val_mean_absolute_error: 0.0270 - val_cosine_similarity: 0.9935\n",
            "Epoch 7/10\n",
            "1500/1500 [==============================] - 38s 25ms/step - loss: 0.0016 - mean_absolute_error: 0.0286 - cosine_similarity: 0.9937 - val_loss: 0.0014 - val_mean_absolute_error: 0.0268 - val_cosine_similarity: 0.9937\n",
            "Epoch 8/10\n",
            "1500/1500 [==============================] - 37s 25ms/step - loss: 0.0015 - mean_absolute_error: 0.0277 - cosine_similarity: 0.9938 - val_loss: 0.0014 - val_mean_absolute_error: 0.0266 - val_cosine_similarity: 0.9925\n",
            "Epoch 9/10\n",
            "1500/1500 [==============================] - 38s 25ms/step - loss: 0.0014 - mean_absolute_error: 0.0269 - cosine_similarity: 0.9938 - val_loss: 0.0013 - val_mean_absolute_error: 0.0257 - val_cosine_similarity: 0.9942\n",
            "Epoch 10/10\n",
            "1500/1500 [==============================] - 39s 26ms/step - loss: 0.0013 - mean_absolute_error: 0.0263 - cosine_similarity: 0.9938 - val_loss: 0.0014 - val_mean_absolute_error: 0.0278 - val_cosine_similarity: 0.9929\n"
          ]
        }
      ]
    },
    {
      "cell_type": "code",
      "metadata": {
        "id": "tRRv5rjmHL2i",
        "outputId": "8ef3ba52-d98f-46f5-c410-5f3ad4a8f67a",
        "colab": {
          "base_uri": "https://localhost:8080/",
          "height": 249
        }
      },
      "source": [
        "def img_compare(img_org, img_pred):\n",
        "  \n",
        "  plt.subplot(221).imshow(img_org)\n",
        "  plt.subplot(221).set_title(f'original img: {img_org.shape}')\n",
        "  plt.subplot(222).imshow(img_pred)\n",
        "  plt.subplot(222).set_title(f'predict img: {img_pred.shape}')\n",
        "  plt.show()\n",
        "img_compare(X_test[50], predictions_test[50])"
      ],
      "execution_count": 10,
      "outputs": [
        {
          "output_type": "stream",
          "name": "stderr",
          "text": [
            "/usr/local/lib/python3.7/dist-packages/ipykernel_launcher.py:4: MatplotlibDeprecationWarning: Adding an axes using the same arguments as a previous axes currently reuses the earlier instance.  In a future version, a new instance will always be created and returned.  Meanwhile, this warning can be suppressed, and the future behavior ensured, by passing a unique label to each axes instance.\n",
            "  after removing the cwd from sys.path.\n",
            "/usr/local/lib/python3.7/dist-packages/ipykernel_launcher.py:6: MatplotlibDeprecationWarning: Adding an axes using the same arguments as a previous axes currently reuses the earlier instance.  In a future version, a new instance will always be created and returned.  Meanwhile, this warning can be suppressed, and the future behavior ensured, by passing a unique label to each axes instance.\n",
            "  \n"
          ]
        },
        {
          "output_type": "display_data",
          "data": {
            "image/png": "[encoded data removed]",
            "text/plain": [
              "<Figure size 432x288 with 2 Axes>"
            ]
          },
          "metadata": {
            "needs_background": "light"
          }
        }
      ]
    },
    {
      "cell_type": "markdown",
      "metadata": {
        "id": "-TaOqPY9Mxqp"
      },
      "source": [
        "### try model_test for recolorization"
      ]
    },
    {
      "cell_type": "code",
      "metadata": {
        "colab": {
          "base_uri": "https://localhost:8080/"
        },
        "id": "6MTd2liqH5xF",
        "outputId": "6edc0ed7-a7ce-494f-899a-e3d48bdc424f"
      },
      "source": [
        "model_test = Sequential()\n",
        "# model_test.add(Input(shape=X_train_bw.shape))\n",
        "model_test.add(Conv2D(16, kernel_size = (3,3), padding='same',  activation='relu', input_shape=(32,32,1)))\n",
        "# model_test.add(Conv2D(8, kernel_size = (3,3), padding='same',  activation='relu'))\n",
        "# model_test.add(Conv2D(32, kernel_size = (3,3), padding='same', activation='relu'))\n",
        "model_test.add(MaxPooling2D(pool_size = (2,2)))\n",
        "# model_test.add(Conv2D(64, kernel_size = (3,3), padding='same', activation='relu'))\n",
        "model_test.add(Conv2D(32,kernel_size = (3,3), padding='same', activation='relu'))\n",
        "model_test.add(MaxPooling2D(pool_size = (2,2)))\n",
        "model_test.add(Conv2D(64,kernel_size = (3,3), padding='same', activation='relu'))\n",
        "# model_test.add(Conv2D(32,kernel_size = (3,3), padding='same', activation='relu'))\n",
        "\n",
        "model_test.add(UpSampling2D())\n",
        "model_test.add(Conv2D(24,kernel_size = (3,3), padding='same', activation='relu'))\n",
        "model_test.add(Conv2D(16,kernel_size = (3,3), padding='same', activation='relu'))\n",
        "model_test.add(UpSampling2D())\n",
        "\n",
        "model_test.add(Conv2D(12,kernel_size = (3,3), padding='same', activation='relu'))\n",
        "model_test.add(Conv2D(3,(3,3), padding='same', activation='sigmoid'))\n",
        "\n",
        "\n",
        "model_test.compile(\n",
        "    optimizer=keras.optimizers.Adam(learning_rate=1e-2),\n",
        "    loss=keras.losses.MeanSquaredError(),\n",
        "    metrics=[keras.metrics.MeanAbsoluteError(),\n",
        "            keras.metrics.CosineSimilarity(),\n",
        "             keras.metrics.Accuracy()])\n",
        "model_test.summary()\n"
      ],
      "execution_count": 7,
      "outputs": [
        {
          "output_type": "stream",
          "name": "stdout",
          "text": [
            "Model: \"sequential_1\"\n",
            "_________________________________________________________________\n",
            "Layer (type)                 Output Shape              Param #   \n",
            "=================================================================\n",
            "conv2d_9 (Conv2D)            (None, 32, 32, 16)        160       \n",
            "_________________________________________________________________\n",
            "max_pooling2d_2 (MaxPooling2 (None, 16, 16, 16)        0         \n",
            "_________________________________________________________________\n",
            "conv2d_10 (Conv2D)           (None, 16, 16, 32)        4640      \n",
            "_________________________________________________________________\n",
            "max_pooling2d_3 (MaxPooling2 (None, 8, 8, 32)          0         \n",
            "_________________________________________________________________\n",
            "conv2d_11 (Conv2D)           (None, 8, 8, 64)          18496     \n",
            "_________________________________________________________________\n",
            "up_sampling2d_2 (UpSampling2 (None, 16, 16, 64)        0         \n",
            "_________________________________________________________________\n",
            "conv2d_12 (Conv2D)           (None, 16, 16, 24)        13848     \n",
            "_________________________________________________________________\n",
            "conv2d_13 (Conv2D)           (None, 16, 16, 16)        3472      \n",
            "_________________________________________________________________\n",
            "up_sampling2d_3 (UpSampling2 (None, 32, 32, 16)        0         \n",
            "_________________________________________________________________\n",
            "conv2d_14 (Conv2D)           (None, 32, 32, 12)        1740      \n",
            "_________________________________________________________________\n",
            "conv2d_15 (Conv2D)           (None, 32, 32, 3)         327       \n",
            "=================================================================\n",
            "Total params: 42,683\n",
            "Trainable params: 42,683\n",
            "Non-trainable params: 0\n",
            "_________________________________________________________________\n"
          ]
        }
      ]
    },
    {
      "cell_type": "code",
      "metadata": {
        "id": "uvXKRbdplhMk",
        "colab": {
          "base_uri": "https://localhost:8080/"
        },
        "outputId": "5ac09933-2b63-4ff0-85e2-9e00fb3d5a74"
      },
      "source": [
        "print(X_train_bw.shape, X_train.shape)\n",
        "\n",
        "model_test.fit(X_train_bw, X_train, validation_data=(X_valid_bw, X_valid), epochs=10, verbose=1)\n",
        "predictions_test_recol = model_test.predict(X_test_bw, verbose=1)"
      ],
      "execution_count": 8,
      "outputs": [
        {
          "output_type": "stream",
          "name": "stdout",
          "text": [
            "(48000, 32, 32, 1) (48000, 32, 32, 3)\n",
            "Epoch 1/10\n",
            "1500/1500 [==============================] - 46s 11ms/step - loss: 0.0113 - mean_absolute_error: 0.0778 - cosine_similarity: 0.9796 - accuracy: 2.2380e-07 - val_loss: 0.0087 - val_mean_absolute_error: 0.0687 - val_cosine_similarity: 0.9801 - val_accuracy: 2.1701e-07\n",
            "Epoch 2/10\n",
            "1500/1500 [==============================] - 16s 10ms/step - loss: 0.0087 - mean_absolute_error: 0.0684 - cosine_similarity: 0.9801 - accuracy: 2.5770e-07 - val_loss: 0.0084 - val_mean_absolute_error: 0.0673 - val_cosine_similarity: 0.9805 - val_accuracy: 2.1701e-07\n",
            "Epoch 3/10\n",
            "1500/1500 [==============================] - 16s 10ms/step - loss: 0.0084 - mean_absolute_error: 0.0668 - cosine_similarity: 0.9800 - accuracy: 1.7632e-07 - val_loss: 0.0079 - val_mean_absolute_error: 0.0648 - val_cosine_similarity: 0.9801 - val_accuracy: 3.7977e-07\n",
            "Epoch 4/10\n",
            "1500/1500 [==============================] - 15s 10ms/step - loss: 0.0082 - mean_absolute_error: 0.0661 - cosine_similarity: 0.9800 - accuracy: 2.0345e-07 - val_loss: 0.0079 - val_mean_absolute_error: 0.0648 - val_cosine_similarity: 0.9801 - val_accuracy: 2.1701e-07\n",
            "Epoch 5/10\n",
            "1500/1500 [==============================] - 15s 10ms/step - loss: 0.0082 - mean_absolute_error: 0.0659 - cosine_similarity: 0.9800 - accuracy: 2.2380e-07 - val_loss: 0.0078 - val_mean_absolute_error: 0.0642 - val_cosine_similarity: 0.9805 - val_accuracy: 1.0851e-07\n",
            "Epoch 6/10\n",
            "1500/1500 [==============================] - 15s 10ms/step - loss: 0.0081 - mean_absolute_error: 0.0654 - cosine_similarity: 0.9800 - accuracy: 2.5092e-07 - val_loss: 0.0081 - val_mean_absolute_error: 0.0660 - val_cosine_similarity: 0.9799 - val_accuracy: 4.3403e-07\n",
            "Epoch 7/10\n",
            "1500/1500 [==============================] - 15s 10ms/step - loss: 0.0081 - mean_absolute_error: 0.0654 - cosine_similarity: 0.9800 - accuracy: 2.9161e-07 - val_loss: 0.0081 - val_mean_absolute_error: 0.0657 - val_cosine_similarity: 0.9801 - val_accuracy: 3.7977e-07\n",
            "Epoch 8/10\n",
            "1500/1500 [==============================] - 15s 10ms/step - loss: 0.0088 - mean_absolute_error: 0.0682 - cosine_similarity: 0.9798 - accuracy: 2.7127e-07 - val_loss: 0.0086 - val_mean_absolute_error: 0.0675 - val_cosine_similarity: 0.9800 - val_accuracy: 1.6276e-07\n",
            "Epoch 9/10\n",
            "1500/1500 [==============================] - 16s 10ms/step - loss: 0.0087 - mean_absolute_error: 0.0678 - cosine_similarity: 0.9799 - accuracy: 2.6449e-07 - val_loss: 0.0083 - val_mean_absolute_error: 0.0669 - val_cosine_similarity: 0.9800 - val_accuracy: 3.2552e-07\n",
            "Epoch 10/10\n",
            "1500/1500 [==============================] - 16s 10ms/step - loss: 0.0084 - mean_absolute_error: 0.0669 - cosine_similarity: 0.9800 - accuracy: 2.5770e-07 - val_loss: 0.0081 - val_mean_absolute_error: 0.0653 - val_cosine_similarity: 0.9806 - val_accuracy: 5.4253e-07\n",
            "188/188 [==============================] - 1s 2ms/step\n"
          ]
        }
      ]
    },
    {
      "cell_type": "code",
      "metadata": {
        "colab": {
          "base_uri": "https://localhost:8080/",
          "height": 249
        },
        "id": "E8sky7ayNdGZ",
        "outputId": "5c0ff95b-badf-40cf-e2a3-8e4a8f2fa4d5"
      },
      "source": [
        "img_compare(X_test[1], predictions_test_recol[1])"
      ],
      "execution_count": 11,
      "outputs": [
        {
          "output_type": "stream",
          "name": "stderr",
          "text": [
            "/usr/local/lib/python3.7/dist-packages/ipykernel_launcher.py:4: MatplotlibDeprecationWarning: Adding an axes using the same arguments as a previous axes currently reuses the earlier instance.  In a future version, a new instance will always be created and returned.  Meanwhile, this warning can be suppressed, and the future behavior ensured, by passing a unique label to each axes instance.\n",
            "  after removing the cwd from sys.path.\n",
            "/usr/local/lib/python3.7/dist-packages/ipykernel_launcher.py:6: MatplotlibDeprecationWarning: Adding an axes using the same arguments as a previous axes currently reuses the earlier instance.  In a future version, a new instance will always be created and returned.  Meanwhile, this warning can be suppressed, and the future behavior ensured, by passing a unique label to each axes instance.\n",
            "  \n"
          ]
        },
        {
          "output_type": "display_data",
          "data": {
            "image/png": "[encoded data removed]",
            "text/plain": [
              "<Figure size 432x288 with 2 Axes>"
            ]
          },
          "metadata": {
            "needs_background": "light"
          }
        }
      ]
    },
    {
      "cell_type": "code",
      "metadata": {
        "colab": {
          "base_uri": "https://localhost:8080/"
        },
        "id": "wv2EpgMNOYf-",
        "outputId": "542052aa-8e4d-407f-c9ba-741c4ceaabc5"
      },
      "source": [
        "small_model_color = Sequential()\n",
        "small_model_color.add(Conv2D(8, (3,3), padding='same', activation='relu', input_shape=(32,32,1)))\n",
        "small_model_color.add(MaxPooling2D())\n",
        "small_model_color.add(Conv2D(16, kernel_size = (3,3), padding='same',  activation='relu'))\n",
        "small_model_color.add(MaxPooling2D())\n",
        "small_model_color.add(Conv2D(32, kernel_size = (3,3), padding='same',  activation='relu'))\n",
        "small_model_color.add(UpSampling2D())\n",
        "small_model_color.add(Conv2D(16, kernel_size = (3,3), padding='same',  activation='relu'))\n",
        "small_model_color.add(UpSampling2D())\n",
        "small_model_color.add(Conv2D(8, (3,3), padding='same', activation='relu'))\n",
        "small_model_color.add(Conv2D(1, (3,3), padding='same', activation='sigmoid'))\n",
        "\n",
        "\n",
        "small_model_color.compile(\n",
        "    optimizer=keras.optimizers.Adam(learning_rate=1e-3),\n",
        "    loss=keras.losses.MeanSquaredError(),\n",
        "    metrics=[keras.metrics.MeanAbsoluteError(),\n",
        "            keras.metrics.CosineSimilarity(),\n",
        "             keras.metrics.Accuracy()])\n",
        "small_model_color.summary()"
      ],
      "execution_count": 13,
      "outputs": [
        {
          "output_type": "stream",
          "name": "stdout",
          "text": [
            "Model: \"sequential_2\"\n",
            "_________________________________________________________________\n",
            "Layer (type)                 Output Shape              Param #   \n",
            "=================================================================\n",
            "conv2d_15 (Conv2D)           (None, 32, 32, 8)         80        \n",
            "_________________________________________________________________\n",
            "max_pooling2d_4 (MaxPooling2 (None, 16, 16, 8)         0         \n",
            "_________________________________________________________________\n",
            "conv2d_16 (Conv2D)           (None, 16, 16, 16)        1168      \n",
            "_________________________________________________________________\n",
            "max_pooling2d_5 (MaxPooling2 (None, 8, 8, 16)          0         \n",
            "_________________________________________________________________\n",
            "conv2d_17 (Conv2D)           (None, 8, 8, 32)          4640      \n",
            "_________________________________________________________________\n",
            "up_sampling2d_4 (UpSampling2 (None, 16, 16, 32)        0         \n",
            "_________________________________________________________________\n",
            "conv2d_18 (Conv2D)           (None, 16, 16, 16)        4624      \n",
            "_________________________________________________________________\n",
            "up_sampling2d_5 (UpSampling2 (None, 32, 32, 16)        0         \n",
            "_________________________________________________________________\n",
            "conv2d_19 (Conv2D)           (None, 32, 32, 8)         1160      \n",
            "_________________________________________________________________\n",
            "conv2d_20 (Conv2D)           (None, 32, 32, 1)         73        \n",
            "=================================================================\n",
            "Total params: 11,745\n",
            "Trainable params: 11,745\n",
            "Non-trainable params: 0\n",
            "_________________________________________________________________\n"
          ]
        }
      ]
    },
    {
      "cell_type": "code",
      "metadata": {
        "id": "v8PWyAfXmemg",
        "colab": {
          "base_uri": "https://localhost:8080/"
        },
        "outputId": "135da5eb-40ce-4631-e0da-91cac192007e"
      },
      "source": [
        "def pred_3_col_chan():\n",
        "  X_test_col = np.zeros(X_test.shape).reshape(6000, 32, 32, 3)\n",
        "  X_train_col = np.zeros(X_train.shape).reshape(48000, 32, 32, 3)\n",
        "\n",
        "  for i in range(3):\n",
        "    current_X = X_train[:,:,:,i]\n",
        "    current_X = current_X.reshape(48000, 32, 32, 1)\n",
        "    small_model_color.compile(\n",
        "      optimizer=keras.optimizers.Adam(learning_rate=1e-3),\n",
        "      loss=keras.losses.MeanSquaredError(),\n",
        "      metrics=[keras.metrics.MeanAbsoluteError(),\n",
        "              keras.metrics.CosineSimilarity(),\n",
        "              keras.metrics.Accuracy()])\n",
        "    # small_model_color.summary()\n",
        "\n",
        "    small_model_color.fit(X_train_bw, current_X, epochs=10, verbose=1)\n",
        "\n",
        "\n",
        "    curr_predictions_X_test = small_model_color.predict(X_test_bw, verbose=1)\n",
        "    curr_predictions_X_train = small_model_color.predict(X_train_bw, verbose=1)\n",
        "    X_test_col[:,:,:,i] = curr_predictions_X_test.reshape(6000, 32, 32)\n",
        "    X_train_col[:,:,:,i] = curr_predictions_X_train.reshape(48000, 32, 32)\n",
        "  return X_test_col, X_train_col\n",
        "X_test_col, X_train_col = pred_3_col_chan()"
      ],
      "execution_count": 16,
      "outputs": [
        {
          "output_type": "stream",
          "name": "stdout",
          "text": [
            "Epoch 1/10\n",
            "1500/1500 [==============================] - 14s 9ms/step - loss: 0.0091 - mean_absolute_error: 0.0706 - cosine_similarity: 0.9976 - accuracy: 2.6449e-07\n",
            "Epoch 2/10\n",
            "1500/1500 [==============================] - 13s 9ms/step - loss: 0.0090 - mean_absolute_error: 0.0701 - cosine_similarity: 0.9976 - accuracy: 2.2380e-07\n",
            "Epoch 3/10\n",
            "1500/1500 [==============================] - 13s 9ms/step - loss: 0.0089 - mean_absolute_error: 0.0697 - cosine_similarity: 0.9976 - accuracy: 1.6276e-07\n",
            "Epoch 4/10\n",
            "1500/1500 [==============================] - 13s 9ms/step - loss: 0.0089 - mean_absolute_error: 0.0696 - cosine_similarity: 0.9976 - accuracy: 1.8311e-07\n",
            "Epoch 5/10\n",
            "1500/1500 [==============================] - 13s 9ms/step - loss: 0.0088 - mean_absolute_error: 0.0693 - cosine_similarity: 0.9976 - accuracy: 3.4587e-07\n",
            "Epoch 6/10\n",
            "1500/1500 [==============================] - 13s 8ms/step - loss: 0.0088 - mean_absolute_error: 0.0690 - cosine_similarity: 0.9976 - accuracy: 3.2552e-07\n",
            "Epoch 7/10\n",
            "1500/1500 [==============================] - 13s 8ms/step - loss: 0.0087 - mean_absolute_error: 0.0688 - cosine_similarity: 0.9976 - accuracy: 1.8311e-07\n",
            "Epoch 8/10\n",
            "1500/1500 [==============================] - 13s 8ms/step - loss: 0.0087 - mean_absolute_error: 0.0684 - cosine_similarity: 0.9976 - accuracy: 2.0345e-07\n",
            "Epoch 9/10\n",
            "1500/1500 [==============================] - 13s 8ms/step - loss: 0.0086 - mean_absolute_error: 0.0683 - cosine_similarity: 0.9976 - accuracy: 1.6276e-07\n",
            "Epoch 10/10\n",
            "1500/1500 [==============================] - 13s 8ms/step - loss: 0.0086 - mean_absolute_error: 0.0681 - cosine_similarity: 0.9976 - accuracy: 2.6449e-07\n",
            "188/188 [==============================] - 1s 3ms/step\n",
            "1500/1500 [==============================] - 4s 3ms/step\n",
            "Epoch 1/10\n",
            "1500/1500 [==============================] - 13s 8ms/step - loss: 0.0041 - mean_absolute_error: 0.0467 - cosine_similarity: 0.9977 - accuracy: 4.2725e-07\n",
            "Epoch 2/10\n",
            "1500/1500 [==============================] - 13s 9ms/step - loss: 0.0040 - mean_absolute_error: 0.0462 - cosine_similarity: 0.9977 - accuracy: 4.8828e-07\n",
            "Epoch 3/10\n",
            "1500/1500 [==============================] - 13s 8ms/step - loss: 0.0040 - mean_absolute_error: 0.0459 - cosine_similarity: 0.9977 - accuracy: 2.8483e-07\n",
            "Epoch 4/10\n",
            "1500/1500 [==============================] - 13s 8ms/step - loss: 0.0039 - mean_absolute_error: 0.0457 - cosine_similarity: 0.9977 - accuracy: 2.8483e-07\n",
            "Epoch 5/10\n",
            "1500/1500 [==============================] - 13s 9ms/step - loss: 0.0039 - mean_absolute_error: 0.0455 - cosine_similarity: 0.9977 - accuracy: 4.2725e-07\n",
            "Epoch 6/10\n",
            "1500/1500 [==============================] - 13s 8ms/step - loss: 0.0039 - mean_absolute_error: 0.0452 - cosine_similarity: 0.9977 - accuracy: 3.8656e-07\n",
            "Epoch 7/10\n",
            "1500/1500 [==============================] - 13s 9ms/step - loss: 0.0039 - mean_absolute_error: 0.0453 - cosine_similarity: 0.9977 - accuracy: 4.4759e-07\n",
            "Epoch 8/10\n",
            "1500/1500 [==============================] - 13s 8ms/step - loss: 0.0038 - mean_absolute_error: 0.0451 - cosine_similarity: 0.9977 - accuracy: 5.0863e-07\n",
            "Epoch 9/10\n",
            "1500/1500 [==============================] - 13s 9ms/step - loss: 0.0038 - mean_absolute_error: 0.0448 - cosine_similarity: 0.9977 - accuracy: 4.4759e-07\n",
            "Epoch 10/10\n",
            "1500/1500 [==============================] - 13s 9ms/step - loss: 0.0038 - mean_absolute_error: 0.0448 - cosine_similarity: 0.9977 - accuracy: 4.2725e-07\n",
            "188/188 [==============================] - 1s 2ms/step\n",
            "1500/1500 [==============================] - 4s 3ms/step\n",
            "Epoch 1/10\n",
            "1500/1500 [==============================] - 13s 8ms/step - loss: 0.0089 - mean_absolute_error: 0.0700 - cosine_similarity: 0.9975 - accuracy: 2.6449e-07\n",
            "Epoch 2/10\n",
            "1500/1500 [==============================] - 13s 9ms/step - loss: 0.0086 - mean_absolute_error: 0.0689 - cosine_similarity: 0.9975 - accuracy: 2.0345e-07\n",
            "Epoch 3/10\n",
            "1500/1500 [==============================] - 13s 9ms/step - loss: 0.0085 - mean_absolute_error: 0.0685 - cosine_similarity: 0.9975 - accuracy: 2.0345e-07\n",
            "Epoch 4/10\n",
            "1500/1500 [==============================] - 13s 9ms/step - loss: 0.0085 - mean_absolute_error: 0.0685 - cosine_similarity: 0.9975 - accuracy: 1.8311e-07\n",
            "Epoch 5/10\n",
            "1500/1500 [==============================] - 13s 9ms/step - loss: 0.0085 - mean_absolute_error: 0.0683 - cosine_similarity: 0.9975 - accuracy: 4.2725e-07\n",
            "Epoch 6/10\n",
            "1500/1500 [==============================] - 13s 9ms/step - loss: 0.0085 - mean_absolute_error: 0.0684 - cosine_similarity: 0.9975 - accuracy: 2.4414e-07\n",
            "Epoch 7/10\n",
            "1500/1500 [==============================] - 13s 9ms/step - loss: 0.0084 - mean_absolute_error: 0.0683 - cosine_similarity: 0.9975 - accuracy: 1.6276e-07\n",
            "Epoch 8/10\n",
            "1500/1500 [==============================] - 13s 9ms/step - loss: 0.0084 - mean_absolute_error: 0.0681 - cosine_similarity: 0.9975 - accuracy: 1.6276e-07\n",
            "Epoch 9/10\n",
            "1500/1500 [==============================] - 13s 9ms/step - loss: 0.0084 - mean_absolute_error: 0.0681 - cosine_similarity: 0.9975 - accuracy: 1.4242e-07\n",
            "Epoch 10/10\n",
            "1500/1500 [==============================] - 13s 9ms/step - loss: 0.0084 - mean_absolute_error: 0.0680 - cosine_similarity: 0.9975 - accuracy: 3.0518e-07\n",
            "188/188 [==============================] - 1s 2ms/step\n",
            "1500/1500 [==============================] - 25s 3ms/step\n"
          ]
        }
      ]
    },
    {
      "cell_type": "code",
      "metadata": {
        "id": "WiGUWbXsWFCG",
        "colab": {
          "base_uri": "https://localhost:8080/",
          "height": 249
        },
        "outputId": "a1e72a83-2596-4eb8-ab82-5bf3f25a9293"
      },
      "source": [
        "img_compare(X_test[45], X_test_col[45])"
      ],
      "execution_count": 28,
      "outputs": [
        {
          "output_type": "stream",
          "name": "stderr",
          "text": [
            "/usr/local/lib/python3.7/dist-packages/ipykernel_launcher.py:4: MatplotlibDeprecationWarning: Adding an axes using the same arguments as a previous axes currently reuses the earlier instance.  In a future version, a new instance will always be created and returned.  Meanwhile, this warning can be suppressed, and the future behavior ensured, by passing a unique label to each axes instance.\n",
            "  after removing the cwd from sys.path.\n",
            "/usr/local/lib/python3.7/dist-packages/ipykernel_launcher.py:6: MatplotlibDeprecationWarning: Adding an axes using the same arguments as a previous axes currently reuses the earlier instance.  In a future version, a new instance will always be created and returned.  Meanwhile, this warning can be suppressed, and the future behavior ensured, by passing a unique label to each axes instance.\n",
            "  \n"
          ]
        },
        {
          "output_type": "display_data",
          "data": {
            "image/png": "[encoded data removed]",
            "text/plain": [
              "<Figure size 432x288 with 2 Axes>"
            ]
          },
          "metadata": {
            "needs_background": "light"
          }
        }
      ]
    },
    {
      "cell_type": "code",
      "metadata": {
        "id": "RcZJs97vbGuv",
        "outputId": "bdd35861-9cab-46b3-a0ee-ef1eccc9cc15",
        "colab": {
          "base_uri": "https://localhost:8080/"
        }
      },
      "source": [
        "model_test.compile(\n",
        "    optimizer=keras.optimizers.Adam(learning_rate=1e-3),\n",
        "    loss=keras.losses.MeanSquaredError(),\n",
        "    metrics=[keras.metrics.MeanAbsoluteError(),\n",
        "            keras.metrics.CosineSimilarity()])\n",
        "model_test.fit(X_train_col, X_train, epochs=10, verbose=1)\n",
        "predictions_recol_fin = model_test.predict(X_test_col, verbose=1)"
      ],
      "execution_count": 20,
      "outputs": [
        {
          "output_type": "stream",
          "name": "stdout",
          "text": [
            "Epoch 1/10\n",
            "1500/1500 [==============================] - 37s 24ms/step - loss: 0.0071 - mean_absolute_error: 0.0612 - cosine_similarity: 0.9798\n",
            "Epoch 2/10\n",
            "1500/1500 [==============================] - 36s 24ms/step - loss: 0.0068 - mean_absolute_error: 0.0599 - cosine_similarity: 0.9803\n",
            "Epoch 3/10\n",
            "1500/1500 [==============================] - 37s 24ms/step - loss: 0.0067 - mean_absolute_error: 0.0595 - cosine_similarity: 0.9804\n",
            "Epoch 4/10\n",
            "1500/1500 [==============================] - 36s 24ms/step - loss: 0.0067 - mean_absolute_error: 0.0593 - cosine_similarity: 0.9805\n",
            "Epoch 5/10\n",
            "1500/1500 [==============================] - 36s 24ms/step - loss: 0.0066 - mean_absolute_error: 0.0590 - cosine_similarity: 0.9806\n",
            "Epoch 6/10\n",
            "1500/1500 [==============================] - 36s 24ms/step - loss: 0.0066 - mean_absolute_error: 0.0588 - cosine_similarity: 0.9806\n",
            "Epoch 7/10\n",
            "1500/1500 [==============================] - 36s 24ms/step - loss: 0.0066 - mean_absolute_error: 0.0587 - cosine_similarity: 0.9806\n",
            "Epoch 8/10\n",
            "1500/1500 [==============================] - 36s 24ms/step - loss: 0.0065 - mean_absolute_error: 0.0586 - cosine_similarity: 0.9807\n",
            "Epoch 9/10\n",
            "1500/1500 [==============================] - 37s 24ms/step - loss: 0.0065 - mean_absolute_error: 0.0585 - cosine_similarity: 0.9807\n",
            "Epoch 10/10\n",
            "1500/1500 [==============================] - 36s 24ms/step - loss: 0.0065 - mean_absolute_error: 0.0584 - cosine_similarity: 0.9807\n",
            "188/188 [==============================] - 1s 6ms/step\n"
          ]
        }
      ]
    },
    {
      "cell_type": "code",
      "metadata": {
        "id": "ASmIkKD85Ri0",
        "outputId": "9cb3482e-017f-4a38-afb6-8cbf69a4a9b1",
        "colab": {
          "base_uri": "https://localhost:8080/",
          "height": 249
        }
      },
      "source": [
        "img_compare(X_test[0], predictions_recol_fin[0])"
      ],
      "execution_count": 21,
      "outputs": [
        {
          "output_type": "stream",
          "name": "stderr",
          "text": [
            "/usr/local/lib/python3.7/dist-packages/ipykernel_launcher.py:4: MatplotlibDeprecationWarning: Adding an axes using the same arguments as a previous axes currently reuses the earlier instance.  In a future version, a new instance will always be created and returned.  Meanwhile, this warning can be suppressed, and the future behavior ensured, by passing a unique label to each axes instance.\n",
            "  after removing the cwd from sys.path.\n",
            "/usr/local/lib/python3.7/dist-packages/ipykernel_launcher.py:6: MatplotlibDeprecationWarning: Adding an axes using the same arguments as a previous axes currently reuses the earlier instance.  In a future version, a new instance will always be created and returned.  Meanwhile, this warning can be suppressed, and the future behavior ensured, by passing a unique label to each axes instance.\n",
            "  \n"
          ]
        },
        {
          "output_type": "display_data",
          "data": {
            "image/png": "[encoded data removed]",
            "text/plain": [
              "<Figure size 432x288 with 2 Axes>"
            ]
          },
          "metadata": {
            "needs_background": "light"
          }
        }
      ]
    },
    {
      "cell_type": "code",
      "metadata": {
        "id": "EIgpV3gGcZCS",
        "colab": {
          "base_uri": "https://localhost:8080/"
        },
        "outputId": "b1145232-adea-4b98-da03-3dde2049924f"
      },
      "source": [
        "X_train[0,:,:,0].shape"
      ],
      "execution_count": null,
      "outputs": [
        {
          "output_type": "execute_result",
          "data": {
            "text/plain": [
              "(32, 32)"
            ]
          },
          "metadata": {},
          "execution_count": 130
        }
      ]
    },
    {
      "cell_type": "code",
      "metadata": {
        "id": "iYCmSv-aflMp",
        "colab": {
          "base_uri": "https://localhost:8080/",
          "height": 281
        },
        "outputId": "b3731240-141d-47f4-d1b5-8485e331d89c"
      },
      "source": [
        "plt.imshow(np.zeros((10,10)), cmap='Greens')"
      ],
      "execution_count": null,
      "outputs": [
        {
          "output_type": "execute_result",
          "data": {
            "text/plain": [
              "<matplotlib.image.AxesImage at 0x7f24ab8b3dd0>"
            ]
          },
          "metadata": {},
          "execution_count": 138
        },
        {
          "output_type": "display_data",
          "data": {
            "image/png": "[encoded data removed]",
            "text/plain": [
              "<Figure size 432x288 with 1 Axes>"
            ]
          },
          "metadata": {
            "needs_background": "light"
          }
        }
      ]
    },
    {
      "cell_type": "code",
      "metadata": {
        "id": "0z7Y_7y3kYV7"
      },
      "source": [
        ""
      ],
      "execution_count": null,
      "outputs": []
    }
  ]
}