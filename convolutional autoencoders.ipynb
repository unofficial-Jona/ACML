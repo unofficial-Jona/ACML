{
 "cells": [
  {
   "cell_type": "code",
   "execution_count": 1,
   "metadata": {},
   "outputs": [
    {
     "name": "stderr",
     "output_type": "stream",
     "text": [
      "In /Users/jonathanaechtner/opt/anaconda3/lib/python3.8/site-packages/matplotlib/mpl-data/stylelib/_classic_test.mplstyle: \n",
      "The text.latex.preview rcparam was deprecated in Matplotlib 3.3 and will be removed two minor releases later.\n",
      "In /Users/jonathanaechtner/opt/anaconda3/lib/python3.8/site-packages/matplotlib/mpl-data/stylelib/_classic_test.mplstyle: \n",
      "The mathtext.fallback_to_cm rcparam was deprecated in Matplotlib 3.3 and will be removed two minor releases later.\n",
      "In /Users/jonathanaechtner/opt/anaconda3/lib/python3.8/site-packages/matplotlib/mpl-data/stylelib/_classic_test.mplstyle: Support for setting the 'mathtext.fallback_to_cm' rcParam is deprecated since 3.3 and will be removed two minor releases later; use 'mathtext.fallback : 'cm' instead.\n",
      "In /Users/jonathanaechtner/opt/anaconda3/lib/python3.8/site-packages/matplotlib/mpl-data/stylelib/_classic_test.mplstyle: \n",
      "The validate_bool_maybe_none function was deprecated in Matplotlib 3.3 and will be removed two minor releases later.\n",
      "In /Users/jonathanaechtner/opt/anaconda3/lib/python3.8/site-packages/matplotlib/mpl-data/stylelib/_classic_test.mplstyle: \n",
      "The savefig.jpeg_quality rcparam was deprecated in Matplotlib 3.3 and will be removed two minor releases later.\n",
      "In /Users/jonathanaechtner/opt/anaconda3/lib/python3.8/site-packages/matplotlib/mpl-data/stylelib/_classic_test.mplstyle: \n",
      "The keymap.all_axes rcparam was deprecated in Matplotlib 3.3 and will be removed two minor releases later.\n",
      "In /Users/jonathanaechtner/opt/anaconda3/lib/python3.8/site-packages/matplotlib/mpl-data/stylelib/_classic_test.mplstyle: \n",
      "The animation.avconv_path rcparam was deprecated in Matplotlib 3.3 and will be removed two minor releases later.\n",
      "In /Users/jonathanaechtner/opt/anaconda3/lib/python3.8/site-packages/matplotlib/mpl-data/stylelib/_classic_test.mplstyle: \n",
      "The animation.avconv_args rcparam was deprecated in Matplotlib 3.3 and will be removed two minor releases later.\n"
     ]
    }
   ],
   "source": [
    "import tensorflow as tf\n",
    "from tensorflow import keras\n",
    "from keras import layers\n",
    "from keras.models import Sequential\n",
    "from keras.layers import Conv2D, MaxPooling2D, UpSampling2D, Input\n",
    "from tensorflow.keras import layers\n",
    "import numpy as np\n",
    "from sklearn.model_selection import train_test_split\n",
    "import matplotlib.pyplot as plt"
   ]
  },
  {
   "cell_type": "markdown",
   "metadata": {},
   "source": [
    "# Building the model"
   ]
  },
  {
   "cell_type": "code",
   "execution_count": 2,
   "metadata": {},
   "outputs": [
    {
     "data": {
      "text/plain": [
       "Text(0.5, 1.0, 'Shape: (32, 32, 3)')"
      ]
     },
     "execution_count": 2,
     "metadata": {},
     "output_type": "execute_result"
    },
    {
     "data": {
      "image/png": "[encoded data removed]",
      "text/plain": [
       "<Figure size 432x288 with 1 Axes>"
      ]
     },
     "metadata": {
      "needs_background": "light"
     },
     "output_type": "display_data"
    }
   ],
   "source": [
    "# load data and split it into Test, train and validation sets\n",
    "\n",
    "(X_1, y_1), (X_2, y_2) = tf.keras.datasets.cifar10.load_data()\n",
    "X = np.vstack((X_1, X_2))\n",
    "y = np.vstack((y_1, y_2))\n",
    "X_train, X, y_train, y = train_test_split(X, y, train_size=0.8, stratify=y)\n",
    "X_test, X_valid, y_test, y_valid = train_test_split(X, y, test_size=0.5, stratify=y)\n",
    "\n",
    "assert X_test.shape == X_valid.shape, 'X_test and X_valid have different shapes'\n",
    "for i in range(10):\n",
    "    assert np.count_nonzero(keras.utils.to_categorical(y_train)[:, i]) == 4800 , 'Sample is not stratified'\n",
    "sample_shape = X_train[0].shape\n",
    "plt.imshow(X_train[1])\n",
    "plt.title(f'Shape: {sample_shape}')"
   ]
  },
  {
   "cell_type": "code",
   "execution_count": 3,
   "metadata": {},
   "outputs": [],
   "source": [
    "# normalize the data\n",
    "# it would be better to use keras.utils.normalize for this, but then it would be impossible to de-normalize the data\n",
    "\n",
    "X_train = X_train/255\n",
    "X_valid = X_valid/255\n",
    "X_test = X_test/255"
   ]
  },
  {
   "cell_type": "code",
   "execution_count": 6,
   "metadata": {},
   "outputs": [
    {
     "name": "stdout",
     "output_type": "stream",
     "text": [
      "Model: \"sequential_2\"\n",
      "_________________________________________________________________\n",
      "Layer (type)                 Output Shape              Param #   \n",
      "=================================================================\n",
      "conv2d_6 (Conv2D)            (None, 32, 32, 8)         224       \n",
      "_________________________________________________________________\n",
      "max_pooling2d_2 (MaxPooling2 (None, 16, 16, 8)         0         \n",
      "_________________________________________________________________\n",
      "conv2d_7 (Conv2D)            (None, 16, 16, 12)        876       \n",
      "_________________________________________________________________\n",
      "max_pooling2d_3 (MaxPooling2 (None, 8, 8, 12)          0         \n",
      "_________________________________________________________________\n",
      "conv2d_8 (Conv2D)            (None, 8, 8, 16)          1744      \n",
      "_________________________________________________________________\n",
      "up_sampling2d_2 (UpSampling2 (None, 16, 16, 16)        0         \n",
      "_________________________________________________________________\n",
      "conv2d_9 (Conv2D)            (None, 16, 16, 12)        1740      \n",
      "_________________________________________________________________\n",
      "up_sampling2d_3 (UpSampling2 (None, 32, 32, 12)        0         \n",
      "_________________________________________________________________\n",
      "conv2d_10 (Conv2D)           (None, 32, 32, 3)         327       \n",
      "=================================================================\n",
      "Total params: 4,911\n",
      "Trainable params: 4,911\n",
      "Non-trainable params: 0\n",
      "_________________________________________________________________\n"
     ]
    }
   ],
   "source": [
    "# build the model\n",
    "\n",
    "model = Sequential()\n",
    "model.add(Input(shape=sample_shape))\n",
    "model.add(Conv2D(8, kernel_size = (3,3), padding='same',  activation='relu'))\n",
    "model.add(MaxPooling2D(pool_size = (2,2)))\n",
    "model.add(Conv2D(12, kernel_size = (3,3), padding='same', activation='relu'))\n",
    "model.add(MaxPooling2D(pool_size = (2,2)))\n",
    "model.add(Conv2D(16, kernel_size = (3,3), padding='same', activation='relu'))\n",
    "model.add(UpSampling2D(size=(2,2)))\n",
    "model.add(Conv2D(12,kernel_size = (3,3), padding='same', activation='relu'))\n",
    "model.add(UpSampling2D())\n",
    "model.add(Conv2D(3,(3,3), padding='same', activation='relu'))\n",
    "\n",
    "\n",
    "# compile the model\n",
    "model.compile(\n",
    "    optimizer=keras.optimizers.Adam(learning_rate=1e-3),\n",
    "    loss=keras.losses.MeanSquaredError(),\n",
    "    metrics=[keras.metrics.MeanAbsoluteError(),\n",
    "            keras.metrics.CosineSimilarity()])\n",
    "\n",
    "model.summary()"
   ]
  },
  {
   "cell_type": "code",
   "execution_count": 7,
   "metadata": {},
   "outputs": [
    {
     "name": "stderr",
     "output_type": "stream",
     "text": [
      "2021-11-04 20:34:52.752972: I tensorflow/compiler/mlir/mlir_graph_optimization_pass.cc:185] None of the MLIR Optimization Passes are enabled (registered 2)\n"
     ]
    },
    {
     "name": "stdout",
     "output_type": "stream",
     "text": [
      "Epoch 1/10\n",
      "1500/1500 [==============================] - 50s 33ms/step - loss: 0.0118 - mean_absolute_error: 0.0738 - cosine_similarity: 0.9839 - val_loss: 0.0064 - val_mean_absolute_error: 0.0572 - val_cosine_similarity: 0.9896\n",
      "Epoch 2/10\n",
      "1500/1500 [==============================] - 50s 33ms/step - loss: 0.0058 - mean_absolute_error: 0.0543 - cosine_similarity: 0.9906 - val_loss: 0.0054 - val_mean_absolute_error: 0.0521 - val_cosine_similarity: 0.9903\n",
      "Epoch 3/10\n",
      "1500/1500 [==============================] - 51s 34ms/step - loss: 0.0051 - mean_absolute_error: 0.0508 - cosine_similarity: 0.9910 - val_loss: 0.0050 - val_mean_absolute_error: 0.0505 - val_cosine_similarity: 0.9909\n",
      "Epoch 4/10\n",
      "1500/1500 [==============================] - 50s 34ms/step - loss: 0.0048 - mean_absolute_error: 0.0489 - cosine_similarity: 0.9913 - val_loss: 0.0047 - val_mean_absolute_error: 0.0481 - val_cosine_similarity: 0.9905\n",
      "Epoch 5/10\n",
      "1500/1500 [==============================] - 53s 35ms/step - loss: 0.0045 - mean_absolute_error: 0.0475 - cosine_similarity: 0.9914 - val_loss: 0.0044 - val_mean_absolute_error: 0.0468 - val_cosine_similarity: 0.9908\n",
      "Epoch 6/10\n",
      "1500/1500 [==============================] - 54s 36ms/step - loss: 0.0044 - mean_absolute_error: 0.0466 - cosine_similarity: 0.9917 - val_loss: 0.0045 - val_mean_absolute_error: 0.0479 - val_cosine_similarity: 0.9904\n",
      "Epoch 7/10\n",
      "1500/1500 [==============================] - 55s 37ms/step - loss: 0.0042 - mean_absolute_error: 0.0457 - cosine_similarity: 0.9920 - val_loss: 0.0042 - val_mean_absolute_error: 0.0453 - val_cosine_similarity: 0.9917\n",
      "Epoch 8/10\n",
      "1500/1500 [==============================] - 56s 37ms/step - loss: 0.0041 - mean_absolute_error: 0.0451 - cosine_similarity: 0.9922 - val_loss: 0.0041 - val_mean_absolute_error: 0.0449 - val_cosine_similarity: 0.9923\n",
      "Epoch 9/10\n",
      "1500/1500 [==============================] - 56s 38ms/step - loss: 0.0040 - mean_absolute_error: 0.0445 - cosine_similarity: 0.9923 - val_loss: 0.0041 - val_mean_absolute_error: 0.0447 - val_cosine_similarity: 0.9913\n",
      "Epoch 10/10\n",
      "1500/1500 [==============================] - 55s 37ms/step - loss: 0.0039 - mean_absolute_error: 0.0440 - cosine_similarity: 0.9924 - val_loss: 0.0040 - val_mean_absolute_error: 0.0443 - val_cosine_similarity: 0.9911\n"
     ]
    }
   ],
   "source": [
    "# train the model\n",
    "history = model.fit(X_train, X_train, validation_data=(X_valid, X_valid), epochs=10, verbose=1, use_multiprocessing=True)"
   ]
  },
  {
   "cell_type": "code",
   "execution_count": 8,
   "metadata": {},
   "outputs": [
    {
     "name": "stdout",
     "output_type": "stream",
     "text": [
      "1500/1500 [==============================] - 14s 9ms/step - loss: 0.0039 - mean_absolute_error: 0.0441 - cosine_similarity: 0.9917\n"
     ]
    },
    {
     "data": {
      "text/plain": [
       "[0.00394122488796711, 0.044128526002168655, 0.991692304611206]"
      ]
     },
     "execution_count": 8,
     "metadata": {},
     "output_type": "execute_result"
    }
   ],
   "source": [
    "model.evaluate(X_train, X_train)\n"
   ]
  },
  {
   "cell_type": "code",
   "execution_count": 9,
   "metadata": {},
   "outputs": [
    {
     "name": "stderr",
     "output_type": "stream",
     "text": [
      "Clipping input data to the valid range for imshow with RGB data ([0..1] for floats or [0..255] for integers).\n"
     ]
    },
    {
     "data": {
      "image/png": "[encoded data removed]",
      "text/plain": [
       "<Figure size 432x288 with 2 Axes>"
      ]
     },
     "metadata": {
      "needs_background": "light"
     },
     "output_type": "display_data"
    }
   ],
   "source": [
    "def plot_img_compare(model, data, img_nr):\n",
    "    \"\"\"Plot original image next to predicted image \n",
    "\n",
    "    Args:\n",
    "        model (model accepting.predict() method): the model to predict\n",
    "        data (np.array): the whole data stack\n",
    "        img_nr (int): the index of to use for image plot.\n",
    "    \"\"\"\n",
    "    assert type(img_nr) == int, 'wrong dtype for img_nr'\n",
    "    predictions = model.predict(data)\n",
    "    pred_img = predictions[img_nr]\n",
    "    plt.subplot(221).imshow(data[img_nr])\n",
    "    plt.subplot(221).set_title(f'original img: {data[img_nr].shape}')\n",
    "    plt.subplot(222).imshow(pred_img)\n",
    "    plt.subplot(222).set_title(f'predict img: {predictions[img_nr].shape}')\n",
    "    plt.show()\n",
    "# plot_img_compare(model, X_train[0])\n",
    "\n",
    "plot_img_compare(model, X_test, 1)"
   ]
  },
  {
   "cell_type": "code",
   "execution_count": null,
   "metadata": {},
   "outputs": [],
   "source": [
    "# load a pretrained model\n",
    "\n",
    "def load_model(path = 'models/CAE'):\n",
    "    return keras.models.load_model(path)\n",
    "\n",
    "\n",
    "pretrained_model = load_model()"
   ]
  },
  {
   "cell_type": "markdown",
   "metadata": {},
   "source": []
  }
 ],
 "metadata": {
  "interpreter": {
   "hash": "ddda031869fb8ce91032b63195a611ad81bb421fc11bd1c32a8661751b914dac"
  },
  "kernelspec": {
   "display_name": "Python 3.8.11 64-bit ('base': conda)",
   "name": "python3"
  },
  "language_info": {
   "codemirror_mode": {
    "name": "ipython",
    "version": 3
   },
   "file_extension": ".py",
   "mimetype": "text/x-python",
   "name": "python",
   "nbconvert_exporter": "python",
   "pygments_lexer": "ipython3",
   "version": "3.8.11"
  },
  "orig_nbformat": 4
 },
 "nbformat": 4,
 "nbformat_minor": 2
}
