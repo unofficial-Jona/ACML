{
  "nbformat": 4,
  "nbformat_minor": 0,
  "metadata": {
    "interpreter": {
      "hash": "ddda031869fb8ce91032b63195a611ad81bb421fc11bd1c32a8661751b914dac"
    },
    "kernelspec": {
      "display_name": "Python 3.8.11 64-bit ('base': conda)",
      "name": "python3"
    },
    "language_info": {
      "codemirror_mode": {
        "name": "ipython",
        "version": 3
      },
      "file_extension": ".py",
      "mimetype": "text/x-python",
      "name": "python",
      "nbconvert_exporter": "python",
      "pygments_lexer": "ipython3",
      "version": "3.8.11"
    },
    "orig_nbformat": 4,
    "colab": {
      "name": "convolutional autoencoders.ipynb",
      "provenance": [],
      "toc_visible": true
    },
    "accelerator": "GPU"
  },
  "cells": [
    {
      "cell_type": "code",
      "metadata": {
        "id": "ofBRmadJEOeu"
      },
      "source": [
        "import tensorflow as tf\n",
        "from tensorflow import keras\n",
        "from keras import layers\n",
        "from keras.models import Sequential\n",
        "from keras.layers import Conv2D, MaxPooling2D, UpSampling2D, Input\n",
        "from tensorflow.keras import layers\n",
        "import numpy as np\n",
        "from sklearn.model_selection import train_test_split\n",
        "import matplotlib.pyplot as plt\n",
        "from PIL import Image"
      ],
      "execution_count": 1,
      "outputs": []
    },
    {
      "cell_type": "markdown",
      "metadata": {
        "id": "fs3610g4EOew"
      },
      "source": [
        "# Experiment 1\n"
      ]
    },
    {
      "cell_type": "code",
      "metadata": {
        "colab": {
          "base_uri": "https://localhost:8080/",
          "height": 297
        },
        "id": "vZbgIJzjEOex",
        "outputId": "4ee85475-685d-4429-e76d-0795dcaeeec1"
      },
      "source": [
        "# load data and split it into Test, train and validation sets\n",
        "\n",
        "(X_1, y_1), (X_2, y_2) = tf.keras.datasets.cifar10.load_data()\n",
        "X = np.vstack((X_1, X_2))\n",
        "y = np.vstack((y_1, y_2))\n",
        "X_train, X, y_train, y = train_test_split(X, y, train_size=0.8, stratify=y)\n",
        "X_test, X_valid, y_test, y_valid = train_test_split(X, y, test_size=0.5, stratify=y)\n",
        "\n",
        "assert X_test.shape == X_valid.shape, 'X_test and X_valid have different shapes'\n",
        "for i in range(10):\n",
        "    assert np.count_nonzero(keras.utils.to_categorical(y_train)[:, i]) == 4800 , 'Sample is not stratified'\n",
        "sample_shape = X_train[0].shape\n",
        "plt.imshow(X_train[1])\n",
        "plt.title(f'Shape: {sample_shape}')"
      ],
      "execution_count": 2,
      "outputs": [
        {
          "output_type": "execute_result",
          "data": {
            "text/plain": [
              "Text(0.5, 1.0, 'Shape: (32, 32, 3)')"
            ]
          },
          "metadata": {},
          "execution_count": 2
        },
        {
          "output_type": "display_data",
          "data": {
            "image/png": "[encoded data removed]",
            "text/plain": [
              "<Figure size 432x288 with 1 Axes>"
            ]
          },
          "metadata": {
            "needs_background": "light"
          }
        }
      ]
    },
    {
      "cell_type": "code",
      "metadata": {
        "id": "qOHLkgmIEOey"
      },
      "source": [
        "# normalize the data\n",
        "# it would be better to use keras.utils.normalize for this, but then it would be impossible to de-normalize the data\n",
        "\n",
        "X_train = X_train/255\n",
        "X_valid = X_valid/255\n",
        "X_test = X_test/255"
      ],
      "execution_count": 3,
      "outputs": []
    },
    {
      "cell_type": "code",
      "metadata": {
        "colab": {
          "base_uri": "https://localhost:8080/"
        },
        "id": "XY7eM8eREOez",
        "outputId": "895cd6bb-7c8a-4755-efc4-613a25c906b3"
      },
      "source": [
        "# build the model\n",
        "\n",
        "model = Sequential()\n",
        "model.add(Input(shape=sample_shape))\n",
        "model.add(Conv2D(8, kernel_size = (3,3), padding='same',  activation='relu'))\n",
        "model.add(MaxPooling2D(pool_size = (2,2)))\n",
        "model.add(Conv2D(12, kernel_size = (3,3), padding='same', activation='relu'))\n",
        "model.add(MaxPooling2D(pool_size = (2,2)))\n",
        "model.add(Conv2D(16, kernel_size = (3,3), padding='same', activation='relu'))\n",
        "model.add(UpSampling2D(size=(2,2)))\n",
        "model.add(Conv2D(12,kernel_size = (3,3), padding='same', activation='relu'))\n",
        "model.add(UpSampling2D())\n",
        "model.add(Conv2D(3,(3,3), padding='same', activation='relu'))\n",
        "\n",
        "\n",
        "# compile the model\n",
        "model.compile(\n",
        "    optimizer=keras.optimizers.Adam(learning_rate=1e-3),\n",
        "    loss=keras.losses.MeanSquaredError(),\n",
        "    metrics=[keras.metrics.MeanAbsoluteError(),\n",
        "            keras.metrics.CosineSimilarity()])\n",
        "\n",
        "model.summary()"
      ],
      "execution_count": 4,
      "outputs": [
        {
          "output_type": "stream",
          "name": "stdout",
          "text": [
            "Model: \"sequential\"\n",
            "_________________________________________________________________\n",
            "Layer (type)                 Output Shape              Param #   \n",
            "=================================================================\n",
            "conv2d (Conv2D)              (None, 32, 32, 8)         224       \n",
            "_________________________________________________________________\n",
            "max_pooling2d (MaxPooling2D) (None, 16, 16, 8)         0         \n",
            "_________________________________________________________________\n",
            "conv2d_1 (Conv2D)            (None, 16, 16, 12)        876       \n",
            "_________________________________________________________________\n",
            "max_pooling2d_1 (MaxPooling2 (None, 8, 8, 12)          0         \n",
            "_________________________________________________________________\n",
            "conv2d_2 (Conv2D)            (None, 8, 8, 16)          1744      \n",
            "_________________________________________________________________\n",
            "up_sampling2d (UpSampling2D) (None, 16, 16, 16)        0         \n",
            "_________________________________________________________________\n",
            "conv2d_3 (Conv2D)            (None, 16, 16, 12)        1740      \n",
            "_________________________________________________________________\n",
            "up_sampling2d_1 (UpSampling2 (None, 32, 32, 12)        0         \n",
            "_________________________________________________________________\n",
            "conv2d_4 (Conv2D)            (None, 32, 32, 3)         327       \n",
            "=================================================================\n",
            "Total params: 4,911\n",
            "Trainable params: 4,911\n",
            "Non-trainable params: 0\n",
            "_________________________________________________________________\n"
          ]
        }
      ]
    },
    {
      "cell_type": "code",
      "metadata": {
        "id": "cBN1BetoEOe0"
      },
      "source": [
        "# train the model\n",
        "history = model.fit(X_train, X_train, validation_data=(X_valid, X_valid), epochs=10, verbose=1, use_multiprocessing=True)"
      ],
      "execution_count": null,
      "outputs": []
    },
    {
      "cell_type": "code",
      "metadata": {
        "id": "avBdguu4EOe1"
      },
      "source": [
        "model.evaluate(X_test, X_test)\n"
      ],
      "execution_count": null,
      "outputs": []
    },
    {
      "cell_type": "code",
      "metadata": {
        "id": "y_YwEJEXEOe1"
      },
      "source": [
        "predictions = model.predict(X_train, verbose=1)"
      ],
      "execution_count": null,
      "outputs": []
    },
    {
      "cell_type": "code",
      "metadata": {
        "id": "pnb6yCg6EOe2"
      },
      "source": [
        "def plot_img_compare(model, data, img_nr):\n",
        "    \"\"\"Plot original image next to predicted image \n",
        "\n",
        "    Args:\n",
        "        model (model accepting.predict() method): the model to predict\n",
        "        data (np.array): the whole data stack\n",
        "        img_nr (int): the index of to use for image plot.\n",
        "    \"\"\"\n",
        "    assert type(img_nr) == int, 'wrong dtype for img_nr'\n",
        "    predictions = model.predict(data)\n",
        "    pred_img = predictions[img_nr]\n",
        "    plt.subplot(221).imshow(data[img_nr])\n",
        "    plt.subplot(221).set_title(f'original img: {data[img_nr].shape}')\n",
        "    plt.subplot(222).imshow(pred_img)\n",
        "    plt.subplot(222).set_title(f'predict img: {predictions[img_nr].shape}')\n",
        "    plt.show()\n",
        "\n",
        "plot_img_compare(model, X_test, 1)"
      ],
      "execution_count": null,
      "outputs": []
    },
    {
      "cell_type": "code",
      "metadata": {
        "id": "5EuHmdoLEOe4"
      },
      "source": [
        "def save_model(model, path = 'models/CAE'):\n",
        "    model.save(path)\n",
        "def load_model(path = 'models/CAE'):\n",
        "    return keras.models.load_model(path)\n",
        "model = load_model()"
      ],
      "execution_count": null,
      "outputs": []
    },
    {
      "cell_type": "markdown",
      "metadata": {
        "id": "VM7s67jGEbcq"
      },
      "source": [
        "## stuff"
      ]
    },
    {
      "cell_type": "markdown",
      "metadata": {
        "id": "k7_Pp8P-Eg_W"
      },
      "source": [
        "### learn seperate model for greyscale and model for combination of color and grayscale"
      ]
    },
    {
      "cell_type": "code",
      "metadata": {
        "id": "iSmALk85EOe4"
      },
      "source": [
        "# learn model for b-w version of the images\n",
        "\n",
        "to_grayscale = lambda x: x[:,:,:,0]/3 + x[:,:,:,1]/3 + x[:,:,:,2]/3\n",
        "\n",
        "X_train_bw = to_grayscale(X_train)\n",
        "X_test_bw = to_grayscale(X_test)\n",
        "X_valid_bw = to_grayscale(X_valid)"
      ],
      "execution_count": 8,
      "outputs": []
    },
    {
      "cell_type": "code",
      "metadata": {
        "id": "avIXkHyIEOe5"
      },
      "source": [
        "X_train_bw = X_train_bw[:,:,:,np.newaxis]\n",
        "X_test_bw = X_test_bw[:,:,:,np.newaxis]\n",
        "X_valid_bw = X_valid_bw[:,:,:,np.newaxis]\n"
      ],
      "execution_count": 9,
      "outputs": []
    },
    {
      "cell_type": "code",
      "metadata": {
        "id": "aT93fElnEOe6"
      },
      "source": [
        "def comp_rgb_bw(rgb_img, gray_img):\n",
        "    plt.subplot(221).imshow(rgb_img)\n",
        "    plt.subplot(221).set_title(f'original img: {rgb_img.shape}')\n",
        "    plt.subplot(222).imshow(gray_img, cmap='gray')\n",
        "    plt.subplot(222).set_title(f'predict img: {gray_img.shape}')\n",
        "    plt.show()\n",
        "comp_rgb_bw(X_train[0], X_train_bw[0])"
      ],
      "execution_count": null,
      "outputs": []
    },
    {
      "cell_type": "code",
      "metadata": {
        "id": "k6qj9ERREOe7"
      },
      "source": [
        "# build the model_bw\n",
        "\n",
        "model_bw = Sequential()\n",
        "model_bw.add(Input(shape=X_train_bw[0].shape))\n",
        "model_bw.add(Conv2D(8, kernel_size = (3,3), padding='same',  activation='relu'))\n",
        "model_bw.add(Conv2D(12, kernel_size = (3,3), padding='same',  activation='relu'))\n",
        "model_bw.add(MaxPooling2D(pool_size = (2,2)))\n",
        "model_bw.add(Conv2D(16, kernel_size = (3,3), padding='same', activation='relu'))\n",
        "model_bw.add(MaxPooling2D(pool_size = (2,2)))\n",
        "model_bw.add(Conv2D(32, kernel_size = (3,3), padding='same', activation='relu'))\n",
        "model_bw.add(Conv2D(32, kernel_size = (3,3), padding='same', activation='relu'))\n",
        "model_bw.add(UpSampling2D(size=(2,2)))\n",
        "model_bw.add(Conv2D(16,kernel_size = (3,3), padding='same', activation='relu'))\n",
        "model_bw.add(UpSampling2D())\n",
        "model_bw.add(Conv2D(12,kernel_size = (3,3), padding='same', activation='relu'))\n",
        "model_bw.add(UpSampling2D())\n",
        "model_bw.add(Conv2D(6,kernel_size = (3,3), padding='same', activation='relu'))\n",
        "model_bw.add(MaxPooling2D(pool_size = (2,2)))\n",
        "model_bw.add(Conv2D(1,(3,3), padding='same', activation='relu'))\n",
        "\n",
        "\n",
        "# compile the model_bw\n",
        "model_bw.compile(\n",
        "    optimizer=keras.optimizers.Adam(learning_rate=1e-3),\n",
        "    loss=keras.losses.MeanSquaredError(),\n",
        "    metrics=[keras.metrics.MeanAbsoluteError(),\n",
        "            keras.metrics.CosineSimilarity()])\n",
        "\n",
        "model_bw.summary()"
      ],
      "execution_count": null,
      "outputs": []
    },
    {
      "cell_type": "code",
      "metadata": {
        "id": "LFkBfLEvEOe8",
        "outputId": "9692246c-c062-4a89-a56b-9e3442a8e77b"
      },
      "source": [
        "history_bw = model_bw.fit(X_train_bw, X_train_bw, epochs=7, validation_data=(X_valid_bw, X_valid_bw), verbose=1, use_multiprocessing=True)"
      ],
      "execution_count": null,
      "outputs": [
        {
          "name": "stdout",
          "output_type": "stream",
          "text": [
            "Epoch 1/2\n",
            "1500/1500 [==============================] - 175s 116ms/step - loss: 0.0083 - mean_absolute_error: 0.0575 - cosine_similarity: 0.9980 - val_loss: 0.0038 - val_mean_absolute_error: 0.0434 - val_cosine_similarity: 0.9986\n",
            "Epoch 2/2\n",
            "1500/1500 [==============================] - 176s 117ms/step - loss: 0.0035 - mean_absolute_error: 0.0413 - cosine_similarity: 0.9977 - val_loss: 0.0034 - val_mean_absolute_error: 0.0414 - val_cosine_similarity: 0.9961\n"
          ]
        }
      ]
    },
    {
      "cell_type": "code",
      "metadata": {
        "id": "DntU0H0XEOe9",
        "outputId": "8e5dbeff-cd7c-41c5-926d-fc854991863d"
      },
      "source": [
        "model_bw.evaluate(X_test_bw, X_test_bw)"
      ],
      "execution_count": null,
      "outputs": [
        {
          "name": "stdout",
          "output_type": "stream",
          "text": [
            "188/188 [==============================] - 5s 27ms/step - loss: 0.0034 - mean_absolute_error: 0.0416 - cosine_similarity: 0.9970\n"
          ]
        },
        {
          "data": {
            "text/plain": [
              "[0.003407752141356468, 0.041581299155950546, 0.996958315372467]"
            ]
          },
          "execution_count": 46,
          "metadata": {},
          "output_type": "execute_result"
        }
      ]
    },
    {
      "cell_type": "code",
      "metadata": {
        "id": "17EmNzViEOe9"
      },
      "source": [
        "predictions_bw = model_bw.predict(X_train_bw, verbose=1)"
      ],
      "execution_count": null,
      "outputs": []
    },
    {
      "cell_type": "code",
      "metadata": {
        "id": "Sg2wENd1EOe-"
      },
      "source": [
        "predictions_bw.shape\n",
        "X_train_comb = np.concatenate((predictions, predictions_bw),3)"
      ],
      "execution_count": null,
      "outputs": []
    },
    {
      "cell_type": "code",
      "metadata": {
        "id": "x9fXTGGXEOe-",
        "outputId": "ea7cb4d8-a3dc-4b27-e816-f746951ebcdf"
      },
      "source": [
        "# build model_comb for combination of prediction model_comb\n",
        "\n",
        "model_comb = Sequential()\n",
        "model_comb.add(Input(shape=X_train_comb[0].shape))\n",
        "model_comb.add(Conv2D(8, kernel_size = (3,3), padding='same',  activation='relu'))\n",
        "model_comb.add(MaxPooling2D(pool_size = (2,2)))\n",
        "model_comb.add(Conv2D(12, kernel_size = (3,3), padding='same', activation='relu'))\n",
        "model_comb.add(MaxPooling2D(pool_size = (2,2)))\n",
        "model_comb.add(Conv2D(16, kernel_size = (3,3), padding='same', activation='relu'))\n",
        "model_comb.add(UpSampling2D(size=(2,2)))\n",
        "model_comb.add(Conv2D(12,kernel_size = (3,3), padding='same', activation='relu'))\n",
        "model_comb.add(UpSampling2D())\n",
        "model_comb.add(Conv2D(3,(3,3), padding='same', activation='relu'))\n",
        "\n",
        "\n",
        "# compile the model_comb\n",
        "model_comb.compile(\n",
        "    optimizer=keras.optimizers.Adam(learning_rate=1e-3),\n",
        "    loss=keras.losses.MeanSquaredError(),\n",
        "    metrics=[keras.metrics.MeanAbsoluteError(),\n",
        "            keras.metrics.CosineSimilarity()])\n",
        "\n",
        "model_comb.summary()"
      ],
      "execution_count": null,
      "outputs": [
        {
          "name": "stdout",
          "output_type": "stream",
          "text": [
            "Model: \"sequential_18\"\n",
            "_________________________________________________________________\n",
            "Layer (type)                 Output Shape              Param #   \n",
            "=================================================================\n",
            "conv2d_102 (Conv2D)          (None, 32, 32, 8)         296       \n",
            "_________________________________________________________________\n",
            "max_pooling2d_40 (MaxPooling (None, 16, 16, 8)         0         \n",
            "_________________________________________________________________\n",
            "conv2d_103 (Conv2D)          (None, 16, 16, 12)        876       \n",
            "_________________________________________________________________\n",
            "max_pooling2d_41 (MaxPooling (None, 8, 8, 12)          0         \n",
            "_________________________________________________________________\n",
            "conv2d_104 (Conv2D)          (None, 8, 8, 16)          1744      \n",
            "_________________________________________________________________\n",
            "up_sampling2d_34 (UpSampling (None, 16, 16, 16)        0         \n",
            "_________________________________________________________________\n",
            "conv2d_105 (Conv2D)          (None, 16, 16, 12)        1740      \n",
            "_________________________________________________________________\n",
            "up_sampling2d_35 (UpSampling (None, 32, 32, 12)        0         \n",
            "_________________________________________________________________\n",
            "conv2d_106 (Conv2D)          (None, 32, 32, 3)         327       \n",
            "=================================================================\n",
            "Total params: 4,983\n",
            "Trainable params: 4,983\n",
            "Non-trainable params: 0\n",
            "_________________________________________________________________\n"
          ]
        }
      ]
    },
    {
      "cell_type": "code",
      "metadata": {
        "id": "gaRl_T_BEOe_",
        "outputId": "88181f03-3b37-4474-b180-06fb089e859a"
      },
      "source": [
        "history_comb = model_comb.fit(X_train_comb, X_train, epochs=7, verbose=1, use_multiprocessing=True)"
      ],
      "execution_count": null,
      "outputs": [
        {
          "name": "stdout",
          "output_type": "stream",
          "text": [
            "Epoch 1/7\n",
            "1500/1500 [==============================] - 52s 34ms/step - loss: 0.0134 - mean_absolute_error: 0.0769 - cosine_similarity: 0.9834\n",
            "Epoch 2/7\n",
            "1500/1500 [==============================] - 51s 34ms/step - loss: 0.0062 - mean_absolute_error: 0.0568 - cosine_similarity: 0.9917\n",
            "Epoch 3/7\n",
            "1500/1500 [==============================] - 52s 35ms/step - loss: 0.0057 - mean_absolute_error: 0.0542 - cosine_similarity: 0.9921\n",
            "Epoch 4/7\n",
            "1500/1500 [==============================] - 52s 35ms/step - loss: 0.0054 - mean_absolute_error: 0.0526 - cosine_similarity: 0.9921\n",
            "Epoch 5/7\n",
            "1500/1500 [==============================] - 52s 34ms/step - loss: 0.0052 - mean_absolute_error: 0.0516 - cosine_similarity: 0.9921\n",
            "Epoch 6/7\n",
            "1500/1500 [==============================] - 49s 33ms/step - loss: 0.0051 - mean_absolute_error: 0.0508 - cosine_similarity: 0.9921\n",
            "Epoch 7/7\n",
            "1500/1500 [==============================] - 53s 35ms/step - loss: 0.0050 - mean_absolute_error: 0.0502 - cosine_similarity: 0.9920\n"
          ]
        }
      ]
    },
    {
      "cell_type": "code",
      "metadata": {
        "id": "QmZ0BkcPEOe_",
        "outputId": "eeae56ec-043c-4824-ac7a-0b1dd057c5a5"
      },
      "source": [
        "predict_comb = model_comb.predict(X_train_comb)\n",
        "\n",
        "def comp_comb_org(comb_img, org_img):\n",
        "    plt.subplot(221).imshow(org_img)\n",
        "    plt.subplot(221).set_title(f'original img: {org_img.shape}')\n",
        "    plt.subplot(222).imshow(comb_img)\n",
        "    plt.subplot(222).set_title(f'predict img: {comb_img.shape}')\n",
        "    plt.show()\n"
      ],
      "execution_count": null,
      "outputs": [
        {
          "name": "stderr",
          "output_type": "stream",
          "text": [
            "Clipping input data to the valid range for imshow with RGB data ([0..1] for floats or [0..255] for integers).\n"
          ]
        },
        {
          "data": {
            "image/png": "[encoded data removed]",
            "text/plain": [
              "<Figure size 432x288 with 2 Axes>"
            ]
          },
          "metadata": {
            "needs_background": "light"
          },
          "output_type": "display_data"
        }
      ]
    },
    {
      "cell_type": "code",
      "metadata": {
        "id": "aBT7BpUoEOfA",
        "outputId": "b6975e1a-99a5-4d52-d3fd-530bba531087"
      },
      "source": [
        "comp_rgb_bw(X_train[1], X_train_comb[1])"
      ],
      "execution_count": null,
      "outputs": [
        {
          "data": {
            "image/png": "[encoded data removed]",
            "text/plain": [
              "<Figure size 432x288 with 2 Axes>"
            ]
          },
          "metadata": {
            "needs_background": "light"
          },
          "output_type": "display_data"
        }
      ]
    },
    {
      "cell_type": "code",
      "metadata": {
        "id": "y3sW2ZaEEOfA",
        "outputId": "af34530e-9dae-41e7-8b03-2fe21794e973"
      },
      "source": [
        "save_model(model_comb, 'models/model_pipe_comb')\n",
        "save_model(model_bw, 'models/model_pipe_bw')"
      ],
      "execution_count": null,
      "outputs": [
        {
          "name": "stdout",
          "output_type": "stream",
          "text": [
            "INFO:tensorflow:Assets written to: models/model_pipe_comb/assets\n",
            "INFO:tensorflow:Assets written to: models/model_pipe_bw/assets\n"
          ]
        }
      ]
    },
    {
      "cell_type": "markdown",
      "metadata": {
        "id": "7XHRcFerEQzd"
      },
      "source": [
        "### try different model architectures"
      ]
    },
    {
      "cell_type": "code",
      "metadata": {
        "colab": {
          "base_uri": "https://localhost:8080/"
        },
        "id": "9fV5ePTBET33",
        "outputId": "7a9bcfc9-d97e-45b9-f3ea-2ceb398cd382"
      },
      "source": [
        "model_test = Sequential()\n",
        "model_test.add(Input(shape=sample_shape))\n",
        "model_test.add(Conv2D(128, kernel_size = (3,3), padding='same',  activation='relu'))\n",
        "model_test.add(Conv2D(92, kernel_size = (3,3), padding='same',  activation='relu'))\n",
        "model_test.add(MaxPooling2D(pool_size = (2,2)))\n",
        "model_test.add(Conv2D(78, kernel_size = (3,3), padding='same', activation='relu'))\n",
        "model_test.add(MaxPooling2D(pool_size = (2,2)))\n",
        "model_test.add(Conv2D(64, kernel_size = (3,3), padding='same', activation='relu'))\n",
        "\n",
        "\n",
        "\n",
        "\n",
        "\n",
        "model_test.add(UpSampling2D(size=(2,2)))\n",
        "model_test.add(Conv2D(32,kernel_size = (3,3), padding='same', activation='relu'))\n",
        "model_test.add(Conv2D(24,kernel_size = (3,3), padding='same', activation='relu'))\n",
        "model_test.add(Conv2D(16,kernel_size = (3,3), padding='same', activation='relu'))\n",
        "\n",
        "model_test.add(UpSampling2D())\n",
        "model_test.add(Conv2D(8,kernel_size = (3,3), padding='same', activation='relu'))\n",
        "model_test.add(Conv2D(3,(3,3), padding='same', activation='relu'))\n",
        "\n",
        "model_test.compile(\n",
        "    optimizer=keras.optimizers.Adam(learning_rate=1e-3),\n",
        "    loss=keras.losses.MeanSquaredError(),\n",
        "    metrics=[keras.metrics.MeanAbsoluteError(),\n",
        "            keras.metrics.CosineSimilarity()])\n",
        "model_test.summary()\n"
      ],
      "execution_count": 95,
      "outputs": [
        {
          "output_type": "stream",
          "name": "stdout",
          "text": [
            "Model: \"sequential_21\"\n",
            "_________________________________________________________________\n",
            "Layer (type)                 Output Shape              Param #   \n",
            "=================================================================\n",
            "conv2d_154 (Conv2D)          (None, 32, 32, 128)       3584      \n",
            "_________________________________________________________________\n",
            "conv2d_155 (Conv2D)          (None, 32, 32, 92)        106076    \n",
            "_________________________________________________________________\n",
            "max_pooling2d_45 (MaxPooling (None, 16, 16, 92)        0         \n",
            "_________________________________________________________________\n",
            "conv2d_156 (Conv2D)          (None, 16, 16, 78)        64662     \n",
            "_________________________________________________________________\n",
            "max_pooling2d_46 (MaxPooling (None, 8, 8, 78)          0         \n",
            "_________________________________________________________________\n",
            "conv2d_157 (Conv2D)          (None, 8, 8, 64)          44992     \n",
            "_________________________________________________________________\n",
            "up_sampling2d_55 (UpSampling (None, 16, 16, 64)        0         \n",
            "_________________________________________________________________\n",
            "conv2d_158 (Conv2D)          (None, 16, 16, 32)        18464     \n",
            "_________________________________________________________________\n",
            "conv2d_159 (Conv2D)          (None, 16, 16, 24)        6936      \n",
            "_________________________________________________________________\n",
            "conv2d_160 (Conv2D)          (None, 16, 16, 16)        3472      \n",
            "_________________________________________________________________\n",
            "up_sampling2d_56 (UpSampling (None, 32, 32, 16)        0         \n",
            "_________________________________________________________________\n",
            "conv2d_161 (Conv2D)          (None, 32, 32, 8)         1160      \n",
            "_________________________________________________________________\n",
            "conv2d_162 (Conv2D)          (None, 32, 32, 3)         219       \n",
            "=================================================================\n",
            "Total params: 249,565\n",
            "Trainable params: 249,565\n",
            "Non-trainable params: 0\n",
            "_________________________________________________________________\n"
          ]
        }
      ]
    },
    {
      "cell_type": "code",
      "metadata": {
        "id": "tBdnjEvOQNxN"
      },
      "source": [
        "model_test.fit(X_train, X_train, validation_data=(X_valid, X_valid), epochs=10, verbose=1)\n",
        "predictions_test = model_test.predict(X_test)"
      ],
      "execution_count": null,
      "outputs": []
    },
    {
      "cell_type": "code",
      "metadata": {
        "id": "tRRv5rjmHL2i"
      },
      "source": [
        "  def img_compare(img_org, img_pred):\n",
        "    \n",
        "    plt.subplot(221).imshow(img_org)\n",
        "    plt.subplot(221).set_title(f'original img: {img_org.shape}')\n",
        "    plt.subplot(222).imshow(img_pred)\n",
        "    plt.subplot(222).set_title(f'predict img: {img_pred.shape}')\n",
        "    plt.show()\n",
        "  #img_compare(X_test[45], predictions_test[45])"
      ],
      "execution_count": 6,
      "outputs": []
    },
    {
      "cell_type": "markdown",
      "metadata": {
        "id": "-TaOqPY9Mxqp"
      },
      "source": [
        "### try model_test for recolorization"
      ]
    },
    {
      "cell_type": "code",
      "metadata": {
        "colab": {
          "base_uri": "https://localhost:8080/"
        },
        "id": "6MTd2liqH5xF",
        "outputId": "4d6e4df4-164f-46dc-a4fe-d0b4474e01b6"
      },
      "source": [
        "model_test = Sequential()\n",
        "# model_test.add(Input(shape=X_train_bw.shape))\n",
        "model_test.add(Conv2D(16, kernel_size = (3,3), padding='same',  activation='relu', input_shape=(32,32,1)))\n",
        "model_test.add(Conv2D(28, kernel_size = (3,3), padding='same',  activation='relu'))\n",
        "model_test.add(MaxPooling2D(pool_size = (2,2)))\n",
        "model_test.add(Conv2D(32, kernel_size = (3,3), padding='same', activation='relu'))\n",
        "model_test.add(MaxPooling2D(pool_size = (2,2)))\n",
        "model_test.add(Conv2D(64, kernel_size = (3,3), padding='same', activation='relu'))\n",
        "model_test.add(Conv2D(32,kernel_size = (3,3), padding='same', activation='relu'))\n",
        "model_test.add(UpSampling2D(size=(2,2)))\n",
        "model_test.add(Conv2D(32,kernel_size = (3,3), padding='same', activation='relu'))\n",
        "model_test.add(Conv2D(24,kernel_size = (3,3), padding='same', activation='relu'))\n",
        "model_test.add(Conv2D(16,kernel_size = (3,3), padding='same', activation='relu'))\n",
        "\n",
        "model_test.add(UpSampling2D())\n",
        "model_test.add(Conv2D(12,kernel_size = (3,3), padding='same', activation='relu'))\n",
        "model_test.add(UpSampling2D())\n",
        "model_test.add(Conv2D(10,kernel_size = (3,3), padding='same', activation='relu'))\n",
        "model_test.add(MaxPooling2D())\n",
        "\n",
        "model_test.add(Conv2D(8,kernel_size = (3,3), padding='same', activation='relu'))\n",
        "model_test.add(Conv2D(8,kernel_size = (3,3), padding='same', activation='relu'))\n",
        "model_test.add(Conv2D(3,(3,3), padding='same', activation='sigmoid'))\n",
        "\n",
        "\n",
        "model_test.compile(\n",
        "    optimizer=keras.optimizers.Adam(learning_rate=1e-2),\n",
        "    loss=keras.losses.MeanSquaredError(),\n",
        "    metrics=[keras.metrics.MeanAbsoluteError(),\n",
        "            keras.metrics.CosineSimilarity(),\n",
        "             keras.metrics.Accuracy()])\n",
        "model_test.summary()\n"
      ],
      "execution_count": 24,
      "outputs": [
        {
          "output_type": "stream",
          "name": "stdout",
          "text": [
            "Model: \"sequential_9\"\n",
            "_________________________________________________________________\n",
            "Layer (type)                 Output Shape              Param #   \n",
            "=================================================================\n",
            "conv2d_99 (Conv2D)           (None, 32, 32, 16)        160       \n",
            "_________________________________________________________________\n",
            "conv2d_100 (Conv2D)          (None, 32, 32, 28)        4060      \n",
            "_________________________________________________________________\n",
            "max_pooling2d_20 (MaxPooling (None, 16, 16, 28)        0         \n",
            "_________________________________________________________________\n",
            "conv2d_101 (Conv2D)          (None, 16, 16, 32)        8096      \n",
            "_________________________________________________________________\n",
            "max_pooling2d_21 (MaxPooling (None, 8, 8, 32)          0         \n",
            "_________________________________________________________________\n",
            "conv2d_102 (Conv2D)          (None, 8, 8, 64)          18496     \n",
            "_________________________________________________________________\n",
            "conv2d_103 (Conv2D)          (None, 8, 8, 32)          18464     \n",
            "_________________________________________________________________\n",
            "up_sampling2d_20 (UpSampling (None, 16, 16, 32)        0         \n",
            "_________________________________________________________________\n",
            "conv2d_104 (Conv2D)          (None, 16, 16, 32)        9248      \n",
            "_________________________________________________________________\n",
            "conv2d_105 (Conv2D)          (None, 16, 16, 24)        6936      \n",
            "_________________________________________________________________\n",
            "conv2d_106 (Conv2D)          (None, 16, 16, 16)        3472      \n",
            "_________________________________________________________________\n",
            "up_sampling2d_21 (UpSampling (None, 32, 32, 16)        0         \n",
            "_________________________________________________________________\n",
            "conv2d_107 (Conv2D)          (None, 32, 32, 12)        1740      \n",
            "_________________________________________________________________\n",
            "up_sampling2d_22 (UpSampling (None, 64, 64, 12)        0         \n",
            "_________________________________________________________________\n",
            "conv2d_108 (Conv2D)          (None, 64, 64, 10)        1090      \n",
            "_________________________________________________________________\n",
            "max_pooling2d_22 (MaxPooling (None, 32, 32, 10)        0         \n",
            "_________________________________________________________________\n",
            "conv2d_109 (Conv2D)          (None, 32, 32, 8)         728       \n",
            "_________________________________________________________________\n",
            "conv2d_110 (Conv2D)          (None, 32, 32, 8)         584       \n",
            "_________________________________________________________________\n",
            "conv2d_111 (Conv2D)          (None, 32, 32, 3)         219       \n",
            "=================================================================\n",
            "Total params: 73,293\n",
            "Trainable params: 73,293\n",
            "Non-trainable params: 0\n",
            "_________________________________________________________________\n"
          ]
        }
      ]
    },
    {
      "cell_type": "code",
      "metadata": {
        "id": "uvXKRbdplhMk",
        "outputId": "ecce60e7-9c96-4d67-a6a7-9ae9ee414137",
        "colab": {
          "base_uri": "https://localhost:8080/"
        }
      },
      "source": [
        "print(X_train_bw.shape, X_train.shape)\n",
        "\n",
        "model_test.fit(X_train_bw, X_train, validation_data=(X_valid_bw, X_valid), epochs=10, verbose=1)\n",
        "predictions_test_recol = model_test.predict(X_test_bw, verbose=1)"
      ],
      "execution_count": 25,
      "outputs": [
        {
          "output_type": "stream",
          "name": "stdout",
          "text": [
            "(48000, 32, 32, 1) (48000, 32, 32, 3)\n",
            "Epoch 1/10\n",
            "1500/1500 [==============================] - 35s 23ms/step - loss: 0.0135 - mean_absolute_error: 0.0845 - cosine_similarity: 0.9794 - accuracy: 1.8989e-07 - val_loss: 0.0094 - val_mean_absolute_error: 0.0708 - val_cosine_similarity: 0.9799 - val_accuracy: 3.2552e-07\n",
            "Epoch 2/10\n",
            "1500/1500 [==============================] - 33s 22ms/step - loss: 0.0094 - mean_absolute_error: 0.0714 - cosine_similarity: 0.9800 - accuracy: 2.4414e-07 - val_loss: 0.0087 - val_mean_absolute_error: 0.0682 - val_cosine_similarity: 0.9806 - val_accuracy: 1.0851e-07\n",
            "Epoch 3/10\n",
            "1500/1500 [==============================] - 33s 22ms/step - loss: 0.0089 - mean_absolute_error: 0.0694 - cosine_similarity: 0.9801 - accuracy: 1.8989e-07 - val_loss: 0.0086 - val_mean_absolute_error: 0.0681 - val_cosine_similarity: 0.9799 - val_accuracy: 4.3403e-07\n",
            "Epoch 4/10\n",
            "1500/1500 [==============================] - 33s 22ms/step - loss: 0.0086 - mean_absolute_error: 0.0680 - cosine_similarity: 0.9801 - accuracy: 3.0518e-07 - val_loss: 0.0082 - val_mean_absolute_error: 0.0657 - val_cosine_similarity: 0.9804 - val_accuracy: 1.6276e-07\n",
            "Epoch 5/10\n",
            "1500/1500 [==============================] - 33s 22ms/step - loss: 0.0084 - mean_absolute_error: 0.0672 - cosine_similarity: 0.9801 - accuracy: 3.0518e-07 - val_loss: 0.0086 - val_mean_absolute_error: 0.0678 - val_cosine_similarity: 0.9789 - val_accuracy: 1.6276e-07\n",
            "Epoch 6/10\n",
            "1500/1500 [==============================] - 33s 22ms/step - loss: 0.0083 - mean_absolute_error: 0.0667 - cosine_similarity: 0.9801 - accuracy: 2.7127e-07 - val_loss: 0.0091 - val_mean_absolute_error: 0.0705 - val_cosine_similarity: 0.9796 - val_accuracy: 1.0851e-07\n",
            "Epoch 7/10\n",
            "1500/1500 [==============================] - 34s 23ms/step - loss: 0.0082 - mean_absolute_error: 0.0662 - cosine_similarity: 0.9802 - accuracy: 2.3058e-07 - val_loss: 0.0078 - val_mean_absolute_error: 0.0639 - val_cosine_similarity: 0.9805 - val_accuracy: 2.1701e-07\n",
            "Epoch 8/10\n",
            "1500/1500 [==============================] - 33s 22ms/step - loss: 0.0082 - mean_absolute_error: 0.0659 - cosine_similarity: 0.9802 - accuracy: 2.7805e-07 - val_loss: 0.0077 - val_mean_absolute_error: 0.0638 - val_cosine_similarity: 0.9806 - val_accuracy: 2.1701e-07\n",
            "Epoch 9/10\n",
            "1500/1500 [==============================] - 33s 22ms/step - loss: 0.0081 - mean_absolute_error: 0.0657 - cosine_similarity: 0.9802 - accuracy: 2.3058e-07 - val_loss: 0.0084 - val_mean_absolute_error: 0.0674 - val_cosine_similarity: 0.9797 - val_accuracy: 1.0851e-07\n",
            "Epoch 10/10\n",
            "1500/1500 [==============================] - 33s 22ms/step - loss: 0.0081 - mean_absolute_error: 0.0657 - cosine_similarity: 0.9802 - accuracy: 2.5092e-07 - val_loss: 0.0077 - val_mean_absolute_error: 0.0634 - val_cosine_similarity: 0.9806 - val_accuracy: 4.3403e-07\n",
            "188/188 [==============================] - 1s 7ms/step\n"
          ]
        }
      ]
    },
    {
      "cell_type": "code",
      "metadata": {
        "id": "5RtXEyuKtnPv"
      },
      "source": [
        ""
      ],
      "execution_count": null,
      "outputs": []
    },
    {
      "cell_type": "code",
      "metadata": {
        "colab": {
          "base_uri": "https://localhost:8080/",
          "height": 249
        },
        "id": "E8sky7ayNdGZ",
        "outputId": "2115fa7f-5666-4a20-c8dd-b7e8b55ca2a2"
      },
      "source": [
        "img_compare(X_test[5], predictions_test_recol[5])"
      ],
      "execution_count": 26,
      "outputs": [
        {
          "output_type": "stream",
          "name": "stderr",
          "text": [
            "/usr/local/lib/python3.7/dist-packages/ipykernel_launcher.py:4: MatplotlibDeprecationWarning: Adding an axes using the same arguments as a previous axes currently reuses the earlier instance.  In a future version, a new instance will always be created and returned.  Meanwhile, this warning can be suppressed, and the future behavior ensured, by passing a unique label to each axes instance.\n",
            "  after removing the cwd from sys.path.\n",
            "/usr/local/lib/python3.7/dist-packages/ipykernel_launcher.py:6: MatplotlibDeprecationWarning: Adding an axes using the same arguments as a previous axes currently reuses the earlier instance.  In a future version, a new instance will always be created and returned.  Meanwhile, this warning can be suppressed, and the future behavior ensured, by passing a unique label to each axes instance.\n",
            "  \n"
          ]
        },
        {
          "output_type": "display_data",
          "data": {
            "image/png": "[encoded data removed]",
            "text/plain": [
              "<Figure size 432x288 with 2 Axes>"
            ]
          },
          "metadata": {
            "needs_background": "light"
          }
        }
      ]
    },
    {
      "cell_type": "code",
      "metadata": {
        "colab": {
          "base_uri": "https://localhost:8080/"
        },
        "id": "wv2EpgMNOYf-",
        "outputId": "64f85674-ae09-40fd-8fd5-23647681d884"
      },
      "source": [
        "small_model_color = Sequential()\n",
        "small_model_color.add(Conv2D(8, (3,3), padding='same', activation='relu', input_shape=(32,32,1)))\n",
        "small_model_color.add(MaxPooling2D())\n",
        "small_model_color.add(Conv2D(16, kernel_size = (3,3), padding='same',  activation='relu'))\n",
        "small_model_color.add(MaxPooling2D())\n",
        "small_model_color.add(Conv2D(32, kernel_size = (3,3), padding='same',  activation='relu'))\n",
        "small_model_color.add(UpSampling2D())\n",
        "small_model_color.add(Conv2D(16, kernel_size = (3,3), padding='same',  activation='relu'))\n",
        "small_model_color.add(UpSampling2D())\n",
        "small_model_color.add(Conv2D(8, (3,3), padding='same', activation='relu'))\n",
        "small_model_color.add(Conv2D(1, (3,3), padding='same', activation='relu'))\n",
        "\n",
        "\n",
        "small_model_color.compile(\n",
        "    optimizer=keras.optimizers.Adam(learning_rate=1e-3),\n",
        "    loss=keras.losses.MeanSquaredError(),\n",
        "    metrics=[keras.metrics.MeanAbsoluteError(),\n",
        "            keras.metrics.CosineSimilarity(),\n",
        "             keras.metrics.Accuracy()])\n",
        "small_model_color.summary()"
      ],
      "execution_count": 142,
      "outputs": [
        {
          "output_type": "stream",
          "name": "stdout",
          "text": [
            "Model: \"sequential_11\"\n",
            "_________________________________________________________________\n",
            "Layer (type)                 Output Shape              Param #   \n",
            "=================================================================\n",
            "conv2d_40 (Conv2D)           (None, 32, 32, 8)         80        \n",
            "_________________________________________________________________\n",
            "max_pooling2d_12 (MaxPooling (None, 16, 16, 8)         0         \n",
            "_________________________________________________________________\n",
            "conv2d_41 (Conv2D)           (None, 16, 16, 16)        1168      \n",
            "_________________________________________________________________\n",
            "max_pooling2d_13 (MaxPooling (None, 8, 8, 16)          0         \n",
            "_________________________________________________________________\n",
            "conv2d_42 (Conv2D)           (None, 8, 8, 32)          4640      \n",
            "_________________________________________________________________\n",
            "up_sampling2d_10 (UpSampling (None, 16, 16, 32)        0         \n",
            "_________________________________________________________________\n",
            "conv2d_43 (Conv2D)           (None, 16, 16, 16)        4624      \n",
            "_________________________________________________________________\n",
            "up_sampling2d_11 (UpSampling (None, 32, 32, 16)        0         \n",
            "_________________________________________________________________\n",
            "conv2d_44 (Conv2D)           (None, 32, 32, 8)         1160      \n",
            "_________________________________________________________________\n",
            "conv2d_45 (Conv2D)           (None, 32, 32, 1)         73        \n",
            "=================================================================\n",
            "Total params: 11,745\n",
            "Trainable params: 11,745\n",
            "Non-trainable params: 0\n",
            "_________________________________________________________________\n"
          ]
        }
      ]
    },
    {
      "cell_type": "code",
      "metadata": {
        "id": "v8PWyAfXmemg",
        "outputId": "f1279479-f277-4937-ce63-8db6c881a048",
        "colab": {
          "base_uri": "https://localhost:8080/",
          "height": 1000
        }
      },
      "source": [
        "def pred_3_col_chan():\n",
        "  predictions = np.zeros(X_test.shape)\n",
        "\n",
        "  for i in range(3):\n",
        "\n",
        "\n",
        "    current_X = X_train[:,:,:,i]\n",
        "    current_X = current_X.reshape(48000, 32, 32, 1)\n",
        "    small_model_color.compile(\n",
        "      optimizer=keras.optimizers.Adam(learning_rate=1e-3),\n",
        "      loss=keras.losses.MeanSquaredError(),\n",
        "      metrics=[keras.metrics.MeanAbsoluteError(),\n",
        "              keras.metrics.CosineSimilarity(),\n",
        "              keras.metrics.Accuracy()])\n",
        "    small_model_color.summary()\n",
        "    small_model_color.fit(current_X, current_X, epochs=10, verbose=1)\n",
        "\n",
        "\n",
        "    curr_predictions = small_model_color.predict(X_test, verbose=1)\n",
        "    predictions[:,:,:,i] = curr_predictions\n",
        "  return predictions\n",
        "single_color_predict = pred_3_col_chan()"
      ],
      "execution_count": 146,
      "outputs": [
        {
          "output_type": "stream",
          "name": "stdout",
          "text": [
            "(48000, 32, 32, 1)\n",
            "Model: \"sequential_11\"\n",
            "_________________________________________________________________\n",
            "Layer (type)                 Output Shape              Param #   \n",
            "=================================================================\n",
            "conv2d_40 (Conv2D)           (None, 32, 32, 8)         80        \n",
            "_________________________________________________________________\n",
            "max_pooling2d_12 (MaxPooling (None, 16, 16, 8)         0         \n",
            "_________________________________________________________________\n",
            "conv2d_41 (Conv2D)           (None, 16, 16, 16)        1168      \n",
            "_________________________________________________________________\n",
            "max_pooling2d_13 (MaxPooling (None, 8, 8, 16)          0         \n",
            "_________________________________________________________________\n",
            "conv2d_42 (Conv2D)           (None, 8, 8, 32)          4640      \n",
            "_________________________________________________________________\n",
            "up_sampling2d_10 (UpSampling (None, 16, 16, 32)        0         \n",
            "_________________________________________________________________\n",
            "conv2d_43 (Conv2D)           (None, 16, 16, 16)        4624      \n",
            "_________________________________________________________________\n",
            "up_sampling2d_11 (UpSampling (None, 32, 32, 16)        0         \n",
            "_________________________________________________________________\n",
            "conv2d_44 (Conv2D)           (None, 32, 32, 8)         1160      \n",
            "_________________________________________________________________\n",
            "conv2d_45 (Conv2D)           (None, 32, 32, 1)         73        \n",
            "=================================================================\n",
            "Total params: 11,745\n",
            "Trainable params: 11,745\n",
            "Non-trainable params: 0\n",
            "_________________________________________________________________\n",
            "Epoch 1/10\n",
            "1500/1500 [==============================] - 27s 10ms/step - loss: 0.0079 - mean_absolute_error: 0.0572 - cosine_similarity: 0.9956 - accuracy: 1.6423e-04\n",
            "Epoch 2/10\n",
            "1500/1500 [==============================] - 14s 10ms/step - loss: 0.0037 - mean_absolute_error: 0.0423 - cosine_similarity: 0.9951 - accuracy: 2.7572e-04\n",
            "Epoch 3/10\n",
            "1500/1500 [==============================] - 14s 10ms/step - loss: 0.0032 - mean_absolute_error: 0.0397 - cosine_similarity: 0.9952 - accuracy: 3.0076e-04\n",
            "Epoch 4/10\n",
            "1500/1500 [==============================] - 15s 10ms/step - loss: 0.0030 - mean_absolute_error: 0.0380 - cosine_similarity: 0.9954 - accuracy: 3.0831e-04\n",
            "Epoch 5/10\n",
            "1500/1500 [==============================] - 14s 10ms/step - loss: 0.0028 - mean_absolute_error: 0.0366 - cosine_similarity: 0.9954 - accuracy: 3.6049e-04\n",
            "Epoch 6/10\n",
            "1500/1500 [==============================] - 15s 10ms/step - loss: 0.0026 - mean_absolute_error: 0.0356 - cosine_similarity: 0.9950 - accuracy: 5.4089e-04\n",
            "Epoch 7/10\n",
            "1500/1500 [==============================] - 15s 10ms/step - loss: 0.0025 - mean_absolute_error: 0.0346 - cosine_similarity: 0.9947 - accuracy: 6.5497e-04\n",
            "Epoch 8/10\n",
            "1500/1500 [==============================] - 14s 10ms/step - loss: 0.0024 - mean_absolute_error: 0.0338 - cosine_similarity: 0.9946 - accuracy: 7.2323e-04\n",
            "Epoch 9/10\n",
            "1500/1500 [==============================] - 14s 10ms/step - loss: 0.0023 - mean_absolute_error: 0.0331 - cosine_similarity: 0.9945 - accuracy: 7.7138e-04\n",
            "Epoch 10/10\n",
            "1500/1500 [==============================] - 15s 10ms/step - loss: 0.0022 - mean_absolute_error: 0.0326 - cosine_similarity: 0.9945 - accuracy: 8.7260e-04\n"
          ]
        },
        {
          "output_type": "error",
          "ename": "ValueError",
          "evalue": "ignored",
          "traceback": [
            "\u001b[0;31m---------------------------------------------------------------------------\u001b[0m",
            "\u001b[0;31mValueError\u001b[0m                                Traceback (most recent call last)",
            "\u001b[0;32m<ipython-input-146-8dbcb450f47e>\u001b[0m in \u001b[0;36m<module>\u001b[0;34m()\u001b[0m\n\u001b[1;32m     21\u001b[0m     \u001b[0mpredictions\u001b[0m\u001b[0;34m[\u001b[0m\u001b[0;34m:\u001b[0m\u001b[0;34m,\u001b[0m\u001b[0;34m:\u001b[0m\u001b[0;34m,\u001b[0m\u001b[0;34m:\u001b[0m\u001b[0;34m,\u001b[0m\u001b[0mi\u001b[0m\u001b[0;34m]\u001b[0m \u001b[0;34m=\u001b[0m \u001b[0mcurr_predictions\u001b[0m\u001b[0;34m\u001b[0m\u001b[0;34m\u001b[0m\u001b[0m\n\u001b[1;32m     22\u001b[0m   \u001b[0;32mreturn\u001b[0m \u001b[0mpredictions\u001b[0m\u001b[0;34m\u001b[0m\u001b[0;34m\u001b[0m\u001b[0m\n\u001b[0;32m---> 23\u001b[0;31m \u001b[0msingle_color_predict\u001b[0m \u001b[0;34m=\u001b[0m \u001b[0mpred_3_col_chan\u001b[0m\u001b[0;34m(\u001b[0m\u001b[0;34m)\u001b[0m\u001b[0;34m\u001b[0m\u001b[0;34m\u001b[0m\u001b[0m\n\u001b[0m",
            "\u001b[0;32m<ipython-input-146-8dbcb450f47e>\u001b[0m in \u001b[0;36mpred_3_col_chan\u001b[0;34m()\u001b[0m\n\u001b[1;32m     18\u001b[0m \u001b[0;34m\u001b[0m\u001b[0m\n\u001b[1;32m     19\u001b[0m \u001b[0;34m\u001b[0m\u001b[0m\n\u001b[0;32m---> 20\u001b[0;31m     \u001b[0mcurr_predictions\u001b[0m \u001b[0;34m=\u001b[0m \u001b[0msmall_model_color\u001b[0m\u001b[0;34m.\u001b[0m\u001b[0mpredict\u001b[0m\u001b[0;34m(\u001b[0m\u001b[0mX_test\u001b[0m\u001b[0;34m,\u001b[0m \u001b[0mverbose\u001b[0m\u001b[0;34m=\u001b[0m\u001b[0;36m1\u001b[0m\u001b[0;34m)\u001b[0m\u001b[0;34m\u001b[0m\u001b[0;34m\u001b[0m\u001b[0m\n\u001b[0m\u001b[1;32m     21\u001b[0m     \u001b[0mpredictions\u001b[0m\u001b[0;34m[\u001b[0m\u001b[0;34m:\u001b[0m\u001b[0;34m,\u001b[0m\u001b[0;34m:\u001b[0m\u001b[0;34m,\u001b[0m\u001b[0;34m:\u001b[0m\u001b[0;34m,\u001b[0m\u001b[0mi\u001b[0m\u001b[0;34m]\u001b[0m \u001b[0;34m=\u001b[0m \u001b[0mcurr_predictions\u001b[0m\u001b[0;34m\u001b[0m\u001b[0;34m\u001b[0m\u001b[0m\n\u001b[1;32m     22\u001b[0m   \u001b[0;32mreturn\u001b[0m \u001b[0mpredictions\u001b[0m\u001b[0;34m\u001b[0m\u001b[0;34m\u001b[0m\u001b[0m\n",
            "\u001b[0;32m/usr/local/lib/python3.7/dist-packages/keras/engine/training.py\u001b[0m in \u001b[0;36mpredict\u001b[0;34m(self, x, batch_size, verbose, steps, callbacks, max_queue_size, workers, use_multiprocessing)\u001b[0m\n\u001b[1;32m   1749\u001b[0m           \u001b[0;32mfor\u001b[0m \u001b[0mstep\u001b[0m \u001b[0;32min\u001b[0m \u001b[0mdata_handler\u001b[0m\u001b[0;34m.\u001b[0m\u001b[0msteps\u001b[0m\u001b[0;34m(\u001b[0m\u001b[0;34m)\u001b[0m\u001b[0;34m:\u001b[0m\u001b[0;34m\u001b[0m\u001b[0;34m\u001b[0m\u001b[0m\n\u001b[1;32m   1750\u001b[0m             \u001b[0mcallbacks\u001b[0m\u001b[0;34m.\u001b[0m\u001b[0mon_predict_batch_begin\u001b[0m\u001b[0;34m(\u001b[0m\u001b[0mstep\u001b[0m\u001b[0;34m)\u001b[0m\u001b[0;34m\u001b[0m\u001b[0;34m\u001b[0m\u001b[0m\n\u001b[0;32m-> 1751\u001b[0;31m             \u001b[0mtmp_batch_outputs\u001b[0m \u001b[0;34m=\u001b[0m \u001b[0mself\u001b[0m\u001b[0;34m.\u001b[0m\u001b[0mpredict_function\u001b[0m\u001b[0;34m(\u001b[0m\u001b[0miterator\u001b[0m\u001b[0;34m)\u001b[0m\u001b[0;34m\u001b[0m\u001b[0;34m\u001b[0m\u001b[0m\n\u001b[0m\u001b[1;32m   1752\u001b[0m             \u001b[0;32mif\u001b[0m \u001b[0mdata_handler\u001b[0m\u001b[0;34m.\u001b[0m\u001b[0mshould_sync\u001b[0m\u001b[0;34m:\u001b[0m\u001b[0;34m\u001b[0m\u001b[0;34m\u001b[0m\u001b[0m\n\u001b[1;32m   1753\u001b[0m               \u001b[0mcontext\u001b[0m\u001b[0;34m.\u001b[0m\u001b[0masync_wait\u001b[0m\u001b[0;34m(\u001b[0m\u001b[0;34m)\u001b[0m\u001b[0;34m\u001b[0m\u001b[0;34m\u001b[0m\u001b[0m\n",
            "\u001b[0;32m/usr/local/lib/python3.7/dist-packages/tensorflow/python/eager/def_function.py\u001b[0m in \u001b[0;36m__call__\u001b[0;34m(self, *args, **kwds)\u001b[0m\n\u001b[1;32m    883\u001b[0m \u001b[0;34m\u001b[0m\u001b[0m\n\u001b[1;32m    884\u001b[0m       \u001b[0;32mwith\u001b[0m \u001b[0mOptionalXlaContext\u001b[0m\u001b[0;34m(\u001b[0m\u001b[0mself\u001b[0m\u001b[0;34m.\u001b[0m\u001b[0m_jit_compile\u001b[0m\u001b[0;34m)\u001b[0m\u001b[0;34m:\u001b[0m\u001b[0;34m\u001b[0m\u001b[0;34m\u001b[0m\u001b[0m\n\u001b[0;32m--> 885\u001b[0;31m         \u001b[0mresult\u001b[0m \u001b[0;34m=\u001b[0m \u001b[0mself\u001b[0m\u001b[0;34m.\u001b[0m\u001b[0m_call\u001b[0m\u001b[0;34m(\u001b[0m\u001b[0;34m*\u001b[0m\u001b[0margs\u001b[0m\u001b[0;34m,\u001b[0m \u001b[0;34m**\u001b[0m\u001b[0mkwds\u001b[0m\u001b[0;34m)\u001b[0m\u001b[0;34m\u001b[0m\u001b[0;34m\u001b[0m\u001b[0m\n\u001b[0m\u001b[1;32m    886\u001b[0m \u001b[0;34m\u001b[0m\u001b[0m\n\u001b[1;32m    887\u001b[0m       \u001b[0mnew_tracing_count\u001b[0m \u001b[0;34m=\u001b[0m \u001b[0mself\u001b[0m\u001b[0;34m.\u001b[0m\u001b[0mexperimental_get_tracing_count\u001b[0m\u001b[0;34m(\u001b[0m\u001b[0;34m)\u001b[0m\u001b[0;34m\u001b[0m\u001b[0;34m\u001b[0m\u001b[0m\n",
            "\u001b[0;32m/usr/local/lib/python3.7/dist-packages/tensorflow/python/eager/def_function.py\u001b[0m in \u001b[0;36m_call\u001b[0;34m(self, *args, **kwds)\u001b[0m\n\u001b[1;32m    931\u001b[0m       \u001b[0;31m# This is the first call of __call__, so we have to initialize.\u001b[0m\u001b[0;34m\u001b[0m\u001b[0;34m\u001b[0m\u001b[0;34m\u001b[0m\u001b[0m\n\u001b[1;32m    932\u001b[0m       \u001b[0minitializers\u001b[0m \u001b[0;34m=\u001b[0m \u001b[0;34m[\u001b[0m\u001b[0;34m]\u001b[0m\u001b[0;34m\u001b[0m\u001b[0;34m\u001b[0m\u001b[0m\n\u001b[0;32m--> 933\u001b[0;31m       \u001b[0mself\u001b[0m\u001b[0;34m.\u001b[0m\u001b[0m_initialize\u001b[0m\u001b[0;34m(\u001b[0m\u001b[0margs\u001b[0m\u001b[0;34m,\u001b[0m \u001b[0mkwds\u001b[0m\u001b[0;34m,\u001b[0m \u001b[0madd_initializers_to\u001b[0m\u001b[0;34m=\u001b[0m\u001b[0minitializers\u001b[0m\u001b[0;34m)\u001b[0m\u001b[0;34m\u001b[0m\u001b[0;34m\u001b[0m\u001b[0m\n\u001b[0m\u001b[1;32m    934\u001b[0m     \u001b[0;32mfinally\u001b[0m\u001b[0;34m:\u001b[0m\u001b[0;34m\u001b[0m\u001b[0;34m\u001b[0m\u001b[0m\n\u001b[1;32m    935\u001b[0m       \u001b[0;31m# At this point we know that the initialization is complete (or less\u001b[0m\u001b[0;34m\u001b[0m\u001b[0;34m\u001b[0m\u001b[0;34m\u001b[0m\u001b[0m\n",
            "\u001b[0;32m/usr/local/lib/python3.7/dist-packages/tensorflow/python/eager/def_function.py\u001b[0m in \u001b[0;36m_initialize\u001b[0;34m(self, args, kwds, add_initializers_to)\u001b[0m\n\u001b[1;32m    758\u001b[0m     self._concrete_stateful_fn = (\n\u001b[1;32m    759\u001b[0m         self._stateful_fn._get_concrete_function_internal_garbage_collected(  # pylint: disable=protected-access\n\u001b[0;32m--> 760\u001b[0;31m             *args, **kwds))\n\u001b[0m\u001b[1;32m    761\u001b[0m \u001b[0;34m\u001b[0m\u001b[0m\n\u001b[1;32m    762\u001b[0m     \u001b[0;32mdef\u001b[0m \u001b[0minvalid_creator_scope\u001b[0m\u001b[0;34m(\u001b[0m\u001b[0;34m*\u001b[0m\u001b[0munused_args\u001b[0m\u001b[0;34m,\u001b[0m \u001b[0;34m**\u001b[0m\u001b[0munused_kwds\u001b[0m\u001b[0;34m)\u001b[0m\u001b[0;34m:\u001b[0m\u001b[0;34m\u001b[0m\u001b[0;34m\u001b[0m\u001b[0m\n",
            "\u001b[0;32m/usr/local/lib/python3.7/dist-packages/tensorflow/python/eager/function.py\u001b[0m in \u001b[0;36m_get_concrete_function_internal_garbage_collected\u001b[0;34m(self, *args, **kwargs)\u001b[0m\n\u001b[1;32m   3064\u001b[0m       \u001b[0margs\u001b[0m\u001b[0;34m,\u001b[0m \u001b[0mkwargs\u001b[0m \u001b[0;34m=\u001b[0m \u001b[0;32mNone\u001b[0m\u001b[0;34m,\u001b[0m \u001b[0;32mNone\u001b[0m\u001b[0;34m\u001b[0m\u001b[0;34m\u001b[0m\u001b[0m\n\u001b[1;32m   3065\u001b[0m     \u001b[0;32mwith\u001b[0m \u001b[0mself\u001b[0m\u001b[0;34m.\u001b[0m\u001b[0m_lock\u001b[0m\u001b[0;34m:\u001b[0m\u001b[0;34m\u001b[0m\u001b[0;34m\u001b[0m\u001b[0m\n\u001b[0;32m-> 3066\u001b[0;31m       \u001b[0mgraph_function\u001b[0m\u001b[0;34m,\u001b[0m \u001b[0m_\u001b[0m \u001b[0;34m=\u001b[0m \u001b[0mself\u001b[0m\u001b[0;34m.\u001b[0m\u001b[0m_maybe_define_function\u001b[0m\u001b[0;34m(\u001b[0m\u001b[0margs\u001b[0m\u001b[0;34m,\u001b[0m \u001b[0mkwargs\u001b[0m\u001b[0;34m)\u001b[0m\u001b[0;34m\u001b[0m\u001b[0;34m\u001b[0m\u001b[0m\n\u001b[0m\u001b[1;32m   3067\u001b[0m     \u001b[0;32mreturn\u001b[0m \u001b[0mgraph_function\u001b[0m\u001b[0;34m\u001b[0m\u001b[0;34m\u001b[0m\u001b[0m\n\u001b[1;32m   3068\u001b[0m \u001b[0;34m\u001b[0m\u001b[0m\n",
            "\u001b[0;32m/usr/local/lib/python3.7/dist-packages/tensorflow/python/eager/function.py\u001b[0m in \u001b[0;36m_maybe_define_function\u001b[0;34m(self, args, kwargs)\u001b[0m\n\u001b[1;32m   3461\u001b[0m \u001b[0;34m\u001b[0m\u001b[0m\n\u001b[1;32m   3462\u001b[0m           \u001b[0mself\u001b[0m\u001b[0;34m.\u001b[0m\u001b[0m_function_cache\u001b[0m\u001b[0;34m.\u001b[0m\u001b[0mmissed\u001b[0m\u001b[0;34m.\u001b[0m\u001b[0madd\u001b[0m\u001b[0;34m(\u001b[0m\u001b[0mcall_context_key\u001b[0m\u001b[0;34m)\u001b[0m\u001b[0;34m\u001b[0m\u001b[0;34m\u001b[0m\u001b[0m\n\u001b[0;32m-> 3463\u001b[0;31m           \u001b[0mgraph_function\u001b[0m \u001b[0;34m=\u001b[0m \u001b[0mself\u001b[0m\u001b[0;34m.\u001b[0m\u001b[0m_create_graph_function\u001b[0m\u001b[0;34m(\u001b[0m\u001b[0margs\u001b[0m\u001b[0;34m,\u001b[0m \u001b[0mkwargs\u001b[0m\u001b[0;34m)\u001b[0m\u001b[0;34m\u001b[0m\u001b[0;34m\u001b[0m\u001b[0m\n\u001b[0m\u001b[1;32m   3464\u001b[0m           \u001b[0mself\u001b[0m\u001b[0;34m.\u001b[0m\u001b[0m_function_cache\u001b[0m\u001b[0;34m.\u001b[0m\u001b[0mprimary\u001b[0m\u001b[0;34m[\u001b[0m\u001b[0mcache_key\u001b[0m\u001b[0;34m]\u001b[0m \u001b[0;34m=\u001b[0m \u001b[0mgraph_function\u001b[0m\u001b[0;34m\u001b[0m\u001b[0;34m\u001b[0m\u001b[0m\n\u001b[1;32m   3465\u001b[0m \u001b[0;34m\u001b[0m\u001b[0m\n",
            "\u001b[0;32m/usr/local/lib/python3.7/dist-packages/tensorflow/python/eager/function.py\u001b[0m in \u001b[0;36m_create_graph_function\u001b[0;34m(self, args, kwargs, override_flat_arg_shapes)\u001b[0m\n\u001b[1;32m   3306\u001b[0m             \u001b[0marg_names\u001b[0m\u001b[0;34m=\u001b[0m\u001b[0marg_names\u001b[0m\u001b[0;34m,\u001b[0m\u001b[0;34m\u001b[0m\u001b[0;34m\u001b[0m\u001b[0m\n\u001b[1;32m   3307\u001b[0m             \u001b[0moverride_flat_arg_shapes\u001b[0m\u001b[0;34m=\u001b[0m\u001b[0moverride_flat_arg_shapes\u001b[0m\u001b[0;34m,\u001b[0m\u001b[0;34m\u001b[0m\u001b[0;34m\u001b[0m\u001b[0m\n\u001b[0;32m-> 3308\u001b[0;31m             capture_by_value=self._capture_by_value),\n\u001b[0m\u001b[1;32m   3309\u001b[0m         \u001b[0mself\u001b[0m\u001b[0;34m.\u001b[0m\u001b[0m_function_attributes\u001b[0m\u001b[0;34m,\u001b[0m\u001b[0;34m\u001b[0m\u001b[0;34m\u001b[0m\u001b[0m\n\u001b[1;32m   3310\u001b[0m         \u001b[0mfunction_spec\u001b[0m\u001b[0;34m=\u001b[0m\u001b[0mself\u001b[0m\u001b[0;34m.\u001b[0m\u001b[0mfunction_spec\u001b[0m\u001b[0;34m,\u001b[0m\u001b[0;34m\u001b[0m\u001b[0;34m\u001b[0m\u001b[0m\n",
            "\u001b[0;32m/usr/local/lib/python3.7/dist-packages/tensorflow/python/framework/func_graph.py\u001b[0m in \u001b[0;36mfunc_graph_from_py_func\u001b[0;34m(name, python_func, args, kwargs, signature, func_graph, autograph, autograph_options, add_control_dependencies, arg_names, op_return_value, collections, capture_by_value, override_flat_arg_shapes, acd_record_initial_resource_uses)\u001b[0m\n\u001b[1;32m   1005\u001b[0m         \u001b[0m_\u001b[0m\u001b[0;34m,\u001b[0m \u001b[0moriginal_func\u001b[0m \u001b[0;34m=\u001b[0m \u001b[0mtf_decorator\u001b[0m\u001b[0;34m.\u001b[0m\u001b[0munwrap\u001b[0m\u001b[0;34m(\u001b[0m\u001b[0mpython_func\u001b[0m\u001b[0;34m)\u001b[0m\u001b[0;34m\u001b[0m\u001b[0;34m\u001b[0m\u001b[0m\n\u001b[1;32m   1006\u001b[0m \u001b[0;34m\u001b[0m\u001b[0m\n\u001b[0;32m-> 1007\u001b[0;31m       \u001b[0mfunc_outputs\u001b[0m \u001b[0;34m=\u001b[0m \u001b[0mpython_func\u001b[0m\u001b[0;34m(\u001b[0m\u001b[0;34m*\u001b[0m\u001b[0mfunc_args\u001b[0m\u001b[0;34m,\u001b[0m \u001b[0;34m**\u001b[0m\u001b[0mfunc_kwargs\u001b[0m\u001b[0;34m)\u001b[0m\u001b[0;34m\u001b[0m\u001b[0;34m\u001b[0m\u001b[0m\n\u001b[0m\u001b[1;32m   1008\u001b[0m \u001b[0;34m\u001b[0m\u001b[0m\n\u001b[1;32m   1009\u001b[0m       \u001b[0;31m# invariant: `func_outputs` contains only Tensors, CompositeTensors,\u001b[0m\u001b[0;34m\u001b[0m\u001b[0;34m\u001b[0m\u001b[0;34m\u001b[0m\u001b[0m\n",
            "\u001b[0;32m/usr/local/lib/python3.7/dist-packages/tensorflow/python/eager/def_function.py\u001b[0m in \u001b[0;36mwrapped_fn\u001b[0;34m(*args, **kwds)\u001b[0m\n\u001b[1;32m    666\u001b[0m         \u001b[0;31m# the function a weak reference to itself to avoid a reference cycle.\u001b[0m\u001b[0;34m\u001b[0m\u001b[0;34m\u001b[0m\u001b[0;34m\u001b[0m\u001b[0m\n\u001b[1;32m    667\u001b[0m         \u001b[0;32mwith\u001b[0m \u001b[0mOptionalXlaContext\u001b[0m\u001b[0;34m(\u001b[0m\u001b[0mcompile_with_xla\u001b[0m\u001b[0;34m)\u001b[0m\u001b[0;34m:\u001b[0m\u001b[0;34m\u001b[0m\u001b[0;34m\u001b[0m\u001b[0m\n\u001b[0;32m--> 668\u001b[0;31m           \u001b[0mout\u001b[0m \u001b[0;34m=\u001b[0m \u001b[0mweak_wrapped_fn\u001b[0m\u001b[0;34m(\u001b[0m\u001b[0;34m)\u001b[0m\u001b[0;34m.\u001b[0m\u001b[0m__wrapped__\u001b[0m\u001b[0;34m(\u001b[0m\u001b[0;34m*\u001b[0m\u001b[0margs\u001b[0m\u001b[0;34m,\u001b[0m \u001b[0;34m**\u001b[0m\u001b[0mkwds\u001b[0m\u001b[0;34m)\u001b[0m\u001b[0;34m\u001b[0m\u001b[0;34m\u001b[0m\u001b[0m\n\u001b[0m\u001b[1;32m    669\u001b[0m         \u001b[0;32mreturn\u001b[0m \u001b[0mout\u001b[0m\u001b[0;34m\u001b[0m\u001b[0;34m\u001b[0m\u001b[0m\n\u001b[1;32m    670\u001b[0m \u001b[0;34m\u001b[0m\u001b[0m\n",
            "\u001b[0;32m/usr/local/lib/python3.7/dist-packages/tensorflow/python/framework/func_graph.py\u001b[0m in \u001b[0;36mwrapper\u001b[0;34m(*args, **kwargs)\u001b[0m\n\u001b[1;32m    992\u001b[0m           \u001b[0;32mexcept\u001b[0m \u001b[0mException\u001b[0m \u001b[0;32mas\u001b[0m \u001b[0me\u001b[0m\u001b[0;34m:\u001b[0m  \u001b[0;31m# pylint:disable=broad-except\u001b[0m\u001b[0;34m\u001b[0m\u001b[0;34m\u001b[0m\u001b[0m\n\u001b[1;32m    993\u001b[0m             \u001b[0;32mif\u001b[0m \u001b[0mhasattr\u001b[0m\u001b[0;34m(\u001b[0m\u001b[0me\u001b[0m\u001b[0;34m,\u001b[0m \u001b[0;34m\"ag_error_metadata\"\u001b[0m\u001b[0;34m)\u001b[0m\u001b[0;34m:\u001b[0m\u001b[0;34m\u001b[0m\u001b[0;34m\u001b[0m\u001b[0m\n\u001b[0;32m--> 994\u001b[0;31m               \u001b[0;32mraise\u001b[0m \u001b[0me\u001b[0m\u001b[0;34m.\u001b[0m\u001b[0mag_error_metadata\u001b[0m\u001b[0;34m.\u001b[0m\u001b[0mto_exception\u001b[0m\u001b[0;34m(\u001b[0m\u001b[0me\u001b[0m\u001b[0;34m)\u001b[0m\u001b[0;34m\u001b[0m\u001b[0;34m\u001b[0m\u001b[0m\n\u001b[0m\u001b[1;32m    995\u001b[0m             \u001b[0;32melse\u001b[0m\u001b[0;34m:\u001b[0m\u001b[0;34m\u001b[0m\u001b[0;34m\u001b[0m\u001b[0m\n\u001b[1;32m    996\u001b[0m               \u001b[0;32mraise\u001b[0m\u001b[0;34m\u001b[0m\u001b[0;34m\u001b[0m\u001b[0m\n",
            "\u001b[0;31mValueError\u001b[0m: in user code:\n\n    /usr/local/lib/python3.7/dist-packages/keras/engine/training.py:1586 predict_function  *\n        return step_function(self, iterator)\n    /usr/local/lib/python3.7/dist-packages/keras/engine/training.py:1576 step_function  **\n        outputs = model.distribute_strategy.run(run_step, args=(data,))\n    /usr/local/lib/python3.7/dist-packages/tensorflow/python/distribute/distribute_lib.py:1286 run\n        return self._extended.call_for_each_replica(fn, args=args, kwargs=kwargs)\n    /usr/local/lib/python3.7/dist-packages/tensorflow/python/distribute/distribute_lib.py:2849 call_for_each_replica\n        return self._call_for_each_replica(fn, args, kwargs)\n    /usr/local/lib/python3.7/dist-packages/tensorflow/python/distribute/distribute_lib.py:3632 _call_for_each_replica\n        return fn(*args, **kwargs)\n    /usr/local/lib/python3.7/dist-packages/keras/engine/training.py:1569 run_step  **\n        outputs = model.predict_step(data)\n    /usr/local/lib/python3.7/dist-packages/keras/engine/training.py:1537 predict_step\n        return self(x, training=False)\n    /usr/local/lib/python3.7/dist-packages/keras/engine/base_layer.py:1020 __call__\n        input_spec.assert_input_compatibility(self.input_spec, inputs, self.name)\n    /usr/local/lib/python3.7/dist-packages/keras/engine/input_spec.py:254 assert_input_compatibility\n        ' but received input with shape ' + display_shape(x.shape))\n\n    ValueError: Input 0 of layer sequential_11 is incompatible with the layer: expected axis -1 of input shape to have value 1 but received input with shape (None, 32, 32, 3)\n"
          ]
        }
      ]
    },
    {
      "cell_type": "code",
      "metadata": {
        "id": "WiGUWbXsWFCG",
        "outputId": "6ad9c431-375d-4976-f8be-6afc38361e66",
        "colab": {
          "base_uri": "https://localhost:8080/",
          "height": 282
        }
      },
      "source": [
        "plt.imshow(X_train[1,:,:,0], cmap='Blues')"
      ],
      "execution_count": 134,
      "outputs": [
        {
          "output_type": "execute_result",
          "data": {
            "text/plain": [
              "<matplotlib.image.AxesImage at 0x7f24adc16690>"
            ]
          },
          "metadata": {},
          "execution_count": 134
        },
        {
          "output_type": "display_data",
          "data": {
            "image/png": "[encoded data removed]",
            "text/plain": [
              "<Figure size 432x288 with 1 Axes>"
            ]
          },
          "metadata": {
            "needs_background": "light"
          }
        }
      ]
    },
    {
      "cell_type": "code",
      "metadata": {
        "id": "PMaTyjJaYIUe",
        "outputId": "1ea9ba7b-d30a-45e2-90da-6a1a3a193b9a",
        "colab": {
          "base_uri": "https://localhost:8080/",
          "height": 115
        }
      },
      "source": [
        "test = np.zeros((32,32,))\n",
        "#test[:,:,1] = X_train[0,:,:,1]\n",
        "# test = test.reshape((32,32,1))\n",
        "\n",
        "\n",
        "for i, col in zip(range(3), ['Reds', 'Greens', 'Blues']):\n",
        "  img = np.stack((np.zeros((32,32)), np.zeros((32,32)), X_train[0,:,:,i]),2).reshape(32,32,3)\n",
        "  curr_img = img[:,:,i]\n",
        "  plt.subplot(int('33' + f'{i+1}')).imshow(curr_img, cmap= col)"
      ],
      "execution_count": 129,
      "outputs": [
        {
          "output_type": "display_data",
          "data": {
            "image/png": "[encoded data removed]",
            "text/plain": [
              "<Figure size 432x288 with 3 Axes>"
            ]
          },
          "metadata": {
            "needs_background": "light"
          }
        }
      ]
    },
    {
      "cell_type": "code",
      "metadata": {
        "id": "nDfjqd43bKcw",
        "outputId": "2f65707c-b6b6-4943-bc1b-41a55711d742",
        "colab": {
          "base_uri": "https://localhost:8080/",
          "height": 282
        }
      },
      "source": [
        "plt.imshow( X_train[0])"
      ],
      "execution_count": 127,
      "outputs": [
        {
          "output_type": "execute_result",
          "data": {
            "text/plain": [
              "<matplotlib.image.AxesImage at 0x7f24ac1b3050>"
            ]
          },
          "metadata": {},
          "execution_count": 127
        },
        {
          "output_type": "display_data",
          "data": {
            "image/png": "[encoded data removed]",
            "text/plain": [
              "<Figure size 432x288 with 1 Axes>"
            ]
          },
          "metadata": {
            "needs_background": "light"
          }
        }
      ]
    },
    {
      "cell_type": "code",
      "metadata": {
        "id": "RcZJs97vbGuv"
      },
      "source": [
        "plt.show()"
      ],
      "execution_count": 54,
      "outputs": []
    },
    {
      "cell_type": "code",
      "metadata": {
        "id": "EIgpV3gGcZCS",
        "outputId": "b1145232-adea-4b98-da03-3dde2049924f",
        "colab": {
          "base_uri": "https://localhost:8080/"
        }
      },
      "source": [
        "X_train[0,:,:,0].shape"
      ],
      "execution_count": 130,
      "outputs": [
        {
          "output_type": "execute_result",
          "data": {
            "text/plain": [
              "(32, 32)"
            ]
          },
          "metadata": {},
          "execution_count": 130
        }
      ]
    },
    {
      "cell_type": "code",
      "metadata": {
        "id": "iYCmSv-aflMp",
        "outputId": "b3731240-141d-47f4-d1b5-8485e331d89c",
        "colab": {
          "base_uri": "https://localhost:8080/",
          "height": 281
        }
      },
      "source": [
        "plt.imshow(np.zeros((10,10)), cmap='Greens')"
      ],
      "execution_count": 138,
      "outputs": [
        {
          "output_type": "execute_result",
          "data": {
            "text/plain": [
              "<matplotlib.image.AxesImage at 0x7f24ab8b3dd0>"
            ]
          },
          "metadata": {},
          "execution_count": 138
        },
        {
          "output_type": "display_data",
          "data": {
            "image/png": "[encoded data removed]",
            "text/plain": [
              "<Figure size 432x288 with 1 Axes>"
            ]
          },
          "metadata": {
            "needs_background": "light"
          }
        }
      ]
    },
    {
      "cell_type": "code",
      "metadata": {
        "id": "0z7Y_7y3kYV7"
      },
      "source": [
        ""
      ],
      "execution_count": null,
      "outputs": []
    }
  ]
}