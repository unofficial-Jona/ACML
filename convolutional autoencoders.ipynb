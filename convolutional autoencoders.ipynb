{
  "nbformat": 4,
  "nbformat_minor": 0,
  "metadata": {
    "accelerator": "GPU",
    "colab": {
      "name": "convolutional autoencoders.ipynb",
      "provenance": [],
      "toc_visible": true
    },
    "interpreter": {
      "hash": "ddda031869fb8ce91032b63195a611ad81bb421fc11bd1c32a8661751b914dac"
    },
    "kernelspec": {
      "display_name": "Python 3.8.11 64-bit ('base': conda)",
      "name": "python3"
    },
    "language_info": {
      "codemirror_mode": {
        "name": "ipython",
        "version": 3
      },
      "file_extension": ".py",
      "mimetype": "text/x-python",
      "name": "python",
      "nbconvert_exporter": "python",
      "pygments_lexer": "ipython3",
      "version": "3.8.8"
    },
    "orig_nbformat": 4
  },
  "cells": [
    {
      "cell_type": "markdown",
      "metadata": {
        "id": "hjdjEkAnL7cp"
      },
      "source": [
        "# ACML Homework: Convolutional Autoencoders\n",
        "by Jonathan Aechtner and Thomas Bahne"
      ]
    },
    {
      "cell_type": "markdown",
      "metadata": {
        "id": "97GcYzCVfoLp"
      },
      "source": [
        "# Data preperation and utilities"
      ]
    },
    {
      "cell_type": "code",
      "metadata": {
        "id": "ofBRmadJEOeu"
      },
      "source": [
        "import tensorflow as tf\n",
        "from tensorflow import keras\n",
        "from keras import layers\n",
        "from keras.models import Sequential\n",
        "from keras.layers import Conv2D, MaxPooling2D, UpSampling2D, Input\n",
        "from tensorflow.keras import layers\n",
        "import numpy as np\n",
        "from sklearn.model_selection import train_test_split\n",
        "import matplotlib.pyplot as plt\n",
        "from PIL import Image\n",
        "from typing import Tuple, List"
      ],
      "execution_count": 1,
      "outputs": []
    },
    {
      "cell_type": "code",
      "metadata": {
        "id": "vZbgIJzjEOex"
      },
      "source": [
        "def load_data() -> Tuple[np.ndarray, np.ndarray, np.ndarray]:\n",
        "  \"\"\"downloads the cifar10 data set and divides it into a training, validation, and test set\n",
        "\n",
        "  Returns:\n",
        "      Tuple[np.ndarray, np.ndarray, np.ndarray]: Train, Validation, Test set\n",
        "  \"\"\" \n",
        "  (X_1, y_1), (X_2, y_2) = tf.keras.datasets.cifar10.load_data()\n",
        "  X = np.vstack((X_1, X_2))\n",
        "  y = np.vstack((y_1, y_2))\n",
        "  X_train, X, y_train, y = train_test_split(X, y, train_size=0.8, stratify=y)\n",
        "  X_test, X_valid, _, _  = train_test_split(X, y, test_size=0.5, stratify=y)\n",
        "  return X_train, X_valid, X_test\n",
        "\n",
        "def prepare_images(img: np.ndarray, gray=False) -> np.ndarray:\n",
        "  \"\"\"Normalizes and (optinally) grayscales images\n",
        "\n",
        "  Args:\n",
        "      img (np.ndarray): Array of images, given in RGB-pixel values\n",
        "      gray (bool, optional): Set to true will grayscale the images. Defaults to False.\n",
        "\n",
        "  Returns:\n",
        "      np.ndarray: Normalized and (optinally) grayscaled array of images\n",
        "  \"\"\"  \n",
        "  img = img/255\n",
        "  img_s1, img_s2, img_s3, img_s4 = img.shape\n",
        "  if gray:\n",
        "    to_grayscale = lambda x: x[:,:,:,0] * 0.299 + x[:,:,:,1] * 0.5870 + x[:,:,:,2] * 0.1140\n",
        "    img_gray = to_grayscale(img)\n",
        "    img = img\n",
        "    return img_gray.reshape((img_s1, img_s2, img_s3, 1))\n",
        "  else:\n",
        "    return img.reshape(img.shape)\n",
        "\n",
        "def load_prepare() -> Tuple[np.ndarray, np.ndarray, np.ndarray, np.ndarray, np.ndarray, np.ndarray]:\n",
        "  \"\"\"Downloads the CIFAR10 data set, normalizes and graysclaes the images\n",
        "\n",
        "  Returns:\n",
        "      Tuple[np.ndarray, np.ndarray, np.ndarray, np.ndarray, np.ndarray, np.ndarray]: Normalized Train, Validation and Test sets for color and grayscaled images\n",
        "  \"\"\"  \n",
        "  X_train_new, X_valid_new, X_test_new = load_data()\n",
        "\n",
        "  X_train = prepare_images(X_train_new)\n",
        "  X_valid = prepare_images(X_valid_new)\n",
        "  X_test = prepare_images(X_test_new)\n",
        "\n",
        "  X_train_bw = prepare_images(X_train_new, True)\n",
        "  X_test_bw = prepare_images(X_test_new, True)\n",
        "  X_valid_bw = prepare_images(X_valid_new, True)\n",
        "\n",
        "  return X_train, X_valid, X_test, X_train_bw, X_valid_bw, X_test_bw\n",
        "\n",
        "def save_model(model, path = 'models/CAE') -> None:\n",
        "  model.save(path)\n",
        "\n",
        "def load_model(path = 'models/CAE') -> None:\n",
        "    return keras.models.load_model(path)\n",
        "\n",
        "def img_compare(img_org: np.ndarray, img_pred: np.ndarray, cmap: str='gray') -> None:\n",
        "  \"\"\"Plots the original image next to the output of the Autoencoder\n",
        "\n",
        "  Args:\n",
        "      img_org (np.ndarray): Original version of the image\n",
        "      img_pred (np.ndarray): Output of the auto encoder for the image\n",
        "      cmap (str, optional): [description]. Defaults to 'gray'.\n",
        "  \"\"\"  \n",
        "  if img_org.shape == (32,32,1):\n",
        "    img_org = img_org.reshape((32,32))\n",
        "    plt.subplot(221).imshow(img_org, cmap=cmap)\n",
        "    plt.subplot(221).set_title(f'original img: {img_org.shape}')\n",
        "  else:\n",
        "    plt.subplot(221).imshow(img_org)\n",
        "    plt.subplot(221).set_title(f'original img: {img_org.shape}')\n",
        "  if img_pred.shape == (32,32,1):\n",
        "    img_pred = img_pred.reshape((32,32))\n",
        "    plt.subplot(222).imshow(img_pred, cmap=cmap)\n",
        "    plt.subplot(222).set_title(f'predict img: {img_pred.shape}')\n",
        "  else:\n",
        "    plt.subplot(222).imshow(img_pred)\n",
        "    plt.subplot(222).set_title(f'predict img: {img_pred.shape}')\n",
        "  plt.show()\n",
        "\n",
        "def model_fit_transform(model, x_train, y_train=None, x_valid=None, y_valid=None, x_test=None, y_test=None, step_size=1e-3, epochs=10):\n",
        "  model.summary()\n",
        "  \"\"\"Fits the model on training data, if available evaluates it on the validation set\n",
        "\n",
        "  Args:\n",
        "      model (keras.Sequential): model to be trained\n",
        "      x_train (np.ndarray): training inputs\n",
        "      y_train (np.ndarray): labels of training inputs ()\n",
        "\n",
        "  Returns:\n",
        "      Tuple[keras.Sequential, np.ndarray, np.ndarray, np.ndarray]: fitted model, output of the model for training-, validation-, and test instances, history of training\n",
        "  \"\"\"\n",
        "  if x_valid.any() != None:\n",
        "    history = model.fit(x_train, y_train, validation_data=(x_valid, y_valid), epochs=epochs, verbose=1)\n",
        "  else:\n",
        "    history = model.fit(x_train, y_train, epochs=epochs, verbose=1)\n",
        "\n",
        "  predictions_x_train = model.predict(x_train, verbose=1)\n",
        "\n",
        "  if x_valid.any() != None:\n",
        "    predictions_x_valid = model.predict(x_valid, verbose=1)\n",
        "\n",
        "  if x_test.any() != None:\n",
        "    predictions_x_test = model.predict(x_test, verbose=1)\n",
        "\n",
        "  \n",
        "  return model, predictions_x_train, predictions_x_valid, predictions_x_test, history"
      ],
      "execution_count": 2,
      "outputs": []
    },
    {
      "cell_type": "markdown",
      "metadata": {
        "id": "ZIa2-7PIL7cw"
      },
      "source": [
        "## 1. Divide your dataset into training (80%), validation (10%) and test (10%). Normalize the data."
      ]
    },
    {
      "cell_type": "code",
      "metadata": {
        "id": "YEGgJEqxfqFm"
      },
      "source": [
        "X_train, X_valid, X_test, X_train_bw, X_valid_bw, X_test_bw = load_prepare()\n",
        "\n",
        "shape_color_instance = X_train[0].shape\n",
        "shape_bw_instance = X_train_bw[0].shape"
      ],
      "execution_count": 3,
      "outputs": []
    },
    {
      "cell_type": "markdown",
      "metadata": {
        "id": "fs3610g4EOew"
      },
      "source": [
        "## 2. Implement the autoencoder network specified above. Run the training for at least 10 epochs, and plot the evolution of the error with epochs. Report also the test error."
      ]
    },
    {
      "cell_type": "code",
      "metadata": {
        "id": "zuj4s7ulw2nd"
      },
      "source": [
        "epochs = 10\n",
        "\n",
        "def plot_acc_err(epochs, model, history):\n",
        "  # Plot accuracy and report test error\n",
        "  plt.figure()\n",
        "  plt.plot(range(1, epochs+1), history.history['loss'], '-', label='Training loss')\n",
        "  plt.plot(range(1, epochs+1), history.history['val_loss'], '--', label='Validation loss')\n",
        "  plt.title(f'Training and validation loss')\n",
        "  plt.legend()\n",
        "  plt.show()\n",
        "\n",
        "  print(f'Test set loss: {model.evaluate(X_test, X_test, verbose=1)[0]}')"
      ],
      "execution_count": null,
      "outputs": []
    },
    {
      "cell_type": "code",
      "metadata": {
        "id": "XY7eM8eREOez"
      },
      "source": [
        "# build the model\n",
        "def create_model(input_shape):\n",
        "  model =  Sequential()\n",
        "  model.add(Input(shape=input_shape))\n",
        "  model.add(Conv2D(8, kernel_size = (3,3), padding='same',  activation='relu'))\n",
        "  model.add(MaxPooling2D(pool_size = (2,2), padding='same'))\n",
        "  model.add(Conv2D(12, kernel_size = (3,3), padding='same', activation='relu'))\n",
        "  model.add(MaxPooling2D(pool_size = (2,2)))\n",
        "  model.add(Conv2D(16, kernel_size = (3,3), padding='same', activation='relu'))\n",
        "  model.add(UpSampling2D(size=(2,2)))\n",
        "  model.add(Conv2D(12, kernel_size = (3,3), padding='same', activation='relu'))\n",
        "  model.add(UpSampling2D())\n",
        "  model.add(Conv2D(3, kernel_size=(3,3), padding='same', activation='relu'))\n",
        "  return model\n",
        "\n",
        "models: List[keras.Sequential] = [create_model(shape_color_instance), create_model(shape_color_instance), create_model(shape_color_instance), create_model(shape_color_instance)]\n",
        "learning_rates: List[float] = [1e-5, 1e-3, 0.1]\n",
        "\n",
        "# compile multiple models to test different learning rates and loss functions\n",
        "for index, model in enumerate(models):\n",
        "  if index < 3:\n",
        "    model.compile(\n",
        "    optimizer=keras.optimizers.Adam(learning_rate=learning_rates[index]),\n",
        "    loss=keras.losses.MeanSquaredError(),\n",
        "    metrics=[keras.metrics.BinaryCrossentropy()])\n",
        "  else:\n",
        "    model.compile(\n",
        "      optimizer=keras.optimizers.Adam(learning_rate=1e-3),\n",
        "      loss=keras.losses.BinaryCrossentropy(),\n",
        "      metrics=[keras.metrics.MeanSquaredError()])"
      ],
      "execution_count": null,
      "outputs": []
    },
    {
      "cell_type": "code",
      "metadata": {
        "colab": {
          "base_uri": "https://localhost:8080/",
          "height": 1000
        },
        "id": "dcQDRhzUUADu",
        "outputId": "1799c2e0-c011-4287-db1b-346a4e7307f2"
      },
      "source": [
        "model, _, _, test_prediction, history = model_fit_transform(models[0], X_train, X_train, X_valid, X_valid, X_test, X_test, epochs=epochs)\n",
        "plot_acc_err(epochs, model, history)\n",
        "img_compare(X_test[0], test_prediction[0], cmap='viridis')"
      ],
      "execution_count": null,
      "outputs": [
        {
          "output_type": "stream",
          "name": "stdout",
          "text": [
            "Model: \"sequential\"\n",
            "_________________________________________________________________\n",
            "Layer (type)                 Output Shape              Param #   \n",
            "=================================================================\n",
            "conv2d (Conv2D)              (None, 32, 32, 8)         224       \n",
            "_________________________________________________________________\n",
            "max_pooling2d (MaxPooling2D) (None, 16, 16, 8)         0         \n",
            "_________________________________________________________________\n",
            "conv2d_1 (Conv2D)            (None, 16, 16, 12)        876       \n",
            "_________________________________________________________________\n",
            "max_pooling2d_1 (MaxPooling2 (None, 8, 8, 12)          0         \n",
            "_________________________________________________________________\n",
            "conv2d_2 (Conv2D)            (None, 8, 8, 16)          1744      \n",
            "_________________________________________________________________\n",
            "up_sampling2d (UpSampling2D) (None, 16, 16, 16)        0         \n",
            "_________________________________________________________________\n",
            "conv2d_3 (Conv2D)            (None, 16, 16, 12)        1740      \n",
            "_________________________________________________________________\n",
            "up_sampling2d_1 (UpSampling2 (None, 32, 32, 12)        0         \n",
            "_________________________________________________________________\n",
            "conv2d_4 (Conv2D)            (None, 32, 32, 3)         327       \n",
            "=================================================================\n",
            "Total params: 4,911\n",
            "Trainable params: 4,911\n",
            "Non-trainable params: 0\n",
            "_________________________________________________________________\n",
            "Epoch 1/10\n",
            "1500/1500 [==============================] - 41s 7ms/step - loss: 0.1102 - binary_crossentropy: 1.2898 - val_loss: 0.0490 - val_binary_crossentropy: 0.6744\n",
            "Epoch 2/10\n",
            "1500/1500 [==============================] - 11s 7ms/step - loss: 0.0348 - binary_crossentropy: 0.6381 - val_loss: 0.0263 - val_binary_crossentropy: 0.6195\n",
            "Epoch 3/10\n",
            "1500/1500 [==============================] - 11s 7ms/step - loss: 0.0224 - binary_crossentropy: 0.6094 - val_loss: 0.0192 - val_binary_crossentropy: 0.6015\n",
            "Epoch 4/10\n",
            "1500/1500 [==============================] - 10s 7ms/step - loss: 0.0170 - binary_crossentropy: 0.5947 - val_loss: 0.0153 - val_binary_crossentropy: 0.5902\n",
            "Epoch 5/10\n",
            "1500/1500 [==============================] - 11s 7ms/step - loss: 0.0142 - binary_crossentropy: 0.5866 - val_loss: 0.0134 - val_binary_crossentropy: 0.5845\n",
            "Epoch 6/10\n",
            "1500/1500 [==============================] - 11s 7ms/step - loss: 0.0127 - binary_crossentropy: 0.5820 - val_loss: 0.0121 - val_binary_crossentropy: 0.5807\n",
            "Epoch 7/10\n",
            "1500/1500 [==============================] - 11s 7ms/step - loss: 0.0116 - binary_crossentropy: 0.5790 - val_loss: 0.0112 - val_binary_crossentropy: 0.5783\n",
            "Epoch 8/10\n",
            "1500/1500 [==============================] - 11s 7ms/step - loss: 0.0107 - binary_crossentropy: 0.5768 - val_loss: 0.0104 - val_binary_crossentropy: 0.5763\n",
            "Epoch 9/10\n",
            "1500/1500 [==============================] - 11s 7ms/step - loss: 0.0101 - binary_crossentropy: 0.5750 - val_loss: 0.0098 - val_binary_crossentropy: 0.5747\n",
            "Epoch 10/10\n",
            "1500/1500 [==============================] - 11s 7ms/step - loss: 0.0095 - binary_crossentropy: 0.5737 - val_loss: 0.0092 - val_binary_crossentropy: 0.5736\n",
            "1500/1500 [==============================] - 4s 2ms/step\n",
            "188/188 [==============================] - 1s 3ms/step\n",
            "188/188 [==============================] - 0s 3ms/step\n"
          ]
        },
        {
          "output_type": "display_data",
          "data": {
            "image/png": "[encoded data removed]",
            "text/plain": [
              "<Figure size 432x288 with 1 Axes>"
            ]
          },
          "metadata": {
            "needs_background": "light"
          }
        },
        {
          "output_type": "stream",
          "name": "stdout",
          "text": [
            "188/188 [==============================] - 1s 4ms/step - loss: 0.0092 - binary_crossentropy: 0.5756\n",
            "Test set loss: 0.009244809858500957\n"
          ]
        },
        {
          "output_type": "stream",
          "name": "stderr",
          "text": [
            "/usr/local/lib/python3.7/dist-packages/ipykernel_launcher.py:67: MatplotlibDeprecationWarning: Adding an axes using the same arguments as a previous axes currently reuses the earlier instance.  In a future version, a new instance will always be created and returned.  Meanwhile, this warning can be suppressed, and the future behavior ensured, by passing a unique label to each axes instance.\n",
            "Clipping input data to the valid range for imshow with RGB data ([0..1] for floats or [0..255] for integers).\n",
            "/usr/local/lib/python3.7/dist-packages/ipykernel_launcher.py:74: MatplotlibDeprecationWarning: Adding an axes using the same arguments as a previous axes currently reuses the earlier instance.  In a future version, a new instance will always be created and returned.  Meanwhile, this warning can be suppressed, and the future behavior ensured, by passing a unique label to each axes instance.\n"
          ]
        },
        {
          "output_type": "display_data",
          "data": {
            "image/png": "[encoded data removed]",
            "text/plain": [
              "<Figure size 432x288 with 2 Axes>"
            ]
          },
          "metadata": {
            "needs_background": "light"
          }
        }
      ]
    },
    {
      "cell_type": "code",
      "metadata": {
        "colab": {
          "base_uri": "https://localhost:8080/",
          "height": 1000
        },
        "id": "qiWuJut5UVkS",
        "outputId": "a83cd533-2f4d-4467-e595-473108243338"
      },
      "source": [
        "model, _, _, test_prediction, history = model_fit_transform(models[1], X_train, X_train, X_valid, X_valid, X_test, X_test, epochs=epochs)\n",
        "plot_acc_err(epochs, model, history)\n",
        "img_compare(X_test[0], test_prediction[0], cmap='viridis')"
      ],
      "execution_count": null,
      "outputs": [
        {
          "output_type": "stream",
          "name": "stdout",
          "text": [
            "Model: \"sequential_1\"\n",
            "_________________________________________________________________\n",
            "Layer (type)                 Output Shape              Param #   \n",
            "=================================================================\n",
            "conv2d_5 (Conv2D)            (None, 32, 32, 8)         224       \n",
            "_________________________________________________________________\n",
            "max_pooling2d_2 (MaxPooling2 (None, 16, 16, 8)         0         \n",
            "_________________________________________________________________\n",
            "conv2d_6 (Conv2D)            (None, 16, 16, 12)        876       \n",
            "_________________________________________________________________\n",
            "max_pooling2d_3 (MaxPooling2 (None, 8, 8, 12)          0         \n",
            "_________________________________________________________________\n",
            "conv2d_7 (Conv2D)            (None, 8, 8, 16)          1744      \n",
            "_________________________________________________________________\n",
            "up_sampling2d_2 (UpSampling2 (None, 16, 16, 16)        0         \n",
            "_________________________________________________________________\n",
            "conv2d_8 (Conv2D)            (None, 16, 16, 12)        1740      \n",
            "_________________________________________________________________\n",
            "up_sampling2d_3 (UpSampling2 (None, 32, 32, 12)        0         \n",
            "_________________________________________________________________\n",
            "conv2d_9 (Conv2D)            (None, 32, 32, 3)         327       \n",
            "=================================================================\n",
            "Total params: 4,911\n",
            "Trainable params: 4,911\n",
            "Non-trainable params: 0\n",
            "_________________________________________________________________\n",
            "Epoch 1/10\n",
            "1500/1500 [==============================] - 12s 8ms/step - loss: 0.0130 - binary_crossentropy: 0.5992 - val_loss: 0.0066 - val_binary_crossentropy: 0.5690\n",
            "Epoch 2/10\n",
            "1500/1500 [==============================] - 11s 7ms/step - loss: 0.0060 - binary_crossentropy: 0.5683 - val_loss: 0.0055 - val_binary_crossentropy: 0.5660\n",
            "Epoch 3/10\n",
            "1500/1500 [==============================] - 11s 7ms/step - loss: 0.0054 - binary_crossentropy: 0.5665 - val_loss: 0.0051 - val_binary_crossentropy: 0.5647\n",
            "Epoch 4/10\n",
            "1500/1500 [==============================] - 11s 7ms/step - loss: 0.0050 - binary_crossentropy: 0.5652 - val_loss: 0.0049 - val_binary_crossentropy: 0.5644\n",
            "Epoch 5/10\n",
            "1500/1500 [==============================] - 11s 7ms/step - loss: 0.0048 - binary_crossentropy: 0.5644 - val_loss: 0.0046 - val_binary_crossentropy: 0.5628\n",
            "Epoch 6/10\n",
            "1500/1500 [==============================] - 12s 8ms/step - loss: 0.0046 - binary_crossentropy: 0.5640 - val_loss: 0.0046 - val_binary_crossentropy: 0.5637\n",
            "Epoch 7/10\n",
            "1500/1500 [==============================] - 11s 7ms/step - loss: 0.0044 - binary_crossentropy: 0.5635 - val_loss: 0.0043 - val_binary_crossentropy: 0.5622\n",
            "Epoch 8/10\n",
            "1500/1500 [==============================] - 11s 7ms/step - loss: 0.0042 - binary_crossentropy: 0.5630 - val_loss: 0.0043 - val_binary_crossentropy: 0.5622\n",
            "Epoch 9/10\n",
            "1500/1500 [==============================] - 11s 7ms/step - loss: 0.0041 - binary_crossentropy: 0.5627 - val_loss: 0.0040 - val_binary_crossentropy: 0.5616\n",
            "Epoch 10/10\n",
            "1500/1500 [==============================] - 11s 7ms/step - loss: 0.0041 - binary_crossentropy: 0.5624 - val_loss: 0.0042 - val_binary_crossentropy: 0.5624\n",
            "1500/1500 [==============================] - 4s 2ms/step\n",
            "188/188 [==============================] - 1s 3ms/step\n",
            "188/188 [==============================] - 0s 3ms/step\n"
          ]
        },
        {
          "output_type": "display_data",
          "data": {
            "image/png": "[encoded data removed]",
            "text/plain": [
              "<Figure size 432x288 with 1 Axes>"
            ]
          },
          "metadata": {
            "needs_background": "light"
          }
        },
        {
          "output_type": "stream",
          "name": "stdout",
          "text": [
            "188/188 [==============================] - 1s 5ms/step - loss: 0.0042 - binary_crossentropy: 0.5614\n",
            "Test set loss: 0.00417210441082716\n"
          ]
        },
        {
          "output_type": "stream",
          "name": "stderr",
          "text": [
            "/usr/local/lib/python3.7/dist-packages/ipykernel_launcher.py:67: MatplotlibDeprecationWarning: Adding an axes using the same arguments as a previous axes currently reuses the earlier instance.  In a future version, a new instance will always be created and returned.  Meanwhile, this warning can be suppressed, and the future behavior ensured, by passing a unique label to each axes instance.\n",
            "/usr/local/lib/python3.7/dist-packages/ipykernel_launcher.py:74: MatplotlibDeprecationWarning: Adding an axes using the same arguments as a previous axes currently reuses the earlier instance.  In a future version, a new instance will always be created and returned.  Meanwhile, this warning can be suppressed, and the future behavior ensured, by passing a unique label to each axes instance.\n"
          ]
        },
        {
          "output_type": "display_data",
          "data": {
            "image/png": "[encoded data removed]",
            "text/plain": [
              "<Figure size 432x288 with 2 Axes>"
            ]
          },
          "metadata": {
            "needs_background": "light"
          }
        }
      ]
    },
    {
      "cell_type": "code",
      "metadata": {
        "colab": {
          "base_uri": "https://localhost:8080/",
          "height": 1000
        },
        "id": "XkHW0LgTUYF0",
        "outputId": "31e9ca29-81d2-453e-8b25-5d52bf689dd9"
      },
      "source": [
        "model, _, _, test_prediction, history = model_fit_transform(models[2], X_train, X_train, X_valid, X_valid, X_test, X_test, epochs=epochs)\n",
        "plot_acc_err(epochs, model, history)\n",
        "img_compare(X_test[0], test_prediction[0], cmap='viridis')"
      ],
      "execution_count": null,
      "outputs": [
        {
          "output_type": "stream",
          "name": "stdout",
          "text": [
            "Model: \"sequential_2\"\n",
            "_________________________________________________________________\n",
            "Layer (type)                 Output Shape              Param #   \n",
            "=================================================================\n",
            "conv2d_10 (Conv2D)           (None, 32, 32, 8)         224       \n",
            "_________________________________________________________________\n",
            "max_pooling2d_4 (MaxPooling2 (None, 16, 16, 8)         0         \n",
            "_________________________________________________________________\n",
            "conv2d_11 (Conv2D)           (None, 16, 16, 12)        876       \n",
            "_________________________________________________________________\n",
            "max_pooling2d_5 (MaxPooling2 (None, 8, 8, 12)          0         \n",
            "_________________________________________________________________\n",
            "conv2d_12 (Conv2D)           (None, 8, 8, 16)          1744      \n",
            "_________________________________________________________________\n",
            "up_sampling2d_4 (UpSampling2 (None, 16, 16, 16)        0         \n",
            "_________________________________________________________________\n",
            "conv2d_13 (Conv2D)           (None, 16, 16, 12)        1740      \n",
            "_________________________________________________________________\n",
            "up_sampling2d_5 (UpSampling2 (None, 32, 32, 12)        0         \n",
            "_________________________________________________________________\n",
            "conv2d_14 (Conv2D)           (None, 32, 32, 3)         327       \n",
            "=================================================================\n",
            "Total params: 4,911\n",
            "Trainable params: 4,911\n",
            "Non-trainable params: 0\n",
            "_________________________________________________________________\n",
            "Epoch 1/10\n",
            "1500/1500 [==============================] - 12s 7ms/step - loss: 60.5056 - binary_crossentropy: 2.9620 - val_loss: 0.1425 - val_binary_crossentropy: 2.9532\n",
            "Epoch 2/10\n",
            "1500/1500 [==============================] - 11s 7ms/step - loss: 0.1441 - binary_crossentropy: 2.9479 - val_loss: 0.1475 - val_binary_crossentropy: 2.9635\n",
            "Epoch 3/10\n",
            "1500/1500 [==============================] - 11s 8ms/step - loss: 0.1419 - binary_crossentropy: 2.9432 - val_loss: 0.1417 - val_binary_crossentropy: 2.9515\n",
            "Epoch 4/10\n",
            "1500/1500 [==============================] - 12s 8ms/step - loss: 0.1407 - binary_crossentropy: 2.9407 - val_loss: 0.1415 - val_binary_crossentropy: 2.9511\n",
            "Epoch 5/10\n",
            "1500/1500 [==============================] - 11s 8ms/step - loss: 0.1401 - binary_crossentropy: 2.9395 - val_loss: 0.1415 - val_binary_crossentropy: 2.9512\n",
            "Epoch 6/10\n",
            "1500/1500 [==============================] - 11s 8ms/step - loss: 0.1402 - binary_crossentropy: 2.9396 - val_loss: 0.1413 - val_binary_crossentropy: 2.9508\n",
            "Epoch 7/10\n",
            "1500/1500 [==============================] - 11s 8ms/step - loss: 0.1403 - binary_crossentropy: 2.9399 - val_loss: 0.1424 - val_binary_crossentropy: 2.9530\n",
            "Epoch 8/10\n",
            "1500/1500 [==============================] - 11s 8ms/step - loss: 0.1407 - binary_crossentropy: 2.9407 - val_loss: 0.1419 - val_binary_crossentropy: 2.9520\n",
            "Epoch 9/10\n",
            "1500/1500 [==============================] - 11s 8ms/step - loss: 0.1407 - binary_crossentropy: 2.9407 - val_loss: 0.1419 - val_binary_crossentropy: 2.9520\n",
            "Epoch 10/10\n",
            "1500/1500 [==============================] - 11s 8ms/step - loss: 0.1408 - binary_crossentropy: 2.9408 - val_loss: 0.1421 - val_binary_crossentropy: 2.9523\n",
            "1500/1500 [==============================] - 4s 2ms/step\n",
            "188/188 [==============================] - 1s 3ms/step\n",
            "188/188 [==============================] - 1s 3ms/step\n"
          ]
        },
        {
          "output_type": "display_data",
          "data": {
            "image/png": "[encoded data removed]",
            "text/plain": [
              "<Figure size 432x288 with 1 Axes>"
            ]
          },
          "metadata": {
            "needs_background": "light"
          }
        },
        {
          "output_type": "stream",
          "name": "stdout",
          "text": [
            "188/188 [==============================] - 1s 5ms/step - loss: 0.1424 - binary_crossentropy: 2.9504\n",
            "Test set loss: 0.14241576194763184\n"
          ]
        },
        {
          "output_type": "stream",
          "name": "stderr",
          "text": [
            "/usr/local/lib/python3.7/dist-packages/ipykernel_launcher.py:67: MatplotlibDeprecationWarning: Adding an axes using the same arguments as a previous axes currently reuses the earlier instance.  In a future version, a new instance will always be created and returned.  Meanwhile, this warning can be suppressed, and the future behavior ensured, by passing a unique label to each axes instance.\n",
            "/usr/local/lib/python3.7/dist-packages/ipykernel_launcher.py:74: MatplotlibDeprecationWarning: Adding an axes using the same arguments as a previous axes currently reuses the earlier instance.  In a future version, a new instance will always be created and returned.  Meanwhile, this warning can be suppressed, and the future behavior ensured, by passing a unique label to each axes instance.\n"
          ]
        },
        {
          "output_type": "display_data",
          "data": {
            "image/png": "[encoded data removed]",
            "text/plain": [
              "<Figure size 432x288 with 2 Axes>"
            ]
          },
          "metadata": {
            "needs_background": "light"
          }
        }
      ]
    },
    {
      "cell_type": "code",
      "metadata": {
        "colab": {
          "base_uri": "https://localhost:8080/",
          "height": 1000
        },
        "id": "ZaROKn2yUZjO",
        "outputId": "492d6d19-126a-4d9c-b347-53dfc7dec799"
      },
      "source": [
        "model, _, _, test_prediction, history = model_fit_transform(models[3], X_train, X_train, X_valid, X_valid, X_test, X_test, epochs=epochs)\n",
        "plot_acc_err(epochs, model, history)\n",
        "img_compare(X_test[0], test_prediction[0], cmap='viridis')"
      ],
      "execution_count": null,
      "outputs": [
        {
          "output_type": "stream",
          "name": "stdout",
          "text": [
            "Model: \"sequential_3\"\n",
            "_________________________________________________________________\n",
            "Layer (type)                 Output Shape              Param #   \n",
            "=================================================================\n",
            "conv2d_15 (Conv2D)           (None, 32, 32, 8)         224       \n",
            "_________________________________________________________________\n",
            "max_pooling2d_6 (MaxPooling2 (None, 16, 16, 8)         0         \n",
            "_________________________________________________________________\n",
            "conv2d_16 (Conv2D)           (None, 16, 16, 12)        876       \n",
            "_________________________________________________________________\n",
            "max_pooling2d_7 (MaxPooling2 (None, 8, 8, 12)          0         \n",
            "_________________________________________________________________\n",
            "conv2d_17 (Conv2D)           (None, 8, 8, 16)          1744      \n",
            "_________________________________________________________________\n",
            "up_sampling2d_6 (UpSampling2 (None, 16, 16, 16)        0         \n",
            "_________________________________________________________________\n",
            "conv2d_18 (Conv2D)           (None, 16, 16, 12)        1740      \n",
            "_________________________________________________________________\n",
            "up_sampling2d_7 (UpSampling2 (None, 32, 32, 12)        0         \n",
            "_________________________________________________________________\n",
            "conv2d_19 (Conv2D)           (None, 32, 32, 3)         327       \n",
            "=================================================================\n",
            "Total params: 4,911\n",
            "Trainable params: 4,911\n",
            "Non-trainable params: 0\n",
            "_________________________________________________________________\n",
            "Epoch 1/10\n",
            "1500/1500 [==============================] - 42s 8ms/step - loss: 0.6255 - mean_squared_error: 0.0230 - val_loss: 0.5776 - val_mean_squared_error: 0.0117\n",
            "Epoch 2/10\n",
            "1500/1500 [==============================] - 12s 8ms/step - loss: 0.5789 - mean_squared_error: 0.0118 - val_loss: 0.5726 - val_mean_squared_error: 0.0098\n",
            "Epoch 3/10\n",
            "1500/1500 [==============================] - 12s 8ms/step - loss: 0.5743 - mean_squared_error: 0.0100 - val_loss: 0.5698 - val_mean_squared_error: 0.0088\n",
            "Epoch 4/10\n",
            "1500/1500 [==============================] - 12s 8ms/step - loss: 0.5728 - mean_squared_error: 0.0094 - val_loss: 0.5712 - val_mean_squared_error: 0.0091\n",
            "Epoch 5/10\n",
            "1500/1500 [==============================] - 12s 8ms/step - loss: 0.5699 - mean_squared_error: 0.0083 - val_loss: 0.5677 - val_mean_squared_error: 0.0076\n",
            "Epoch 6/10\n",
            "1500/1500 [==============================] - 12s 8ms/step - loss: 0.5678 - mean_squared_error: 0.0074 - val_loss: 0.5644 - val_mean_squared_error: 0.0067\n",
            "Epoch 7/10\n",
            "1500/1500 [==============================] - 12s 8ms/step - loss: 0.5679 - mean_squared_error: 0.0075 - val_loss: 0.5637 - val_mean_squared_error: 0.0063\n",
            "Epoch 8/10\n",
            "1500/1500 [==============================] - 12s 8ms/step - loss: 0.5662 - mean_squared_error: 0.0069 - val_loss: 0.5639 - val_mean_squared_error: 0.0064\n",
            "Epoch 9/10\n",
            "1500/1500 [==============================] - 12s 8ms/step - loss: 0.5708 - mean_squared_error: 0.0087 - val_loss: 0.5634 - val_mean_squared_error: 0.0063\n",
            "Epoch 10/10\n",
            "1500/1500 [==============================] - 12s 8ms/step - loss: 0.5677 - mean_squared_error: 0.0075 - val_loss: 0.5684 - val_mean_squared_error: 0.0082\n",
            "1500/1500 [==============================] - 4s 2ms/step\n",
            "188/188 [==============================] - 1s 3ms/step\n",
            "188/188 [==============================] - 1s 3ms/step\n"
          ]
        },
        {
          "output_type": "display_data",
          "data": {
            "image/png": "[encoded data removed]",
            "text/plain": [
              "<Figure size 432x288 with 1 Axes>"
            ]
          },
          "metadata": {
            "needs_background": "light"
          }
        },
        {
          "output_type": "stream",
          "name": "stdout",
          "text": [
            "188/188 [==============================] - 1s 5ms/step - loss: 0.5674 - mean_squared_error: 0.0082\n",
            "Test set loss: 0.567424476146698\n"
          ]
        },
        {
          "output_type": "stream",
          "name": "stderr",
          "text": [
            "/usr/local/lib/python3.7/dist-packages/ipykernel_launcher.py:67: MatplotlibDeprecationWarning: Adding an axes using the same arguments as a previous axes currently reuses the earlier instance.  In a future version, a new instance will always be created and returned.  Meanwhile, this warning can be suppressed, and the future behavior ensured, by passing a unique label to each axes instance.\n",
            "/usr/local/lib/python3.7/dist-packages/ipykernel_launcher.py:74: MatplotlibDeprecationWarning: Adding an axes using the same arguments as a previous axes currently reuses the earlier instance.  In a future version, a new instance will always be created and returned.  Meanwhile, this warning can be suppressed, and the future behavior ensured, by passing a unique label to each axes instance.\n"
          ]
        },
        {
          "output_type": "display_data",
          "data": {
            "image/png": "[encoded data removed]",
            "text/plain": [
              "<Figure size 432x288 with 2 Axes>"
            ]
          },
          "metadata": {
            "needs_background": "light"
          }
        }
      ]
    },
    {
      "cell_type": "markdown",
      "metadata": {
        "id": "ZRHTo2wgL7c1"
      },
      "source": [
        "We see that for a learning rate of 1e-5 it takes longer than 10 epochs for the model to converge as the model produces a higher loss than the model with an error rate of 1e-3. A learning rate of 0.1 seems to high, the model basically outputs an image with only one color. A learning rate of 1e-3 seems to be a good trade-off between training time and quality of the results. Overall however, the images are quite blurry. Using binary cross entropy versus mean squared error does not seem to have an impact."
      ]
    },
    {
      "cell_type": "markdown",
      "metadata": {
        "id": "FAbqbhMeL7c2"
      },
      "source": [
        "## 1. What is the size of the latent space representation of the above network?\n",
        "\n",
        "These following are the numbers for the variables of the last convultion layer (i.e. the latent space)\n",
        "\n",
        "Input volume = 8 (8x8)\\\n",
        "Kernel size = 3 (3x3)\\\n",
        "Padding = 1\\\n",
        "Stride = 1\\\n",
        "Channels = 16\n",
        "\n",
        "Size of latent space = $(\\frac{8-3+2\\cdot 1}{1}+1)^2\\cdot 16$ = 1024"
      ]
    },
    {
      "cell_type": "markdown",
      "metadata": {
        "id": "Dk7OIlU9gh7i"
      },
      "source": [
        "## 2. Try other architectures (e.g. fewer intermediate layers, different number of channels, filter sizes or stride and padding configurations) to answer questions such as: What is the impact of those in the reconstruction error after training? Is there an obvious correlation between the size of the latent space representation and the error?"
      ]
    },
    {
      "cell_type": "markdown",
      "metadata": {
        "id": "r3MIas3HhASx"
      },
      "source": [
        "### 2.1 drastically increasing number of channels"
      ]
    },
    {
      "cell_type": "code",
      "metadata": {
        "id": "-HIQVHZ9gvZj"
      },
      "source": [
        "def create_model01(input_shape):\n",
        "  model_layout01 = Sequential()\n",
        "  model_layout01.add(Input(shape=input_shape))\n",
        "  model_layout01.add(Conv2D(128, kernel_size = (3,3), padding='same',  activation='relu'))\n",
        "  model_layout01.add(Conv2D(92, kernel_size = (3,3), padding='same',  activation='relu'))\n",
        "  model_layout01.add(MaxPooling2D(pool_size = (2,2)))\n",
        "  model_layout01.add(Conv2D(78, kernel_size = (3,3), padding='same', activation='relu'))\n",
        "  model_layout01.add(MaxPooling2D(pool_size = (2,2)))\n",
        "  model_layout01.add(Conv2D(64, kernel_size = (3,3), padding='same', activation='relu'))\n",
        "\n",
        "  model_layout01.add(UpSampling2D(size=(2,2)))\n",
        "  model_layout01.add(Conv2D(32,kernel_size = (3,3), padding='same', activation='relu'))\n",
        "  model_layout01.add(Conv2D(24,kernel_size = (3,3), padding='same', activation='relu'))\n",
        "  model_layout01.add(Conv2D(16,kernel_size = (3,3), padding='same', activation='relu'))\n",
        "\n",
        "  model_layout01.add(UpSampling2D())\n",
        "  model_layout01.add(Conv2D(8,kernel_size = (3,3), padding='same', activation='relu'))\n",
        "  model_layout01.add(Conv2D(3,(3,3), padding='same', activation='relu'))\n",
        "  return model_layout01\n",
        "model_layout01 = create_model01(shape_color_instance)\n",
        "\n",
        "model_layout01.compile(\n",
        "    optimizer=keras.optimizers.Adam(learning_rate=1e-3),\n",
        "    loss=keras.losses.MeanSquaredError(),\n",
        "    metrics=[keras.metrics.BinaryCrossentropy()])\n"
      ],
      "execution_count": 75,
      "outputs": []
    },
    {
      "cell_type": "code",
      "metadata": {
        "colab": {
          "base_uri": "https://localhost:8080/",
          "height": 1000
        },
        "id": "j3nJzjmog0N-",
        "outputId": "6ab981ac-08e1-41ae-bbbd-1bcdc80b2aad"
      },
      "source": [
        "model_layout01, X_train_1, X_valid_1, X_test_1, history = model_fit_transform(model_layout01, x_train=X_train, y_train=X_train,\n",
        "                                                                              x_valid=X_valid, y_valid=X_valid,\n",
        "                                                                              x_test=X_test, y_test=X_test)\n",
        "img_compare(X_test[1], X_test_1[1], cmap='viridis')"
      ],
      "execution_count": null,
      "outputs": [
        {
          "output_type": "stream",
          "name": "stdout",
          "text": [
            "Model: \"sequential_4\"\n",
            "_________________________________________________________________\n",
            "Layer (type)                 Output Shape              Param #   \n",
            "=================================================================\n",
            "conv2d_20 (Conv2D)           (None, 32, 32, 128)       3584      \n",
            "_________________________________________________________________\n",
            "conv2d_21 (Conv2D)           (None, 32, 32, 92)        106076    \n",
            "_________________________________________________________________\n",
            "max_pooling2d_8 (MaxPooling2 (None, 16, 16, 92)        0         \n",
            "_________________________________________________________________\n",
            "conv2d_22 (Conv2D)           (None, 16, 16, 78)        64662     \n",
            "_________________________________________________________________\n",
            "max_pooling2d_9 (MaxPooling2 (None, 8, 8, 78)          0         \n",
            "_________________________________________________________________\n",
            "conv2d_23 (Conv2D)           (None, 8, 8, 64)          44992     \n",
            "_________________________________________________________________\n",
            "up_sampling2d_8 (UpSampling2 (None, 16, 16, 64)        0         \n",
            "_________________________________________________________________\n",
            "conv2d_24 (Conv2D)           (None, 16, 16, 32)        18464     \n",
            "_________________________________________________________________\n",
            "conv2d_25 (Conv2D)           (None, 16, 16, 24)        6936      \n",
            "_________________________________________________________________\n",
            "conv2d_26 (Conv2D)           (None, 16, 16, 16)        3472      \n",
            "_________________________________________________________________\n",
            "up_sampling2d_9 (UpSampling2 (None, 32, 32, 16)        0         \n",
            "_________________________________________________________________\n",
            "conv2d_27 (Conv2D)           (None, 32, 32, 8)         1160      \n",
            "_________________________________________________________________\n",
            "conv2d_28 (Conv2D)           (None, 32, 32, 3)         219       \n",
            "=================================================================\n",
            "Total params: 249,565\n",
            "Trainable params: 249,565\n",
            "Non-trainable params: 0\n",
            "_________________________________________________________________\n",
            "Epoch 1/10\n",
            "1500/1500 [==============================] - 38s 25ms/step - loss: 0.0078 - binary_crossentropy: 0.5877 - val_loss: 0.0036 - val_binary_crossentropy: 0.5603\n",
            "Epoch 2/10\n",
            "1500/1500 [==============================] - 37s 24ms/step - loss: 0.0033 - binary_crossentropy: 0.5596 - val_loss: 0.0026 - val_binary_crossentropy: 0.5578\n",
            "Epoch 3/10\n",
            "1500/1500 [==============================] - 37s 24ms/step - loss: 0.0025 - binary_crossentropy: 0.5574 - val_loss: 0.0021 - val_binary_crossentropy: 0.5557\n",
            "Epoch 4/10\n",
            "1500/1500 [==============================] - 37s 25ms/step - loss: 0.0021 - binary_crossentropy: 0.5561 - val_loss: 0.0025 - val_binary_crossentropy: 0.5588\n",
            "Epoch 5/10\n",
            "1500/1500 [==============================] - 37s 25ms/step - loss: 0.0018 - binary_crossentropy: 0.5550 - val_loss: 0.0017 - val_binary_crossentropy: 0.5553\n",
            "Epoch 6/10\n",
            "1500/1500 [==============================] - 37s 25ms/step - loss: 0.0017 - binary_crossentropy: 0.5545 - val_loss: 0.0016 - val_binary_crossentropy: 0.5544\n",
            "Epoch 7/10\n",
            "1500/1500 [==============================] - 37s 24ms/step - loss: 0.0018 - binary_crossentropy: 0.5548 - val_loss: 0.0014 - val_binary_crossentropy: 0.5537\n",
            "Epoch 8/10\n",
            "1500/1500 [==============================] - 37s 24ms/step - loss: 0.0015 - binary_crossentropy: 0.5536 - val_loss: 0.0018 - val_binary_crossentropy: 0.5552\n",
            "Epoch 9/10\n",
            "1500/1500 [==============================] - 37s 24ms/step - loss: 0.0014 - binary_crossentropy: 0.5533 - val_loss: 0.0015 - val_binary_crossentropy: 0.5541\n",
            "Epoch 10/10\n",
            "1500/1500 [==============================] - 37s 25ms/step - loss: 0.0013 - binary_crossentropy: 0.5531 - val_loss: 0.0012 - val_binary_crossentropy: 0.5534\n",
            "1500/1500 [==============================] - 9s 6ms/step\n",
            "188/188 [==============================] - 1s 6ms/step\n",
            "188/188 [==============================] - 1s 6ms/step\n"
          ]
        },
        {
          "output_type": "stream",
          "name": "stderr",
          "text": [
            "/usr/local/lib/python3.7/dist-packages/ipykernel_launcher.py:67: MatplotlibDeprecationWarning: Adding an axes using the same arguments as a previous axes currently reuses the earlier instance.  In a future version, a new instance will always be created and returned.  Meanwhile, this warning can be suppressed, and the future behavior ensured, by passing a unique label to each axes instance.\n",
            "/usr/local/lib/python3.7/dist-packages/ipykernel_launcher.py:74: MatplotlibDeprecationWarning: Adding an axes using the same arguments as a previous axes currently reuses the earlier instance.  In a future version, a new instance will always be created and returned.  Meanwhile, this warning can be suppressed, and the future behavior ensured, by passing a unique label to each axes instance.\n"
          ]
        },
        {
          "output_type": "display_data",
          "data": {
            "image/png": "[encoded data removed]",
            "text/plain": [
              "<Figure size 432x288 with 2 Axes>"
            ]
          },
          "metadata": {
            "needs_background": "light"
          }
        }
      ]
    },
    {
      "cell_type": "markdown",
      "metadata": {
        "id": "jsdGXssYL7c6"
      },
      "source": [
        "We see that performance increases dramatically, especially when visually comparing the two pictures. This is somewhat expected, as we are increasing the size of our latent space by increasing the number of channels. Looking at the formula to calculate the size of the latent space, our latent space is 4x as large, as we have 4x as many channels and channels multiply the size. With a larger latent space, the information does not need to be condensed as much, which results in a better ability of our model to reconstruct the image, as it has more information than previously."
      ]
    },
    {
      "cell_type": "markdown",
      "metadata": {
        "id": "DsD1KTWX46nu"
      },
      "source": [
        "### Adding more Max-Pooling Layers"
      ]
    },
    {
      "cell_type": "code",
      "metadata": {
        "id": "c6qNv-IX4xOb"
      },
      "source": [
        "model_layout02 = Sequential()\n",
        "model_layout02.add(Input(shape=shape_color_instance))\n",
        "model_layout02.add(Conv2D(8, kernel_size = (3,3), padding='same',  activation='relu'))\n",
        "model_layout02.add(MaxPooling2D(pool_size = (2,2), padding='same'))\n",
        "model_layout02.add(Conv2D(12, kernel_size = (3,3), padding='same', activation='relu'))\n",
        "model_layout02.add(MaxPooling2D(pool_size = (2,2)))\n",
        "model_layout02.add(Conv2D(16, kernel_size = (3,3), padding='same', activation='relu'))\n",
        "model_layout02.add(MaxPooling2D(pool_size = (2,2)))\n",
        "model_layout02.add(Conv2D(32, kernel_size = (3,3), padding='same', activation='relu'))\n",
        "model_layout02.add(UpSampling2D(size=(2,2)))\n",
        "model_layout02.add(Conv2D(16,kernel_size = (3,3), padding='same', activation='relu'))\n",
        "model_layout02.add(UpSampling2D())\n",
        "model_layout02.add(Conv2D(8,kernel_size = (3,3), padding='same', activation='relu'))\n",
        "model_layout02.add(UpSampling2D())\n",
        "model_layout02.add(Conv2D(3,(3,3), padding='same', activation='relu'))\n",
        "\n",
        "\n",
        "# compile the model_layout02\n",
        "model_layout02.compile(\n",
        "    optimizer=keras.optimizers.Adam(learning_rate=1e-3),\n",
        "    loss=keras.losses.MeanSquaredError(),\n",
        "    metrics=[keras.metrics.BinaryCrossentropy()])"
      ],
      "execution_count": null,
      "outputs": []
    },
    {
      "cell_type": "code",
      "metadata": {
        "colab": {
          "base_uri": "https://localhost:8080/",
          "height": 1000
        },
        "id": "S3JEqDqa6MRH",
        "outputId": "27e46d06-626b-4fde-c8a4-7cea8ee15f27"
      },
      "source": [
        "model_layout02, X_train_2, X_valid_2, X_test_2, history = model_fit_transform(model_layout02, x_train=X_train, y_train=X_train,\n",
        "                                                                              x_valid=X_valid, y_valid=X_valid,\n",
        "                                                                              x_test=X_test, y_test=X_test)\n",
        "img_compare(X_test[1], X_test_2[1])"
      ],
      "execution_count": null,
      "outputs": [
        {
          "output_type": "stream",
          "name": "stdout",
          "text": [
            "Model: \"sequential_1\"\n",
            "_________________________________________________________________\n",
            "Layer (type)                 Output Shape              Param #   \n",
            "=================================================================\n",
            "conv2d_9 (Conv2D)            (None, 32, 32, 8)         224       \n",
            "_________________________________________________________________\n",
            "max_pooling2d_2 (MaxPooling2 (None, 16, 16, 8)         0         \n",
            "_________________________________________________________________\n",
            "conv2d_10 (Conv2D)           (None, 16, 16, 12)        876       \n",
            "_________________________________________________________________\n",
            "max_pooling2d_3 (MaxPooling2 (None, 8, 8, 12)          0         \n",
            "_________________________________________________________________\n",
            "conv2d_11 (Conv2D)           (None, 8, 8, 16)          1744      \n",
            "_________________________________________________________________\n",
            "max_pooling2d_4 (MaxPooling2 (None, 4, 4, 16)          0         \n",
            "_________________________________________________________________\n",
            "conv2d_12 (Conv2D)           (None, 4, 4, 32)          4640      \n",
            "_________________________________________________________________\n",
            "up_sampling2d_2 (UpSampling2 (None, 8, 8, 32)          0         \n",
            "_________________________________________________________________\n",
            "conv2d_13 (Conv2D)           (None, 8, 8, 16)          4624      \n",
            "_________________________________________________________________\n",
            "up_sampling2d_3 (UpSampling2 (None, 16, 16, 16)        0         \n",
            "_________________________________________________________________\n",
            "conv2d_14 (Conv2D)           (None, 16, 16, 8)         1160      \n",
            "_________________________________________________________________\n",
            "up_sampling2d_4 (UpSampling2 (None, 32, 32, 8)         0         \n",
            "_________________________________________________________________\n",
            "conv2d_15 (Conv2D)           (None, 32, 32, 3)         219       \n",
            "=================================================================\n",
            "Total params: 13,487\n",
            "Trainable params: 13,487\n",
            "Non-trainable params: 0\n",
            "_________________________________________________________________\n",
            "Epoch 1/10\n",
            "1500/1500 [==============================] - 13s 8ms/step - loss: 0.0202 - binary_crossentropy: 0.6281 - val_loss: 0.0128 - val_binary_crossentropy: 0.5816\n",
            "Epoch 2/10\n",
            "1500/1500 [==============================] - 12s 8ms/step - loss: 0.0118 - binary_crossentropy: 0.5801 - val_loss: 0.0111 - val_binary_crossentropy: 0.5781\n",
            "Epoch 3/10\n",
            "1500/1500 [==============================] - 12s 8ms/step - loss: 0.0107 - binary_crossentropy: 0.5778 - val_loss: 0.0105 - val_binary_crossentropy: 0.5782\n",
            "Epoch 4/10\n",
            "1500/1500 [==============================] - 12s 8ms/step - loss: 0.0101 - binary_crossentropy: 0.5765 - val_loss: 0.0102 - val_binary_crossentropy: 0.5758\n",
            "Epoch 5/10\n",
            "1500/1500 [==============================] - 12s 8ms/step - loss: 0.0097 - binary_crossentropy: 0.5755 - val_loss: 0.0095 - val_binary_crossentropy: 0.5746\n",
            "Epoch 6/10\n",
            "1500/1500 [==============================] - 12s 8ms/step - loss: 0.0094 - binary_crossentropy: 0.5749 - val_loss: 0.0092 - val_binary_crossentropy: 0.5743\n",
            "Epoch 7/10\n",
            "1500/1500 [==============================] - 12s 8ms/step - loss: 0.0091 - binary_crossentropy: 0.5743 - val_loss: 0.0090 - val_binary_crossentropy: 0.5736\n",
            "Epoch 8/10\n",
            "1500/1500 [==============================] - 12s 8ms/step - loss: 0.0089 - binary_crossentropy: 0.5738 - val_loss: 0.0090 - val_binary_crossentropy: 0.5743\n",
            "Epoch 9/10\n",
            "1500/1500 [==============================] - 12s 8ms/step - loss: 0.0087 - binary_crossentropy: 0.5733 - val_loss: 0.0087 - val_binary_crossentropy: 0.5738\n",
            "Epoch 10/10\n",
            "1500/1500 [==============================] - 13s 8ms/step - loss: 0.0085 - binary_crossentropy: 0.5729 - val_loss: 0.0085 - val_binary_crossentropy: 0.5727\n",
            "1500/1500 [==============================] - 4s 3ms/step\n",
            "188/188 [==============================] - 1s 3ms/step\n",
            "188/188 [==============================] - 1s 3ms/step\n"
          ]
        },
        {
          "output_type": "stream",
          "name": "stderr",
          "text": [
            "/usr/local/lib/python3.7/dist-packages/ipykernel_launcher.py:67: MatplotlibDeprecationWarning: Adding an axes using the same arguments as a previous axes currently reuses the earlier instance.  In a future version, a new instance will always be created and returned.  Meanwhile, this warning can be suppressed, and the future behavior ensured, by passing a unique label to each axes instance.\n",
            "/usr/local/lib/python3.7/dist-packages/ipykernel_launcher.py:74: MatplotlibDeprecationWarning: Adding an axes using the same arguments as a previous axes currently reuses the earlier instance.  In a future version, a new instance will always be created and returned.  Meanwhile, this warning can be suppressed, and the future behavior ensured, by passing a unique label to each axes instance.\n"
          ]
        },
        {
          "output_type": "display_data",
          "data": {
            "image/png": "[encoded data removed]",
            "text/plain": [
              "<Figure size 432x288 with 2 Axes>"
            ]
          },
          "metadata": {
            "needs_background": "light"
          }
        }
      ]
    },
    {
      "cell_type": "markdown",
      "metadata": {
        "id": "9dzr8deIL7c_"
      },
      "source": [
        "By reducing the input volume of the latent space, we see a decrease in performance. The information in the image needs to be compressed even more than before to fit the size of the latent space and inevitably, this leads to some loss of information. This in turn, leads to a decreasde in performance of our model."
      ]
    },
    {
      "cell_type": "markdown",
      "metadata": {
        "id": "3r-fTe_p7vEm"
      },
      "source": [
        "### Attempt to increase sharpness by adding more convolutional layers in the decoder"
      ]
    },
    {
      "cell_type": "code",
      "metadata": {
        "id": "CW59Wy3r733i"
      },
      "source": [
        "model_layout03 = Sequential()\n",
        "model_layout03.add(Input(shape=shape_color_instance))\n",
        "model_layout03.add(Conv2D(32, kernel_size = (3,3), padding='same',  activation='relu'))\n",
        "model_layout03.add(MaxPooling2D(pool_size = (2,2), padding='same'))\n",
        "model_layout03.add(Conv2D(64, kernel_size = (3,3), padding='same', activation='relu'))\n",
        "model_layout03.add(MaxPooling2D(pool_size = (2,2)))\n",
        "model_layout03.add(Conv2D(128, kernel_size = (3,3), padding='same', activation='relu'))\n",
        "model_layout03.add(UpSampling2D(size=(2,2)))\n",
        "model_layout03.add(Conv2D(64,kernel_size = (3,3), padding='same', activation='relu'))\n",
        "model_layout03.add(UpSampling2D())\n",
        "model_layout03.add(Conv2D(32, kernel_size = (3,3), padding='same',  activation='relu'))\n",
        "model_layout03.add(Conv2D(16, kernel_size = (3,3), padding='same',  activation='relu'))\n",
        "model_layout03.add(Conv2D(3,(3,3), padding='same', activation='sigmoid'))\n",
        "\n",
        "\n",
        "# compile the model_layout03\n",
        "model_layout03.compile(\n",
        "    optimizer=keras.optimizers.Adam(learning_rate=1e-3),\n",
        "    loss=keras.losses.MeanSquaredError(),\n",
        "    metrics=[keras.metrics.BinaryCrossentropy()])\n"
      ],
      "execution_count": null,
      "outputs": []
    },
    {
      "cell_type": "code",
      "metadata": {
        "colab": {
          "base_uri": "https://localhost:8080/",
          "height": 1000
        },
        "id": "ykBYQsml9WHv",
        "outputId": "f86f87b1-6e6a-45b0-96c5-6672fa25e1fe"
      },
      "source": [
        "model_layout03, X_train_3, X_valid_3, X_test_3, history = model_fit_transform(model_layout03, x_train=X_train, y_train=X_train,\n",
        "                                                                     x_valid=X_valid, y_valid=X_valid,\n",
        "                                                                     x_test=X_test, y_test=X_test)\n",
        "img_compare(X_test[0], X_test_3[0])"
      ],
      "execution_count": null,
      "outputs": [
        {
          "output_type": "stream",
          "name": "stdout",
          "text": [
            "Model: \"sequential\"\n",
            "_________________________________________________________________\n",
            "Layer (type)                 Output Shape              Param #   \n",
            "=================================================================\n",
            "conv2d (Conv2D)              (None, 32, 32, 32)        896       \n",
            "_________________________________________________________________\n",
            "max_pooling2d (MaxPooling2D) (None, 16, 16, 32)        0         \n",
            "_________________________________________________________________\n",
            "conv2d_1 (Conv2D)            (None, 16, 16, 64)        18496     \n",
            "_________________________________________________________________\n",
            "max_pooling2d_1 (MaxPooling2 (None, 8, 8, 64)          0         \n",
            "_________________________________________________________________\n",
            "conv2d_2 (Conv2D)            (None, 8, 8, 128)         73856     \n",
            "_________________________________________________________________\n",
            "up_sampling2d (UpSampling2D) (None, 16, 16, 128)       0         \n",
            "_________________________________________________________________\n",
            "conv2d_3 (Conv2D)            (None, 16, 16, 64)        73792     \n",
            "_________________________________________________________________\n",
            "up_sampling2d_1 (UpSampling2 (None, 32, 32, 64)        0         \n",
            "_________________________________________________________________\n",
            "conv2d_4 (Conv2D)            (None, 32, 32, 32)        18464     \n",
            "_________________________________________________________________\n",
            "conv2d_5 (Conv2D)            (None, 32, 32, 16)        4624      \n",
            "_________________________________________________________________\n",
            "conv2d_6 (Conv2D)            (None, 32, 32, 3)         435       \n",
            "=================================================================\n",
            "Total params: 190,563\n",
            "Trainable params: 190,563\n",
            "Non-trainable params: 0\n",
            "_________________________________________________________________\n",
            "Epoch 1/10\n",
            "1500/1500 [==============================] - 35s 19ms/step - loss: 0.0057 - binary_crossentropy: 0.5620 - val_loss: 0.0029 - val_binary_crossentropy: 0.5557\n",
            "Epoch 2/10\n",
            "1500/1500 [==============================] - 27s 18ms/step - loss: 0.0025 - binary_crossentropy: 0.5538 - val_loss: 0.0021 - val_binary_crossentropy: 0.5537\n",
            "Epoch 3/10\n",
            "1500/1500 [==============================] - 28s 18ms/step - loss: 0.0020 - binary_crossentropy: 0.5524 - val_loss: 0.0018 - val_binary_crossentropy: 0.5528\n",
            "Epoch 4/10\n",
            "1500/1500 [==============================] - 27s 18ms/step - loss: 0.0017 - binary_crossentropy: 0.5517 - val_loss: 0.0016 - val_binary_crossentropy: 0.5522\n",
            "Epoch 5/10\n",
            "1500/1500 [==============================] - 27s 18ms/step - loss: 0.0015 - binary_crossentropy: 0.5511 - val_loss: 0.0014 - val_binary_crossentropy: 0.5516\n",
            "Epoch 6/10\n",
            "1500/1500 [==============================] - 27s 18ms/step - loss: 0.0014 - binary_crossentropy: 0.5508 - val_loss: 0.0015 - val_binary_crossentropy: 0.5519\n",
            "Epoch 7/10\n",
            "1500/1500 [==============================] - 27s 18ms/step - loss: 0.0013 - binary_crossentropy: 0.5505 - val_loss: 0.0013 - val_binary_crossentropy: 0.5514\n",
            "Epoch 8/10\n",
            "1500/1500 [==============================] - 27s 18ms/step - loss: 0.0013 - binary_crossentropy: 0.5503 - val_loss: 0.0012 - val_binary_crossentropy: 0.5511\n",
            "Epoch 9/10\n",
            "1500/1500 [==============================] - 27s 18ms/step - loss: 0.0012 - binary_crossentropy: 0.5501 - val_loss: 0.0011 - val_binary_crossentropy: 0.5509\n",
            "Epoch 10/10\n",
            "1500/1500 [==============================] - 27s 18ms/step - loss: 0.0011 - binary_crossentropy: 0.5500 - val_loss: 0.0011 - val_binary_crossentropy: 0.5509\n",
            "1500/1500 [==============================] - 7s 5ms/step\n",
            "188/188 [==============================] - 1s 5ms/step\n",
            "188/188 [==============================] - 1s 5ms/step\n"
          ]
        },
        {
          "output_type": "stream",
          "name": "stderr",
          "text": [
            "/usr/local/lib/python3.7/dist-packages/ipykernel_launcher.py:67: MatplotlibDeprecationWarning: Adding an axes using the same arguments as a previous axes currently reuses the earlier instance.  In a future version, a new instance will always be created and returned.  Meanwhile, this warning can be suppressed, and the future behavior ensured, by passing a unique label to each axes instance.\n",
            "/usr/local/lib/python3.7/dist-packages/ipykernel_launcher.py:74: MatplotlibDeprecationWarning: Adding an axes using the same arguments as a previous axes currently reuses the earlier instance.  In a future version, a new instance will always be created and returned.  Meanwhile, this warning can be suppressed, and the future behavior ensured, by passing a unique label to each axes instance.\n"
          ]
        },
        {
          "output_type": "display_data",
          "data": {
            "image/png": "[encoded data removed]",
            "text/plain": [
              "<Figure size 432x288 with 2 Axes>"
            ]
          },
          "metadata": {
            "needs_background": "light"
          }
        }
      ]
    },
    {
      "cell_type": "markdown",
      "metadata": {
        "id": "hccvjnbYL7dC"
      },
      "source": [
        "For this particular architecture, we see an increase in performance compared to the model with more Max-Pooling layers (which is to be expected as the latent space of this model is larger), but it is still outperformed by the network with more channels. Therefore we can say that adding more convolutional layers for the decoder does not contribute towards better performance."
      ]
    },
    {
      "cell_type": "markdown",
      "metadata": {
        "id": "0NwWgxYUCeDr"
      },
      "source": [
        "### Drastically reducing model complexity"
      ]
    },
    {
      "cell_type": "code",
      "metadata": {
        "id": "YEdI4X0XCdL0"
      },
      "source": [
        "model_layout04 = Sequential()\n",
        "model_layout04.add(Input(shape=shape_color_instance))\n",
        "model_layout04.add(Conv2D(3, kernel_size = (3,3), padding='same',  activation='relu'))\n",
        "\n",
        "\n",
        "model_layout04.compile(\n",
        "  optimizer=keras.optimizers.Adam(learning_rate=1e-3),\n",
        "  loss=keras.losses.MeanSquaredError(),\n",
        "  metrics=[keras.metrics.BinaryCrossentropy()])"
      ],
      "execution_count": null,
      "outputs": []
    },
    {
      "cell_type": "code",
      "metadata": {
        "id": "CqBVvxw1C8ZD"
      },
      "source": [
        "model_layout04, X_train_4, X_valid_4, X_test_4 = model_fit_transform(model_layout04, X_train, X_valid, X_test)\n",
        "img_compare(X_test[1], X_test_4[1])"
      ],
      "execution_count": null,
      "outputs": []
    },
    {
      "cell_type": "markdown",
      "metadata": {
        "id": "rEHXjffFL7dF"
      },
      "source": [
        "This experiment is quite interesting, as this model only has one layer. In theory, it should therefore learn to not change the image at all. Presumably, the filters the network learns only have the individual pixels contribute to the output of that same pixel."
      ]
    },
    {
      "cell_type": "markdown",
      "metadata": {
        "id": "NMEBbeTFL7dG"
      },
      "source": [
        "### Trying a different stride parameter\n",
        "\n",
        "To still have the model output the same dimension as the input, we remove some layers and increase the upsampling factors of the upsampling layers."
      ]
    },
    {
      "cell_type": "code",
      "metadata": {
        "id": "SjDSvlWRL7dH"
      },
      "source": [
        "model_layout05 =  Sequential()\n",
        "model_layout05.add(Input(shape=shape_color_instance))\n",
        "model_layout05.add(Conv2D(8, kernel_size = (3,3), padding='same',  activation='relu', strides=(2, 2)))\n",
        "model_layout05.add(MaxPooling2D(pool_size = (2,2), padding='same'))\n",
        "model_layout05.add(Conv2D(16, kernel_size = (3,3), padding='same', activation='relu', strides=(2, 2)))\n",
        "model_layout05.add(UpSampling2D(size=(4,4)))\n",
        "model_layout05.add(Conv2D(3,(3,3), padding='same', activation='relu', strides=(2, 2)))\n",
        "model_layout05.add(UpSampling2D(size=(4,4)))\n",
        "\n",
        "model_layout05.compile(\n",
        "  optimizer=keras.optimizers.Adam(learning_rate=1e-3),\n",
        "  loss=keras.losses.MeanSquaredError(),\n",
        "  metrics=[keras.metrics.BinaryCrossentropy()])"
      ],
      "execution_count": null,
      "outputs": []
    },
    {
      "cell_type": "code",
      "metadata": {
        "id": "H-dy3DOwL7dI"
      },
      "source": [
        "model_layout05, X_train_5, X_valid_5, X_test_5 = model_fit_transform(model_layout05, X_train, X_valid, X_test)\n",
        "img_compare(X_test[1], X_test_5[1])"
      ],
      "execution_count": null,
      "outputs": []
    },
    {
      "cell_type": "markdown",
      "metadata": {
        "id": "VM7s67jGEbcq"
      },
      "source": [
        "## 1. Adapt your network from the previous part such that it learns to reconstruct colors"
      ]
    },
    {
      "cell_type": "markdown",
      "metadata": {
        "id": "-TaOqPY9Mxqp"
      },
      "source": [
        "### try model_test for recolorization\n",
        "this approach uses a very simple architecture to reconstruct the colors of a grayscale input."
      ]
    },
    {
      "cell_type": "code",
      "metadata": {
        "id": "QgVJsuaRjDAd",
        "outputId": "11a4b1d3-cd41-4ba8-9791-1d720886fb24",
        "colab": {
          "base_uri": "https://localhost:8080/",
          "height": 1000
        }
      },
      "source": [
        "model_layout01 = create_model01(shape_bw_instance)\n",
        "\n",
        "model_layout01.compile(\n",
        "    optimizer=keras.optimizers.Adam(learning_rate=1e-3),\n",
        "    loss=keras.losses.MeanSquaredError(),\n",
        "    metrics=[keras.metrics.BinaryCrossentropy()])\n",
        "\n",
        "_, _, _, X_test_recol01, _ = model_fit_transform(model_layout01, X_train_bw, X_train, X_valid_bw, X_valid, X_test_bw, X_test)\n",
        "img_compare(X_test[0], X_test_recol01[0])"
      ],
      "execution_count": 76,
      "outputs": [
        {
          "output_type": "stream",
          "name": "stdout",
          "text": [
            "Model: \"sequential_16\"\n",
            "_________________________________________________________________\n",
            "Layer (type)                 Output Shape              Param #   \n",
            "=================================================================\n",
            "conv2d_61 (Conv2D)           (None, 32, 32, 128)       1280      \n",
            "_________________________________________________________________\n",
            "conv2d_62 (Conv2D)           (None, 32, 32, 92)        106076    \n",
            "_________________________________________________________________\n",
            "max_pooling2d_8 (MaxPooling2 (None, 16, 16, 92)        0         \n",
            "_________________________________________________________________\n",
            "conv2d_63 (Conv2D)           (None, 16, 16, 78)        64662     \n",
            "_________________________________________________________________\n",
            "max_pooling2d_9 (MaxPooling2 (None, 8, 8, 78)          0         \n",
            "_________________________________________________________________\n",
            "conv2d_64 (Conv2D)           (None, 8, 8, 64)          44992     \n",
            "_________________________________________________________________\n",
            "up_sampling2d_28 (UpSampling (None, 16, 16, 64)        0         \n",
            "_________________________________________________________________\n",
            "conv2d_65 (Conv2D)           (None, 16, 16, 32)        18464     \n",
            "_________________________________________________________________\n",
            "conv2d_66 (Conv2D)           (None, 16, 16, 24)        6936      \n",
            "_________________________________________________________________\n",
            "conv2d_67 (Conv2D)           (None, 16, 16, 16)        3472      \n",
            "_________________________________________________________________\n",
            "up_sampling2d_29 (UpSampling (None, 32, 32, 16)        0         \n",
            "_________________________________________________________________\n",
            "conv2d_68 (Conv2D)           (None, 32, 32, 8)         1160      \n",
            "_________________________________________________________________\n",
            "conv2d_69 (Conv2D)           (None, 32, 32, 3)         219       \n",
            "=================================================================\n",
            "Total params: 247,261\n",
            "Trainable params: 247,261\n",
            "Non-trainable params: 0\n",
            "_________________________________________________________________\n",
            "Epoch 1/10\n",
            "1500/1500 [==============================] - 40s 26ms/step - loss: 0.0117 - binary_crossentropy: 0.5863 - val_loss: 0.0089 - val_binary_crossentropy: 0.5736\n",
            "Epoch 2/10\n",
            "1500/1500 [==============================] - 38s 25ms/step - loss: 0.0081 - binary_crossentropy: 0.5701 - val_loss: 0.0074 - val_binary_crossentropy: 0.5674\n",
            "Epoch 3/10\n",
            "1500/1500 [==============================] - 38s 25ms/step - loss: 0.0073 - binary_crossentropy: 0.5678 - val_loss: 0.0074 - val_binary_crossentropy: 0.5659\n",
            "Epoch 4/10\n",
            "1500/1500 [==============================] - 38s 25ms/step - loss: 0.0070 - binary_crossentropy: 0.5667 - val_loss: 0.0069 - val_binary_crossentropy: 0.5672\n",
            "Epoch 5/10\n",
            "1500/1500 [==============================] - 38s 25ms/step - loss: 0.0068 - binary_crossentropy: 0.5660 - val_loss: 0.0066 - val_binary_crossentropy: 0.5638\n",
            "Epoch 6/10\n",
            "1500/1500 [==============================] - 38s 25ms/step - loss: 0.0066 - binary_crossentropy: 0.5654 - val_loss: 0.0065 - val_binary_crossentropy: 0.5644\n",
            "Epoch 7/10\n",
            "1500/1500 [==============================] - 38s 25ms/step - loss: 0.0065 - binary_crossentropy: 0.5651 - val_loss: 0.0063 - val_binary_crossentropy: 0.5637\n",
            "Epoch 8/10\n",
            "1500/1500 [==============================] - 38s 25ms/step - loss: 0.0064 - binary_crossentropy: 0.5648 - val_loss: 0.0064 - val_binary_crossentropy: 0.5645\n",
            "Epoch 9/10\n",
            "1500/1500 [==============================] - 38s 25ms/step - loss: 0.0063 - binary_crossentropy: 0.5643 - val_loss: 0.0062 - val_binary_crossentropy: 0.5632\n",
            "Epoch 10/10\n",
            "1500/1500 [==============================] - 38s 25ms/step - loss: 0.0062 - binary_crossentropy: 0.5642 - val_loss: 0.0061 - val_binary_crossentropy: 0.5625\n",
            "1500/1500 [==============================] - 10s 6ms/step\n",
            "188/188 [==============================] - 1s 7ms/step\n",
            "188/188 [==============================] - 1s 7ms/step\n"
          ]
        },
        {
          "output_type": "stream",
          "name": "stderr",
          "text": [
            "/usr/local/lib/python3.7/dist-packages/ipykernel_launcher.py:67: MatplotlibDeprecationWarning: Adding an axes using the same arguments as a previous axes currently reuses the earlier instance.  In a future version, a new instance will always be created and returned.  Meanwhile, this warning can be suppressed, and the future behavior ensured, by passing a unique label to each axes instance.\n",
            "Clipping input data to the valid range for imshow with RGB data ([0..1] for floats or [0..255] for integers).\n",
            "/usr/local/lib/python3.7/dist-packages/ipykernel_launcher.py:74: MatplotlibDeprecationWarning: Adding an axes using the same arguments as a previous axes currently reuses the earlier instance.  In a future version, a new instance will always be created and returned.  Meanwhile, this warning can be suppressed, and the future behavior ensured, by passing a unique label to each axes instance.\n"
          ]
        },
        {
          "output_type": "display_data",
          "data": {
            "image/png": "[encoded data removed]",
            "text/plain": [
              "<Figure size 432x288 with 2 Axes>"
            ]
          },
          "metadata": {
            "needs_background": "light"
          }
        }
      ]
    },
    {
      "cell_type": "code",
      "metadata": {
        "id": "461he6kcluKY",
        "outputId": "12157784-cc1b-43b1-97a7-443ea16b990a",
        "colab": {
          "base_uri": "https://localhost:8080/",
          "height": 232
        }
      },
      "source": [
        "img_compare(X_test[3], X_test_recol01[3])"
      ],
      "execution_count": 81,
      "outputs": [
        {
          "output_type": "stream",
          "name": "stderr",
          "text": [
            "/usr/local/lib/python3.7/dist-packages/ipykernel_launcher.py:67: MatplotlibDeprecationWarning: Adding an axes using the same arguments as a previous axes currently reuses the earlier instance.  In a future version, a new instance will always be created and returned.  Meanwhile, this warning can be suppressed, and the future behavior ensured, by passing a unique label to each axes instance.\n",
            "Clipping input data to the valid range for imshow with RGB data ([0..1] for floats or [0..255] for integers).\n",
            "/usr/local/lib/python3.7/dist-packages/ipykernel_launcher.py:74: MatplotlibDeprecationWarning: Adding an axes using the same arguments as a previous axes currently reuses the earlier instance.  In a future version, a new instance will always be created and returned.  Meanwhile, this warning can be suppressed, and the future behavior ensured, by passing a unique label to each axes instance.\n"
          ]
        },
        {
          "output_type": "display_data",
          "data": {
            "image/png": "[encoded data removed]",
            "text/plain": [
              "<Figure size 432x288 with 2 Axes>"
            ]
          },
          "metadata": {
            "needs_background": "light"
          }
        }
      ]
    },
    {
      "cell_type": "code",
      "metadata": {
        "id": "sRAp861Dl9q-",
        "outputId": "93d78e86-a46d-4e93-9535-4ac20433da84",
        "colab": {
          "base_uri": "https://localhost:8080/",
          "height": 232
        }
      },
      "source": [
        "img_compare(X_test_bw[3], X_test_recol01[3])"
      ],
      "execution_count": 85,
      "outputs": [
        {
          "output_type": "stream",
          "name": "stderr",
          "text": [
            "/usr/local/lib/python3.7/dist-packages/ipykernel_launcher.py:69: MatplotlibDeprecationWarning: Adding an axes using the same arguments as a previous axes currently reuses the earlier instance.  In a future version, a new instance will always be created and returned.  Meanwhile, this warning can be suppressed, and the future behavior ensured, by passing a unique label to each axes instance.\n",
            "Clipping input data to the valid range for imshow with RGB data ([0..1] for floats or [0..255] for integers).\n",
            "/usr/local/lib/python3.7/dist-packages/ipykernel_launcher.py:79: MatplotlibDeprecationWarning: Adding an axes using the same arguments as a previous axes currently reuses the earlier instance.  In a future version, a new instance will always be created and returned.  Meanwhile, this warning can be suppressed, and the future behavior ensured, by passing a unique label to each axes instance.\n"
          ]
        },
        {
          "output_type": "display_data",
          "data": {
            "image/png": "[encoded data removed]",
            "text/plain": [
              "<Figure size 432x288 with 2 Axes>"
            ]
          },
          "metadata": {
            "needs_background": "light"
          }
        }
      ]
    },
    {
      "cell_type": "markdown",
      "metadata": {
        "id": "JXqe4IARllDS"
      },
      "source": [
        "the results of this approach are mediocre at best. The only color that gets predicted is some sort of brown which is applied to all color values. We can see an improvement if we compare the prediction to the input. However, compared to the original image our prediction simply can't hold up."
      ]
    },
    {
      "cell_type": "code",
      "metadata": {
        "id": "6MTd2liqH5xF"
      },
      "source": [
        "def create_model_test(input_shape):\n",
        "  model_test = Sequential()\n",
        "  model_test.add(Input(shape=input_shape))\n",
        "  model_test.add(Conv2D(16, kernel_size = (3,3), padding='same',  activation='relu'))\n",
        "  # model_test.add(Conv2D(8, kernel_size = (3,3), padding='same',  activation='relu'))\n",
        "  model_test.add(Conv2D(32, kernel_size = (3,3), padding='same', activation='relu'))\n",
        "  model_test.add(MaxPooling2D(pool_size = (2,2)))\n",
        "  model_test.add(Conv2D(64, kernel_size = (3,3), padding='same', activation='relu'))\n",
        "  model_test.add(Conv2D(32,kernel_size = (3,3), padding='same', activation='relu'))\n",
        "  model_test.add(MaxPooling2D(pool_size = (2,2)))\n",
        "  model_test.add(Conv2D(64,kernel_size = (3,3), padding='same', activation='relu'))\n",
        "  model_test.add(Conv2D(32,kernel_size = (3,3), padding='same', activation='relu'))\n",
        "\n",
        "  model_test.add(UpSampling2D())\n",
        "  model_test.add(Conv2D(24,kernel_size = (3,3), padding='same', activation='relu'))\n",
        "  model_test.add(Conv2D(16,kernel_size = (3,3), padding='same', activation='relu'))\n",
        "  model_test.add(UpSampling2D())\n",
        "\n",
        "  model_test.add(Conv2D(12,kernel_size = (3,3), padding='same', activation='relu'))\n",
        "  model_test.add(Conv2D(3,(3,3), padding='same', activation='sigmoid'))\n",
        "  return model_test\n",
        "\n",
        "model_test = create_model_test(shape_bw_instance)\n",
        "model_test.compile(\n",
        "    optimizer=keras.optimizers.Adam(learning_rate=1e-2),\n",
        "    loss=keras.losses.MeanSquaredError(),\n",
        "    metrics=[keras.metrics.MeanAbsoluteError(),\n",
        "            keras.metrics.CosineSimilarity(),\n",
        "             keras.metrics.Accuracy()])"
      ],
      "execution_count": 4,
      "outputs": []
    },
    {
      "cell_type": "markdown",
      "metadata": {
        "id": "BjRAClzZn1Pv"
      },
      "source": [
        "### Trying a different learning rate, architecture and more epochs to improve performance."
      ]
    },
    {
      "cell_type": "code",
      "metadata": {
        "id": "dZlVEGdXpjh8",
        "colab": {
          "base_uri": "https://localhost:8080/",
          "height": 1000
        },
        "outputId": "a62f60f3-f142-4fd9-cbb9-f393a493cfe6"
      },
      "source": [
        "_, _, _, X_test_recol, _ = model_fit_transform(model_test, X_train_bw, X_train, X_valid_bw, X_valid, X_test_bw, X_test,step_size=0.003, epochs=15)\n",
        "img_compare(X_test[0], X_test_recol[0])"
      ],
      "execution_count": 5,
      "outputs": [
        {
          "output_type": "stream",
          "name": "stdout",
          "text": [
            "Model: \"sequential\"\n",
            "_________________________________________________________________\n",
            "Layer (type)                 Output Shape              Param #   \n",
            "=================================================================\n",
            "conv2d (Conv2D)              (None, 32, 32, 16)        160       \n",
            "_________________________________________________________________\n",
            "conv2d_1 (Conv2D)            (None, 32, 32, 32)        4640      \n",
            "_________________________________________________________________\n",
            "max_pooling2d (MaxPooling2D) (None, 16, 16, 32)        0         \n",
            "_________________________________________________________________\n",
            "conv2d_2 (Conv2D)            (None, 16, 16, 64)        18496     \n",
            "_________________________________________________________________\n",
            "conv2d_3 (Conv2D)            (None, 16, 16, 32)        18464     \n",
            "_________________________________________________________________\n",
            "max_pooling2d_1 (MaxPooling2 (None, 8, 8, 32)          0         \n",
            "_________________________________________________________________\n",
            "conv2d_4 (Conv2D)            (None, 8, 8, 64)          18496     \n",
            "_________________________________________________________________\n",
            "conv2d_5 (Conv2D)            (None, 8, 8, 32)          18464     \n",
            "_________________________________________________________________\n",
            "up_sampling2d (UpSampling2D) (None, 16, 16, 32)        0         \n",
            "_________________________________________________________________\n",
            "conv2d_6 (Conv2D)            (None, 16, 16, 24)        6936      \n",
            "_________________________________________________________________\n",
            "conv2d_7 (Conv2D)            (None, 16, 16, 16)        3472      \n",
            "_________________________________________________________________\n",
            "up_sampling2d_1 (UpSampling2 (None, 32, 32, 16)        0         \n",
            "_________________________________________________________________\n",
            "conv2d_8 (Conv2D)            (None, 32, 32, 12)        1740      \n",
            "_________________________________________________________________\n",
            "conv2d_9 (Conv2D)            (None, 32, 32, 3)         327       \n",
            "=================================================================\n",
            "Total params: 91,195\n",
            "Trainable params: 91,195\n",
            "Non-trainable params: 0\n",
            "_________________________________________________________________\n",
            "Epoch 1/15\n",
            "1500/1500 [==============================] - 59s 19ms/step - loss: 0.0630 - mean_absolute_error: 0.2085 - cosine_similarity: 0.9793 - accuracy: 0.0000e+00 - val_loss: 0.0625 - val_mean_absolute_error: 0.2075 - val_cosine_similarity: 0.9795 - val_accuracy: 0.0000e+00\n",
            "Epoch 2/15\n",
            "1500/1500 [==============================] - 25s 17ms/step - loss: 0.0629 - mean_absolute_error: 0.2084 - cosine_similarity: 0.9794 - accuracy: 0.0000e+00 - val_loss: 0.0625 - val_mean_absolute_error: 0.2076 - val_cosine_similarity: 0.9794 - val_accuracy: 0.0000e+00\n",
            "Epoch 3/15\n",
            "1500/1500 [==============================] - 25s 17ms/step - loss: 0.0629 - mean_absolute_error: 0.2084 - cosine_similarity: 0.9794 - accuracy: 0.0000e+00 - val_loss: 0.0626 - val_mean_absolute_error: 0.2074 - val_cosine_similarity: 0.9794 - val_accuracy: 0.0000e+00\n",
            "Epoch 4/15\n",
            "1500/1500 [==============================] - 25s 17ms/step - loss: 0.0629 - mean_absolute_error: 0.2084 - cosine_similarity: 0.9794 - accuracy: 0.0000e+00 - val_loss: 0.0625 - val_mean_absolute_error: 0.2075 - val_cosine_similarity: 0.9795 - val_accuracy: 0.0000e+00\n",
            "Epoch 5/15\n",
            "1500/1500 [==============================] - 25s 17ms/step - loss: 0.0629 - mean_absolute_error: 0.2084 - cosine_similarity: 0.9794 - accuracy: 0.0000e+00 - val_loss: 0.0625 - val_mean_absolute_error: 0.2077 - val_cosine_similarity: 0.9794 - val_accuracy: 0.0000e+00\n",
            "Epoch 6/15\n",
            "1500/1500 [==============================] - 26s 17ms/step - loss: 0.0629 - mean_absolute_error: 0.2084 - cosine_similarity: 0.9794 - accuracy: 0.0000e+00 - val_loss: 0.0625 - val_mean_absolute_error: 0.2074 - val_cosine_similarity: 0.9795 - val_accuracy: 0.0000e+00\n",
            "Epoch 7/15\n",
            "1500/1500 [==============================] - 25s 17ms/step - loss: 0.0629 - mean_absolute_error: 0.2084 - cosine_similarity: 0.9794 - accuracy: 0.0000e+00 - val_loss: 0.0625 - val_mean_absolute_error: 0.2077 - val_cosine_similarity: 0.9795 - val_accuracy: 0.0000e+00\n",
            "Epoch 8/15\n",
            "1500/1500 [==============================] - 25s 17ms/step - loss: 0.0629 - mean_absolute_error: 0.2084 - cosine_similarity: 0.9794 - accuracy: 0.0000e+00 - val_loss: 0.0625 - val_mean_absolute_error: 0.2078 - val_cosine_similarity: 0.9795 - val_accuracy: 0.0000e+00\n",
            "Epoch 9/15\n",
            "1500/1500 [==============================] - 25s 17ms/step - loss: 0.0629 - mean_absolute_error: 0.2085 - cosine_similarity: 0.9794 - accuracy: 0.0000e+00 - val_loss: 0.0625 - val_mean_absolute_error: 0.2075 - val_cosine_similarity: 0.9795 - val_accuracy: 0.0000e+00\n",
            "Epoch 10/15\n",
            "1500/1500 [==============================] - 25s 17ms/step - loss: 0.0629 - mean_absolute_error: 0.2084 - cosine_similarity: 0.9794 - accuracy: 0.0000e+00 - val_loss: 0.0625 - val_mean_absolute_error: 0.2076 - val_cosine_similarity: 0.9794 - val_accuracy: 0.0000e+00\n",
            "Epoch 11/15\n",
            "1500/1500 [==============================] - 25s 17ms/step - loss: 0.0629 - mean_absolute_error: 0.2084 - cosine_similarity: 0.9794 - accuracy: 0.0000e+00 - val_loss: 0.0625 - val_mean_absolute_error: 0.2075 - val_cosine_similarity: 0.9795 - val_accuracy: 0.0000e+00\n",
            "Epoch 12/15\n",
            "1500/1500 [==============================] - 25s 17ms/step - loss: 0.0629 - mean_absolute_error: 0.2084 - cosine_similarity: 0.9794 - accuracy: 0.0000e+00 - val_loss: 0.0625 - val_mean_absolute_error: 0.2075 - val_cosine_similarity: 0.9795 - val_accuracy: 0.0000e+00\n",
            "Epoch 13/15\n",
            "1500/1500 [==============================] - 25s 17ms/step - loss: 0.0629 - mean_absolute_error: 0.2085 - cosine_similarity: 0.9794 - accuracy: 0.0000e+00 - val_loss: 0.0625 - val_mean_absolute_error: 0.2078 - val_cosine_similarity: 0.9795 - val_accuracy: 0.0000e+00\n",
            "Epoch 14/15\n",
            "1500/1500 [==============================] - 26s 17ms/step - loss: 0.0629 - mean_absolute_error: 0.2084 - cosine_similarity: 0.9794 - accuracy: 0.0000e+00 - val_loss: 0.0626 - val_mean_absolute_error: 0.2079 - val_cosine_similarity: 0.9795 - val_accuracy: 0.0000e+00\n",
            "Epoch 15/15\n",
            "1500/1500 [==============================] - 26s 17ms/step - loss: 0.0629 - mean_absolute_error: 0.2084 - cosine_similarity: 0.9794 - accuracy: 0.0000e+00 - val_loss: 0.0625 - val_mean_absolute_error: 0.2075 - val_cosine_similarity: 0.9795 - val_accuracy: 0.0000e+00\n",
            "1500/1500 [==============================] - 5s 3ms/step\n",
            "188/188 [==============================] - 1s 3ms/step\n",
            "188/188 [==============================] - 1s 3ms/step\n"
          ]
        },
        {
          "output_type": "stream",
          "name": "stderr",
          "text": [
            "/usr/local/lib/python3.7/dist-packages/ipykernel_launcher.py:72: MatplotlibDeprecationWarning: Adding an axes using the same arguments as a previous axes currently reuses the earlier instance.  In a future version, a new instance will always be created and returned.  Meanwhile, this warning can be suppressed, and the future behavior ensured, by passing a unique label to each axes instance.\n",
            "/usr/local/lib/python3.7/dist-packages/ipykernel_launcher.py:79: MatplotlibDeprecationWarning: Adding an axes using the same arguments as a previous axes currently reuses the earlier instance.  In a future version, a new instance will always be created and returned.  Meanwhile, this warning can be suppressed, and the future behavior ensured, by passing a unique label to each axes instance.\n"
          ]
        },
        {
          "output_type": "display_data",
          "data": {
            "image/png": "[encoded data removed]",
            "text/plain": [
              "<Figure size 432x288 with 2 Axes>"
            ]
          },
          "metadata": {
            "needs_background": "light"
          }
        }
      ]
    },
    {
      "cell_type": "markdown",
      "metadata": {
        "id": "2WsX1-Jqm2Lj"
      },
      "source": [
        "The combination of these changes seems to improve the performance at least somewhat. Many Colors are still missing, but we can reasonably predict some shades of green and blue. Furthermore, we can see that the loss starts to increase in the last couple of epochs of this algorithm. So it seems likely that the learning rate is to big to get optimal results."
      ]
    },
    {
      "cell_type": "markdown",
      "metadata": {
        "id": "x1p0cmaWesex"
      },
      "source": [
        "### try 3 models for color channels and one for combination.\n",
        "For this final approach a model is learned to predict each of the 3 color channels. Subsequently these predictions are combined by a fourth model."
      ]
    },
    {
      "cell_type": "code",
      "metadata": {
        "id": "wv2EpgMNOYf-"
      },
      "source": [
        "small_model_color = Sequential()\n",
        "small_model_color.add(Conv2D(16, (3,3), padding='same', activation='relu', input_shape=(32,32,1)))\n",
        "small_model_color.add(MaxPooling2D())\n",
        "small_model_color.add(Conv2D(32, kernel_size = (3,3), padding='same',  activation='relu'))\n",
        "small_model_color.add(MaxPooling2D())\n",
        "small_model_color.add(Conv2D(64, kernel_size = (3,3), padding='same',  activation='relu'))\n",
        "small_model_color.add(UpSampling2D())\n",
        "small_model_color.add(Conv2D(32, kernel_size = (3,3), padding='same',  activation='relu'))\n",
        "small_model_color.add(UpSampling2D())\n",
        "small_model_color.add(Conv2D(16, (3,3), padding='same', activation='relu'))\n",
        "small_model_color.add(Conv2D(1, (3,3), padding='same', activation='sigmoid'))\n",
        "\n",
        "\n",
        "small_model_color.compile(\n",
        "    optimizer=keras.optimizers.Adam(learning_rate=1e-3),\n",
        "    loss=keras.losses.MeanSquaredError(),\n",
        "    metrics=[keras.metrics.MeanAbsoluteError(),\n",
        "            keras.metrics.CosineSimilarity(),\n",
        "             keras.metrics.Accuracy()])"
      ],
      "execution_count": null,
      "outputs": []
    },
    {
      "cell_type": "code",
      "metadata": {
        "id": "JJFKhnc_yQEs"
      },
      "source": [
        "def experiment_recol(X_train, X_valid, X_test):\n",
        "  small_model_color = Sequential()\n",
        "  small_model_color.add(Conv2D(16, (3,3), padding='same', activation='relu', input_shape=(32,32,1)))\n",
        "  small_model_color.add(MaxPooling2D())\n",
        "  small_model_color.add(Conv2D(32, kernel_size = (3,3), padding='same',  activation='relu'))\n",
        "  small_model_color.add(MaxPooling2D())\n",
        "  small_model_color.add(Conv2D(64, kernel_size = (3,3), padding='same',  activation='relu'))\n",
        "  small_model_color.add(UpSampling2D())\n",
        "  small_model_color.add(Conv2D(32, kernel_size = (3,3), padding='same',  activation='relu'))\n",
        "  small_model_color.add(UpSampling2D())\n",
        "  small_model_color.add(Conv2D(16, (3,3), padding='same', activation='relu'))\n",
        "  small_model_color.add(Conv2D(1, (3,3), padding='same', activation='sigmoid'))\n",
        "\n",
        "  X_train_res = np.zeros((48000,32,32,3))\n",
        "  X_valid_res = np.zeros((6000,32,32,3))\n",
        "  X_test_res = np.zeros((6000,32,32,3))\n",
        "\n",
        "  for i in range(3):\n",
        "    small_model_color.compile(\n",
        "        optimizer=keras.optimizers.Adam(learning_rate=1e-3),\n",
        "        loss=keras.losses.MeanSquaredError(),\n",
        "        metrics=[keras.metrics.MeanAbsoluteError(),\n",
        "                keras.metrics.CosineSimilarity(),\n",
        "                keras.metrics.Accuracy()])\n",
        "    model_col, X_train_col, X_valid_col, X_test_col, hist_col = model_fit_transform(small_model_color, X_train_bw, X_train[:,:,:,i], X_valid_bw, X_valid[:,:,:,i], X_test_bw, X_test[:,:,:,i], step_size=0.01)\n",
        "\n",
        "    del model_col, hist_col\n",
        "\n",
        "    X_train_res[:,:,:,i] = X_train_col.reshape(48000, 32, 32)\n",
        "    X_valid_res[:,:,:,i] = X_valid_col.reshape(6000,32,32)\n",
        "    X_test_res[:,:,:,i] = X_test_col.reshape(6000,32,32)\n",
        "\n",
        "\n",
        "  model_comb_recol = Sequential()\n",
        "  model_comb_recol.add(Input(shape=(32,32,3)))\n",
        "  model_comb_recol.add(Conv2D(128, kernel_size = (3,3), padding='same',  activation='relu'))\n",
        "  model_comb_recol.add(Conv2D(92, kernel_size = (3,3), padding='same',  activation='relu'))\n",
        "  model_comb_recol.add(MaxPooling2D(pool_size = (2,2)))\n",
        "  model_comb_recol.add(Conv2D(78, kernel_size = (3,3), padding='same', activation='relu'))\n",
        "  model_comb_recol.add(MaxPooling2D(pool_size = (2,2)))\n",
        "  model_comb_recol.add(Conv2D(64, kernel_size = (3,3), padding='same', activation='relu'))\n",
        "\n",
        "  model_comb_recol.add(UpSampling2D(size=(2,2)))\n",
        "  model_comb_recol.add(Conv2D(32,kernel_size = (3,3), padding='same', activation='relu'))\n",
        "  model_comb_recol.add(Conv2D(24,kernel_size = (3,3), padding='same', activation='relu'))\n",
        "  model_comb_recol.add(Conv2D(16,kernel_size = (3,3), padding='same', activation='relu'))\n",
        "\n",
        "  model_comb_recol.add(UpSampling2D())\n",
        "  model_comb_recol.add(Conv2D(8,kernel_size = (3,3), padding='same', activation='relu'))\n",
        "  model_comb_recol.add(Conv2D(3,(3,3), padding='same', activation='relu'))\n",
        "\n",
        "  model_comb_recol.compile(\n",
        "      optimizer=keras.optimizers.Adam(learning_rate=1e-3),\n",
        "      loss=keras.losses.MeanSquaredError(),\n",
        "      metrics=[keras.metrics.MeanAbsoluteError(),\n",
        "              keras.metrics.CosineSimilarity()])\n",
        "\n",
        "  _, X_train_recol, X_valid_recol, X_test_recol, _ = model_fit_transform(model_comb_recol, X_train_res, X_train, X_valid_res, X_valid, X_test_res, X_test, epochs=20)\n",
        "  return X_train_recol, X_valid_recol, X_test_recol"
      ],
      "execution_count": null,
      "outputs": []
    },
    {
      "cell_type": "code",
      "metadata": {
        "id": "WlWm98ok0N3j",
        "colab": {
          "base_uri": "https://localhost:8080/",
          "height": 1000
        },
        "outputId": "792e2074-f113-40e1-f7ec-f71e786701aa"
      },
      "source": [
        "X_train_recol, X_valid_recol, X_test_recol = experiment_recol(X_train, X_valid, X_test)\n",
        "img_compare(X_test[0], X_test_recol[0])"
      ],
      "execution_count": null,
      "outputs": [
        {
          "output_type": "stream",
          "name": "stdout",
          "text": [
            "Model: \"sequential\"\n",
            "_________________________________________________________________\n",
            "Layer (type)                 Output Shape              Param #   \n",
            "=================================================================\n",
            "conv2d (Conv2D)              (None, 32, 32, 16)        160       \n",
            "_________________________________________________________________\n",
            "max_pooling2d (MaxPooling2D) (None, 16, 16, 16)        0         \n",
            "_________________________________________________________________\n",
            "conv2d_1 (Conv2D)            (None, 16, 16, 32)        4640      \n",
            "_________________________________________________________________\n",
            "max_pooling2d_1 (MaxPooling2 (None, 8, 8, 32)          0         \n",
            "_________________________________________________________________\n",
            "conv2d_2 (Conv2D)            (None, 8, 8, 64)          18496     \n",
            "_________________________________________________________________\n",
            "up_sampling2d (UpSampling2D) (None, 16, 16, 64)        0         \n",
            "_________________________________________________________________\n",
            "conv2d_3 (Conv2D)            (None, 16, 16, 32)        18464     \n",
            "_________________________________________________________________\n",
            "up_sampling2d_1 (UpSampling2 (None, 32, 32, 32)        0         \n",
            "_________________________________________________________________\n",
            "conv2d_4 (Conv2D)            (None, 32, 32, 16)        4624      \n",
            "_________________________________________________________________\n",
            "conv2d_5 (Conv2D)            (None, 32, 32, 1)         145       \n",
            "=================================================================\n",
            "Total params: 46,529\n",
            "Trainable params: 46,529\n",
            "Non-trainable params: 0\n",
            "_________________________________________________________________\n",
            "Epoch 1/10\n",
            "1500/1500 [==============================] - 51s 14ms/step - loss: 0.0121 - mean_absolute_error: 0.0812 - cosine_similarity: 0.9813 - accuracy: 2.4414e-07 - val_loss: 0.0100 - val_mean_absolute_error: 0.0747 - val_cosine_similarity: 0.9854 - val_accuracy: 1.6276e-07\n",
            "Epoch 2/10\n",
            "1500/1500 [==============================] - 19s 13ms/step - loss: 0.0089 - mean_absolute_error: 0.0695 - cosine_similarity: 0.9866 - accuracy: 2.2380e-07 - val_loss: 0.0083 - val_mean_absolute_error: 0.0668 - val_cosine_similarity: 0.9873 - val_accuracy: 0.0000e+00\n",
            "Epoch 3/10\n",
            "1500/1500 [==============================] - 20s 13ms/step - loss: 0.0082 - mean_absolute_error: 0.0663 - cosine_similarity: 0.9880 - accuracy: 1.8311e-07 - val_loss: 0.0081 - val_mean_absolute_error: 0.0674 - val_cosine_similarity: 0.9875 - val_accuracy: 1.6276e-07\n",
            "Epoch 4/10\n",
            "1500/1500 [==============================] - 20s 13ms/step - loss: 0.0078 - mean_absolute_error: 0.0647 - cosine_similarity: 0.9888 - accuracy: 2.2380e-07 - val_loss: 0.0074 - val_mean_absolute_error: 0.0622 - val_cosine_similarity: 0.9890 - val_accuracy: 0.0000e+00\n",
            "Epoch 5/10\n",
            "1500/1500 [==============================] - 20s 14ms/step - loss: 0.0076 - mean_absolute_error: 0.0633 - cosine_similarity: 0.9893 - accuracy: 2.4414e-07 - val_loss: 0.0073 - val_mean_absolute_error: 0.0614 - val_cosine_similarity: 0.9893 - val_accuracy: 3.2552e-07\n",
            "Epoch 6/10\n",
            "1500/1500 [==============================] - 20s 13ms/step - loss: 0.0074 - mean_absolute_error: 0.0623 - cosine_similarity: 0.9897 - accuracy: 2.4414e-07 - val_loss: 0.0077 - val_mean_absolute_error: 0.0644 - val_cosine_similarity: 0.9896 - val_accuracy: 0.0000e+00\n",
            "Epoch 7/10\n",
            "1500/1500 [==============================] - 20s 13ms/step - loss: 0.0072 - mean_absolute_error: 0.0616 - cosine_similarity: 0.9900 - accuracy: 2.2380e-07 - val_loss: 0.0070 - val_mean_absolute_error: 0.0601 - val_cosine_similarity: 0.9899 - val_accuracy: 1.6276e-07\n",
            "Epoch 8/10\n",
            "1500/1500 [==============================] - 20s 13ms/step - loss: 0.0071 - mean_absolute_error: 0.0612 - cosine_similarity: 0.9902 - accuracy: 1.8311e-07 - val_loss: 0.0072 - val_mean_absolute_error: 0.0615 - val_cosine_similarity: 0.9900 - val_accuracy: 1.6276e-07\n",
            "Epoch 9/10\n",
            "1500/1500 [==============================] - 20s 13ms/step - loss: 0.0070 - mean_absolute_error: 0.0605 - cosine_similarity: 0.9904 - accuracy: 3.0518e-07 - val_loss: 0.0069 - val_mean_absolute_error: 0.0591 - val_cosine_similarity: 0.9903 - val_accuracy: 1.6276e-07\n",
            "Epoch 10/10\n",
            "1500/1500 [==============================] - 20s 13ms/step - loss: 0.0070 - mean_absolute_error: 0.0605 - cosine_similarity: 0.9905 - accuracy: 4.2725e-07 - val_loss: 0.0068 - val_mean_absolute_error: 0.0596 - val_cosine_similarity: 0.9905 - val_accuracy: 4.8828e-07\n",
            "1500/1500 [==============================] - 4s 3ms/step\n",
            "188/188 [==============================] - 1s 3ms/step\n",
            "188/188 [==============================] - 1s 3ms/step\n",
            "Model: \"sequential\"\n",
            "_________________________________________________________________\n",
            "Layer (type)                 Output Shape              Param #   \n",
            "=================================================================\n",
            "conv2d (Conv2D)              (None, 32, 32, 16)        160       \n",
            "_________________________________________________________________\n",
            "max_pooling2d (MaxPooling2D) (None, 16, 16, 16)        0         \n",
            "_________________________________________________________________\n",
            "conv2d_1 (Conv2D)            (None, 16, 16, 32)        4640      \n",
            "_________________________________________________________________\n",
            "max_pooling2d_1 (MaxPooling2 (None, 8, 8, 32)          0         \n",
            "_________________________________________________________________\n",
            "conv2d_2 (Conv2D)            (None, 8, 8, 64)          18496     \n",
            "_________________________________________________________________\n",
            "up_sampling2d (UpSampling2D) (None, 16, 16, 64)        0         \n",
            "_________________________________________________________________\n",
            "conv2d_3 (Conv2D)            (None, 16, 16, 32)        18464     \n",
            "_________________________________________________________________\n",
            "up_sampling2d_1 (UpSampling2 (None, 32, 32, 32)        0         \n",
            "_________________________________________________________________\n",
            "conv2d_4 (Conv2D)            (None, 32, 32, 16)        4624      \n",
            "_________________________________________________________________\n",
            "conv2d_5 (Conv2D)            (None, 32, 32, 1)         145       \n",
            "=================================================================\n",
            "Total params: 46,529\n",
            "Trainable params: 46,529\n",
            "Non-trainable params: 0\n",
            "_________________________________________________________________\n",
            "Epoch 1/10\n",
            "1500/1500 [==============================] - 19s 12ms/step - loss: 0.0025 - mean_absolute_error: 0.0363 - cosine_similarity: 0.9943 - accuracy: 4.6794e-07 - val_loss: 0.0024 - val_mean_absolute_error: 0.0358 - val_cosine_similarity: 0.9942 - val_accuracy: 3.2552e-07\n",
            "Epoch 2/10\n",
            "1500/1500 [==============================] - 19s 12ms/step - loss: 0.0024 - mean_absolute_error: 0.0355 - cosine_similarity: 0.9945 - accuracy: 5.0863e-07 - val_loss: 0.0023 - val_mean_absolute_error: 0.0348 - val_cosine_similarity: 0.9944 - val_accuracy: 4.8828e-07\n",
            "Epoch 3/10\n",
            "1500/1500 [==============================] - 19s 13ms/step - loss: 0.0023 - mean_absolute_error: 0.0350 - cosine_similarity: 0.9947 - accuracy: 4.8828e-07 - val_loss: 0.0023 - val_mean_absolute_error: 0.0349 - val_cosine_similarity: 0.9945 - val_accuracy: 1.4648e-06\n",
            "Epoch 4/10\n",
            "1500/1500 [==============================] - 19s 13ms/step - loss: 0.0022 - mean_absolute_error: 0.0346 - cosine_similarity: 0.9948 - accuracy: 5.0863e-07 - val_loss: 0.0022 - val_mean_absolute_error: 0.0342 - val_cosine_similarity: 0.9946 - val_accuracy: 8.1380e-07\n",
            "Epoch 5/10\n",
            "1500/1500 [==============================] - 19s 13ms/step - loss: 0.0022 - mean_absolute_error: 0.0343 - cosine_similarity: 0.9949 - accuracy: 5.2897e-07 - val_loss: 0.0022 - val_mean_absolute_error: 0.0338 - val_cosine_similarity: 0.9947 - val_accuracy: 3.2552e-07\n",
            "Epoch 6/10\n",
            "1500/1500 [==============================] - 19s 13ms/step - loss: 0.0022 - mean_absolute_error: 0.0342 - cosine_similarity: 0.9950 - accuracy: 4.8828e-07 - val_loss: 0.0023 - val_mean_absolute_error: 0.0350 - val_cosine_similarity: 0.9947 - val_accuracy: 4.8828e-07\n",
            "Epoch 7/10\n",
            "1500/1500 [==============================] - 19s 13ms/step - loss: 0.0021 - mean_absolute_error: 0.0337 - cosine_similarity: 0.9951 - accuracy: 5.0863e-07 - val_loss: 0.0021 - val_mean_absolute_error: 0.0334 - val_cosine_similarity: 0.9948 - val_accuracy: 6.5104e-07\n",
            "Epoch 8/10\n",
            "1500/1500 [==============================] - 19s 13ms/step - loss: 0.0021 - mean_absolute_error: 0.0337 - cosine_similarity: 0.9951 - accuracy: 3.6621e-07 - val_loss: 0.0021 - val_mean_absolute_error: 0.0335 - val_cosine_similarity: 0.9948 - val_accuracy: 1.6276e-07\n",
            "Epoch 9/10\n",
            "1500/1500 [==============================] - 19s 13ms/step - loss: 0.0021 - mean_absolute_error: 0.0334 - cosine_similarity: 0.9952 - accuracy: 4.6794e-07 - val_loss: 0.0021 - val_mean_absolute_error: 0.0333 - val_cosine_similarity: 0.9949 - val_accuracy: 1.6276e-07\n",
            "Epoch 10/10\n",
            "1500/1500 [==============================] - 19s 13ms/step - loss: 0.0021 - mean_absolute_error: 0.0333 - cosine_similarity: 0.9952 - accuracy: 5.2897e-07 - val_loss: 0.0021 - val_mean_absolute_error: 0.0334 - val_cosine_similarity: 0.9950 - val_accuracy: 4.8828e-07\n",
            "1500/1500 [==============================] - 4s 3ms/step\n",
            "188/188 [==============================] - 1s 3ms/step\n",
            "188/188 [==============================] - 1s 3ms/step\n",
            "Model: \"sequential\"\n",
            "_________________________________________________________________\n",
            "Layer (type)                 Output Shape              Param #   \n",
            "=================================================================\n",
            "conv2d (Conv2D)              (None, 32, 32, 16)        160       \n",
            "_________________________________________________________________\n",
            "max_pooling2d (MaxPooling2D) (None, 16, 16, 16)        0         \n",
            "_________________________________________________________________\n",
            "conv2d_1 (Conv2D)            (None, 16, 16, 32)        4640      \n",
            "_________________________________________________________________\n",
            "max_pooling2d_1 (MaxPooling2 (None, 8, 8, 32)          0         \n",
            "_________________________________________________________________\n",
            "conv2d_2 (Conv2D)            (None, 8, 8, 64)          18496     \n",
            "_________________________________________________________________\n",
            "up_sampling2d (UpSampling2D) (None, 16, 16, 64)        0         \n",
            "_________________________________________________________________\n",
            "conv2d_3 (Conv2D)            (None, 16, 16, 32)        18464     \n",
            "_________________________________________________________________\n",
            "up_sampling2d_1 (UpSampling2 (None, 32, 32, 32)        0         \n",
            "_________________________________________________________________\n",
            "conv2d_4 (Conv2D)            (None, 32, 32, 16)        4624      \n",
            "_________________________________________________________________\n",
            "conv2d_5 (Conv2D)            (None, 32, 32, 1)         145       \n",
            "=================================================================\n",
            "Total params: 46,529\n",
            "Trainable params: 46,529\n",
            "Non-trainable params: 0\n",
            "_________________________________________________________________\n",
            "Epoch 1/10\n",
            "1500/1500 [==============================] - 18s 12ms/step - loss: 0.0119 - mean_absolute_error: 0.0797 - cosine_similarity: 0.9852 - accuracy: 3.0518e-07 - val_loss: 0.0110 - val_mean_absolute_error: 0.0762 - val_cosine_similarity: 0.9851 - val_accuracy: 0.0000e+00\n",
            "Epoch 2/10\n",
            "1500/1500 [==============================] - 17s 12ms/step - loss: 0.0116 - mean_absolute_error: 0.0787 - cosine_similarity: 0.9852 - accuracy: 1.4242e-07 - val_loss: 0.0111 - val_mean_absolute_error: 0.0768 - val_cosine_similarity: 0.9851 - val_accuracy: 1.6276e-07\n",
            "Epoch 3/10\n",
            "1500/1500 [==============================] - 19s 12ms/step - loss: 0.0115 - mean_absolute_error: 0.0783 - cosine_similarity: 0.9852 - accuracy: 2.2380e-07 - val_loss: 0.0113 - val_mean_absolute_error: 0.0777 - val_cosine_similarity: 0.9847 - val_accuracy: 1.6276e-07\n",
            "Epoch 4/10\n",
            "1500/1500 [==============================] - 19s 12ms/step - loss: 0.0114 - mean_absolute_error: 0.0779 - cosine_similarity: 0.9852 - accuracy: 1.8311e-07 - val_loss: 0.0109 - val_mean_absolute_error: 0.0765 - val_cosine_similarity: 0.9851 - val_accuracy: 1.6276e-07\n",
            "Epoch 5/10\n",
            "1500/1500 [==============================] - 19s 13ms/step - loss: 0.0114 - mean_absolute_error: 0.0780 - cosine_similarity: 0.9852 - accuracy: 1.6276e-07 - val_loss: 0.0108 - val_mean_absolute_error: 0.0759 - val_cosine_similarity: 0.9849 - val_accuracy: 3.2552e-07\n",
            "Epoch 6/10\n",
            "1500/1500 [==============================] - 19s 13ms/step - loss: 0.0114 - mean_absolute_error: 0.0779 - cosine_similarity: 0.9852 - accuracy: 1.6276e-07 - val_loss: 0.0108 - val_mean_absolute_error: 0.0765 - val_cosine_similarity: 0.9847 - val_accuracy: 1.6276e-07\n",
            "Epoch 7/10\n",
            "1500/1500 [==============================] - 19s 13ms/step - loss: 0.0113 - mean_absolute_error: 0.0777 - cosine_similarity: 0.9852 - accuracy: 2.2380e-07 - val_loss: 0.0109 - val_mean_absolute_error: 0.0755 - val_cosine_similarity: 0.9851 - val_accuracy: 4.8828e-07\n",
            "Epoch 8/10\n",
            "1500/1500 [==============================] - 20s 13ms/step - loss: 0.0113 - mean_absolute_error: 0.0776 - cosine_similarity: 0.9852 - accuracy: 1.8311e-07 - val_loss: 0.0108 - val_mean_absolute_error: 0.0761 - val_cosine_similarity: 0.9849 - val_accuracy: 0.0000e+00\n",
            "Epoch 9/10\n",
            "1500/1500 [==============================] - 19s 13ms/step - loss: 0.0112 - mean_absolute_error: 0.0775 - cosine_similarity: 0.9852 - accuracy: 2.2380e-07 - val_loss: 0.0106 - val_mean_absolute_error: 0.0749 - val_cosine_similarity: 0.9853 - val_accuracy: 1.6276e-07\n",
            "Epoch 10/10\n",
            "1500/1500 [==============================] - 19s 13ms/step - loss: 0.0112 - mean_absolute_error: 0.0772 - cosine_similarity: 0.9853 - accuracy: 1.4242e-07 - val_loss: 0.0108 - val_mean_absolute_error: 0.0759 - val_cosine_similarity: 0.9846 - val_accuracy: 0.0000e+00\n",
            "1500/1500 [==============================] - 4s 3ms/step\n",
            "188/188 [==============================] - 1s 3ms/step\n",
            "188/188 [==============================] - 1s 3ms/step\n",
            "Model: \"sequential_1\"\n",
            "_________________________________________________________________\n",
            "Layer (type)                 Output Shape              Param #   \n",
            "=================================================================\n",
            "conv2d_6 (Conv2D)            (None, 32, 32, 128)       3584      \n",
            "_________________________________________________________________\n",
            "conv2d_7 (Conv2D)            (None, 32, 32, 92)        106076    \n",
            "_________________________________________________________________\n",
            "max_pooling2d_2 (MaxPooling2 (None, 16, 16, 92)        0         \n",
            "_________________________________________________________________\n",
            "conv2d_8 (Conv2D)            (None, 16, 16, 78)        64662     \n",
            "_________________________________________________________________\n",
            "max_pooling2d_3 (MaxPooling2 (None, 8, 8, 78)          0         \n",
            "_________________________________________________________________\n",
            "conv2d_9 (Conv2D)            (None, 8, 8, 64)          44992     \n",
            "_________________________________________________________________\n",
            "up_sampling2d_2 (UpSampling2 (None, 16, 16, 64)        0         \n",
            "_________________________________________________________________\n",
            "conv2d_10 (Conv2D)           (None, 16, 16, 32)        18464     \n",
            "_________________________________________________________________\n",
            "conv2d_11 (Conv2D)           (None, 16, 16, 24)        6936      \n",
            "_________________________________________________________________\n",
            "conv2d_12 (Conv2D)           (None, 16, 16, 16)        3472      \n",
            "_________________________________________________________________\n",
            "up_sampling2d_3 (UpSampling2 (None, 32, 32, 16)        0         \n",
            "_________________________________________________________________\n",
            "conv2d_13 (Conv2D)           (None, 32, 32, 8)         1160      \n",
            "_________________________________________________________________\n",
            "conv2d_14 (Conv2D)           (None, 32, 32, 3)         219       \n",
            "=================================================================\n",
            "Total params: 249,565\n",
            "Trainable params: 249,565\n",
            "Non-trainable params: 0\n",
            "_________________________________________________________________\n",
            "Epoch 1/10\n",
            "1500/1500 [==============================] - 40s 26ms/step - loss: 0.0219 - mean_absolute_error: 0.0931 - cosine_similarity: 0.9575 - val_loss: 0.0084 - val_mean_absolute_error: 0.0665 - val_cosine_similarity: 0.9799\n",
            "Epoch 2/10\n",
            "1500/1500 [==============================] - 39s 26ms/step - loss: 0.0083 - mean_absolute_error: 0.0659 - cosine_similarity: 0.9802 - val_loss: 0.0077 - val_mean_absolute_error: 0.0628 - val_cosine_similarity: 0.9802\n",
            "Epoch 3/10\n",
            "1500/1500 [==============================] - 38s 26ms/step - loss: 0.0078 - mean_absolute_error: 0.0634 - cosine_similarity: 0.9800 - val_loss: 0.0073 - val_mean_absolute_error: 0.0603 - val_cosine_similarity: 0.9787\n",
            "Epoch 4/10\n",
            "1500/1500 [==============================] - 39s 26ms/step - loss: 0.0074 - mean_absolute_error: 0.0616 - cosine_similarity: 0.9795 - val_loss: 0.0074 - val_mean_absolute_error: 0.0612 - val_cosine_similarity: 0.9760\n",
            "Epoch 5/10\n",
            "1500/1500 [==============================] - 39s 26ms/step - loss: 0.0073 - mean_absolute_error: 0.0607 - cosine_similarity: 0.9796 - val_loss: 0.0069 - val_mean_absolute_error: 0.0588 - val_cosine_similarity: 0.9786\n",
            "Epoch 6/10\n",
            "1500/1500 [==============================] - 39s 26ms/step - loss: 0.0071 - mean_absolute_error: 0.0598 - cosine_similarity: 0.9797 - val_loss: 0.0068 - val_mean_absolute_error: 0.0580 - val_cosine_similarity: 0.9790\n",
            "Epoch 7/10\n",
            "1500/1500 [==============================] - 39s 26ms/step - loss: 0.0070 - mean_absolute_error: 0.0592 - cosine_similarity: 0.9798 - val_loss: 0.0068 - val_mean_absolute_error: 0.0577 - val_cosine_similarity: 0.9789\n",
            "Epoch 8/10\n",
            "1500/1500 [==============================] - 39s 26ms/step - loss: 0.0070 - mean_absolute_error: 0.0589 - cosine_similarity: 0.9798 - val_loss: 0.0068 - val_mean_absolute_error: 0.0577 - val_cosine_similarity: 0.9792\n",
            "Epoch 9/10\n",
            "1500/1500 [==============================] - 40s 27ms/step - loss: 0.0069 - mean_absolute_error: 0.0585 - cosine_similarity: 0.9799 - val_loss: 0.0069 - val_mean_absolute_error: 0.0581 - val_cosine_similarity: 0.9787\n",
            "Epoch 10/10\n",
            "1500/1500 [==============================] - 40s 27ms/step - loss: 0.0068 - mean_absolute_error: 0.0580 - cosine_similarity: 0.9800 - val_loss: 0.0066 - val_mean_absolute_error: 0.0568 - val_cosine_similarity: 0.9807\n",
            "1500/1500 [==============================] - 10s 6ms/step\n",
            "188/188 [==============================] - 1s 6ms/step\n",
            "188/188 [==============================] - 1s 6ms/step\n"
          ]
        },
        {
          "output_type": "stream",
          "name": "stderr",
          "text": [
            "/usr/local/lib/python3.7/dist-packages/ipykernel_launcher.py:67: MatplotlibDeprecationWarning: Adding an axes using the same arguments as a previous axes currently reuses the earlier instance.  In a future version, a new instance will always be created and returned.  Meanwhile, this warning can be suppressed, and the future behavior ensured, by passing a unique label to each axes instance.\n",
            "/usr/local/lib/python3.7/dist-packages/ipykernel_launcher.py:74: MatplotlibDeprecationWarning: Adding an axes using the same arguments as a previous axes currently reuses the earlier instance.  In a future version, a new instance will always be created and returned.  Meanwhile, this warning can be suppressed, and the future behavior ensured, by passing a unique label to each axes instance.\n"
          ]
        },
        {
          "output_type": "display_data",
          "data": {
            "image/png": "[encoded data removed]",
            "text/plain": [
              "<Figure size 432x288 with 2 Axes>"
            ]
          },
          "metadata": {
            "needs_background": "light"
          }
        }
      ]
    },
    {
      "cell_type": "code",
      "metadata": {
        "id": "MiwNcwmaDIXd",
        "colab": {
          "base_uri": "https://localhost:8080/",
          "height": 216
        },
        "outputId": "682fb968-e275-4925-e406-c69dbefb3e57"
      },
      "source": [
        "img_compare(X_test[2], X_test_recol[2])"
      ],
      "execution_count": null,
      "outputs": [
        {
          "output_type": "stream",
          "name": "stderr",
          "text": [
            "/usr/local/lib/python3.7/dist-packages/ipykernel_launcher.py:67: MatplotlibDeprecationWarning: Adding an axes using the same arguments as a previous axes currently reuses the earlier instance.  In a future version, a new instance will always be created and returned.  Meanwhile, this warning can be suppressed, and the future behavior ensured, by passing a unique label to each axes instance.\n",
            "/usr/local/lib/python3.7/dist-packages/ipykernel_launcher.py:74: MatplotlibDeprecationWarning: Adding an axes using the same arguments as a previous axes currently reuses the earlier instance.  In a future version, a new instance will always be created and returned.  Meanwhile, this warning can be suppressed, and the future behavior ensured, by passing a unique label to each axes instance.\n"
          ]
        },
        {
          "output_type": "display_data",
          "data": {
            "image/png": "[encoded data removed]",
            "text/plain": [
              "<Figure size 432x288 with 2 Axes>"
            ]
          },
          "metadata": {
            "needs_background": "light"
          }
        }
      ]
    },
    {
      "cell_type": "markdown",
      "metadata": {
        "id": "Ietv-VIpDO6W"
      },
      "source": [
        "This approach delivers the best results of all the experiments. Especially blue gets predicted nicely. However, other collors like green or red are still missing. Additionally the prediction of the birds image reveals a completely wrong prediction of color."
      ]
    }
  ]
}