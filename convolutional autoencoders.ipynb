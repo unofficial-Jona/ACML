{
  "nbformat": 4,
  "nbformat_minor": 0,
  "metadata": {
    "accelerator": "GPU",
    "colab": {
      "name": "convolutional autoencoders.ipynb",
      "provenance": []
    },
    "interpreter": {
      "hash": "ddda031869fb8ce91032b63195a611ad81bb421fc11bd1c32a8661751b914dac"
    },
    "kernelspec": {
      "display_name": "Python 3.8.11 64-bit ('base': conda)",
      "name": "python3"
    },
    "language_info": {
      "codemirror_mode": {
        "name": "ipython",
        "version": 3
      },
      "file_extension": ".py",
      "mimetype": "text/x-python",
      "name": "python",
      "nbconvert_exporter": "python",
      "pygments_lexer": "ipython3",
      "version": "3.8.8"
    },
    "orig_nbformat": 4
  },
  "cells": [
    {
      "cell_type": "markdown",
      "metadata": {
        "id": "hjdjEkAnL7cp"
      },
      "source": [
        "# ACML Homework: Convolutional Autoencoders\n",
        "by Jonathan Ächtner and Thomas Bahne"
      ]
    },
    {
      "cell_type": "markdown",
      "metadata": {
        "id": "97GcYzCVfoLp"
      },
      "source": [
        "# Data preperation and utilities"
      ]
    },
    {
      "cell_type": "code",
      "metadata": {
        "id": "ofBRmadJEOeu"
      },
      "source": [
        "import tensorflow as tf\n",
        "from tensorflow import keras\n",
        "from keras import layers\n",
        "from keras.models import Sequential\n",
        "from keras.layers import Conv2D, MaxPooling2D, UpSampling2D, Input\n",
        "from tensorflow.keras import layers\n",
        "import numpy as np\n",
        "from sklearn.model_selection import train_test_split\n",
        "import matplotlib.pyplot as plt\n",
        "from PIL import Image\n",
        "from typing import Tuple, List"
      ],
      "execution_count": 8,
      "outputs": []
    },
    {
      "cell_type": "code",
      "metadata": {
        "id": "vZbgIJzjEOex"
      },
      "source": [
        "def load_data() -> Tuple[np.ndarray, np.ndarray, np.ndarray]:\n",
        "  \"\"\"downloads the cifar10 data set and divides it into a training, validation, and test set\n",
        "\n",
        "  Returns:\n",
        "      Tuple[np.ndarray, np.ndarray, np.ndarray]: Train, Validation, Test set\n",
        "  \"\"\" \n",
        "  (X_1, y_1), (X_2, y_2) = tf.keras.datasets.cifar10.load_data()\n",
        "  X = np.vstack((X_1, X_2))\n",
        "  y = np.vstack((y_1, y_2))\n",
        "  X_train, X, y_train, y = train_test_split(X, y, train_size=0.8, stratify=y)\n",
        "  X_test, X_valid, _, _  = train_test_split(X, y, test_size=0.5, stratify=y)\n",
        "  return X_train, X_valid, X_test\n",
        "\n",
        "def prepare_images(img: np.ndarray, gray=False) -> np.ndarray:\n",
        "  \"\"\"Normalizes and (optinally) grayscales images\n",
        "\n",
        "  Args:\n",
        "      img (np.ndarray): Array of images, given in RGB-pixel values\n",
        "      gray (bool, optional): Set to true will grayscale the images. Defaults to False.\n",
        "\n",
        "  Returns:\n",
        "      np.ndarray: Normalized and (optinally) grayscaled array of images\n",
        "  \"\"\"  \n",
        "  img = img/255\n",
        "  img_s1, img_s2, img_s3, img_s4 = img.shape\n",
        "  if gray:\n",
        "    to_grayscale = lambda x: x[:,:,:,0] * 0.299 + x[:,:,:,1] * 0.5870 + x[:,:,:,2] * 0.1140\n",
        "    img_gray = to_grayscale(img)\n",
        "    img = img\n",
        "    return img_gray.reshape((img_s1, img_s2, img_s3, 1))\n",
        "  else:\n",
        "    return img.reshape(img.shape)\n",
        "\n",
        "def load_prepare() -> Tuple[np.ndarray, np.ndarray, np.ndarray, np.ndarray, np.ndarray, np.ndarray]:\n",
        "  \"\"\"Downloads the CIFAR10 data set, normalizes and graysclaes the images\n",
        "\n",
        "  Returns:\n",
        "      Tuple[np.ndarray, np.ndarray, np.ndarray, np.ndarray, np.ndarray, np.ndarray]: Normalized Train, Validation and Test sets for color and grayscaled images\n",
        "  \"\"\"  \n",
        "  X_train_new, X_valid_new, X_test_new = load_data()\n",
        "\n",
        "  X_train = prepare_images(X_train_new)\n",
        "  X_valid = prepare_images(X_valid_new)\n",
        "  X_test = prepare_images(X_test_new)\n",
        "\n",
        "  X_train_bw = prepare_images(X_train_new, True)\n",
        "  X_test_bw = prepare_images(X_test_new, True)\n",
        "  X_valid_bw = prepare_images(X_valid_new, True)\n",
        "\n",
        "  return X_train, X_valid, X_test, X_train_bw, X_valid_bw, X_test_bw\n",
        "\n",
        "def save_model(model, path = 'models/CAE') -> None:\n",
        "  model.save(path)\n",
        "\n",
        "def load_model(path = 'models/CAE') -> None:\n",
        "    return keras.models.load_model(path)\n",
        "\n",
        "def img_compare(img_org: np.ndarray, img_pred: np.ndarray, cmap: str='gray') -> None:\n",
        "  \"\"\"Plots the original image next to the output of the Autoencoder\n",
        "\n",
        "  Args:\n",
        "      img_org (np.ndarray): Original version of the image\n",
        "      img_pred (np.ndarray): Output of the auto encoder for the image\n",
        "      cmap (str, optional): [description]. Defaults to 'gray'.\n",
        "  \"\"\"  \n",
        "  plt.subplot(221).imshow(img_org)\n",
        "  plt.subplot(221).set_title(f'original img: {img_org.shape}')\n",
        "  if img_pred.shape == (32,32,1):\n",
        "    img_pred = img_pred.reshape((32,32))\n",
        "    plt.subplot(222).imshow(img_pred, cmap=cmap)\n",
        "    plt.subplot(222).set_title(f'predict img: {img_pred.shape}')\n",
        "  else:\n",
        "    plt.subplot(222).imshow(img_pred)\n",
        "    plt.subplot(222).set_title(f'predict img: {img_pred.shape}')\n",
        "  plt.show()\n",
        "\n",
        "def model_fit_transform(model, x_train, y_train=None, x_valid=None, y_valid=None, x_test=None, y_test=None, step_size=1e-3, epochs=10):\n",
        "  model.summary()\n",
        "  \"\"\"Fits the model on training data, if available evaluates it on the validation set\n",
        "\n",
        "  Args:\n",
        "      model (keras.Sequential): model to be trained\n",
        "      x_train (np.ndarray): training inputs\n",
        "      y_train (np.ndarray): labels of training inputs ()\n",
        "\n",
        "  Returns:\n",
        "      Tuple[keras.Sequential, np.ndarray, np.ndarray, np.ndarray]: fitted model, output of the model for training-, validation-, and test instances, history of training\n",
        "  \"\"\"\n",
        "  if x_valid.any() != None:\n",
        "    history = model.fit(x_train, y_train, validation_data=(x_valid, y_valid), epochs=epochs, verbose=1)\n",
        "  else:\n",
        "    history = model.fit(x_train, y_train, epochs=epochs, verbose=1)\n",
        "\n",
        "  predictions_x_train = model.predict(x_train, verbose=1)\n",
        "\n",
        "  if x_valid.any() != None:\n",
        "    predictions_x_valid = model.predict(x_valid, verbose=1)\n",
        "\n",
        "  if x_test.any() != None:\n",
        "    predictions_x_test = model.predict(x_test, verbose=1)\n",
        "\n",
        "  \n",
        "  return model, predictions_x_train, predictions_x_valid, predictions_x_test, history"
      ],
      "execution_count": 9,
      "outputs": []
    },
    {
      "cell_type": "markdown",
      "metadata": {
        "id": "ZIa2-7PIL7cw"
      },
      "source": [
        "## 1. Divide your dataset into training (80%), validation (10%) and test (10%). Normalize the data."
      ]
    },
    {
      "cell_type": "code",
      "metadata": {
        "id": "YEGgJEqxfqFm"
      },
      "source": [
        "X_train, X_valid, X_test, X_train_bw, X_valid_bw, X_test_bw = load_prepare()\n",
        "\n",
        "shape_color_instance = X_train[0].shape\n",
        "shape_bw_instance = X_train_bw[0].shape"
      ],
      "execution_count": 10,
      "outputs": []
    },
    {
      "cell_type": "markdown",
      "metadata": {
        "id": "fs3610g4EOew"
      },
      "source": [
        "## 2. Implement the autoencoder network specified above. Run the training for at least 10 epochs, and plot the evolution of the error with epochs. Report also the test error."
      ]
    },
    {
      "cell_type": "code",
      "metadata": {
        "id": "zuj4s7ulw2nd"
      },
      "source": [
        "epochs = 10\n",
        "\n",
        "def plot_acc_err(epochs, model, history):\n",
        "  # Plot accuracy and report test error\n",
        "  plt.figure()\n",
        "  plt.plot(range(1, epochs+1), history.history['loss'], '-', label='Training loss')\n",
        "  plt.plot(range(1, epochs+1), history.history['val_loss'], '--', label='Validation loss')\n",
        "  plt.title(f'Training and validation loss')\n",
        "  plt.legend()\n",
        "  plt.show()\n",
        "\n",
        "  print(f'Test set loss: {model.evaluate(X_test, X_test, verbose=1)[0]}')"
      ],
      "execution_count": 11,
      "outputs": []
    },
    {
      "cell_type": "code",
      "metadata": {
        "id": "XY7eM8eREOez"
      },
      "source": [
        "# build the model\n",
        "def create_model(input_shape):\n",
        "  model =  Sequential()\n",
        "  model.add(Input(shape=input_shape))\n",
        "  model.add(Conv2D(8, kernel_size = (3,3), padding='same',  activation='relu'))\n",
        "  model.add(MaxPooling2D(pool_size = (2,2), padding='same'))\n",
        "  model.add(Conv2D(12, kernel_size = (3,3), padding='same', activation='relu'))\n",
        "  model.add(MaxPooling2D(pool_size = (2,2)))\n",
        "  model.add(Conv2D(16, kernel_size = (3,3), padding='same', activation='relu'))\n",
        "  model.add(UpSampling2D(size=(2,2)))\n",
        "  model.add(Conv2D(12, kernel_size = (3,3), padding='same', activation='relu'))\n",
        "  model.add(UpSampling2D())\n",
        "  model.add(Conv2D(3, kernel_size=(3,3), padding='same', activation='relu'))\n",
        "  return model\n",
        "\n",
        "models: List[keras.Sequential] = [create_model(shape_color_instance), create_model(shape_color_instance), create_model(shape_color_instance), create_model(shape_color_instance)]\n",
        "learning_rates: List[float] = [1e-5, 1e-3, 0.1]\n",
        "\n",
        "# compile multiple models to test different learning rates and loss functions\n",
        "for index, model in enumerate(models):\n",
        "  if index < 3:\n",
        "    model.compile(\n",
        "    optimizer=keras.optimizers.Adam(learning_rate=learning_rates[index]),\n",
        "    loss=keras.losses.MeanSquaredError(),\n",
        "    metrics=[keras.metrics.BinaryCrossentropy()])\n",
        "  else:\n",
        "    model.compile(\n",
        "      optimizer=keras.optimizers.Adam(learning_rate=1e-3),\n",
        "      loss=keras.losses.BinaryCrossentropy(),\n",
        "      metrics=[keras.metrics.MeanSquaredError()])"
      ],
      "execution_count": 5,
      "outputs": []
    },
    {
      "cell_type": "code",
      "metadata": {
        "colab": {
          "base_uri": "https://localhost:8080/",
          "height": 1000
        },
        "id": "dcQDRhzUUADu",
        "outputId": "19c0f029-eccb-4ff4-82df-479ce987a2b0"
      },
      "source": [
        "model, _, _, test_prediction, history = model_fit_transform(models[0], X_train, X_train, X_valid, X_valid, X_test, X_test, epochs=epochs)\n",
        "plot_acc_err(epochs, model, history)\n",
        "img_compare(X_test[0], test_prediction[0], cmap='viridis')"
      ],
      "execution_count": 20,
      "outputs": [
        {
          "output_type": "stream",
          "name": "stdout",
          "text": [
            "Model: \"sequential\"\n",
            "_________________________________________________________________\n",
            "Layer (type)                 Output Shape              Param #   \n",
            "=================================================================\n",
            "conv2d (Conv2D)              (None, 32, 32, 8)         224       \n",
            "_________________________________________________________________\n",
            "max_pooling2d (MaxPooling2D) (None, 16, 16, 8)         0         \n",
            "_________________________________________________________________\n",
            "conv2d_1 (Conv2D)            (None, 16, 16, 12)        876       \n",
            "_________________________________________________________________\n",
            "max_pooling2d_1 (MaxPooling2 (None, 8, 8, 12)          0         \n",
            "_________________________________________________________________\n",
            "conv2d_2 (Conv2D)            (None, 8, 8, 16)          1744      \n",
            "_________________________________________________________________\n",
            "up_sampling2d (UpSampling2D) (None, 16, 16, 16)        0         \n",
            "_________________________________________________________________\n",
            "conv2d_3 (Conv2D)            (None, 16, 16, 12)        1740      \n",
            "_________________________________________________________________\n",
            "up_sampling2d_1 (UpSampling2 (None, 32, 32, 12)        0         \n",
            "_________________________________________________________________\n",
            "conv2d_4 (Conv2D)            (None, 32, 32, 3)         327       \n",
            "=================================================================\n",
            "Total params: 4,911\n",
            "Trainable params: 4,911\n",
            "Non-trainable params: 0\n",
            "_________________________________________________________________\n",
            "Epoch 1/10\n",
            "1500/1500 [==============================] - 13s 8ms/step - loss: 0.1412 - binary_crossentropy: 2.2737 - val_loss: 0.0508 - val_binary_crossentropy: 0.7225\n",
            "Epoch 2/10\n",
            "1500/1500 [==============================] - 12s 8ms/step - loss: 0.0379 - binary_crossentropy: 0.6840 - val_loss: 0.0285 - val_binary_crossentropy: 0.6445\n",
            "Epoch 3/10\n",
            "1500/1500 [==============================] - 12s 8ms/step - loss: 0.0237 - binary_crossentropy: 0.6269 - val_loss: 0.0200 - val_binary_crossentropy: 0.6144\n",
            "Epoch 4/10\n",
            "1500/1500 [==============================] - 12s 8ms/step - loss: 0.0178 - binary_crossentropy: 0.6047 - val_loss: 0.0160 - val_binary_crossentropy: 0.5978\n",
            "Epoch 5/10\n",
            "1500/1500 [==============================] - 12s 8ms/step - loss: 0.0148 - binary_crossentropy: 0.5933 - val_loss: 0.0137 - val_binary_crossentropy: 0.5903\n",
            "Epoch 6/10\n",
            "1500/1500 [==============================] - 12s 8ms/step - loss: 0.0130 - binary_crossentropy: 0.5880 - val_loss: 0.0123 - val_binary_crossentropy: 0.5863\n",
            "Epoch 7/10\n",
            "1500/1500 [==============================] - 12s 8ms/step - loss: 0.0117 - binary_crossentropy: 0.5847 - val_loss: 0.0112 - val_binary_crossentropy: 0.5836\n",
            "Epoch 8/10\n",
            "1500/1500 [==============================] - 12s 8ms/step - loss: 0.0108 - binary_crossentropy: 0.5820 - val_loss: 0.0104 - val_binary_crossentropy: 0.5810\n",
            "Epoch 9/10\n",
            "1500/1500 [==============================] - 12s 8ms/step - loss: 0.0100 - binary_crossentropy: 0.5798 - val_loss: 0.0097 - val_binary_crossentropy: 0.5792\n",
            "Epoch 10/10\n",
            "1500/1500 [==============================] - 12s 8ms/step - loss: 0.0095 - binary_crossentropy: 0.5780 - val_loss: 0.0092 - val_binary_crossentropy: 0.5775\n",
            "1500/1500 [==============================] - 4s 2ms/step\n",
            "188/188 [==============================] - 1s 3ms/step\n",
            "188/188 [==============================] - 1s 3ms/step\n"
          ]
        },
        {
          "output_type": "display_data",
          "data": {
            "image/png": "[encoded data removed]",
            "text/plain": [
              "<Figure size 432x288 with 1 Axes>"
            ]
          },
          "metadata": {
            "needs_background": "light"
          }
        },
        {
          "output_type": "stream",
          "name": "stdout",
          "text": [
            "188/188 [==============================] - 1s 5ms/step - loss: 0.0093 - binary_crossentropy: 0.5778\n",
            "Test set loss: 0.009319012053310871\n"
          ]
        },
        {
          "output_type": "stream",
          "name": "stderr",
          "text": [
            "/usr/local/lib/python3.7/dist-packages/ipykernel_launcher.py:67: MatplotlibDeprecationWarning: Adding an axes using the same arguments as a previous axes currently reuses the earlier instance.  In a future version, a new instance will always be created and returned.  Meanwhile, this warning can be suppressed, and the future behavior ensured, by passing a unique label to each axes instance.\n",
            "/usr/local/lib/python3.7/dist-packages/ipykernel_launcher.py:74: MatplotlibDeprecationWarning: Adding an axes using the same arguments as a previous axes currently reuses the earlier instance.  In a future version, a new instance will always be created and returned.  Meanwhile, this warning can be suppressed, and the future behavior ensured, by passing a unique label to each axes instance.\n"
          ]
        },
        {
          "output_type": "display_data",
          "data": {
            "image/png": "[encoded data removed]",
            "text/plain": [
              "<Figure size 432x288 with 2 Axes>"
            ]
          },
          "metadata": {
            "needs_background": "light"
          }
        }
      ]
    },
    {
      "cell_type": "code",
      "metadata": {
        "colab": {
          "base_uri": "https://localhost:8080/",
          "height": 1000
        },
        "id": "qiWuJut5UVkS",
        "outputId": "a83cd533-2f4d-4467-e595-473108243338"
      },
      "source": [
        "model, _, _, test_prediction, history = model_fit_transform(models[1], X_train, X_train, X_valid, X_valid, X_test, X_test, epochs=epochs)\n",
        "plot_acc_err(epochs, model, history)\n",
        "img_compare(X_test[0], test_prediction[0], cmap='viridis')"
      ],
      "execution_count": 10,
      "outputs": [
        {
          "output_type": "stream",
          "name": "stdout",
          "text": [
            "Model: \"sequential_1\"\n",
            "_________________________________________________________________\n",
            "Layer (type)                 Output Shape              Param #   \n",
            "=================================================================\n",
            "conv2d_5 (Conv2D)            (None, 32, 32, 8)         224       \n",
            "_________________________________________________________________\n",
            "max_pooling2d_2 (MaxPooling2 (None, 16, 16, 8)         0         \n",
            "_________________________________________________________________\n",
            "conv2d_6 (Conv2D)            (None, 16, 16, 12)        876       \n",
            "_________________________________________________________________\n",
            "max_pooling2d_3 (MaxPooling2 (None, 8, 8, 12)          0         \n",
            "_________________________________________________________________\n",
            "conv2d_7 (Conv2D)            (None, 8, 8, 16)          1744      \n",
            "_________________________________________________________________\n",
            "up_sampling2d_2 (UpSampling2 (None, 16, 16, 16)        0         \n",
            "_________________________________________________________________\n",
            "conv2d_8 (Conv2D)            (None, 16, 16, 12)        1740      \n",
            "_________________________________________________________________\n",
            "up_sampling2d_3 (UpSampling2 (None, 32, 32, 12)        0         \n",
            "_________________________________________________________________\n",
            "conv2d_9 (Conv2D)            (None, 32, 32, 3)         327       \n",
            "=================================================================\n",
            "Total params: 4,911\n",
            "Trainable params: 4,911\n",
            "Non-trainable params: 0\n",
            "_________________________________________________________________\n",
            "Epoch 1/10\n",
            "1500/1500 [==============================] - 12s 8ms/step - loss: 0.0130 - binary_crossentropy: 0.5992 - val_loss: 0.0066 - val_binary_crossentropy: 0.5690\n",
            "Epoch 2/10\n",
            "1500/1500 [==============================] - 11s 7ms/step - loss: 0.0060 - binary_crossentropy: 0.5683 - val_loss: 0.0055 - val_binary_crossentropy: 0.5660\n",
            "Epoch 3/10\n",
            "1500/1500 [==============================] - 11s 7ms/step - loss: 0.0054 - binary_crossentropy: 0.5665 - val_loss: 0.0051 - val_binary_crossentropy: 0.5647\n",
            "Epoch 4/10\n",
            "1500/1500 [==============================] - 11s 7ms/step - loss: 0.0050 - binary_crossentropy: 0.5652 - val_loss: 0.0049 - val_binary_crossentropy: 0.5644\n",
            "Epoch 5/10\n",
            "1500/1500 [==============================] - 11s 7ms/step - loss: 0.0048 - binary_crossentropy: 0.5644 - val_loss: 0.0046 - val_binary_crossentropy: 0.5628\n",
            "Epoch 6/10\n",
            "1500/1500 [==============================] - 12s 8ms/step - loss: 0.0046 - binary_crossentropy: 0.5640 - val_loss: 0.0046 - val_binary_crossentropy: 0.5637\n",
            "Epoch 7/10\n",
            "1500/1500 [==============================] - 11s 7ms/step - loss: 0.0044 - binary_crossentropy: 0.5635 - val_loss: 0.0043 - val_binary_crossentropy: 0.5622\n",
            "Epoch 8/10\n",
            "1500/1500 [==============================] - 11s 7ms/step - loss: 0.0042 - binary_crossentropy: 0.5630 - val_loss: 0.0043 - val_binary_crossentropy: 0.5622\n",
            "Epoch 9/10\n",
            "1500/1500 [==============================] - 11s 7ms/step - loss: 0.0041 - binary_crossentropy: 0.5627 - val_loss: 0.0040 - val_binary_crossentropy: 0.5616\n",
            "Epoch 10/10\n",
            "1500/1500 [==============================] - 11s 7ms/step - loss: 0.0041 - binary_crossentropy: 0.5624 - val_loss: 0.0042 - val_binary_crossentropy: 0.5624\n",
            "1500/1500 [==============================] - 4s 2ms/step\n",
            "188/188 [==============================] - 1s 3ms/step\n",
            "188/188 [==============================] - 0s 3ms/step\n"
          ]
        },
        {
          "output_type": "display_data",
          "data": {
            "image/png": "[encoded data removed]",
            "text/plain": [
              "<Figure size 432x288 with 1 Axes>"
            ]
          },
          "metadata": {
            "needs_background": "light"
          }
        },
        {
          "output_type": "stream",
          "name": "stdout",
          "text": [
            "188/188 [==============================] - 1s 5ms/step - loss: 0.0042 - binary_crossentropy: 0.5614\n",
            "Test set loss: 0.00417210441082716\n"
          ]
        },
        {
          "output_type": "stream",
          "name": "stderr",
          "text": [
            "/usr/local/lib/python3.7/dist-packages/ipykernel_launcher.py:67: MatplotlibDeprecationWarning: Adding an axes using the same arguments as a previous axes currently reuses the earlier instance.  In a future version, a new instance will always be created and returned.  Meanwhile, this warning can be suppressed, and the future behavior ensured, by passing a unique label to each axes instance.\n",
            "/usr/local/lib/python3.7/dist-packages/ipykernel_launcher.py:74: MatplotlibDeprecationWarning: Adding an axes using the same arguments as a previous axes currently reuses the earlier instance.  In a future version, a new instance will always be created and returned.  Meanwhile, this warning can be suppressed, and the future behavior ensured, by passing a unique label to each axes instance.\n"
          ]
        },
        {
          "output_type": "display_data",
          "data": {
            "image/png": "[encoded data removed]",
            "text/plain": [
              "<Figure size 432x288 with 2 Axes>"
            ]
          },
          "metadata": {
            "needs_background": "light"
          }
        }
      ]
    },
    {
      "cell_type": "code",
      "metadata": {
        "colab": {
          "base_uri": "https://localhost:8080/",
          "height": 1000
        },
        "id": "XkHW0LgTUYF0",
        "outputId": "31e9ca29-81d2-453e-8b25-5d52bf689dd9"
      },
      "source": [
        "model, _, _, test_prediction, history = model_fit_transform(models[2], X_train, X_train, X_valid, X_valid, X_test, X_test, epochs=epochs)\n",
        "plot_acc_err(epochs, model, history)\n",
        "img_compare(X_test[0], test_prediction[0], cmap='viridis')"
      ],
      "execution_count": 7,
      "outputs": [
        {
          "output_type": "stream",
          "name": "stdout",
          "text": [
            "Model: \"sequential_2\"\n",
            "_________________________________________________________________\n",
            "Layer (type)                 Output Shape              Param #   \n",
            "=================================================================\n",
            "conv2d_10 (Conv2D)           (None, 32, 32, 8)         224       \n",
            "_________________________________________________________________\n",
            "max_pooling2d_4 (MaxPooling2 (None, 16, 16, 8)         0         \n",
            "_________________________________________________________________\n",
            "conv2d_11 (Conv2D)           (None, 16, 16, 12)        876       \n",
            "_________________________________________________________________\n",
            "max_pooling2d_5 (MaxPooling2 (None, 8, 8, 12)          0         \n",
            "_________________________________________________________________\n",
            "conv2d_12 (Conv2D)           (None, 8, 8, 16)          1744      \n",
            "_________________________________________________________________\n",
            "up_sampling2d_4 (UpSampling2 (None, 16, 16, 16)        0         \n",
            "_________________________________________________________________\n",
            "conv2d_13 (Conv2D)           (None, 16, 16, 12)        1740      \n",
            "_________________________________________________________________\n",
            "up_sampling2d_5 (UpSampling2 (None, 32, 32, 12)        0         \n",
            "_________________________________________________________________\n",
            "conv2d_14 (Conv2D)           (None, 32, 32, 3)         327       \n",
            "=================================================================\n",
            "Total params: 4,911\n",
            "Trainable params: 4,911\n",
            "Non-trainable params: 0\n",
            "_________________________________________________________________\n",
            "Epoch 1/10\n",
            "1500/1500 [==============================] - 12s 7ms/step - loss: 60.5056 - binary_crossentropy: 2.9620 - val_loss: 0.1425 - val_binary_crossentropy: 2.9532\n",
            "Epoch 2/10\n",
            "1500/1500 [==============================] - 11s 7ms/step - loss: 0.1441 - binary_crossentropy: 2.9479 - val_loss: 0.1475 - val_binary_crossentropy: 2.9635\n",
            "Epoch 3/10\n",
            "1500/1500 [==============================] - 11s 8ms/step - loss: 0.1419 - binary_crossentropy: 2.9432 - val_loss: 0.1417 - val_binary_crossentropy: 2.9515\n",
            "Epoch 4/10\n",
            "1500/1500 [==============================] - 12s 8ms/step - loss: 0.1407 - binary_crossentropy: 2.9407 - val_loss: 0.1415 - val_binary_crossentropy: 2.9511\n",
            "Epoch 5/10\n",
            "1500/1500 [==============================] - 11s 8ms/step - loss: 0.1401 - binary_crossentropy: 2.9395 - val_loss: 0.1415 - val_binary_crossentropy: 2.9512\n",
            "Epoch 6/10\n",
            "1500/1500 [==============================] - 11s 8ms/step - loss: 0.1402 - binary_crossentropy: 2.9396 - val_loss: 0.1413 - val_binary_crossentropy: 2.9508\n",
            "Epoch 7/10\n",
            "1500/1500 [==============================] - 11s 8ms/step - loss: 0.1403 - binary_crossentropy: 2.9399 - val_loss: 0.1424 - val_binary_crossentropy: 2.9530\n",
            "Epoch 8/10\n",
            "1500/1500 [==============================] - 11s 8ms/step - loss: 0.1407 - binary_crossentropy: 2.9407 - val_loss: 0.1419 - val_binary_crossentropy: 2.9520\n",
            "Epoch 9/10\n",
            "1500/1500 [==============================] - 11s 8ms/step - loss: 0.1407 - binary_crossentropy: 2.9407 - val_loss: 0.1419 - val_binary_crossentropy: 2.9520\n",
            "Epoch 10/10\n",
            "1500/1500 [==============================] - 11s 8ms/step - loss: 0.1408 - binary_crossentropy: 2.9408 - val_loss: 0.1421 - val_binary_crossentropy: 2.9523\n",
            "1500/1500 [==============================] - 4s 2ms/step\n",
            "188/188 [==============================] - 1s 3ms/step\n",
            "188/188 [==============================] - 1s 3ms/step\n"
          ]
        },
        {
          "output_type": "display_data",
          "data": {
            "image/png": "[encoded data removed]",
            "text/plain": [
              "<Figure size 432x288 with 1 Axes>"
            ]
          },
          "metadata": {
            "needs_background": "light"
          }
        },
        {
          "output_type": "stream",
          "name": "stdout",
          "text": [
            "188/188 [==============================] - 1s 5ms/step - loss: 0.1424 - binary_crossentropy: 2.9504\n",
            "Test set loss: 0.14241576194763184\n"
          ]
        },
        {
          "output_type": "stream",
          "name": "stderr",
          "text": [
            "/usr/local/lib/python3.7/dist-packages/ipykernel_launcher.py:67: MatplotlibDeprecationWarning: Adding an axes using the same arguments as a previous axes currently reuses the earlier instance.  In a future version, a new instance will always be created and returned.  Meanwhile, this warning can be suppressed, and the future behavior ensured, by passing a unique label to each axes instance.\n",
            "/usr/local/lib/python3.7/dist-packages/ipykernel_launcher.py:74: MatplotlibDeprecationWarning: Adding an axes using the same arguments as a previous axes currently reuses the earlier instance.  In a future version, a new instance will always be created and returned.  Meanwhile, this warning can be suppressed, and the future behavior ensured, by passing a unique label to each axes instance.\n"
          ]
        },
        {
          "output_type": "display_data",
          "data": {
            "image/png": "[encoded data removed]",
            "text/plain": [
              "<Figure size 432x288 with 2 Axes>"
            ]
          },
          "metadata": {
            "needs_background": "light"
          }
        }
      ]
    },
    {
      "cell_type": "code",
      "metadata": {
        "colab": {
          "base_uri": "https://localhost:8080/",
          "height": 1000
        },
        "id": "ZaROKn2yUZjO",
        "outputId": "492d6d19-126a-4d9c-b347-53dfc7dec799"
      },
      "source": [
        "model, _, _, test_prediction, history = model_fit_transform(models[3], X_train, X_train, X_valid, X_valid, X_test, X_test, epochs=epochs)\n",
        "plot_acc_err(epochs, model, history)\n",
        "img_compare(X_test[0], test_prediction[0], cmap='viridis')"
      ],
      "execution_count": 6,
      "outputs": [
        {
          "output_type": "stream",
          "name": "stdout",
          "text": [
            "Model: \"sequential_3\"\n",
            "_________________________________________________________________\n",
            "Layer (type)                 Output Shape              Param #   \n",
            "=================================================================\n",
            "conv2d_15 (Conv2D)           (None, 32, 32, 8)         224       \n",
            "_________________________________________________________________\n",
            "max_pooling2d_6 (MaxPooling2 (None, 16, 16, 8)         0         \n",
            "_________________________________________________________________\n",
            "conv2d_16 (Conv2D)           (None, 16, 16, 12)        876       \n",
            "_________________________________________________________________\n",
            "max_pooling2d_7 (MaxPooling2 (None, 8, 8, 12)          0         \n",
            "_________________________________________________________________\n",
            "conv2d_17 (Conv2D)           (None, 8, 8, 16)          1744      \n",
            "_________________________________________________________________\n",
            "up_sampling2d_6 (UpSampling2 (None, 16, 16, 16)        0         \n",
            "_________________________________________________________________\n",
            "conv2d_18 (Conv2D)           (None, 16, 16, 12)        1740      \n",
            "_________________________________________________________________\n",
            "up_sampling2d_7 (UpSampling2 (None, 32, 32, 12)        0         \n",
            "_________________________________________________________________\n",
            "conv2d_19 (Conv2D)           (None, 32, 32, 3)         327       \n",
            "=================================================================\n",
            "Total params: 4,911\n",
            "Trainable params: 4,911\n",
            "Non-trainable params: 0\n",
            "_________________________________________________________________\n",
            "Epoch 1/10\n",
            "1500/1500 [==============================] - 42s 8ms/step - loss: 0.6255 - mean_squared_error: 0.0230 - val_loss: 0.5776 - val_mean_squared_error: 0.0117\n",
            "Epoch 2/10\n",
            "1500/1500 [==============================] - 12s 8ms/step - loss: 0.5789 - mean_squared_error: 0.0118 - val_loss: 0.5726 - val_mean_squared_error: 0.0098\n",
            "Epoch 3/10\n",
            "1500/1500 [==============================] - 12s 8ms/step - loss: 0.5743 - mean_squared_error: 0.0100 - val_loss: 0.5698 - val_mean_squared_error: 0.0088\n",
            "Epoch 4/10\n",
            "1500/1500 [==============================] - 12s 8ms/step - loss: 0.5728 - mean_squared_error: 0.0094 - val_loss: 0.5712 - val_mean_squared_error: 0.0091\n",
            "Epoch 5/10\n",
            "1500/1500 [==============================] - 12s 8ms/step - loss: 0.5699 - mean_squared_error: 0.0083 - val_loss: 0.5677 - val_mean_squared_error: 0.0076\n",
            "Epoch 6/10\n",
            "1500/1500 [==============================] - 12s 8ms/step - loss: 0.5678 - mean_squared_error: 0.0074 - val_loss: 0.5644 - val_mean_squared_error: 0.0067\n",
            "Epoch 7/10\n",
            "1500/1500 [==============================] - 12s 8ms/step - loss: 0.5679 - mean_squared_error: 0.0075 - val_loss: 0.5637 - val_mean_squared_error: 0.0063\n",
            "Epoch 8/10\n",
            "1500/1500 [==============================] - 12s 8ms/step - loss: 0.5662 - mean_squared_error: 0.0069 - val_loss: 0.5639 - val_mean_squared_error: 0.0064\n",
            "Epoch 9/10\n",
            "1500/1500 [==============================] - 12s 8ms/step - loss: 0.5708 - mean_squared_error: 0.0087 - val_loss: 0.5634 - val_mean_squared_error: 0.0063\n",
            "Epoch 10/10\n",
            "1500/1500 [==============================] - 12s 8ms/step - loss: 0.5677 - mean_squared_error: 0.0075 - val_loss: 0.5684 - val_mean_squared_error: 0.0082\n",
            "1500/1500 [==============================] - 4s 2ms/step\n",
            "188/188 [==============================] - 1s 3ms/step\n",
            "188/188 [==============================] - 1s 3ms/step\n"
          ]
        },
        {
          "output_type": "display_data",
          "data": {
            "image/png": "[encoded data removed]",
            "text/plain": [
              "<Figure size 432x288 with 1 Axes>"
            ]
          },
          "metadata": {
            "needs_background": "light"
          }
        },
        {
          "output_type": "stream",
          "name": "stdout",
          "text": [
            "188/188 [==============================] - 1s 5ms/step - loss: 0.5674 - mean_squared_error: 0.0082\n",
            "Test set loss: 0.567424476146698\n"
          ]
        },
        {
          "output_type": "stream",
          "name": "stderr",
          "text": [
            "/usr/local/lib/python3.7/dist-packages/ipykernel_launcher.py:67: MatplotlibDeprecationWarning: Adding an axes using the same arguments as a previous axes currently reuses the earlier instance.  In a future version, a new instance will always be created and returned.  Meanwhile, this warning can be suppressed, and the future behavior ensured, by passing a unique label to each axes instance.\n",
            "/usr/local/lib/python3.7/dist-packages/ipykernel_launcher.py:74: MatplotlibDeprecationWarning: Adding an axes using the same arguments as a previous axes currently reuses the earlier instance.  In a future version, a new instance will always be created and returned.  Meanwhile, this warning can be suppressed, and the future behavior ensured, by passing a unique label to each axes instance.\n"
          ]
        },
        {
          "output_type": "display_data",
          "data": {
            "image/png": "[encoded data removed]",
            "text/plain": [
              "<Figure size 432x288 with 2 Axes>"
            ]
          },
          "metadata": {
            "needs_background": "light"
          }
        }
      ]
    },
    {
      "cell_type": "markdown",
      "metadata": {
        "id": "ZRHTo2wgL7c1"
      },
      "source": [
        "We see that for a learning rate of 1e-5 it takes longer than 10 epochs for the model to converge. A learning rate of 0.1 seems to high, the model produces way higher loss values compared to models that use smaller learning rates (and basically outputs an image with only one color). A learning rate of 1e-3 seems to be a good trade-off between training time and quality of the results. Overall however, the images are quite blurry. Using binary cross entropy versus mean squared error does not seem to have an impact."
      ]
    },
    {
      "cell_type": "markdown",
      "metadata": {
        "id": "FAbqbhMeL7c2"
      },
      "source": [
        "## 1. What is the size of the latent space representation of the above network?\n",
        "\n",
        "These following are the numbers for the variables of the last convultion layer (i.e. the latent space)\n",
        "\n",
        "Input volume = 8 (8x8)\\\n",
        "Kernel size = 3 (3x3)\\\n",
        "Padding = 1\\\n",
        "Stride = 1\\\n",
        "Channels = 16\n",
        "\n",
        "Size of latent space = $(\\frac{8-3+2\\cdot 1}{1}+1)^2\\cdot 16$ = 1024"
      ]
    },
    {
      "cell_type": "markdown",
      "metadata": {
        "id": "Dk7OIlU9gh7i"
      },
      "source": [
        "## 2. Try other architectures (e.g. fewer intermediate layers, different number of channels, filter sizes or stride and padding configurations) to answer questions such as: What is the impact of those in the reconstruction error after training? Is there an obvious correlation between the size of the latent space representation and the error?"
      ]
    },
    {
      "cell_type": "markdown",
      "metadata": {
        "id": "r3MIas3HhASx"
      },
      "source": [
        "### 2.1 drastically increasing number of channels"
      ]
    },
    {
      "cell_type": "code",
      "metadata": {
        "id": "-HIQVHZ9gvZj"
      },
      "source": [
        "model_layout01 = Sequential()\n",
        "model_layout01.add(Input(shape=shape_color_instance))\n",
        "model_layout01.add(Conv2D(128, kernel_size = (3,3), padding='same',  activation='relu'))\n",
        "model_layout01.add(Conv2D(92, kernel_size = (3,3), padding='same',  activation='relu'))\n",
        "model_layout01.add(MaxPooling2D(pool_size = (2,2)))\n",
        "model_layout01.add(Conv2D(78, kernel_size = (3,3), padding='same', activation='relu'))\n",
        "model_layout01.add(MaxPooling2D(pool_size = (2,2)))\n",
        "model_layout01.add(Conv2D(64, kernel_size = (3,3), padding='same', activation='relu'))\n",
        "\n",
        "model_layout01.add(UpSampling2D(size=(2,2)))\n",
        "model_layout01.add(Conv2D(32,kernel_size = (3,3), padding='same', activation='relu'))\n",
        "model_layout01.add(Conv2D(24,kernel_size = (3,3), padding='same', activation='relu'))\n",
        "model_layout01.add(Conv2D(16,kernel_size = (3,3), padding='same', activation='relu'))\n",
        "\n",
        "model_layout01.add(UpSampling2D())\n",
        "model_layout01.add(Conv2D(8,kernel_size = (3,3), padding='same', activation='relu'))\n",
        "model_layout01.add(Conv2D(3,(3,3), padding='same', activation='relu'))\n",
        "\n",
        "model_layout01.compile(\n",
        "    optimizer=keras.optimizers.Adam(learning_rate=1e-3),\n",
        "    loss=keras.losses.MeanSquaredError(),\n",
        "    metrics=[keras.metrics.MeanAbsoluteError(),\n",
        "            keras.metrics.CosineSimilarity()])\n"
      ],
      "execution_count": 13,
      "outputs": []
    },
    {
      "cell_type": "code",
      "metadata": {
        "colab": {
          "base_uri": "https://localhost:8080/",
          "height": 908
        },
        "id": "j3nJzjmog0N-",
        "outputId": "09e80369-c527-4ef6-9d6f-7faafbfe095f"
      },
      "source": [
        "model_layout01, X_train_1, X_valid_1, X_test_1, history = model_fit_transform(model_layout01, x_train=X_train, y_train=X_train, x_valid=X_valid, y_valid=X_valid, x_test=X_test, y_test=X_test, epochs=10)\n",
        "img_compare(X_test[1], X_test_1[1], cmap='viridis')"
      ],
      "execution_count": 19,
      "outputs": [
        {
          "output_type": "stream",
          "name": "stdout",
          "text": [
            "Model: \"sequential_5\"\n",
            "_________________________________________________________________\n",
            "Layer (type)                 Output Shape              Param #   \n",
            "=================================================================\n",
            "conv2d_20 (Conv2D)           (None, 32, 32, 128)       3584      \n",
            "_________________________________________________________________\n",
            "conv2d_21 (Conv2D)           (None, 32, 32, 92)        106076    \n",
            "_________________________________________________________________\n",
            "max_pooling2d_8 (MaxPooling2 (None, 16, 16, 92)        0         \n",
            "_________________________________________________________________\n",
            "conv2d_22 (Conv2D)           (None, 16, 16, 78)        64662     \n",
            "_________________________________________________________________\n",
            "max_pooling2d_9 (MaxPooling2 (None, 8, 8, 78)          0         \n",
            "_________________________________________________________________\n",
            "conv2d_23 (Conv2D)           (None, 8, 8, 64)          44992     \n",
            "_________________________________________________________________\n",
            "up_sampling2d_8 (UpSampling2 (None, 16, 16, 64)        0         \n",
            "_________________________________________________________________\n",
            "conv2d_24 (Conv2D)           (None, 16, 16, 32)        18464     \n",
            "_________________________________________________________________\n",
            "conv2d_25 (Conv2D)           (None, 16, 16, 24)        6936      \n",
            "_________________________________________________________________\n",
            "conv2d_26 (Conv2D)           (None, 16, 16, 16)        3472      \n",
            "_________________________________________________________________\n",
            "up_sampling2d_9 (UpSampling2 (None, 32, 32, 16)        0         \n",
            "_________________________________________________________________\n",
            "conv2d_27 (Conv2D)           (None, 32, 32, 8)         1160      \n",
            "_________________________________________________________________\n",
            "conv2d_28 (Conv2D)           (None, 32, 32, 3)         219       \n",
            "=================================================================\n",
            "Total params: 249,565\n",
            "Trainable params: 249,565\n",
            "Non-trainable params: 0\n",
            "_________________________________________________________________\n",
            "Epoch 1/10\n"
          ]
        },
        {
          "output_type": "error",
          "ename": "ValueError",
          "evalue": "ignored",
          "traceback": [
            "\u001b[0;31m---------------------------------------------------------------------------\u001b[0m",
            "\u001b[0;31mValueError\u001b[0m                                Traceback (most recent call last)",
            "\u001b[0;32m<ipython-input-19-bd072668bc56>\u001b[0m in \u001b[0;36m<module>\u001b[0;34m()\u001b[0m\n\u001b[0;32m----> 1\u001b[0;31m \u001b[0mmodel_layout01\u001b[0m\u001b[0;34m,\u001b[0m \u001b[0mX_train_1\u001b[0m\u001b[0;34m,\u001b[0m \u001b[0mX_valid_1\u001b[0m\u001b[0;34m,\u001b[0m \u001b[0mX_test_1\u001b[0m \u001b[0;34m=\u001b[0m \u001b[0mmodel_fit_transform\u001b[0m\u001b[0;34m(\u001b[0m\u001b[0mmodel_layout01\u001b[0m\u001b[0;34m,\u001b[0m \u001b[0mx_train\u001b[0m\u001b[0;34m=\u001b[0m\u001b[0mX_train\u001b[0m\u001b[0;34m,\u001b[0m \u001b[0my_train\u001b[0m\u001b[0;34m=\u001b[0m\u001b[0mX_train\u001b[0m\u001b[0;34m,\u001b[0m \u001b[0mx_valid\u001b[0m\u001b[0;34m=\u001b[0m\u001b[0mX_valid\u001b[0m\u001b[0;34m,\u001b[0m \u001b[0my_valid\u001b[0m\u001b[0;34m=\u001b[0m\u001b[0mX_valid\u001b[0m\u001b[0;34m,\u001b[0m \u001b[0mx_test\u001b[0m\u001b[0;34m=\u001b[0m\u001b[0mX_test\u001b[0m\u001b[0;34m,\u001b[0m \u001b[0my_test\u001b[0m\u001b[0;34m=\u001b[0m\u001b[0mX_test\u001b[0m\u001b[0;34m,\u001b[0m \u001b[0mepochs\u001b[0m\u001b[0;34m=\u001b[0m\u001b[0;36m10\u001b[0m\u001b[0;34m)\u001b[0m\u001b[0;34m\u001b[0m\u001b[0;34m\u001b[0m\u001b[0m\n\u001b[0m\u001b[1;32m      2\u001b[0m \u001b[0mimg_compare\u001b[0m\u001b[0;34m(\u001b[0m\u001b[0mX_test\u001b[0m\u001b[0;34m[\u001b[0m\u001b[0;36m1\u001b[0m\u001b[0;34m]\u001b[0m\u001b[0;34m,\u001b[0m \u001b[0mX_test_1\u001b[0m\u001b[0;34m[\u001b[0m\u001b[0;36m1\u001b[0m\u001b[0;34m]\u001b[0m\u001b[0;34m,\u001b[0m \u001b[0mcmap\u001b[0m\u001b[0;34m=\u001b[0m\u001b[0;34m'viridis'\u001b[0m\u001b[0;34m)\u001b[0m\u001b[0;34m\u001b[0m\u001b[0;34m\u001b[0m\u001b[0m\n",
            "\u001b[0;32m<ipython-input-9-0d387bf68934>\u001b[0m in \u001b[0;36mmodel_fit_transform\u001b[0;34m(model, x_train, y_train, x_valid, y_valid, x_test, y_test, step_size, epochs)\u001b[0m\n\u001b[1;32m     88\u001b[0m   \"\"\"\n\u001b[1;32m     89\u001b[0m   \u001b[0;32mif\u001b[0m \u001b[0mx_valid\u001b[0m\u001b[0;34m.\u001b[0m\u001b[0many\u001b[0m\u001b[0;34m(\u001b[0m\u001b[0;34m)\u001b[0m \u001b[0;34m!=\u001b[0m \u001b[0;32mNone\u001b[0m\u001b[0;34m:\u001b[0m\u001b[0;34m\u001b[0m\u001b[0;34m\u001b[0m\u001b[0m\n\u001b[0;32m---> 90\u001b[0;31m     \u001b[0mhistory\u001b[0m \u001b[0;34m=\u001b[0m \u001b[0mmodel\u001b[0m\u001b[0;34m.\u001b[0m\u001b[0mfit\u001b[0m\u001b[0;34m(\u001b[0m\u001b[0mx_train\u001b[0m\u001b[0;34m,\u001b[0m \u001b[0my_train\u001b[0m\u001b[0;34m,\u001b[0m \u001b[0mvalidation_data\u001b[0m\u001b[0;34m=\u001b[0m\u001b[0;34m(\u001b[0m\u001b[0mx_valid\u001b[0m\u001b[0;34m,\u001b[0m \u001b[0my_valid\u001b[0m\u001b[0;34m)\u001b[0m\u001b[0;34m,\u001b[0m \u001b[0mepochs\u001b[0m\u001b[0;34m=\u001b[0m\u001b[0mepochs\u001b[0m\u001b[0;34m,\u001b[0m \u001b[0mverbose\u001b[0m\u001b[0;34m=\u001b[0m\u001b[0;36m1\u001b[0m\u001b[0;34m)\u001b[0m\u001b[0;34m\u001b[0m\u001b[0;34m\u001b[0m\u001b[0m\n\u001b[0m\u001b[1;32m     91\u001b[0m   \u001b[0;32melse\u001b[0m\u001b[0;34m:\u001b[0m\u001b[0;34m\u001b[0m\u001b[0;34m\u001b[0m\u001b[0m\n\u001b[1;32m     92\u001b[0m     \u001b[0mhistory\u001b[0m \u001b[0;34m=\u001b[0m \u001b[0mmodel\u001b[0m\u001b[0;34m.\u001b[0m\u001b[0mfit\u001b[0m\u001b[0;34m(\u001b[0m\u001b[0mx_train\u001b[0m\u001b[0;34m,\u001b[0m \u001b[0my_train\u001b[0m\u001b[0;34m,\u001b[0m \u001b[0mepochs\u001b[0m\u001b[0;34m=\u001b[0m\u001b[0mepochs\u001b[0m\u001b[0;34m,\u001b[0m \u001b[0mverbose\u001b[0m\u001b[0;34m=\u001b[0m\u001b[0;36m1\u001b[0m\u001b[0;34m)\u001b[0m\u001b[0;34m\u001b[0m\u001b[0;34m\u001b[0m\u001b[0m\n",
            "\u001b[0;32m/usr/local/lib/python3.7/dist-packages/keras/engine/training.py\u001b[0m in \u001b[0;36mfit\u001b[0;34m(self, x, y, batch_size, epochs, verbose, callbacks, validation_split, validation_data, shuffle, class_weight, sample_weight, initial_epoch, steps_per_epoch, validation_steps, validation_batch_size, validation_freq, max_queue_size, workers, use_multiprocessing)\u001b[0m\n\u001b[1;32m   1182\u001b[0m                 _r=1):\n\u001b[1;32m   1183\u001b[0m               \u001b[0mcallbacks\u001b[0m\u001b[0;34m.\u001b[0m\u001b[0mon_train_batch_begin\u001b[0m\u001b[0;34m(\u001b[0m\u001b[0mstep\u001b[0m\u001b[0;34m)\u001b[0m\u001b[0;34m\u001b[0m\u001b[0;34m\u001b[0m\u001b[0m\n\u001b[0;32m-> 1184\u001b[0;31m               \u001b[0mtmp_logs\u001b[0m \u001b[0;34m=\u001b[0m \u001b[0mself\u001b[0m\u001b[0;34m.\u001b[0m\u001b[0mtrain_function\u001b[0m\u001b[0;34m(\u001b[0m\u001b[0miterator\u001b[0m\u001b[0;34m)\u001b[0m\u001b[0;34m\u001b[0m\u001b[0;34m\u001b[0m\u001b[0m\n\u001b[0m\u001b[1;32m   1185\u001b[0m               \u001b[0;32mif\u001b[0m \u001b[0mdata_handler\u001b[0m\u001b[0;34m.\u001b[0m\u001b[0mshould_sync\u001b[0m\u001b[0;34m:\u001b[0m\u001b[0;34m\u001b[0m\u001b[0;34m\u001b[0m\u001b[0m\n\u001b[1;32m   1186\u001b[0m                 \u001b[0mcontext\u001b[0m\u001b[0;34m.\u001b[0m\u001b[0masync_wait\u001b[0m\u001b[0;34m(\u001b[0m\u001b[0;34m)\u001b[0m\u001b[0;34m\u001b[0m\u001b[0;34m\u001b[0m\u001b[0m\n",
            "\u001b[0;32m/usr/local/lib/python3.7/dist-packages/tensorflow/python/eager/def_function.py\u001b[0m in \u001b[0;36m__call__\u001b[0;34m(self, *args, **kwds)\u001b[0m\n\u001b[1;32m    883\u001b[0m \u001b[0;34m\u001b[0m\u001b[0m\n\u001b[1;32m    884\u001b[0m       \u001b[0;32mwith\u001b[0m \u001b[0mOptionalXlaContext\u001b[0m\u001b[0;34m(\u001b[0m\u001b[0mself\u001b[0m\u001b[0;34m.\u001b[0m\u001b[0m_jit_compile\u001b[0m\u001b[0;34m)\u001b[0m\u001b[0;34m:\u001b[0m\u001b[0;34m\u001b[0m\u001b[0;34m\u001b[0m\u001b[0m\n\u001b[0;32m--> 885\u001b[0;31m         \u001b[0mresult\u001b[0m \u001b[0;34m=\u001b[0m \u001b[0mself\u001b[0m\u001b[0;34m.\u001b[0m\u001b[0m_call\u001b[0m\u001b[0;34m(\u001b[0m\u001b[0;34m*\u001b[0m\u001b[0margs\u001b[0m\u001b[0;34m,\u001b[0m \u001b[0;34m**\u001b[0m\u001b[0mkwds\u001b[0m\u001b[0;34m)\u001b[0m\u001b[0;34m\u001b[0m\u001b[0;34m\u001b[0m\u001b[0m\n\u001b[0m\u001b[1;32m    886\u001b[0m \u001b[0;34m\u001b[0m\u001b[0m\n\u001b[1;32m    887\u001b[0m       \u001b[0mnew_tracing_count\u001b[0m \u001b[0;34m=\u001b[0m \u001b[0mself\u001b[0m\u001b[0;34m.\u001b[0m\u001b[0mexperimental_get_tracing_count\u001b[0m\u001b[0;34m(\u001b[0m\u001b[0;34m)\u001b[0m\u001b[0;34m\u001b[0m\u001b[0;34m\u001b[0m\u001b[0m\n",
            "\u001b[0;32m/usr/local/lib/python3.7/dist-packages/tensorflow/python/eager/def_function.py\u001b[0m in \u001b[0;36m_call\u001b[0;34m(self, *args, **kwds)\u001b[0m\n\u001b[1;32m    924\u001b[0m       \u001b[0mresults\u001b[0m \u001b[0;34m=\u001b[0m \u001b[0mself\u001b[0m\u001b[0;34m.\u001b[0m\u001b[0m_stateful_fn\u001b[0m\u001b[0;34m(\u001b[0m\u001b[0;34m*\u001b[0m\u001b[0margs\u001b[0m\u001b[0;34m,\u001b[0m \u001b[0;34m**\u001b[0m\u001b[0mkwds\u001b[0m\u001b[0;34m)\u001b[0m\u001b[0;34m\u001b[0m\u001b[0;34m\u001b[0m\u001b[0m\n\u001b[1;32m    925\u001b[0m       \u001b[0;32mif\u001b[0m \u001b[0mself\u001b[0m\u001b[0;34m.\u001b[0m\u001b[0m_created_variables\u001b[0m \u001b[0;32mand\u001b[0m \u001b[0;32mnot\u001b[0m \u001b[0mALLOW_DYNAMIC_VARIABLE_CREATION\u001b[0m\u001b[0;34m:\u001b[0m\u001b[0;34m\u001b[0m\u001b[0;34m\u001b[0m\u001b[0m\n\u001b[0;32m--> 926\u001b[0;31m         raise ValueError(\"Creating variables on a non-first call to a function\"\n\u001b[0m\u001b[1;32m    927\u001b[0m                          \" decorated with tf.function.\")\n\u001b[1;32m    928\u001b[0m       \u001b[0;32mreturn\u001b[0m \u001b[0mresults\u001b[0m\u001b[0;34m\u001b[0m\u001b[0;34m\u001b[0m\u001b[0m\n",
            "\u001b[0;31mValueError\u001b[0m: Creating variables on a non-first call to a function decorated with tf.function."
          ]
        }
      ]
    },
    {
      "cell_type": "markdown",
      "metadata": {
        "id": "jsdGXssYL7c6"
      },
      "source": [
        "We see that performance increases dramatically, especially when visually comparing the two pictures. This is somewhat expected, as we are increasing the size of our latent space by increasing the number of channels. Looking at the formula to calculate the size of the latent space, our latent space is 4x as large, as we have 4x as many channels and channels multiply the size. With a larger latent space, the information does not need to be condensed as much, which results in a better ability of our model to reconstruct the image, as it has more information than previously."
      ]
    },
    {
      "cell_type": "markdown",
      "metadata": {
        "id": "DsD1KTWX46nu"
      },
      "source": [
        "### Adding more Max-Pooling Layers"
      ]
    },
    {
      "cell_type": "code",
      "metadata": {
        "id": "c6qNv-IX4xOb"
      },
      "source": [
        "model_layout02 = Sequential()\n",
        "model_layout02.add(Input(shape=shape_color_instance))\n",
        "model_layout02.add(Conv2D(8, kernel_size = (3,3), padding='same',  activation='relu'))\n",
        "model_layout02.add(MaxPooling2D(pool_size = (2,2), padding='same'))\n",
        "model_layout02.add(Conv2D(12, kernel_size = (3,3), padding='same', activation='relu'))\n",
        "model_layout02.add(MaxPooling2D(pool_size = (2,2)))\n",
        "model_layout02.add(Conv2D(16, kernel_size = (3,3), padding='same', activation='relu'))\n",
        "model_layout02.add(MaxPooling2D(pool_size = (2,2)))\n",
        "model_layout02.add(Conv2D(32, kernel_size = (3,3), padding='same', activation='relu'))\n",
        "model_layout02.add(UpSampling2D(size=(2,2)))\n",
        "model_layout02.add(Conv2D(16,kernel_size = (3,3), padding='same', activation='relu'))\n",
        "model_layout02.add(UpSampling2D())\n",
        "model_layout02.add(Conv2D(8,kernel_size = (3,3), padding='same', activation='relu'))\n",
        "model_layout02.add(UpSampling2D())\n",
        "model_layout02.add(Conv2D(3,(3,3), padding='same', activation='relu'))\n",
        "\n",
        "\n",
        "# compile the model_layout02\n",
        "model_layout02.compile(\n",
        "    optimizer=keras.optimizers.Adam(learning_rate=1e-3),\n",
        "    loss=keras.losses.MeanSquaredError(),\n",
        "    metrics=[keras.metrics.BinaryCrossentropy()])"
      ],
      "execution_count": null,
      "outputs": []
    },
    {
      "cell_type": "code",
      "metadata": {
        "id": "S3JEqDqa6MRH"
      },
      "source": [
        "model_layout02, X_train_2, X_valid_2, X_test_2 = model_fit_transform(model_layout02, X_train, X_valid, X_test)"
      ],
      "execution_count": null,
      "outputs": []
    },
    {
      "cell_type": "code",
      "metadata": {
        "id": "YH3yRIjy7fhX"
      },
      "source": [
        "img_compare(X_test[1], X_test_2[1])"
      ],
      "execution_count": null,
      "outputs": []
    },
    {
      "cell_type": "markdown",
      "metadata": {
        "id": "9dzr8deIL7c_"
      },
      "source": [
        "We see that by reducing the input volume of the latent space, we see a decrease in performance. The information in the image needs to be compressed even more than before to fit the size of the latent space and inevitably, this leads to some loss of information. This in turn, leads to a decreasde in performance of our model."
      ]
    },
    {
      "cell_type": "markdown",
      "metadata": {
        "id": "3r-fTe_p7vEm"
      },
      "source": [
        "### Attempt to increase sharpness by adding more convolutional layers in the decoder"
      ]
    },
    {
      "cell_type": "code",
      "metadata": {
        "id": "CW59Wy3r733i"
      },
      "source": [
        "model_layout03 = Sequential()\n",
        "model_layout03.add(Input(shape=shape_color_instance))\n",
        "model_layout03.add(Conv2D(32, kernel_size = (3,3), padding='same',  activation='relu'))\n",
        "model_layout03.add(MaxPooling2D(pool_size = (2,2), padding='same'))\n",
        "model_layout03.add(Conv2D(64, kernel_size = (3,3), padding='same', activation='relu'))\n",
        "model_layout03.add(MaxPooling2D(pool_size = (2,2)))\n",
        "model_layout03.add(Conv2D(128, kernel_size = (3,3), padding='same', activation='relu'))\n",
        "model_layout03.add(UpSampling2D(size=(2,2)))\n",
        "model_layout03.add(Conv2D(64,kernel_size = (3,3), padding='same', activation='relu'))\n",
        "model_layout03.add(UpSampling2D())\n",
        "model_layout03.add(Conv2D(32, kernel_size = (3,3), padding='same',  activation='relu'))\n",
        "model_layout03.add(Conv2D(16, kernel_size = (3,3), padding='same',  activation='relu'))\n",
        "model_layout03.add(Conv2D(3,(3,3), padding='same', activation='sigmoid'))\n",
        "\n",
        "\n",
        "# compile the model_layout03\n",
        "model_layout03.compile(\n",
        "    optimizer=keras.optimizers.Adam(learning_rate=1e-3),\n",
        "    loss=keras.losses.MeanSquaredError(),\n",
        "    metrics=[keras.metrics.MeanAbsoluteError(),\n",
        "            keras.metrics.CosineSimilarity()])\n"
      ],
      "execution_count": null,
      "outputs": []
    },
    {
      "cell_type": "code",
      "metadata": {
        "id": "ykBYQsml9WHv"
      },
      "source": [
        "model_layout03, X_train_3, X_valid_3, X_test_3 = model_fit_transform(model_layout03, X_train, X_valid, X_test)\n",
        "img_compare(X_test[0], X_test_3[0])"
      ],
      "execution_count": null,
      "outputs": []
    },
    {
      "cell_type": "markdown",
      "metadata": {
        "id": "hccvjnbYL7dC"
      },
      "source": [
        "For this particular architecture, we see an increase in performance compared to the model with more Max-Pooling layers (which is to be expected as the latent space of this model is larger), but it is still outperformed by the network with more channels. Therefore we can say that adding more convolutional layers for the decoder does not contribute towards better performance."
      ]
    },
    {
      "cell_type": "markdown",
      "metadata": {
        "id": "0NwWgxYUCeDr"
      },
      "source": [
        "### Drastically reducing model complexity"
      ]
    },
    {
      "cell_type": "code",
      "metadata": {
        "id": "YEdI4X0XCdL0"
      },
      "source": [
        "model_layout04 = Sequential()\n",
        "model_layout04.add(Input(shape=shape_color_instance))\n",
        "model_layout04.add(Conv2D(3, kernel_size = (3,3), padding='same',  activation='relu'))\n",
        "\n",
        "\n",
        "model_layout04.compile(\n",
        "  optimizer=keras.optimizers.Adam(learning_rate=1e-3),\n",
        "  loss=keras.losses.MeanSquaredError(),\n",
        "  metrics=[keras.metrics.BinaryCrossentropy()])"
      ],
      "execution_count": null,
      "outputs": []
    },
    {
      "cell_type": "code",
      "metadata": {
        "id": "CqBVvxw1C8ZD"
      },
      "source": [
        "model_layout04, X_train_4, X_valid_4, X_test_4 = model_fit_transform(model_layout04, X_train, X_valid, X_test)\n",
        "img_compare(X_test[1], X_test_4[1])"
      ],
      "execution_count": null,
      "outputs": []
    },
    {
      "cell_type": "markdown",
      "metadata": {
        "id": "rEHXjffFL7dF"
      },
      "source": [
        "This experiment is quite interesting, as this model only has one layer. In theory, it should therefore learn to not change the image at all. Presumably, the filters the network learns only have the individual pixels contribute to the output of that same pixel."
      ]
    },
    {
      "cell_type": "markdown",
      "metadata": {
        "id": "NMEBbeTFL7dG"
      },
      "source": [
        "### Trying a different stride parameter\n",
        "\n",
        "To still have the model output the same dimension as the input, we remove some layers and increase the upsampling factors of the upsampling layers."
      ]
    },
    {
      "cell_type": "code",
      "metadata": {
        "id": "SjDSvlWRL7dH"
      },
      "source": [
        "model_layout05 =  Sequential()\n",
        "model_layout05.add(Input(shape=shape_color_instance))\n",
        "model_layout05.add(Conv2D(8, kernel_size = (3,3), padding='same',  activation='relu', strides=(2, 2)))\n",
        "model_layout05.add(MaxPooling2D(pool_size = (2,2), padding='same'))\n",
        "model_layout05.add(Conv2D(16, kernel_size = (3,3), padding='same', activation='relu', strides=(2, 2)))\n",
        "model_layout05.add(UpSampling2D(size=(4,4)))\n",
        "model_layout05.add(Conv2D(3,(3,3), padding='same', activation='relu', strides=(2, 2)))\n",
        "model_layout05.add(UpSampling2D(size=(4,4)))\n",
        "\n",
        "model_layout05.compile(\n",
        "  optimizer=keras.optimizers.Adam(learning_rate=1e-3),\n",
        "  loss=keras.losses.MeanSquaredError(),\n",
        "  metrics=[keras.metrics.BinaryCrossentropy()])"
      ],
      "execution_count": null,
      "outputs": []
    },
    {
      "cell_type": "code",
      "metadata": {
        "id": "H-dy3DOwL7dI"
      },
      "source": [
        "model_layout05, X_train_5, X_valid_5, X_test_5 = model_fit_transform(model_layout05, X_train, X_valid, X_test)\n",
        "img_compare(X_test[1], X_test_5[1])"
      ],
      "execution_count": null,
      "outputs": []
    },
    {
      "cell_type": "markdown",
      "metadata": {
        "id": "VM7s67jGEbcq"
      },
      "source": [
        "## 1. Adapt your network from the previous part such that it learns to reconstruct colors"
      ]
    },
    {
      "cell_type": "code",
      "metadata": {
        "id": "aT93fElnEOe6"
      },
      "source": [
        "img_compare(X_train[0], X_train_bw[0])"
      ],
      "execution_count": null,
      "outputs": []
    },
    {
      "cell_type": "code",
      "metadata": {
        "id": "k6qj9ERREOe7"
      },
      "source": [
        "# build the model_bw\n",
        "\n",
        "model_bw = Sequential()\n",
        "model_bw.add(Input(shape=X_train_bw[0].shape))\n",
        "model_bw.add(Conv2D(8, kernel_size = (3,3), padding='same',  activation='relu'))\n",
        "model_bw.add(Conv2D(12, kernel_size = (3,3), padding='same',  activation='relu'))\n",
        "model_bw.add(MaxPooling2D(pool_size = (2,2)))\n",
        "model_bw.add(Conv2D(16, kernel_size = (3,3), padding='same', activation='relu'))\n",
        "model_bw.add(MaxPooling2D(pool_size = (2,2)))\n",
        "model_bw.add(Conv2D(32, kernel_size = (3,3), padding='same', activation='relu'))\n",
        "model_bw.add(Conv2D(32, kernel_size = (3,3), padding='same', activation='relu'))\n",
        "model_bw.add(UpSampling2D(size=(2,2)))\n",
        "model_bw.add(Conv2D(16,kernel_size = (3,3), padding='same', activation='relu'))\n",
        "model_bw.add(UpSampling2D())\n",
        "model_bw.add(Conv2D(12,kernel_size = (3,3), padding='same', activation='relu'))\n",
        "model_bw.add(UpSampling2D())\n",
        "model_bw.add(Conv2D(6,kernel_size = (3,3), padding='same', activation='relu'))\n",
        "model_bw.add(MaxPooling2D(pool_size = (2,2)))\n",
        "model_bw.add(Conv2D(1,(3,3), padding='same', activation='relu'))\n",
        "\n",
        "\n",
        "# compile the model_bw\n",
        "model_bw.compile(\n",
        "    optimizer=keras.optimizers.Adam(learning_rate=1e-3),\n",
        "    loss=keras.losses.MeanSquaredError(),\n",
        "    metrics=[keras.metrics.MeanAbsoluteError(),\n",
        "            keras.metrics.CosineSimilarity()])\n",
        "\n",
        "model_bw.summary()"
      ],
      "execution_count": null,
      "outputs": []
    },
    {
      "cell_type": "code",
      "metadata": {
        "id": "LFkBfLEvEOe8"
      },
      "source": [
        "# learn model for bw representation\n",
        "\n",
        "history_bw = model_bw.fit(X_train_bw, X_train_bw, epochs=10, validation_data=(X_valid_bw, X_valid_bw), verbose=1, use_multiprocessing=True)"
      ],
      "execution_count": null,
      "outputs": []
    },
    {
      "cell_type": "code",
      "metadata": {
        "id": "DntU0H0XEOe9"
      },
      "source": [
        "# evaluate bw model\n",
        "model_bw.evaluate(X_test_bw, X_test_bw)"
      ],
      "execution_count": null,
      "outputs": []
    },
    {
      "cell_type": "code",
      "metadata": {
        "id": "17EmNzViEOe9"
      },
      "source": [
        "predictions_bw = model_bw.predict(X_train_bw, verbose=1)"
      ],
      "execution_count": null,
      "outputs": []
    },
    {
      "cell_type": "code",
      "metadata": {
        "id": "Sg2wENd1EOe-"
      },
      "source": [
        "predictions_bw.shape\n",
        "X_train_comb = np.concatenate((predictions, predictions_bw),3)"
      ],
      "execution_count": null,
      "outputs": []
    },
    {
      "cell_type": "code",
      "metadata": {
        "id": "x9fXTGGXEOe-"
      },
      "source": [
        "# build model_comb for combination of prediction model_comb\n",
        "\n",
        "model_comb = Sequential()\n",
        "model_comb.add(Input(shape=X_train_comb[0].shape))\n",
        "model_comb.add(Conv2D(8, kernel_size = (3,3), padding='same',  activation='relu'))\n",
        "model_comb.add(MaxPooling2D(pool_size = (2,2)))\n",
        "model_comb.add(Conv2D(12, kernel_size = (3,3), padding='same', activation='relu'))\n",
        "model_comb.add(MaxPooling2D(pool_size = (2,2)))\n",
        "model_comb.add(Conv2D(16, kernel_size = (3,3), padding='same', activation='relu'))\n",
        "model_comb.add(UpSampling2D(size=(2,2)))\n",
        "model_comb.add(Conv2D(12,kernel_size = (3,3), padding='same', activation='relu'))\n",
        "model_comb.add(UpSampling2D())\n",
        "model_comb.add(Conv2D(3,(3,3), padding='same', activation='relu'))\n",
        "\n",
        "\n",
        "# compile the model_comb\n",
        "model_comb.compile(\n",
        "    optimizer=keras.optimizers.Adam(learning_rate=1e-3),\n",
        "    loss=keras.losses.MeanSquaredError(),\n",
        "    metrics=[keras.metrics.MeanAbsoluteError(),\n",
        "            keras.metrics.CosineSimilarity()])\n",
        "\n",
        "model_comb.summary()"
      ],
      "execution_count": null,
      "outputs": []
    },
    {
      "cell_type": "code",
      "metadata": {
        "id": "gaRl_T_BEOe_"
      },
      "source": [
        "history_comb = model_comb.fit(X_train_comb, X_train, epochs=7, verbose=1, use_multiprocessing=True)"
      ],
      "execution_count": null,
      "outputs": []
    },
    {
      "cell_type": "code",
      "metadata": {
        "id": "QmZ0BkcPEOe_"
      },
      "source": [
        "predict_comb = model_comb.predict()\n",
        "\n",
        "def comp_comb_org(comb_img, org_img):\n",
        "    plt.subplot(221).imshow(org_img)\n",
        "    plt.subplot(221).set_title(f'original img: {org_img.shape}')\n",
        "    plt.subplot(222).imshow(comb_img)\n",
        "    plt.subplot(222).set_title(f'predict img: {comb_img.shape}')\n",
        "    plt.show()\n"
      ],
      "execution_count": null,
      "outputs": []
    },
    {
      "cell_type": "code",
      "metadata": {
        "id": "JP7fj4PCWjaG"
      },
      "source": [
        "img_compare(X_train[0], predict_comb[0])"
      ],
      "execution_count": null,
      "outputs": []
    },
    {
      "cell_type": "code",
      "metadata": {
        "id": "y3sW2ZaEEOfA"
      },
      "source": [
        "save_model(model_comb, 'models/model_pipe_comb')\n",
        "save_model(model_bw, 'models/model_pipe_bw')"
      ],
      "execution_count": null,
      "outputs": []
    },
    {
      "cell_type": "markdown",
      "metadata": {
        "id": "-TaOqPY9Mxqp"
      },
      "source": [
        "### try model_test for recolorization"
      ]
    },
    {
      "cell_type": "code",
      "metadata": {
        "id": "6MTd2liqH5xF"
      },
      "source": [
        "model_test = Sequential()\n",
        "# model_test.add(Input(shape=X_train_bw.shape))\n",
        "model_test.add(Conv2D(16, kernel_size = (3,3), padding='same',  activation='relu', input_shape=(32,32,1)))\n",
        "# model_test.add(Conv2D(8, kernel_size = (3,3), padding='same',  activation='relu'))\n",
        "# model_test.add(Conv2D(32, kernel_size = (3,3), padding='same', activation='relu'))\n",
        "model_test.add(MaxPooling2D(pool_size = (2,2)))\n",
        "# model_test.add(Conv2D(64, kernel_size = (3,3), padding='same', activation='relu'))\n",
        "model_test.add(Conv2D(32,kernel_size = (3,3), padding='same', activation='relu'))\n",
        "model_test.add(MaxPooling2D(pool_size = (2,2)))\n",
        "model_test.add(Conv2D(64,kernel_size = (3,3), padding='same', activation='relu'))\n",
        "# model_test.add(Conv2D(32,kernel_size = (3,3), padding='same', activation='relu'))\n",
        "\n",
        "model_test.add(UpSampling2D())\n",
        "model_test.add(Conv2D(24,kernel_size = (3,3), padding='same', activation='relu'))\n",
        "model_test.add(Conv2D(16,kernel_size = (3,3), padding='same', activation='relu'))\n",
        "model_test.add(UpSampling2D())\n",
        "\n",
        "model_test.add(Conv2D(12,kernel_size = (3,3), padding='same', activation='relu'))\n",
        "model_test.add(Conv2D(3,(3,3), padding='same', activation='sigmoid'))\n",
        "\n",
        "\n",
        "model_test.compile(\n",
        "    optimizer=keras.optimizers.Adam(learning_rate=1e-2),\n",
        "    loss=keras.losses.MeanSquaredError(),\n",
        "    metrics=[keras.metrics.MeanAbsoluteError(),\n",
        "            keras.metrics.CosineSimilarity(),\n",
        "             keras.metrics.Accuracy()])\n",
        "model_test.summary()\n"
      ],
      "execution_count": null,
      "outputs": []
    },
    {
      "cell_type": "code",
      "metadata": {
        "id": "uvXKRbdplhMk"
      },
      "source": [
        "print(X_train_bw.shape, X_train.shape)\n",
        "\n",
        "model_test.fit(X_train_bw, X_train, validation_data=(X_valid_bw, X_valid), epochs=10, verbose=1)\n",
        "predictions_test_recol = model_test.predict(X_test_bw, verbose=1)"
      ],
      "execution_count": null,
      "outputs": []
    },
    {
      "cell_type": "code",
      "metadata": {
        "id": "E8sky7ayNdGZ"
      },
      "source": [
        "img_compare(X_test[1], predictions_test_recol[1])"
      ],
      "execution_count": null,
      "outputs": []
    },
    {
      "cell_type": "markdown",
      "metadata": {
        "id": "x1p0cmaWesex"
      },
      "source": [
        "### try 4 models for color channels/grayscales dimensions and one for combination."
      ]
    },
    {
      "cell_type": "code",
      "metadata": {
        "id": "wv2EpgMNOYf-"
      },
      "source": [
        "small_model_color = Sequential()\n",
        "small_model_color.add(Conv2D(16, (3,3), padding='same', activation='relu', input_shape=(32,32,1)))\n",
        "small_model_color.add(MaxPooling2D())\n",
        "small_model_color.add(Conv2D(32, kernel_size = (3,3), padding='same',  activation='relu'))\n",
        "small_model_color.add(MaxPooling2D())\n",
        "small_model_color.add(Conv2D(64, kernel_size = (3,3), padding='same',  activation='relu'))\n",
        "small_model_color.add(UpSampling2D())\n",
        "small_model_color.add(Conv2D(32, kernel_size = (3,3), padding='same',  activation='relu'))\n",
        "small_model_color.add(UpSampling2D())\n",
        "small_model_color.add(Conv2D(16, (3,3), padding='same', activation='relu'))\n",
        "small_model_color.add(Conv2D(1, (3,3), padding='same', activation='sigmoid'))\n",
        "\n",
        "\n",
        "small_model_color.compile(\n",
        "    optimizer=keras.optimizers.Adam(learning_rate=1e-3),\n",
        "    loss=keras.losses.MeanSquaredError(),\n",
        "    metrics=[keras.metrics.MeanAbsoluteError(),\n",
        "            keras.metrics.CosineSimilarity(),\n",
        "             keras.metrics.Accuracy()])"
      ],
      "execution_count": null,
      "outputs": []
    },
    {
      "cell_type": "code",
      "metadata": {
        "id": "7xVk39yeLyeq"
      },
      "source": [
        "small_model_r, X_train_r, X_valid_r, X_test_r = model_fit_transform(small_model_color, X_train_bw, X_train[:,:,:,0], X_valid_bw, X_valid[:,:,:,0], X_test_bw, X_test[:,:,:,0])\n",
        "small_model_g, X_train_g, X_valid_g, X_test_g = model_fit_transform(small_model_color, X_train_bw, X_train[:,:,:,1], X_valid_bw, X_valid[:,:,:,1], X_test_bw, X_test[:,:,:,1])\n",
        "small_model_b, X_train_b, X_valid_b, X_test_b = model_fit_transform(small_model_color, X_train_bw, X_train[:,:,:,2], X_valid_bw, X_valid[:,:,:,2], X_test_bw, X_test[:,:,:,2])\n",
        "small_model_gray, X_train_gray, X_valid_gray, X_test_gray = model_fit_transform(small_model_color, X_train_bw, X_train_bw, X_valid_bw, X_valid_bw, X_test_bw, X_test_bw)"
      ],
      "execution_count": null,
      "outputs": []
    },
    {
      "cell_type": "code",
      "metadata": {
        "id": "KSqWbuUgRTaL"
      },
      "source": [
        "X_train_colstack = np.stack((X_train_r, X_train_g, X_train_b, X_train_gray), 3).reshape((48000,32,32,4))\n",
        "X_valid_colstack = np.stack((X_valid_r, X_valid_g, X_valid_b, X_valid_gray), 3).reshape((6000,32,32,4))\n",
        "X_test_colstack = np.stack((X_test_r, X_test_g, X_valid_b, X_valid_gray), 3).reshape((6000,32,32,4))\n"
      ],
      "execution_count": null,
      "outputs": []
    },
    {
      "cell_type": "code",
      "metadata": {
        "id": "9K0SMXUvX_no"
      },
      "source": [
        "model_comb_recol = Sequential()\n",
        "model_comb_recol.add(Input(shape=X_train_colstack[0].shape))\n",
        "model_comb_recol.add(Conv2D(128, kernel_size = (3,3), padding='same',  activation='relu'))\n",
        "model_comb_recol.add(Conv2D(92, kernel_size = (3,3), padding='same',  activation='relu'))\n",
        "model_comb_recol.add(MaxPooling2D(pool_size = (2,2)))\n",
        "model_comb_recol.add(Conv2D(78, kernel_size = (3,3), padding='same', activation='relu'))\n",
        "model_comb_recol.add(MaxPooling2D(pool_size = (2,2)))\n",
        "model_comb_recol.add(Conv2D(64, kernel_size = (3,3), padding='same', activation='relu'))\n",
        "\n",
        "model_comb_recol.add(UpSampling2D(size=(2,2)))\n",
        "model_comb_recol.add(Conv2D(32,kernel_size = (3,3), padding='same', activation='relu'))\n",
        "model_comb_recol.add(Conv2D(24,kernel_size = (3,3), padding='same', activation='relu'))\n",
        "model_comb_recol.add(Conv2D(16,kernel_size = (3,3), padding='same', activation='relu'))\n",
        "\n",
        "model_comb_recol.add(UpSampling2D())\n",
        "model_comb_recol.add(Conv2D(8,kernel_size = (3,3), padding='same', activation='relu'))\n",
        "model_comb_recol.add(Conv2D(3,(3,3), padding='same', activation='relu'))\n",
        "\n",
        "model_comb_recol.compile(\n",
        "    optimizer=keras.optimizers.Adam(learning_rate=1e-3),\n",
        "    loss=keras.losses.MeanSquaredError(),\n",
        "    metrics=[keras.metrics.MeanAbsoluteError(),\n",
        "            keras.metrics.CosineSimilarity()])\n",
        "\n",
        "model_col_comb, X_train_col_comb, X_valid_col_comb, X_test_col_comb = model_fit_transform(model_comb_recol, X_train_colstack, X_train, X_valid_colstack, X_valid, X_test_colstack, X_test)"
      ],
      "execution_count": null,
      "outputs": []
    },
    {
      "cell_type": "code",
      "metadata": {
        "id": "jOdTHdyVSTk_"
      },
      "source": [
        "img_compare(X_test[0], X_test_col_comb[0])"
      ],
      "execution_count": null,
      "outputs": []
    }
  ]
}