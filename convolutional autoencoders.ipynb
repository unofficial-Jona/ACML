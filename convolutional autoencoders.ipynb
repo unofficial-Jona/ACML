{
  "nbformat": 4,
  "nbformat_minor": 0,
  "metadata": {
    "interpreter": {
      "hash": "ddda031869fb8ce91032b63195a611ad81bb421fc11bd1c32a8661751b914dac"
    },
    "kernelspec": {
      "display_name": "Python 3.8.11 64-bit ('base': conda)",
      "name": "python3"
    },
    "language_info": {
      "codemirror_mode": {
        "name": "ipython",
        "version": 3
      },
      "file_extension": ".py",
      "mimetype": "text/x-python",
      "name": "python",
      "nbconvert_exporter": "python",
      "pygments_lexer": "ipython3",
      "version": "3.8.11"
    },
    "orig_nbformat": 4,
    "colab": {
      "name": "convolutional autoencoders.ipynb",
      "provenance": []
    },
    "accelerator": "GPU"
  },
  "cells": [
    {
      "cell_type": "code",
      "metadata": {
        "id": "ofBRmadJEOeu"
      },
      "source": [
        "import tensorflow as tf\n",
        "from tensorflow import keras\n",
        "from keras import layers\n",
        "from keras.models import Sequential\n",
        "from keras.layers import Conv2D, MaxPooling2D, UpSampling2D, Input\n",
        "from keras.engine import Input\n",
        "from tensorflow.keras import layers\n",
        "import numpy as np\n",
        "from sklearn.model_selection import train_test_split\n",
        "import matplotlib.pyplot as plt\n",
        "from PIL import Image"
      ],
      "execution_count": 58,
      "outputs": []
    },
    {
      "cell_type": "markdown",
      "metadata": {
        "id": "fs3610g4EOew"
      },
      "source": [
        "# Building the model"
      ]
    },
    {
      "cell_type": "code",
      "metadata": {
        "id": "vZbgIJzjEOex",
        "outputId": "15883bf4-9ab9-4e3c-b8a3-ba6c016d93d6",
        "colab": {
          "base_uri": "https://localhost:8080/",
          "height": 298
        }
      },
      "source": [
        "# load data and split it into Test, train and validation sets\n",
        "\n",
        "(X_1, y_1), (X_2, y_2) = tf.keras.datasets.cifar10.load_data()\n",
        "X = np.vstack((X_1, X_2))\n",
        "y = np.vstack((y_1, y_2))\n",
        "X_train, X, y_train, y = train_test_split(X, y, train_size=0.8, stratify=y)\n",
        "X_test, X_valid, y_test, y_valid = train_test_split(X, y, test_size=0.5, stratify=y)\n",
        "\n",
        "assert X_test.shape == X_valid.shape, 'X_test and X_valid have different shapes'\n",
        "for i in range(10):\n",
        "    assert np.count_nonzero(keras.utils.to_categorical(y_train)[:, i]) == 4800 , 'Sample is not stratified'\n",
        "sample_shape = X_train[0].shape\n",
        "plt.imshow(X_train[1])\n",
        "plt.title(f'Shape: {sample_shape}')"
      ],
      "execution_count": 59,
      "outputs": [
        {
          "output_type": "execute_result",
          "data": {
            "text/plain": [
              "Text(0.5, 1.0, 'Shape: (32, 32, 3)')"
            ]
          },
          "metadata": {},
          "execution_count": 59
        },
        {
          "output_type": "display_data",
          "data": {
            "image/png": "[encoded data removed]",
            "text/plain": [
              "<Figure size 432x288 with 1 Axes>"
            ]
          },
          "metadata": {
            "needs_background": "light"
          }
        }
      ]
    },
    {
      "cell_type": "code",
      "metadata": {
        "id": "qOHLkgmIEOey"
      },
      "source": [
        "# normalize the data\n",
        "# it would be better to use keras.utils.normalize for this, but then it would be impossible to de-normalize the data\n",
        "\n",
        "X_train = X_train/255\n",
        "X_valid = X_valid/255\n",
        "X_test = X_test/255"
      ],
      "execution_count": 60,
      "outputs": []
    },
    {
      "cell_type": "code",
      "metadata": {
        "id": "XY7eM8eREOez",
        "outputId": "01326e8a-b6c2-4f40-8c9a-035187200d73",
        "colab": {
          "base_uri": "https://localhost:8080/"
        }
      },
      "source": [
        "# build the model\n",
        "\n",
        "model = Sequential()\n",
        "model.add(Input(shape=sample_shape))\n",
        "model.add(Conv2D(8, kernel_size = (3,3), padding='same',  activation='relu'))\n",
        "model.add(MaxPooling2D(pool_size = (2,2)))\n",
        "model.add(Conv2D(12, kernel_size = (3,3), padding='same', activation='relu'))\n",
        "model.add(MaxPooling2D(pool_size = (2,2)))\n",
        "model.add(Conv2D(16, kernel_size = (3,3), padding='same', activation='relu'))\n",
        "model.add(UpSampling2D(size=(2,2)))\n",
        "model.add(Conv2D(12,kernel_size = (3,3), padding='same', activation='relu'))\n",
        "model.add(UpSampling2D())\n",
        "model.add(Conv2D(3,(3,3), padding='same', activation='relu'))\n",
        "\n",
        "\n",
        "# compile the model\n",
        "model.compile(\n",
        "    optimizer=keras.optimizers.Adam(learning_rate=1e-3),\n",
        "    loss=keras.losses.MeanSquaredError(),\n",
        "    metrics=[keras.metrics.MeanAbsoluteError(),\n",
        "            keras.metrics.CosineSimilarity()])\n",
        "\n",
        "model.summary()"
      ],
      "execution_count": 61,
      "outputs": [
        {
          "output_type": "stream",
          "name": "stdout",
          "text": [
            "Model: \"sequential_13\"\n",
            "_________________________________________________________________\n",
            "Layer (type)                 Output Shape              Param #   \n",
            "=================================================================\n",
            "conv2d_104 (Conv2D)          (None, 32, 32, 8)         224       \n",
            "_________________________________________________________________\n",
            "max_pooling2d_33 (MaxPooling (None, 16, 16, 8)         0         \n",
            "_________________________________________________________________\n",
            "conv2d_105 (Conv2D)          (None, 16, 16, 12)        876       \n",
            "_________________________________________________________________\n",
            "max_pooling2d_34 (MaxPooling (None, 8, 8, 12)          0         \n",
            "_________________________________________________________________\n",
            "conv2d_106 (Conv2D)          (None, 8, 8, 16)          1744      \n",
            "_________________________________________________________________\n",
            "up_sampling2d_43 (UpSampling (None, 16, 16, 16)        0         \n",
            "_________________________________________________________________\n",
            "conv2d_107 (Conv2D)          (None, 16, 16, 12)        1740      \n",
            "_________________________________________________________________\n",
            "up_sampling2d_44 (UpSampling (None, 32, 32, 12)        0         \n",
            "_________________________________________________________________\n",
            "conv2d_108 (Conv2D)          (None, 32, 32, 3)         327       \n",
            "=================================================================\n",
            "Total params: 4,911\n",
            "Trainable params: 4,911\n",
            "Non-trainable params: 0\n",
            "_________________________________________________________________\n"
          ]
        }
      ]
    },
    {
      "cell_type": "code",
      "metadata": {
        "id": "cBN1BetoEOe0"
      },
      "source": [
        "# train the model\n",
        "history = model.fit(X_train, X_train, validation_data=(X_valid, X_valid), epochs=10, verbose=1, use_multiprocessing=True)"
      ],
      "execution_count": null,
      "outputs": []
    },
    {
      "cell_type": "code",
      "metadata": {
        "id": "avBdguu4EOe1",
        "outputId": "410e67b7-a620-42ca-9ce0-f47da4f5eb4a"
      },
      "source": [
        "model.evaluate(X_test, X_test)\n"
      ],
      "execution_count": null,
      "outputs": [
        {
          "name": "stdout",
          "output_type": "stream",
          "text": [
            "188/188 [==============================] - 3s 11ms/step - loss: 0.0040 - mean_absolute_error: 0.0445 - cosine_similarity: 0.9914\n"
          ]
        },
        {
          "data": {
            "text/plain": [
              "[0.004018696956336498, 0.04449302703142166, 0.9913666248321533]"
            ]
          },
          "execution_count": 54,
          "metadata": {},
          "output_type": "execute_result"
        }
      ]
    },
    {
      "cell_type": "code",
      "metadata": {
        "id": "y_YwEJEXEOe1",
        "outputId": "03a077b4-8d47-4bf5-c44e-52a9ff65dd97"
      },
      "source": [
        "predictions = model.predict(X_train, verbose=1)"
      ],
      "execution_count": null,
      "outputs": [
        {
          "name": "stdout",
          "output_type": "stream",
          "text": [
            "1500/1500 [==============================] - 14s 9ms/step\n"
          ]
        }
      ]
    },
    {
      "cell_type": "code",
      "metadata": {
        "id": "pnb6yCg6EOe2",
        "outputId": "f035c9a4-9121-4776-90b7-9f8b06559e03",
        "colab": {
          "base_uri": "https://localhost:8080/",
          "height": 251
        }
      },
      "source": [
        "def plot_img_compare(model, data, img_nr):\n",
        "    \"\"\"Plot original image next to predicted image \n",
        "\n",
        "    Args:\n",
        "        model (model accepting.predict() method): the model to predict\n",
        "        data (np.array): the whole data stack\n",
        "        img_nr (int): the index of to use for image plot.\n",
        "    \"\"\"\n",
        "    assert type(img_nr) == int, 'wrong dtype for img_nr'\n",
        "    predictions = model.predict(data)\n",
        "    pred_img = predictions[img_nr]\n",
        "    plt.subplot(221).imshow(data[img_nr])\n",
        "    plt.subplot(221).set_title(f'original img: {data[img_nr].shape}')\n",
        "    plt.subplot(222).imshow(pred_img)\n",
        "    plt.subplot(222).set_title(f'predict img: {predictions[img_nr].shape}')\n",
        "    plt.show()\n",
        "\n",
        "plot_img_compare(model, X_test, 1)"
      ],
      "execution_count": 68,
      "outputs": [
        {
          "output_type": "stream",
          "name": "stderr",
          "text": [
            "/usr/local/lib/python3.7/dist-packages/ipykernel_launcher.py:13: MatplotlibDeprecationWarning: Adding an axes using the same arguments as a previous axes currently reuses the earlier instance.  In a future version, a new instance will always be created and returned.  Meanwhile, this warning can be suppressed, and the future behavior ensured, by passing a unique label to each axes instance.\n",
            "  del sys.path[0]\n",
            "/usr/local/lib/python3.7/dist-packages/ipykernel_launcher.py:15: MatplotlibDeprecationWarning: Adding an axes using the same arguments as a previous axes currently reuses the earlier instance.  In a future version, a new instance will always be created and returned.  Meanwhile, this warning can be suppressed, and the future behavior ensured, by passing a unique label to each axes instance.\n",
            "  from ipykernel import kernelapp as app\n"
          ]
        },
        {
          "output_type": "display_data",
          "data": {
            "image/png": "[encoded data removed]",
            "text/plain": [
              "<Figure size 432x288 with 2 Axes>"
            ]
          },
          "metadata": {
            "needs_background": "light"
          }
        }
      ]
    },
    {
      "cell_type": "code",
      "metadata": {
        "id": "5EuHmdoLEOe4"
      },
      "source": [
        "def save_model(model, path = 'models/CAE'):\n",
        "    model.save(path)\n",
        "def load_model(path = 'models/CAE'):\n",
        "    return keras.models.load_model(path)\n",
        "model = load_model()"
      ],
      "execution_count": null,
      "outputs": []
    },
    {
      "cell_type": "markdown",
      "metadata": {
        "id": "VM7s67jGEbcq"
      },
      "source": [
        "## stuff"
      ]
    },
    {
      "cell_type": "markdown",
      "metadata": {
        "id": "k7_Pp8P-Eg_W"
      },
      "source": [
        "### learn seperate model for greyscale and model for combination of color and grayscale"
      ]
    },
    {
      "cell_type": "code",
      "metadata": {
        "id": "iSmALk85EOe4"
      },
      "source": [
        "# learn model for b-w version of the images\n",
        "\n",
        "to_grayscale = lambda x: x[:,:,:,0]/3 + x[:,:,:,1]/3 + x[:,:,:,2]/3\n",
        "\n",
        "X_train_bw = to_grayscale(X_train)\n",
        "X_test_bw = to_grayscale(X_test)\n",
        "X_valid_bw = to_grayscale(X_valid)"
      ],
      "execution_count": null,
      "outputs": []
    },
    {
      "cell_type": "code",
      "metadata": {
        "id": "avIXkHyIEOe5"
      },
      "source": [
        "X_train_bw = X_train_bw[:,:,:,np.newaxis]\n",
        "X_test_bw = X_test_bw[:,:,:,np.newaxis]\n",
        "X_valid_bw = X_valid_bw[:,:,:,np.newaxis]\n"
      ],
      "execution_count": null,
      "outputs": []
    },
    {
      "cell_type": "code",
      "metadata": {
        "id": "aT93fElnEOe6",
        "outputId": "c025f731-24fe-4b98-9d76-e1d8a6286c23"
      },
      "source": [
        "def comp_rgb_bw(rgb_img, gray_img):\n",
        "    plt.subplot(221).imshow(rgb_img)\n",
        "    plt.subplot(221).set_title(f'original img: {rgb_img.shape}')\n",
        "    plt.subplot(222).imshow(gray_img, cmap='gray')\n",
        "    plt.subplot(222).set_title(f'predict img: {gray_img.shape}')\n",
        "    plt.show()\n",
        "comp_rgb_bw(X_train[0], X_train_bw[0])"
      ],
      "execution_count": null,
      "outputs": [
        {
          "data": {
            "image/png": "[encoded data removed]",
            "text/plain": [
              "<Figure size 432x288 with 2 Axes>"
            ]
          },
          "metadata": {
            "needs_background": "light"
          },
          "output_type": "display_data"
        }
      ]
    },
    {
      "cell_type": "code",
      "metadata": {
        "id": "k6qj9ERREOe7",
        "outputId": "26317b4b-4287-46ee-f719-d317099e925b"
      },
      "source": [
        "# build the model_bw\n",
        "\n",
        "model_bw = Sequential()\n",
        "model_bw.add(Input(shape=X_train_bw[0].shape))\n",
        "model_bw.add(Conv2D(8, kernel_size = (3,3), padding='same',  activation='relu'))\n",
        "model_bw.add(Conv2D(12, kernel_size = (3,3), padding='same',  activation='relu'))\n",
        "model_bw.add(MaxPooling2D(pool_size = (2,2)))\n",
        "model_bw.add(Conv2D(16, kernel_size = (3,3), padding='same', activation='relu'))\n",
        "model_bw.add(MaxPooling2D(pool_size = (2,2)))\n",
        "model_bw.add(Conv2D(32, kernel_size = (3,3), padding='same', activation='relu'))\n",
        "model_bw.add(Conv2D(32, kernel_size = (3,3), padding='same', activation='relu'))\n",
        "model_bw.add(UpSampling2D(size=(2,2)))\n",
        "model_bw.add(Conv2D(16,kernel_size = (3,3), padding='same', activation='relu'))\n",
        "model_bw.add(UpSampling2D())\n",
        "model_bw.add(Conv2D(12,kernel_size = (3,3), padding='same', activation='relu'))\n",
        "model_bw.add(UpSampling2D())\n",
        "model_bw.add(Conv2D(6,kernel_size = (3,3), padding='same', activation='relu'))\n",
        "model_bw.add(MaxPooling2D(pool_size = (2,2)))\n",
        "model_bw.add(Conv2D(1,(3,3), padding='same', activation='relu'))\n",
        "\n",
        "\n",
        "# compile the model_bw\n",
        "model_bw.compile(\n",
        "    optimizer=keras.optimizers.Adam(learning_rate=1e-3),\n",
        "    loss=keras.losses.MeanSquaredError(),\n",
        "    metrics=[keras.metrics.MeanAbsoluteError(),\n",
        "            keras.metrics.CosineSimilarity()])\n",
        "\n",
        "model_bw.summary()"
      ],
      "execution_count": null,
      "outputs": [
        {
          "name": "stdout",
          "output_type": "stream",
          "text": [
            "Model: \"sequential_13\"\n",
            "_________________________________________________________________\n",
            "Layer (type)                 Output Shape              Param #   \n",
            "=================================================================\n",
            "conv2d_77 (Conv2D)           (None, 32, 32, 8)         80        \n",
            "_________________________________________________________________\n",
            "conv2d_78 (Conv2D)           (None, 32, 32, 12)        876       \n",
            "_________________________________________________________________\n",
            "max_pooling2d_30 (MaxPooling (None, 16, 16, 12)        0         \n",
            "_________________________________________________________________\n",
            "conv2d_79 (Conv2D)           (None, 16, 16, 16)        1744      \n",
            "_________________________________________________________________\n",
            "max_pooling2d_31 (MaxPooling (None, 8, 8, 16)          0         \n",
            "_________________________________________________________________\n",
            "conv2d_80 (Conv2D)           (None, 8, 8, 32)          4640      \n",
            "_________________________________________________________________\n",
            "conv2d_81 (Conv2D)           (None, 8, 8, 32)          9248      \n",
            "_________________________________________________________________\n",
            "up_sampling2d_25 (UpSampling (None, 16, 16, 32)        0         \n",
            "_________________________________________________________________\n",
            "conv2d_82 (Conv2D)           (None, 16, 16, 16)        4624      \n",
            "_________________________________________________________________\n",
            "up_sampling2d_26 (UpSampling (None, 32, 32, 16)        0         \n",
            "_________________________________________________________________\n",
            "conv2d_83 (Conv2D)           (None, 32, 32, 12)        1740      \n",
            "_________________________________________________________________\n",
            "up_sampling2d_27 (UpSampling (None, 64, 64, 12)        0         \n",
            "_________________________________________________________________\n",
            "conv2d_84 (Conv2D)           (None, 64, 64, 6)         654       \n",
            "_________________________________________________________________\n",
            "max_pooling2d_32 (MaxPooling (None, 32, 32, 6)         0         \n",
            "_________________________________________________________________\n",
            "conv2d_85 (Conv2D)           (None, 32, 32, 1)         55        \n",
            "=================================================================\n",
            "Total params: 23,661\n",
            "Trainable params: 23,661\n",
            "Non-trainable params: 0\n",
            "_________________________________________________________________\n"
          ]
        }
      ]
    },
    {
      "cell_type": "code",
      "metadata": {
        "id": "LFkBfLEvEOe8",
        "outputId": "9692246c-c062-4a89-a56b-9e3442a8e77b"
      },
      "source": [
        "history_bw = model_bw.fit(X_train_bw, X_train_bw, epochs=7, validation_data=(X_valid_bw, X_valid_bw), verbose=1, use_multiprocessing=True)"
      ],
      "execution_count": null,
      "outputs": [
        {
          "name": "stdout",
          "output_type": "stream",
          "text": [
            "Epoch 1/2\n",
            "1500/1500 [==============================] - 175s 116ms/step - loss: 0.0083 - mean_absolute_error: 0.0575 - cosine_similarity: 0.9980 - val_loss: 0.0038 - val_mean_absolute_error: 0.0434 - val_cosine_similarity: 0.9986\n",
            "Epoch 2/2\n",
            "1500/1500 [==============================] - 176s 117ms/step - loss: 0.0035 - mean_absolute_error: 0.0413 - cosine_similarity: 0.9977 - val_loss: 0.0034 - val_mean_absolute_error: 0.0414 - val_cosine_similarity: 0.9961\n"
          ]
        }
      ]
    },
    {
      "cell_type": "code",
      "metadata": {
        "id": "DntU0H0XEOe9",
        "outputId": "8e5dbeff-cd7c-41c5-926d-fc854991863d"
      },
      "source": [
        "model_bw.evaluate(X_test_bw, X_test_bw)"
      ],
      "execution_count": null,
      "outputs": [
        {
          "name": "stdout",
          "output_type": "stream",
          "text": [
            "188/188 [==============================] - 5s 27ms/step - loss: 0.0034 - mean_absolute_error: 0.0416 - cosine_similarity: 0.9970\n"
          ]
        },
        {
          "data": {
            "text/plain": [
              "[0.003407752141356468, 0.041581299155950546, 0.996958315372467]"
            ]
          },
          "execution_count": 46,
          "metadata": {},
          "output_type": "execute_result"
        }
      ]
    },
    {
      "cell_type": "code",
      "metadata": {
        "id": "17EmNzViEOe9"
      },
      "source": [
        "predictions_bw = model_bw.predict(X_train_bw, verbose=1)"
      ],
      "execution_count": null,
      "outputs": []
    },
    {
      "cell_type": "code",
      "metadata": {
        "id": "Sg2wENd1EOe-"
      },
      "source": [
        "predictions_bw.shape\n",
        "X_train_comb = np.concatenate((predictions, predictions_bw),3)"
      ],
      "execution_count": null,
      "outputs": []
    },
    {
      "cell_type": "code",
      "metadata": {
        "id": "x9fXTGGXEOe-",
        "outputId": "ea7cb4d8-a3dc-4b27-e816-f746951ebcdf"
      },
      "source": [
        "# build model_comb for combination of prediction model_comb\n",
        "\n",
        "model_comb = Sequential()\n",
        "model_comb.add(Input(shape=X_train_comb[0].shape))\n",
        "model_comb.add(Conv2D(8, kernel_size = (3,3), padding='same',  activation='relu'))\n",
        "model_comb.add(MaxPooling2D(pool_size = (2,2)))\n",
        "model_comb.add(Conv2D(12, kernel_size = (3,3), padding='same', activation='relu'))\n",
        "model_comb.add(MaxPooling2D(pool_size = (2,2)))\n",
        "model_comb.add(Conv2D(16, kernel_size = (3,3), padding='same', activation='relu'))\n",
        "model_comb.add(UpSampling2D(size=(2,2)))\n",
        "model_comb.add(Conv2D(12,kernel_size = (3,3), padding='same', activation='relu'))\n",
        "model_comb.add(UpSampling2D())\n",
        "model_comb.add(Conv2D(3,(3,3), padding='same', activation='relu'))\n",
        "\n",
        "\n",
        "# compile the model_comb\n",
        "model_comb.compile(\n",
        "    optimizer=keras.optimizers.Adam(learning_rate=1e-3),\n",
        "    loss=keras.losses.MeanSquaredError(),\n",
        "    metrics=[keras.metrics.MeanAbsoluteError(),\n",
        "            keras.metrics.CosineSimilarity()])\n",
        "\n",
        "model_comb.summary()"
      ],
      "execution_count": null,
      "outputs": [
        {
          "name": "stdout",
          "output_type": "stream",
          "text": [
            "Model: \"sequential_18\"\n",
            "_________________________________________________________________\n",
            "Layer (type)                 Output Shape              Param #   \n",
            "=================================================================\n",
            "conv2d_102 (Conv2D)          (None, 32, 32, 8)         296       \n",
            "_________________________________________________________________\n",
            "max_pooling2d_40 (MaxPooling (None, 16, 16, 8)         0         \n",
            "_________________________________________________________________\n",
            "conv2d_103 (Conv2D)          (None, 16, 16, 12)        876       \n",
            "_________________________________________________________________\n",
            "max_pooling2d_41 (MaxPooling (None, 8, 8, 12)          0         \n",
            "_________________________________________________________________\n",
            "conv2d_104 (Conv2D)          (None, 8, 8, 16)          1744      \n",
            "_________________________________________________________________\n",
            "up_sampling2d_34 (UpSampling (None, 16, 16, 16)        0         \n",
            "_________________________________________________________________\n",
            "conv2d_105 (Conv2D)          (None, 16, 16, 12)        1740      \n",
            "_________________________________________________________________\n",
            "up_sampling2d_35 (UpSampling (None, 32, 32, 12)        0         \n",
            "_________________________________________________________________\n",
            "conv2d_106 (Conv2D)          (None, 32, 32, 3)         327       \n",
            "=================================================================\n",
            "Total params: 4,983\n",
            "Trainable params: 4,983\n",
            "Non-trainable params: 0\n",
            "_________________________________________________________________\n"
          ]
        }
      ]
    },
    {
      "cell_type": "code",
      "metadata": {
        "id": "gaRl_T_BEOe_",
        "outputId": "88181f03-3b37-4474-b180-06fb089e859a"
      },
      "source": [
        "history_comb = model_comb.fit(X_train_comb, X_train, epochs=7, verbose=1, use_multiprocessing=True)"
      ],
      "execution_count": null,
      "outputs": [
        {
          "name": "stdout",
          "output_type": "stream",
          "text": [
            "Epoch 1/7\n",
            "1500/1500 [==============================] - 52s 34ms/step - loss: 0.0134 - mean_absolute_error: 0.0769 - cosine_similarity: 0.9834\n",
            "Epoch 2/7\n",
            "1500/1500 [==============================] - 51s 34ms/step - loss: 0.0062 - mean_absolute_error: 0.0568 - cosine_similarity: 0.9917\n",
            "Epoch 3/7\n",
            "1500/1500 [==============================] - 52s 35ms/step - loss: 0.0057 - mean_absolute_error: 0.0542 - cosine_similarity: 0.9921\n",
            "Epoch 4/7\n",
            "1500/1500 [==============================] - 52s 35ms/step - loss: 0.0054 - mean_absolute_error: 0.0526 - cosine_similarity: 0.9921\n",
            "Epoch 5/7\n",
            "1500/1500 [==============================] - 52s 34ms/step - loss: 0.0052 - mean_absolute_error: 0.0516 - cosine_similarity: 0.9921\n",
            "Epoch 6/7\n",
            "1500/1500 [==============================] - 49s 33ms/step - loss: 0.0051 - mean_absolute_error: 0.0508 - cosine_similarity: 0.9921\n",
            "Epoch 7/7\n",
            "1500/1500 [==============================] - 53s 35ms/step - loss: 0.0050 - mean_absolute_error: 0.0502 - cosine_similarity: 0.9920\n"
          ]
        }
      ]
    },
    {
      "cell_type": "code",
      "metadata": {
        "id": "QmZ0BkcPEOe_",
        "outputId": "eeae56ec-043c-4824-ac7a-0b1dd057c5a5"
      },
      "source": [
        "predict_comb = model_comb.predict(X_train_comb)\n",
        "\n",
        "def comp_comb_org(comb_img, org_img):\n",
        "    plt.subplot(221).imshow(org_img)\n",
        "    plt.subplot(221).set_title(f'original img: {org_img.shape}')\n",
        "    plt.subplot(222).imshow(comb_img)\n",
        "    plt.subplot(222).set_title(f'predict img: {comb_img.shape}')\n",
        "    plt.show()\n"
      ],
      "execution_count": null,
      "outputs": [
        {
          "name": "stderr",
          "output_type": "stream",
          "text": [
            "Clipping input data to the valid range for imshow with RGB data ([0..1] for floats or [0..255] for integers).\n"
          ]
        },
        {
          "data": {
            "image/png": "[encoded data removed]",
            "text/plain": [
              "<Figure size 432x288 with 2 Axes>"
            ]
          },
          "metadata": {
            "needs_background": "light"
          },
          "output_type": "display_data"
        }
      ]
    },
    {
      "cell_type": "code",
      "metadata": {
        "id": "aBT7BpUoEOfA",
        "outputId": "b6975e1a-99a5-4d52-d3fd-530bba531087"
      },
      "source": [
        "comp_rgb_bw(X_train[1], X_train_comb[1])"
      ],
      "execution_count": null,
      "outputs": [
        {
          "data": {
            "image/png": "[encoded data removed]",
            "text/plain": [
              "<Figure size 432x288 with 2 Axes>"
            ]
          },
          "metadata": {
            "needs_background": "light"
          },
          "output_type": "display_data"
        }
      ]
    },
    {
      "cell_type": "code",
      "metadata": {
        "id": "y3sW2ZaEEOfA",
        "outputId": "af34530e-9dae-41e7-8b03-2fe21794e973"
      },
      "source": [
        "save_model(model_comb, 'models/model_pipe_comb')\n",
        "save_model(model_bw, 'models/model_pipe_bw')"
      ],
      "execution_count": null,
      "outputs": [
        {
          "name": "stdout",
          "output_type": "stream",
          "text": [
            "INFO:tensorflow:Assets written to: models/model_pipe_comb/assets\n",
            "INFO:tensorflow:Assets written to: models/model_pipe_bw/assets\n"
          ]
        }
      ]
    },
    {
      "cell_type": "markdown",
      "metadata": {
        "id": "7XHRcFerEQzd"
      },
      "source": [
        "### try different model architectures"
      ]
    },
    {
      "cell_type": "code",
      "metadata": {
        "id": "9fV5ePTBET33",
        "outputId": "7a9bcfc9-d97e-45b9-f3ea-2ceb398cd382",
        "colab": {
          "base_uri": "https://localhost:8080/"
        }
      },
      "source": [
        "model_test = Sequential()\n",
        "model_test.add(Input(shape=sample_shape))\n",
        "model_test.add(Conv2D(128, kernel_size = (3,3), padding='same',  activation='relu'))\n",
        "model_test.add(Conv2D(92, kernel_size = (3,3), padding='same',  activation='relu'))\n",
        "model_test.add(MaxPooling2D(pool_size = (2,2)))\n",
        "model_test.add(Conv2D(78, kernel_size = (3,3), padding='same', activation='relu'))\n",
        "model_test.add(MaxPooling2D(pool_size = (2,2)))\n",
        "model_test.add(Conv2D(64, kernel_size = (3,3), padding='same', activation='relu'))\n",
        "\n",
        "\n",
        "\n",
        "\n",
        "\n",
        "model_test.add(UpSampling2D(size=(2,2)))\n",
        "model_test.add(Conv2D(32,kernel_size = (3,3), padding='same', activation='relu'))\n",
        "model_test.add(Conv2D(24,kernel_size = (3,3), padding='same', activation='relu'))\n",
        "model_test.add(Conv2D(16,kernel_size = (3,3), padding='same', activation='relu'))\n",
        "\n",
        "model_test.add(UpSampling2D())\n",
        "model_test.add(Conv2D(8,kernel_size = (3,3), padding='same', activation='relu'))\n",
        "model_test.add(Conv2D(3,(3,3), padding='same', activation='relu'))\n",
        "\n",
        "model_test.compile(\n",
        "    optimizer=keras.optimizers.Adam(learning_rate=1e-3),\n",
        "    loss=keras.losses.MeanSquaredError(),\n",
        "    metrics=[keras.metrics.MeanAbsoluteError(),\n",
        "            keras.metrics.CosineSimilarity()])\n",
        "model_test.summary()\n"
      ],
      "execution_count": 95,
      "outputs": [
        {
          "output_type": "stream",
          "name": "stdout",
          "text": [
            "Model: \"sequential_21\"\n",
            "_________________________________________________________________\n",
            "Layer (type)                 Output Shape              Param #   \n",
            "=================================================================\n",
            "conv2d_154 (Conv2D)          (None, 32, 32, 128)       3584      \n",
            "_________________________________________________________________\n",
            "conv2d_155 (Conv2D)          (None, 32, 32, 92)        106076    \n",
            "_________________________________________________________________\n",
            "max_pooling2d_45 (MaxPooling (None, 16, 16, 92)        0         \n",
            "_________________________________________________________________\n",
            "conv2d_156 (Conv2D)          (None, 16, 16, 78)        64662     \n",
            "_________________________________________________________________\n",
            "max_pooling2d_46 (MaxPooling (None, 8, 8, 78)          0         \n",
            "_________________________________________________________________\n",
            "conv2d_157 (Conv2D)          (None, 8, 8, 64)          44992     \n",
            "_________________________________________________________________\n",
            "up_sampling2d_55 (UpSampling (None, 16, 16, 64)        0         \n",
            "_________________________________________________________________\n",
            "conv2d_158 (Conv2D)          (None, 16, 16, 32)        18464     \n",
            "_________________________________________________________________\n",
            "conv2d_159 (Conv2D)          (None, 16, 16, 24)        6936      \n",
            "_________________________________________________________________\n",
            "conv2d_160 (Conv2D)          (None, 16, 16, 16)        3472      \n",
            "_________________________________________________________________\n",
            "up_sampling2d_56 (UpSampling (None, 32, 32, 16)        0         \n",
            "_________________________________________________________________\n",
            "conv2d_161 (Conv2D)          (None, 32, 32, 8)         1160      \n",
            "_________________________________________________________________\n",
            "conv2d_162 (Conv2D)          (None, 32, 32, 3)         219       \n",
            "=================================================================\n",
            "Total params: 249,565\n",
            "Trainable params: 249,565\n",
            "Non-trainable params: 0\n",
            "_________________________________________________________________\n"
          ]
        }
      ]
    },
    {
      "cell_type": "code",
      "metadata": {
        "id": "tBdnjEvOQNxN"
      },
      "source": [
        "model_test.fit(X_train, X_train, validation_data=(X_valid, X_valid), epochs=10, verbose=1)\n",
        "predictions_test = model_test.predict(X_test)"
      ],
      "execution_count": null,
      "outputs": []
    },
    {
      "cell_type": "code",
      "metadata": {
        "id": "tRRv5rjmHL2i",
        "outputId": "6b8e01c5-6b47-4d5b-a1cf-2beecb88163b",
        "colab": {
          "base_uri": "https://localhost:8080/",
          "height": 268
        }
      },
      "source": [
        "  def img_compare(img_org, img_pred):\n",
        "    \n",
        "    plt.subplot(221).imshow(img_org)\n",
        "    plt.subplot(221).set_title(f'original img: {img_org.shape}')\n",
        "    plt.subplot(222).imshow(img_pred)\n",
        "    plt.subplot(222).set_title(f'predict img: {img_pred.shape}')\n",
        "    plt.show()\n",
        "  img_compare(X_test[45], predictions_test[45])"
      ],
      "execution_count": 77,
      "outputs": [
        {
          "output_type": "stream",
          "name": "stderr",
          "text": [
            "/usr/local/lib/python3.7/dist-packages/ipykernel_launcher.py:4: MatplotlibDeprecationWarning: Adding an axes using the same arguments as a previous axes currently reuses the earlier instance.  In a future version, a new instance will always be created and returned.  Meanwhile, this warning can be suppressed, and the future behavior ensured, by passing a unique label to each axes instance.\n",
            "  after removing the cwd from sys.path.\n",
            "Clipping input data to the valid range for imshow with RGB data ([0..1] for floats or [0..255] for integers).\n",
            "/usr/local/lib/python3.7/dist-packages/ipykernel_launcher.py:6: MatplotlibDeprecationWarning: Adding an axes using the same arguments as a previous axes currently reuses the earlier instance.  In a future version, a new instance will always be created and returned.  Meanwhile, this warning can be suppressed, and the future behavior ensured, by passing a unique label to each axes instance.\n",
            "  \n"
          ]
        },
        {
          "output_type": "display_data",
          "data": {
            "image/png": "[encoded data removed]",
            "text/plain": [
              "<Figure size 432x288 with 2 Axes>"
            ]
          },
          "metadata": {
            "needs_background": "light"
          }
        }
      ]
    },
    {
      "cell_type": "markdown",
      "metadata": {
        "id": "-TaOqPY9Mxqp"
      },
      "source": [
        "### try model_test for recolorization"
      ]
    },
    {
      "cell_type": "code",
      "metadata": {
        "id": "6MTd2liqH5xF",
        "outputId": "6fe824a9-5fa9-4c7b-e662-eafbfe084786",
        "colab": {
          "base_uri": "https://localhost:8080/"
        }
      },
      "source": [
        "model_test = Sequential()\n",
        "# model_test.add(Input(shape=X_train_bw.shape))\n",
        "model_test.add(Conv2D(128, kernel_size = (3,3), padding='same',  activation='relu', input_shape=X_train_bw[0].shape))\n",
        "model_test.add(Conv2D(92, kernel_size = (3,3), padding='same',  activation='relu'))\n",
        "model_test.add(MaxPooling2D(pool_size = (2,2)))\n",
        "model_test.add(Conv2D(78, kernel_size = (3,3), padding='same', activation='relu'))\n",
        "model_test.add(MaxPooling2D(pool_size = (2,2)))\n",
        "model_test.add(Conv2D(64, kernel_size = (3,3), padding='same', activation='relu'))\n",
        "\n",
        "model_test.add(UpSampling2D(size=(2,2)))\n",
        "model_test.add(Conv2D(32,kernel_size = (3,3), padding='same', activation='relu'))\n",
        "model_test.add(Conv2D(24,kernel_size = (3,3), padding='same', activation='relu'))\n",
        "model_test.add(Conv2D(16,kernel_size = (3,3), padding='same', activation='relu'))\n",
        "\n",
        "model_test.add(UpSampling2D())\n",
        "model_test.add(Conv2D(8,kernel_size = (3,3), padding='same', activation='relu'))\n",
        "model_test.add(Conv2D(3,(3,3), padding='same', activation='relu'))\n",
        "\n",
        "\n",
        "model_test.compile(\n",
        "    optimizer=keras.optimizers.Adam(learning_rate=1e-3),\n",
        "    loss=keras.losses.MeanSquaredError(),\n",
        "    metrics=[keras.metrics.MeanAbsoluteError(),\n",
        "            keras.metrics.CosineSimilarity(),\n",
        "             keras.metrics.Accuracy()])\n",
        "\n",
        "model_test.summary()\n",
        "model_test.fit(X_train_bw, X_train, validation_data=(X_valid_bw, X_valid), epochs=10, verbose=1)\n",
        "predictions_test_recol = model_test.predict(X_test_bw, verbose=1)"
      ],
      "execution_count": null,
      "outputs": [
        {
          "output_type": "stream",
          "name": "stdout",
          "text": [
            "Model: \"sequential_24\"\n",
            "_________________________________________________________________\n",
            "Layer (type)                 Output Shape              Param #   \n",
            "=================================================================\n",
            "conv2d_167 (Conv2D)          (None, 32, 32, 128)       1280      \n",
            "_________________________________________________________________\n",
            "conv2d_168 (Conv2D)          (None, 32, 32, 92)        106076    \n",
            "_________________________________________________________________\n",
            "max_pooling2d_49 (MaxPooling (None, 16, 16, 92)        0         \n",
            "_________________________________________________________________\n",
            "conv2d_169 (Conv2D)          (None, 16, 16, 78)        64662     \n",
            "_________________________________________________________________\n",
            "max_pooling2d_50 (MaxPooling (None, 8, 8, 78)          0         \n",
            "_________________________________________________________________\n",
            "conv2d_170 (Conv2D)          (None, 8, 8, 64)          44992     \n",
            "_________________________________________________________________\n",
            "up_sampling2d_57 (UpSampling (None, 16, 16, 64)        0         \n",
            "_________________________________________________________________\n",
            "conv2d_171 (Conv2D)          (None, 16, 16, 32)        18464     \n",
            "_________________________________________________________________\n",
            "conv2d_172 (Conv2D)          (None, 16, 16, 24)        6936      \n",
            "_________________________________________________________________\n",
            "conv2d_173 (Conv2D)          (None, 16, 16, 16)        3472      \n",
            "_________________________________________________________________\n",
            "up_sampling2d_58 (UpSampling (None, 32, 32, 16)        0         \n",
            "_________________________________________________________________\n",
            "conv2d_174 (Conv2D)          (None, 32, 32, 8)         1160      \n",
            "_________________________________________________________________\n",
            "conv2d_175 (Conv2D)          (None, 32, 32, 3)         219       \n",
            "=================================================================\n",
            "Total params: 247,261\n",
            "Trainable params: 247,261\n",
            "Non-trainable params: 0\n",
            "_________________________________________________________________\n",
            "Epoch 1/10\n",
            "1500/1500 [==============================] - 72s 48ms/step - loss: 0.0645 - mean_absolute_error: 0.2101 - cosine_similarity: 0.9770 - accuracy: 1.1997e-05 - val_loss: 0.0621 - val_mean_absolute_error: 0.2073 - val_cosine_similarity: 0.9800 - val_accuracy: 0.0000e+00\n",
            "Epoch 2/10\n",
            "1500/1500 [==============================] - 55s 37ms/step - loss: 0.0622 - mean_absolute_error: 0.2072 - cosine_similarity: 0.9796 - accuracy: 3.3908e-08 - val_loss: 0.0625 - val_mean_absolute_error: 0.2067 - val_cosine_similarity: 0.9800 - val_accuracy: 5.4253e-08\n",
            "Epoch 3/10\n",
            "1500/1500 [==============================] - 83s 55ms/step - loss: 0.0622 - mean_absolute_error: 0.2071 - cosine_similarity: 0.9796 - accuracy: 4.0690e-08 - val_loss: 0.0619 - val_mean_absolute_error: 0.2071 - val_cosine_similarity: 0.9798 - val_accuracy: 0.0000e+00\n",
            "Epoch 4/10\n",
            "1500/1500 [==============================] - 71s 47ms/step - loss: 0.0621 - mean_absolute_error: 0.2071 - cosine_similarity: 0.9796 - accuracy: 4.0690e-08 - val_loss: 0.0619 - val_mean_absolute_error: 0.2071 - val_cosine_similarity: 0.9799 - val_accuracy: 1.6276e-07\n",
            "Epoch 5/10\n",
            "1500/1500 [==============================] - 71s 47ms/step - loss: 0.0621 - mean_absolute_error: 0.2070 - cosine_similarity: 0.9796 - accuracy: 3.3908e-08 - val_loss: 0.0619 - val_mean_absolute_error: 0.2070 - val_cosine_similarity: 0.9799 - val_accuracy: 5.4253e-08\n",
            "Epoch 6/10\n",
            "1500/1500 [==============================] - 75s 50ms/step - loss: 0.0621 - mean_absolute_error: 0.2071 - cosine_similarity: 0.9796 - accuracy: 2.0345e-08 - val_loss: 0.0619 - val_mean_absolute_error: 0.2066 - val_cosine_similarity: 0.9800 - val_accuracy: 0.0000e+00\n",
            "Epoch 7/10\n",
            " 380/1500 [======>.......................] - ETA: 50s - loss: 0.0621 - mean_absolute_error: 0.2070 - cosine_similarity: 0.9796 - accuracy: 2.6770e-08"
          ]
        }
      ]
    },
    {
      "cell_type": "code",
      "metadata": {
        "id": "E8sky7ayNdGZ",
        "outputId": "16a6e5f3-7ee2-4d63-df08-cdf8e474f28b",
        "colab": {
          "base_uri": "https://localhost:8080/"
        }
      },
      "source": [
        "img_compare(X_train[0], predictions_test_recol[0])"
      ],
      "execution_count": 88,
      "outputs": [
        {
          "output_type": "execute_result",
          "data": {
            "text/plain": [
              "TensorShape([None, 32, 32, 3])"
            ]
          },
          "metadata": {},
          "execution_count": 88
        }
      ]
    },
    {
      "cell_type": "code",
      "metadata": {
        "id": "wv2EpgMNOYf-"
      },
      "source": [
        ""
      ],
      "execution_count": null,
      "outputs": []
    }
  ]
}