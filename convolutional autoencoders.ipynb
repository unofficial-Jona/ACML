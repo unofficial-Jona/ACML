{
 "cells": [
  {
   "cell_type": "code",
   "execution_count": 1,
   "metadata": {},
   "outputs": [
    {
     "name": "stderr",
     "output_type": "stream",
     "text": [
      "In /Users/jonathanaechtner/opt/anaconda3/lib/python3.8/site-packages/matplotlib/mpl-data/stylelib/_classic_test.mplstyle: \n",
      "The text.latex.preview rcparam was deprecated in Matplotlib 3.3 and will be removed two minor releases later.\n",
      "In /Users/jonathanaechtner/opt/anaconda3/lib/python3.8/site-packages/matplotlib/mpl-data/stylelib/_classic_test.mplstyle: \n",
      "The mathtext.fallback_to_cm rcparam was deprecated in Matplotlib 3.3 and will be removed two minor releases later.\n",
      "In /Users/jonathanaechtner/opt/anaconda3/lib/python3.8/site-packages/matplotlib/mpl-data/stylelib/_classic_test.mplstyle: Support for setting the 'mathtext.fallback_to_cm' rcParam is deprecated since 3.3 and will be removed two minor releases later; use 'mathtext.fallback : 'cm' instead.\n",
      "In /Users/jonathanaechtner/opt/anaconda3/lib/python3.8/site-packages/matplotlib/mpl-data/stylelib/_classic_test.mplstyle: \n",
      "The validate_bool_maybe_none function was deprecated in Matplotlib 3.3 and will be removed two minor releases later.\n",
      "In /Users/jonathanaechtner/opt/anaconda3/lib/python3.8/site-packages/matplotlib/mpl-data/stylelib/_classic_test.mplstyle: \n",
      "The savefig.jpeg_quality rcparam was deprecated in Matplotlib 3.3 and will be removed two minor releases later.\n",
      "In /Users/jonathanaechtner/opt/anaconda3/lib/python3.8/site-packages/matplotlib/mpl-data/stylelib/_classic_test.mplstyle: \n",
      "The keymap.all_axes rcparam was deprecated in Matplotlib 3.3 and will be removed two minor releases later.\n",
      "In /Users/jonathanaechtner/opt/anaconda3/lib/python3.8/site-packages/matplotlib/mpl-data/stylelib/_classic_test.mplstyle: \n",
      "The animation.avconv_path rcparam was deprecated in Matplotlib 3.3 and will be removed two minor releases later.\n",
      "In /Users/jonathanaechtner/opt/anaconda3/lib/python3.8/site-packages/matplotlib/mpl-data/stylelib/_classic_test.mplstyle: \n",
      "The animation.avconv_args rcparam was deprecated in Matplotlib 3.3 and will be removed two minor releases later.\n"
     ]
    }
   ],
   "source": [
    "import tensorflow as tf\n",
    "from tensorflow import keras\n",
    "from keras import layers\n",
    "from keras.models import Sequential\n",
    "from keras.layers import Conv2D, MaxPooling2D, UpSampling2D, Input\n",
    "from tensorflow.keras import layers\n",
    "import numpy as np\n",
    "from sklearn.model_selection import train_test_split\n",
    "import matplotlib.pyplot as plt\n",
    "from PIL import Image"
   ]
  },
  {
   "cell_type": "markdown",
   "metadata": {},
   "source": [
    "# Building the model"
   ]
  },
  {
   "cell_type": "code",
   "execution_count": 2,
   "metadata": {},
   "outputs": [
    {
     "data": {
      "text/plain": [
       "Text(0.5, 1.0, 'Shape: (32, 32, 3)')"
      ]
     },
     "execution_count": 2,
     "metadata": {},
     "output_type": "execute_result"
    },
    {
     "data": {
      "image/png": "[encoded data removed]",
      "text/plain": [
       "<Figure size 432x288 with 1 Axes>"
      ]
     },
     "metadata": {
      "needs_background": "light"
     },
     "output_type": "display_data"
    }
   ],
   "source": [
    "# load data and split it into Test, train and validation sets\n",
    "\n",
    "(X_1, y_1), (X_2, y_2) = tf.keras.datasets.cifar10.load_data()\n",
    "X = np.vstack((X_1, X_2))\n",
    "y = np.vstack((y_1, y_2))\n",
    "X_train, X, y_train, y = train_test_split(X, y, train_size=0.8, stratify=y)\n",
    "X_test, X_valid, y_test, y_valid = train_test_split(X, y, test_size=0.5, stratify=y)\n",
    "\n",
    "assert X_test.shape == X_valid.shape, 'X_test and X_valid have different shapes'\n",
    "for i in range(10):\n",
    "    assert np.count_nonzero(keras.utils.to_categorical(y_train)[:, i]) == 4800 , 'Sample is not stratified'\n",
    "sample_shape = X_train[0].shape\n",
    "plt.imshow(X_train[1])\n",
    "plt.title(f'Shape: {sample_shape}')"
   ]
  },
  {
   "cell_type": "code",
   "execution_count": 3,
   "metadata": {},
   "outputs": [],
   "source": [
    "# normalize the data\n",
    "# it would be better to use keras.utils.normalize for this, but then it would be impossible to de-normalize the data\n",
    "\n",
    "X_train = X_train/255\n",
    "X_valid = X_valid/255\n",
    "X_test = X_test/255"
   ]
  },
  {
   "cell_type": "code",
   "execution_count": 158,
   "metadata": {},
   "outputs": [
    {
     "name": "stdout",
     "output_type": "stream",
     "text": [
      "Model: \"sequential_29\"\n",
      "_________________________________________________________________\n",
      "Layer (type)                 Output Shape              Param #   \n",
      "=================================================================\n",
      "conv2d_55 (Conv2D)           (None, 32, 32, 8)         224       \n",
      "_________________________________________________________________\n",
      "max_pooling2d_27 (MaxPooling (None, 16, 16, 8)         0         \n",
      "_________________________________________________________________\n",
      "conv2d_56 (Conv2D)           (None, 16, 16, 12)        876       \n",
      "_________________________________________________________________\n",
      "max_pooling2d_28 (MaxPooling (None, 8, 8, 12)          0         \n",
      "_________________________________________________________________\n",
      "conv2d_57 (Conv2D)           (None, 8, 8, 16)          1744      \n",
      "_________________________________________________________________\n",
      "up_sampling2d_16 (UpSampling (None, 16, 16, 16)        0         \n",
      "_________________________________________________________________\n",
      "conv2d_58 (Conv2D)           (None, 16, 16, 12)        1740      \n",
      "_________________________________________________________________\n",
      "up_sampling2d_17 (UpSampling (None, 32, 32, 12)        0         \n",
      "_________________________________________________________________\n",
      "conv2d_59 (Conv2D)           (None, 32, 32, 3)         327       \n",
      "=================================================================\n",
      "Total params: 4,911\n",
      "Trainable params: 4,911\n",
      "Non-trainable params: 0\n",
      "_________________________________________________________________\n"
     ]
    }
   ],
   "source": [
    "# build the model\n",
    "\n",
    "model = Sequential()\n",
    "model.add(Input(shape=sample_shape))\n",
    "model.add(Conv2D(8, kernel_size = (3,3), padding='same',  activation='relu'))\n",
    "model.add(MaxPooling2D(pool_size = (2,2)))\n",
    "model.add(Conv2D(12, kernel_size = (3,3), padding='same', activation='relu'))\n",
    "model.add(MaxPooling2D(pool_size = (2,2)))\n",
    "model.add(Conv2D(16, kernel_size = (3,3), padding='same', activation='relu'))\n",
    "model.add(UpSampling2D(size=(2,2)))\n",
    "model.add(Conv2D(12,kernel_size = (3,3), padding='same', activation='relu'))\n",
    "model.add(UpSampling2D())\n",
    "model.add(Conv2D(3,(3,3), padding='same', activation='relu'))\n",
    "\n",
    "\n",
    "# compile the model\n",
    "model.compile(\n",
    "    optimizer=keras.optimizers.Adam(learning_rate=1e-3),\n",
    "    loss=keras.losses.MeanSquaredError(),\n",
    "    metrics=[keras.metrics.MeanAbsoluteError(),\n",
    "            keras.metrics.CosineSimilarity()])\n",
    "\n",
    "model.summary()"
   ]
  },
  {
   "cell_type": "code",
   "execution_count": null,
   "metadata": {},
   "outputs": [],
   "source": [
    "# train the model\n",
    "history = model.fit(X_train, X_train, validation_data=(X_valid, X_valid), epochs=10, verbose=1, use_multiprocessing=True)"
   ]
  },
  {
   "cell_type": "code",
   "execution_count": 54,
   "metadata": {},
   "outputs": [
    {
     "name": "stdout",
     "output_type": "stream",
     "text": [
      "188/188 [==============================] - 3s 11ms/step - loss: 0.0040 - mean_absolute_error: 0.0445 - cosine_similarity: 0.9914\n"
     ]
    },
    {
     "data": {
      "text/plain": [
       "[0.004018696956336498, 0.04449302703142166, 0.9913666248321533]"
      ]
     },
     "execution_count": 54,
     "metadata": {},
     "output_type": "execute_result"
    }
   ],
   "source": [
    "model.evaluate(X_test, X_test)\n"
   ]
  },
  {
   "cell_type": "code",
   "execution_count": 55,
   "metadata": {},
   "outputs": [
    {
     "name": "stdout",
     "output_type": "stream",
     "text": [
      "1500/1500 [==============================] - 14s 9ms/step\n"
     ]
    }
   ],
   "source": [
    "predictions = model.predict(X_train, verbose=1)"
   ]
  },
  {
   "cell_type": "code",
   "execution_count": 90,
   "metadata": {},
   "outputs": [
    {
     "name": "stderr",
     "output_type": "stream",
     "text": [
      "Clipping input data to the valid range for imshow with RGB data ([0..1] for floats or [0..255] for integers).\n"
     ]
    },
    {
     "data": {
      "image/png": "[encoded data removed]",
      "text/plain": [
       "<Figure size 432x288 with 2 Axes>"
      ]
     },
     "metadata": {
      "needs_background": "light"
     },
     "output_type": "display_data"
    }
   ],
   "source": [
    "def plot_img_compare(model, data, img_nr):\n",
    "    \"\"\"Plot original image next to predicted image \n",
    "\n",
    "    Args:\n",
    "        model (model accepting.predict() method): the model to predict\n",
    "        data (np.array): the whole data stack\n",
    "        img_nr (int): the index of to use for image plot.\n",
    "    \"\"\"\n",
    "    assert type(img_nr) == int, 'wrong dtype for img_nr'\n",
    "    predictions = model.predict(data)\n",
    "    pred_img = predictions[img_nr]\n",
    "    plt.subplot(221).imshow(data[img_nr])\n",
    "    plt.subplot(221).set_title(f'original img: {data[img_nr].shape}')\n",
    "    plt.subplot(222).imshow(pred_img)\n",
    "    plt.subplot(222).set_title(f'predict img: {predictions[img_nr].shape}')\n",
    "    plt.show()\n",
    "\n",
    "plot_img_compare(model, X_test, 1)"
   ]
  },
  {
   "cell_type": "code",
   "execution_count": 97,
   "metadata": {},
   "outputs": [],
   "source": [
    "def save_model(model, path = 'models/CAE'):\n",
    "    model.save(path)\n",
    "def load_model(path = 'models/CAE'):\n",
    "    return keras.models.load_model(path)\n",
    "model = load_model()"
   ]
  },
  {
   "cell_type": "code",
   "execution_count": 4,
   "metadata": {},
   "outputs": [],
   "source": [
    "# learn model for b-w version of the images\n",
    "\n",
    "to_grayscale = lambda x: x[:,:,:,0]/3 + x[:,:,:,1]/3 + x[:,:,:,2]/3\n",
    "\n",
    "X_train_bw = to_grayscale(X_train)\n",
    "X_test_bw = to_grayscale(X_test)\n",
    "X_valid_bw = to_grayscale(X_valid)"
   ]
  },
  {
   "cell_type": "code",
   "execution_count": 5,
   "metadata": {},
   "outputs": [],
   "source": [
    "X_train_bw = X_train_bw[:,:,:,np.newaxis]\n",
    "X_test_bw = X_test_bw[:,:,:,np.newaxis]\n",
    "X_valid_bw = X_valid_bw[:,:,:,np.newaxis]\n"
   ]
  },
  {
   "cell_type": "code",
   "execution_count": 6,
   "metadata": {},
   "outputs": [
    {
     "data": {
      "image/png": "[encoded data removed]",
      "text/plain": [
       "<Figure size 432x288 with 2 Axes>"
      ]
     },
     "metadata": {
      "needs_background": "light"
     },
     "output_type": "display_data"
    }
   ],
   "source": [
    "def comp_rgb_bw(rgb_img, gray_img):\n",
    "    plt.subplot(221).imshow(rgb_img)\n",
    "    plt.subplot(221).set_title(f'original img: {rgb_img.shape}')\n",
    "    plt.subplot(222).imshow(gray_img, cmap='gray')\n",
    "    plt.subplot(222).set_title(f'predict img: {gray_img.shape}')\n",
    "    plt.show()\n",
    "comp_rgb_bw(X_train[0], X_train_bw[0])"
   ]
  },
  {
   "cell_type": "code",
   "execution_count": 44,
   "metadata": {},
   "outputs": [
    {
     "name": "stdout",
     "output_type": "stream",
     "text": [
      "Model: \"sequential_13\"\n",
      "_________________________________________________________________\n",
      "Layer (type)                 Output Shape              Param #   \n",
      "=================================================================\n",
      "conv2d_77 (Conv2D)           (None, 32, 32, 8)         80        \n",
      "_________________________________________________________________\n",
      "conv2d_78 (Conv2D)           (None, 32, 32, 12)        876       \n",
      "_________________________________________________________________\n",
      "max_pooling2d_30 (MaxPooling (None, 16, 16, 12)        0         \n",
      "_________________________________________________________________\n",
      "conv2d_79 (Conv2D)           (None, 16, 16, 16)        1744      \n",
      "_________________________________________________________________\n",
      "max_pooling2d_31 (MaxPooling (None, 8, 8, 16)          0         \n",
      "_________________________________________________________________\n",
      "conv2d_80 (Conv2D)           (None, 8, 8, 32)          4640      \n",
      "_________________________________________________________________\n",
      "conv2d_81 (Conv2D)           (None, 8, 8, 32)          9248      \n",
      "_________________________________________________________________\n",
      "up_sampling2d_25 (UpSampling (None, 16, 16, 32)        0         \n",
      "_________________________________________________________________\n",
      "conv2d_82 (Conv2D)           (None, 16, 16, 16)        4624      \n",
      "_________________________________________________________________\n",
      "up_sampling2d_26 (UpSampling (None, 32, 32, 16)        0         \n",
      "_________________________________________________________________\n",
      "conv2d_83 (Conv2D)           (None, 32, 32, 12)        1740      \n",
      "_________________________________________________________________\n",
      "up_sampling2d_27 (UpSampling (None, 64, 64, 12)        0         \n",
      "_________________________________________________________________\n",
      "conv2d_84 (Conv2D)           (None, 64, 64, 6)         654       \n",
      "_________________________________________________________________\n",
      "max_pooling2d_32 (MaxPooling (None, 32, 32, 6)         0         \n",
      "_________________________________________________________________\n",
      "conv2d_85 (Conv2D)           (None, 32, 32, 1)         55        \n",
      "=================================================================\n",
      "Total params: 23,661\n",
      "Trainable params: 23,661\n",
      "Non-trainable params: 0\n",
      "_________________________________________________________________\n"
     ]
    }
   ],
   "source": [
    "# build the model_bw\n",
    "\n",
    "model_bw = Sequential()\n",
    "model_bw.add(Input(shape=X_train_bw[0].shape))\n",
    "model_bw.add(Conv2D(8, kernel_size = (3,3), padding='same',  activation='relu'))\n",
    "model_bw.add(Conv2D(12, kernel_size = (3,3), padding='same',  activation='relu'))\n",
    "model_bw.add(MaxPooling2D(pool_size = (2,2)))\n",
    "model_bw.add(Conv2D(16, kernel_size = (3,3), padding='same', activation='relu'))\n",
    "model_bw.add(MaxPooling2D(pool_size = (2,2)))\n",
    "model_bw.add(Conv2D(32, kernel_size = (3,3), padding='same', activation='relu'))\n",
    "model_bw.add(Conv2D(32, kernel_size = (3,3), padding='same', activation='relu'))\n",
    "model_bw.add(UpSampling2D(size=(2,2)))\n",
    "model_bw.add(Conv2D(16,kernel_size = (3,3), padding='same', activation='relu'))\n",
    "model_bw.add(UpSampling2D())\n",
    "model_bw.add(Conv2D(12,kernel_size = (3,3), padding='same', activation='relu'))\n",
    "model_bw.add(UpSampling2D())\n",
    "model_bw.add(Conv2D(6,kernel_size = (3,3), padding='same', activation='relu'))\n",
    "model_bw.add(MaxPooling2D(pool_size = (2,2)))\n",
    "model_bw.add(Conv2D(1,(3,3), padding='same', activation='relu'))\n",
    "\n",
    "\n",
    "# compile the model_bw\n",
    "model_bw.compile(\n",
    "    optimizer=keras.optimizers.Adam(learning_rate=1e-3),\n",
    "    loss=keras.losses.MeanSquaredError(),\n",
    "    metrics=[keras.metrics.MeanAbsoluteError(),\n",
    "            keras.metrics.CosineSimilarity()])\n",
    "\n",
    "model_bw.summary()"
   ]
  },
  {
   "cell_type": "code",
   "execution_count": 45,
   "metadata": {},
   "outputs": [
    {
     "name": "stdout",
     "output_type": "stream",
     "text": [
      "Epoch 1/2\n",
      "1500/1500 [==============================] - 175s 116ms/step - loss: 0.0083 - mean_absolute_error: 0.0575 - cosine_similarity: 0.9980 - val_loss: 0.0038 - val_mean_absolute_error: 0.0434 - val_cosine_similarity: 0.9986\n",
      "Epoch 2/2\n",
      "1500/1500 [==============================] - 176s 117ms/step - loss: 0.0035 - mean_absolute_error: 0.0413 - cosine_similarity: 0.9977 - val_loss: 0.0034 - val_mean_absolute_error: 0.0414 - val_cosine_similarity: 0.9961\n"
     ]
    }
   ],
   "source": [
    "history_bw = model_bw.fit(X_train_bw, X_train_bw, epochs=7, validation_data=(X_valid_bw, X_valid_bw), verbose=1, use_multiprocessing=True)"
   ]
  },
  {
   "cell_type": "code",
   "execution_count": 46,
   "metadata": {},
   "outputs": [
    {
     "name": "stdout",
     "output_type": "stream",
     "text": [
      "188/188 [==============================] - 5s 27ms/step - loss: 0.0034 - mean_absolute_error: 0.0416 - cosine_similarity: 0.9970\n"
     ]
    },
    {
     "data": {
      "text/plain": [
       "[0.003407752141356468, 0.041581299155950546, 0.996958315372467]"
      ]
     },
     "execution_count": 46,
     "metadata": {},
     "output_type": "execute_result"
    }
   ],
   "source": [
    "model_bw.evaluate(X_test_bw, X_test_bw)"
   ]
  },
  {
   "cell_type": "code",
   "execution_count": 47,
   "metadata": {},
   "outputs": [],
   "source": [
    "predictions_bw = model_bw.predict(X_train_bw, verbose=1)"
   ]
  },
  {
   "cell_type": "code",
   "execution_count": 73,
   "metadata": {},
   "outputs": [],
   "source": [
    "predictions_bw.shape\n",
    "X_train_comb = np.concatenate((predictions, predictions_bw),3)"
   ]
  },
  {
   "cell_type": "code",
   "execution_count": 82,
   "metadata": {},
   "outputs": [
    {
     "name": "stdout",
     "output_type": "stream",
     "text": [
      "Model: \"sequential_18\"\n",
      "_________________________________________________________________\n",
      "Layer (type)                 Output Shape              Param #   \n",
      "=================================================================\n",
      "conv2d_102 (Conv2D)          (None, 32, 32, 8)         296       \n",
      "_________________________________________________________________\n",
      "max_pooling2d_40 (MaxPooling (None, 16, 16, 8)         0         \n",
      "_________________________________________________________________\n",
      "conv2d_103 (Conv2D)          (None, 16, 16, 12)        876       \n",
      "_________________________________________________________________\n",
      "max_pooling2d_41 (MaxPooling (None, 8, 8, 12)          0         \n",
      "_________________________________________________________________\n",
      "conv2d_104 (Conv2D)          (None, 8, 8, 16)          1744      \n",
      "_________________________________________________________________\n",
      "up_sampling2d_34 (UpSampling (None, 16, 16, 16)        0         \n",
      "_________________________________________________________________\n",
      "conv2d_105 (Conv2D)          (None, 16, 16, 12)        1740      \n",
      "_________________________________________________________________\n",
      "up_sampling2d_35 (UpSampling (None, 32, 32, 12)        0         \n",
      "_________________________________________________________________\n",
      "conv2d_106 (Conv2D)          (None, 32, 32, 3)         327       \n",
      "=================================================================\n",
      "Total params: 4,983\n",
      "Trainable params: 4,983\n",
      "Non-trainable params: 0\n",
      "_________________________________________________________________\n"
     ]
    }
   ],
   "source": [
    "# build model_comb for combination of prediction model_comb\n",
    "\n",
    "model_comb = Sequential()\n",
    "model_comb.add(Input(shape=X_train_comb[0].shape))\n",
    "model_comb.add(Conv2D(8, kernel_size = (3,3), padding='same',  activation='relu'))\n",
    "model_comb.add(MaxPooling2D(pool_size = (2,2)))\n",
    "model_comb.add(Conv2D(12, kernel_size = (3,3), padding='same', activation='relu'))\n",
    "model_comb.add(MaxPooling2D(pool_size = (2,2)))\n",
    "model_comb.add(Conv2D(16, kernel_size = (3,3), padding='same', activation='relu'))\n",
    "model_comb.add(UpSampling2D(size=(2,2)))\n",
    "model_comb.add(Conv2D(12,kernel_size = (3,3), padding='same', activation='relu'))\n",
    "model_comb.add(UpSampling2D())\n",
    "model_comb.add(Conv2D(3,(3,3), padding='same', activation='relu'))\n",
    "\n",
    "\n",
    "# compile the model_comb\n",
    "model_comb.compile(\n",
    "    optimizer=keras.optimizers.Adam(learning_rate=1e-3),\n",
    "    loss=keras.losses.MeanSquaredError(),\n",
    "    metrics=[keras.metrics.MeanAbsoluteError(),\n",
    "            keras.metrics.CosineSimilarity()])\n",
    "\n",
    "model_comb.summary()"
   ]
  },
  {
   "cell_type": "code",
   "execution_count": 83,
   "metadata": {},
   "outputs": [
    {
     "name": "stdout",
     "output_type": "stream",
     "text": [
      "Epoch 1/7\n",
      "1500/1500 [==============================] - 52s 34ms/step - loss: 0.0134 - mean_absolute_error: 0.0769 - cosine_similarity: 0.9834\n",
      "Epoch 2/7\n",
      "1500/1500 [==============================] - 51s 34ms/step - loss: 0.0062 - mean_absolute_error: 0.0568 - cosine_similarity: 0.9917\n",
      "Epoch 3/7\n",
      "1500/1500 [==============================] - 52s 35ms/step - loss: 0.0057 - mean_absolute_error: 0.0542 - cosine_similarity: 0.9921\n",
      "Epoch 4/7\n",
      "1500/1500 [==============================] - 52s 35ms/step - loss: 0.0054 - mean_absolute_error: 0.0526 - cosine_similarity: 0.9921\n",
      "Epoch 5/7\n",
      "1500/1500 [==============================] - 52s 34ms/step - loss: 0.0052 - mean_absolute_error: 0.0516 - cosine_similarity: 0.9921\n",
      "Epoch 6/7\n",
      "1500/1500 [==============================] - 49s 33ms/step - loss: 0.0051 - mean_absolute_error: 0.0508 - cosine_similarity: 0.9921\n",
      "Epoch 7/7\n",
      "1500/1500 [==============================] - 53s 35ms/step - loss: 0.0050 - mean_absolute_error: 0.0502 - cosine_similarity: 0.9920\n"
     ]
    }
   ],
   "source": [
    "history_comb = model_comb.fit(X_train_comb, X_train, epochs=7, verbose=1, use_multiprocessing=True)"
   ]
  },
  {
   "cell_type": "code",
   "execution_count": 86,
   "metadata": {},
   "outputs": [
    {
     "name": "stderr",
     "output_type": "stream",
     "text": [
      "Clipping input data to the valid range for imshow with RGB data ([0..1] for floats or [0..255] for integers).\n"
     ]
    },
    {
     "data": {
      "image/png": "[encoded data removed]",
      "text/plain": [
       "<Figure size 432x288 with 2 Axes>"
      ]
     },
     "metadata": {
      "needs_background": "light"
     },
     "output_type": "display_data"
    }
   ],
   "source": [
    "predict_comb = model_comb.predict(X_train_comb)\n",
    "\n",
    "def comp_comb_org(comb_img, org_img):\n",
    "    plt.subplot(221).imshow(org_img)\n",
    "    plt.subplot(221).set_title(f'original img: {org_img.shape}')\n",
    "    plt.subplot(222).imshow(comb_img)\n",
    "    plt.subplot(222).set_title(f'predict img: {comb_img.shape}')\n",
    "    plt.show()\n"
   ]
  },
  {
   "cell_type": "code",
   "execution_count": 87,
   "metadata": {},
   "outputs": [
    {
     "data": {
      "image/png": "[encoded data removed]",
      "text/plain": [
       "<Figure size 432x288 with 2 Axes>"
      ]
     },
     "metadata": {
      "needs_background": "light"
     },
     "output_type": "display_data"
    }
   ],
   "source": [
    "comp_rgb_bw(X_train[1], X_train_comb[1])"
   ]
  },
  {
   "cell_type": "code",
   "execution_count": 99,
   "metadata": {},
   "outputs": [
    {
     "name": "stdout",
     "output_type": "stream",
     "text": [
      "INFO:tensorflow:Assets written to: models/model_pipe_comb/assets\n",
      "INFO:tensorflow:Assets written to: models/model_pipe_bw/assets\n"
     ]
    }
   ],
   "source": [
    "save_model(model_comb, 'models/model_pipe_comb')\n",
    "save_model(model_bw, 'models/model_pipe_bw')"
   ]
  }
 ],
 "metadata": {
  "interpreter": {
   "hash": "ddda031869fb8ce91032b63195a611ad81bb421fc11bd1c32a8661751b914dac"
  },
  "kernelspec": {
   "display_name": "Python 3.8.11 64-bit ('base': conda)",
   "name": "python3"
  },
  "language_info": {
   "codemirror_mode": {
    "name": "ipython",
    "version": 3
   },
   "file_extension": ".py",
   "mimetype": "text/x-python",
   "name": "python",
   "nbconvert_exporter": "python",
   "pygments_lexer": "ipython3",
   "version": "3.8.11"
  },
  "orig_nbformat": 4
 },
 "nbformat": 4,
 "nbformat_minor": 2
}
