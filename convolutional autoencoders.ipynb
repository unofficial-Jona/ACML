{
  "cells": [
    {
      "cell_type": "markdown",
      "metadata": {},
      "source": [
        "# ACML Homework: Convolutional Autoencoders\n",
        "by Jonathan Ächtner and Thomas Bahne"
      ]
    },
    {
      "cell_type": "markdown",
      "metadata": {
        "id": "97GcYzCVfoLp"
      },
      "source": [
        "# Data preperation and utilities"
      ]
    },
    {
      "cell_type": "code",
      "execution_count": 17,
      "metadata": {
        "id": "ofBRmadJEOeu"
      },
      "outputs": [],
      "source": [
        "import tensorflow as tf\n",
        "from tensorflow import keras\n",
        "from keras import layers\n",
        "from keras.models import Sequential\n",
        "from keras.layers import Conv2D, MaxPooling2D, UpSampling2D, Input\n",
        "from tensorflow.keras import layers\n",
        "import numpy as np\n",
        "from sklearn.model_selection import train_test_split\n",
        "import matplotlib.pyplot as plt\n",
        "from PIL import Image\n",
        "from typing import Tuple"
      ]
    },
    {
      "cell_type": "code",
      "execution_count": 18,
      "metadata": {
        "colab": {
          "base_uri": "https://localhost:8080/",
          "height": 282
        },
        "id": "vZbgIJzjEOex",
        "outputId": "33550d03-09bd-4e8b-fd36-5317599a5d0a"
      },
      "outputs": [],
      "source": [
        "def load_data() -> Tuple[np.ndarray, np.ndarray, np.ndarray]:\n",
        "  \"\"\"downloads the cifar10 data set and divides it into a training, validation, and test set\n",
        "\n",
        "  Returns:\n",
        "      Tuple[np.ndarray, np.ndarray, np.ndarray]: Train, Validation, Test set\n",
        "  \"\"\" \n",
        "  (X_1, y_1), (X_2, y_2) = tf.keras.datasets.cifar10.load_data()\n",
        "  X = np.vstack((X_1, X_2))\n",
        "  y = np.vstack((y_1, y_2))\n",
        "  X_train, X, y_train, y = train_test_split(X, y, train_size=0.8, stratify=y)\n",
        "  X_test, X_valid, _, _  = train_test_split(X, y, test_size=0.5, stratify=y)\n",
        "  return X_train, X_valid, X_test\n",
        "\n",
        "def prepare_images(img: np.ndarray, gray=False) -> np.ndarray:\n",
        "  \"\"\"Normalizes and (optinally) grayscales images\n",
        "\n",
        "  Args:\n",
        "      img (np.ndarray): Array of images, given in RGB-pixel values\n",
        "      gray (bool, optional): Set to true will grayscale the images. Defaults to False.\n",
        "\n",
        "  Returns:\n",
        "      np.ndarray: Normalized and (optinally) grayscaled array of images\n",
        "  \"\"\"  \n",
        "  img = img/255\n",
        "  img_s1, img_s2, img_s3, img_s4 = img.shape\n",
        "  if gray:\n",
        "    to_grayscale = lambda x: x[:,:,:,0] * 0.299 + x[:,:,:,1] * 0.5870 + x[:,:,:,2] * 0.1140\n",
        "    img_gray = to_grayscale(img)\n",
        "    img = img\n",
        "    return img_gray.reshape((img_s1, img_s2, img_s3, 1))\n",
        "  else:\n",
        "    return img.reshape(img.shape)\n",
        "\n",
        "def load_prepare() -> Tuple[np.ndarray, np.ndarray, np.ndarray, np.ndarray, np.ndarray, np.ndarray]:\n",
        "  \"\"\"Downloads the CIFAR10 data set, normalizes and graysclaes the images\n",
        "\n",
        "  Returns:\n",
        "      Tuple[np.ndarray, np.ndarray, np.ndarray, np.ndarray, np.ndarray, np.ndarray]: Normalized Train, Validation and Test sets for color and grayscaled images\n",
        "  \"\"\"  \n",
        "  X_train_new, X_valid_new, X_test_new = load_data()\n",
        "\n",
        "  X_train = prepare_images(X_train_new)\n",
        "  X_valid = prepare_images(X_valid_new)\n",
        "  X_test = prepare_images(X_test_new)\n",
        "\n",
        "  X_train_bw = prepare_images(X_train_new, True)\n",
        "  X_test_bw = prepare_images(X_test_new, True)\n",
        "  X_valid_bw = prepare_images(X_valid_new, True)\n",
        "\n",
        "  return X_train, X_valid, X_test, X_train_bw, X_valid_bw, X_test_bw\n",
        "\n",
        "def save_model(model, path = 'models/CAE') -> None:\n",
        "  model.save(path)\n",
        "\n",
        "def load_model(path = 'models/CAE') -> None:\n",
        "    return keras.models.load_model(path)\n",
        "\n",
        "def img_compare(img_org: np.ndarray, img_pred: np.ndarray, cmap: str='gray') -> None:\n",
        "  \"\"\"Plots the original image next to the output of the Autoencoder\n",
        "\n",
        "  Args:\n",
        "      img_org (np.ndarray): Original version of the image\n",
        "      img_pred (np.ndarray): Output of the auto encoder for the image\n",
        "      cmap (str, optional): [description]. Defaults to 'gray'.\n",
        "  \"\"\"  \n",
        "  plt.subplot(221).imshow(img_org)\n",
        "  plt.subplot(221).set_title(f'original img: {img_org.shape}')\n",
        "  if img_pred.shape == (32,32,1):\n",
        "    img_pred = img_pred.reshape((32,32))\n",
        "    plt.subplot(222).imshow(img_pred, cmap=cmap)\n",
        "    plt.subplot(222).set_title(f'predict img: {img_pred.shape}')\n",
        "  else:\n",
        "    plt.subplot(222).imshow(img_pred)\n",
        "    plt.subplot(222).set_title(f'predict img: {img_pred.shape}')\n",
        "  plt.show()\n",
        "\n",
        "def model_fit_transform(model, x_train, y_train=None, x_valid=None, y_valid=None, x_test=None, y_test=None, step_size=1e-3, epochs=10):\n",
        "  model.summary()\n",
        "  \"\"\"Fits the model on training data, if available evaluates it on the validation set\n",
        "\n",
        "  Args:\n",
        "      model (keras.engine.sequential.Sequential): model to be trained\n",
        "      x_train (np.ndarray): training inputs\n",
        "      y_train (np.ndarray): labels of training inputs ()\n",
        "\n",
        "  Returns:\n",
        "      Tuple[keras.engine.sequential.Sequential, np.ndarray, np.ndarray, np.ndarray]: fitted model, output of the model for training-, validation-, and test instances, history of training\n",
        "  \"\"\"\n",
        "  if x_valid.any() != None:\n",
        "    history = model.fit(x_train, y_train, validation_data=(x_valid, y_valid), epochs=epochs, verbose=1)\n",
        "  else:\n",
        "    history = model.fit(x_train, y_train, epochs=epochs, verbose=1)\n",
        "  if x_valid.any() != None:\n",
        "    results = model.evaluate(x_valid, y_valid, return_dict = True)\n",
        "    print('evaluations for validation set')\n",
        "    for x, y in zip(results.keys(), results.values()):\n",
        "        print('\\t', x, ': ', y)\n",
        "\n",
        "  predictions_x_train = model.predict(x_train, verbose=1)\n",
        "\n",
        "  if x_test.any() != None:\n",
        "    predictions_x_test = model.predict(x_test, verbose=1)\n",
        "  \n",
        "  if x_valid.any() != None:\n",
        "    predictions_x_valid = model.predict(x_valid, verbose=1)\n",
        "  \n",
        "  return model, predictions_x_train, predictions_x_valid, predictions_x_test, history"
      ]
    },
    {
      "cell_type": "markdown",
      "metadata": {},
      "source": [
        "## 1. Divide your dataset into training (80%), validation (10%) and test (10%). Normalize the data."
      ]
    },
    {
      "cell_type": "code",
      "execution_count": 19,
      "metadata": {
        "id": "YEGgJEqxfqFm"
      },
      "outputs": [],
      "source": [
        "X_train, X_valid, X_test, X_train_bw, X_valid_bw, X_test_bw = load_prepare()\n",
        "\n",
        "shape_color_instance = X_train[0].shape\n",
        "shape_bw_instance = X_train_bw[0].shape"
      ]
    },
    {
      "cell_type": "markdown",
      "metadata": {
        "id": "fs3610g4EOew"
      },
      "source": [
        "## 2. Implement the autoencoder network specified above. Run the training for at least 10 epochs, and plot the evolution of the error with epochs. Report also the test error."
      ]
    },
    {
      "cell_type": "markdown",
      "metadata": {
        "id": "1GAV7s2tgEp9"
      },
      "source": [
        "## model creation"
      ]
    },
    {
      "cell_type": "code",
      "execution_count": 25,
      "metadata": {
        "id": "XY7eM8eREOez"
      },
      "outputs": [],
      "source": [
        "# build the model\n",
        "def create_model(input_shape):\n",
        "  model =  Sequential()\n",
        "  model.add(Input(shape=input_shape))\n",
        "  model.add(Conv2D(8, kernel_size = (3,3), padding='same',  activation='relu'))\n",
        "  model.add(MaxPooling2D(pool_size = (2,2), padding='same'))\n",
        "  model.add(Conv2D(12, kernel_size = (3,3), padding='same', activation='relu'))\n",
        "  model.add(MaxPooling2D(pool_size = (2,2)))\n",
        "  model.add(Conv2D(16, kernel_size = (3,3), padding='same', activation='relu'))\n",
        "  model.add(UpSampling2D(size=(2,2)))\n",
        "  model.add(Conv2D(12,kernel_size = (3,3), padding='same', activation='relu'))\n",
        "  model.add(UpSampling2D())\n",
        "  model.add(Conv2D(3,(3,3), padding='same', activation='relu'))\n",
        "  return model\n",
        "\n",
        "model = create_model(shape_color_instance)\n",
        "\n",
        "# compile the model\n",
        "model.compile(\n",
        "    optimizer=keras.optimizers.Adam(learning_rate=1e-3),\n",
        "    loss=keras.losses.MeanSquaredError(),\n",
        "    metrics=[keras.metrics.MeanAbsoluteError(),\n",
        "              keras.metrics.MeanSquaredError(),\n",
        "              keras.metrics.CosineSimilarity(),\n",
        "              keras.metrics.BinaryCrossentropy()])"
      ]
    },
    {
      "cell_type": "code",
      "execution_count": 26,
      "metadata": {
        "colab": {
          "base_uri": "https://localhost:8080/"
        },
        "id": "zuj4s7ulw2nd",
        "outputId": "bdbe870c-632f-4ae3-851c-8ad16ebbc1ea"
      },
      "outputs": [
        {
          "name": "stdout",
          "output_type": "stream",
          "text": [
            "Model: \"sequential_1\"\n",
            "_________________________________________________________________\n",
            " Layer (type)                Output Shape              Param #   \n",
            "=================================================================\n",
            " conv2d_5 (Conv2D)           (None, 32, 32, 8)         224       \n",
            "                                                                 \n",
            " max_pooling2d_2 (MaxPooling  (None, 16, 16, 8)        0         \n",
            " 2D)                                                             \n",
            "                                                                 \n",
            " conv2d_6 (Conv2D)           (None, 16, 16, 12)        876       \n",
            "                                                                 \n",
            " max_pooling2d_3 (MaxPooling  (None, 8, 8, 12)         0         \n",
            " 2D)                                                             \n",
            "                                                                 \n",
            " conv2d_7 (Conv2D)           (None, 8, 8, 16)          1744      \n",
            "                                                                 \n",
            " up_sampling2d_2 (UpSampling  (None, 16, 16, 16)       0         \n",
            " 2D)                                                             \n",
            "                                                                 \n",
            " conv2d_8 (Conv2D)           (None, 16, 16, 12)        1740      \n",
            "                                                                 \n",
            " up_sampling2d_3 (UpSampling  (None, 32, 32, 12)       0         \n",
            " 2D)                                                             \n",
            "                                                                 \n",
            " conv2d_9 (Conv2D)           (None, 32, 32, 3)         327       \n",
            "                                                                 \n",
            "=================================================================\n",
            "Total params: 4,911\n",
            "Trainable params: 4,911\n",
            "Non-trainable params: 0\n",
            "_________________________________________________________________\n",
            "Epoch 1/10\n",
            " 803/1500 [===============>..............] - ETA: 30s - loss: 0.0181 - mean_absolute_error: 0.0928 - mean_squared_error: 0.0181 - cosine_similarity: 0.9814 - binary_crossentropy: 0.6067"
          ]
        },
        {
          "ename": "KeyboardInterrupt",
          "evalue": "",
          "output_type": "error",
          "traceback": [
            "\u001b[0;31m---------------------------------------------------------------------------\u001b[0m",
            "\u001b[0;31mKeyboardInterrupt\u001b[0m                         Traceback (most recent call last)",
            "\u001b[0;32m<ipython-input-26-ed6f5a659f8b>\u001b[0m in \u001b[0;36m<module>\u001b[0;34m\u001b[0m\n\u001b[0;32m----> 1\u001b[0;31m \u001b[0mmodel\u001b[0m\u001b[0;34m,\u001b[0m \u001b[0mX_train_0\u001b[0m\u001b[0;34m,\u001b[0m \u001b[0mX_valid_0\u001b[0m\u001b[0;34m,\u001b[0m \u001b[0mX_test_0\u001b[0m \u001b[0;34m=\u001b[0m \u001b[0mmodel_fit_transform\u001b[0m\u001b[0;34m(\u001b[0m\u001b[0mmodel\u001b[0m\u001b[0;34m,\u001b[0m \u001b[0mX_train\u001b[0m\u001b[0;34m,\u001b[0m \u001b[0mX_train\u001b[0m\u001b[0;34m,\u001b[0m \u001b[0mX_valid\u001b[0m\u001b[0;34m,\u001b[0m \u001b[0mX_valid\u001b[0m\u001b[0;34m,\u001b[0m \u001b[0mX_test\u001b[0m\u001b[0;34m,\u001b[0m \u001b[0mX_test\u001b[0m\u001b[0;34m)\u001b[0m\u001b[0;34m\u001b[0m\u001b[0;34m\u001b[0m\u001b[0m\n\u001b[0m",
            "\u001b[0;32m<ipython-input-18-eec8a7f0515b>\u001b[0m in \u001b[0;36mmodel_fit_transform\u001b[0;34m(model, x_train, y_train, x_valid, y_valid, x_test, y_test, step_size, epochs)\u001b[0m\n\u001b[1;32m     88\u001b[0m   \"\"\"\n\u001b[1;32m     89\u001b[0m   \u001b[0;32mif\u001b[0m \u001b[0mx_valid\u001b[0m\u001b[0;34m.\u001b[0m\u001b[0many\u001b[0m\u001b[0;34m(\u001b[0m\u001b[0;34m)\u001b[0m \u001b[0;34m!=\u001b[0m \u001b[0;32mNone\u001b[0m\u001b[0;34m:\u001b[0m\u001b[0;34m\u001b[0m\u001b[0;34m\u001b[0m\u001b[0m\n\u001b[0;32m---> 90\u001b[0;31m     \u001b[0mhistory\u001b[0m \u001b[0;34m=\u001b[0m \u001b[0mmodel\u001b[0m\u001b[0;34m.\u001b[0m\u001b[0mfit\u001b[0m\u001b[0;34m(\u001b[0m\u001b[0mx_train\u001b[0m\u001b[0;34m,\u001b[0m \u001b[0my_train\u001b[0m\u001b[0;34m,\u001b[0m \u001b[0mvalidation_data\u001b[0m\u001b[0;34m=\u001b[0m\u001b[0;34m(\u001b[0m\u001b[0mx_valid\u001b[0m\u001b[0;34m,\u001b[0m \u001b[0my_valid\u001b[0m\u001b[0;34m)\u001b[0m\u001b[0;34m,\u001b[0m \u001b[0mepochs\u001b[0m\u001b[0;34m=\u001b[0m\u001b[0mepochs\u001b[0m\u001b[0;34m,\u001b[0m \u001b[0mverbose\u001b[0m\u001b[0;34m=\u001b[0m\u001b[0;36m1\u001b[0m\u001b[0;34m)\u001b[0m\u001b[0;34m\u001b[0m\u001b[0;34m\u001b[0m\u001b[0m\n\u001b[0m\u001b[1;32m     91\u001b[0m   \u001b[0;32melse\u001b[0m\u001b[0;34m:\u001b[0m\u001b[0;34m\u001b[0m\u001b[0;34m\u001b[0m\u001b[0m\n\u001b[1;32m     92\u001b[0m     \u001b[0mhistory\u001b[0m \u001b[0;34m=\u001b[0m \u001b[0mmodel\u001b[0m\u001b[0;34m.\u001b[0m\u001b[0mfit\u001b[0m\u001b[0;34m(\u001b[0m\u001b[0mx_train\u001b[0m\u001b[0;34m,\u001b[0m \u001b[0my_train\u001b[0m\u001b[0;34m,\u001b[0m \u001b[0mepochs\u001b[0m\u001b[0;34m=\u001b[0m\u001b[0mepochs\u001b[0m\u001b[0;34m,\u001b[0m \u001b[0mverbose\u001b[0m\u001b[0;34m=\u001b[0m\u001b[0;36m1\u001b[0m\u001b[0;34m)\u001b[0m\u001b[0;34m\u001b[0m\u001b[0;34m\u001b[0m\u001b[0m\n",
            "\u001b[0;32m~/opt/anaconda3/lib/python3.8/site-packages/keras/utils/traceback_utils.py\u001b[0m in \u001b[0;36merror_handler\u001b[0;34m(*args, **kwargs)\u001b[0m\n\u001b[1;32m     62\u001b[0m     \u001b[0mfiltered_tb\u001b[0m \u001b[0;34m=\u001b[0m \u001b[0;32mNone\u001b[0m\u001b[0;34m\u001b[0m\u001b[0;34m\u001b[0m\u001b[0m\n\u001b[1;32m     63\u001b[0m     \u001b[0;32mtry\u001b[0m\u001b[0;34m:\u001b[0m\u001b[0;34m\u001b[0m\u001b[0;34m\u001b[0m\u001b[0m\n\u001b[0;32m---> 64\u001b[0;31m       \u001b[0;32mreturn\u001b[0m \u001b[0mfn\u001b[0m\u001b[0;34m(\u001b[0m\u001b[0;34m*\u001b[0m\u001b[0margs\u001b[0m\u001b[0;34m,\u001b[0m \u001b[0;34m**\u001b[0m\u001b[0mkwargs\u001b[0m\u001b[0;34m)\u001b[0m\u001b[0;34m\u001b[0m\u001b[0;34m\u001b[0m\u001b[0m\n\u001b[0m\u001b[1;32m     65\u001b[0m     \u001b[0;32mexcept\u001b[0m \u001b[0mException\u001b[0m \u001b[0;32mas\u001b[0m \u001b[0me\u001b[0m\u001b[0;34m:\u001b[0m  \u001b[0;31m# pylint: disable=broad-except\u001b[0m\u001b[0;34m\u001b[0m\u001b[0;34m\u001b[0m\u001b[0m\n\u001b[1;32m     66\u001b[0m       \u001b[0mfiltered_tb\u001b[0m \u001b[0;34m=\u001b[0m \u001b[0m_process_traceback_frames\u001b[0m\u001b[0;34m(\u001b[0m\u001b[0me\u001b[0m\u001b[0;34m.\u001b[0m\u001b[0m__traceback__\u001b[0m\u001b[0;34m)\u001b[0m\u001b[0;34m\u001b[0m\u001b[0;34m\u001b[0m\u001b[0m\n",
            "\u001b[0;32m~/opt/anaconda3/lib/python3.8/site-packages/keras/engine/training.py\u001b[0m in \u001b[0;36mfit\u001b[0;34m(self, x, y, batch_size, epochs, verbose, callbacks, validation_split, validation_data, shuffle, class_weight, sample_weight, initial_epoch, steps_per_epoch, validation_steps, validation_batch_size, validation_freq, max_queue_size, workers, use_multiprocessing)\u001b[0m\n\u001b[1;32m   1214\u001b[0m                 _r=1):\n\u001b[1;32m   1215\u001b[0m               \u001b[0mcallbacks\u001b[0m\u001b[0;34m.\u001b[0m\u001b[0mon_train_batch_begin\u001b[0m\u001b[0;34m(\u001b[0m\u001b[0mstep\u001b[0m\u001b[0;34m)\u001b[0m\u001b[0;34m\u001b[0m\u001b[0;34m\u001b[0m\u001b[0m\n\u001b[0;32m-> 1216\u001b[0;31m               \u001b[0mtmp_logs\u001b[0m \u001b[0;34m=\u001b[0m \u001b[0mself\u001b[0m\u001b[0;34m.\u001b[0m\u001b[0mtrain_function\u001b[0m\u001b[0;34m(\u001b[0m\u001b[0miterator\u001b[0m\u001b[0;34m)\u001b[0m\u001b[0;34m\u001b[0m\u001b[0;34m\u001b[0m\u001b[0m\n\u001b[0m\u001b[1;32m   1217\u001b[0m               \u001b[0;32mif\u001b[0m \u001b[0mdata_handler\u001b[0m\u001b[0;34m.\u001b[0m\u001b[0mshould_sync\u001b[0m\u001b[0;34m:\u001b[0m\u001b[0;34m\u001b[0m\u001b[0;34m\u001b[0m\u001b[0m\n\u001b[1;32m   1218\u001b[0m                 \u001b[0mcontext\u001b[0m\u001b[0;34m.\u001b[0m\u001b[0masync_wait\u001b[0m\u001b[0;34m(\u001b[0m\u001b[0;34m)\u001b[0m\u001b[0;34m\u001b[0m\u001b[0;34m\u001b[0m\u001b[0m\n",
            "\u001b[0;32m~/opt/anaconda3/lib/python3.8/site-packages/tensorflow/python/util/traceback_utils.py\u001b[0m in \u001b[0;36merror_handler\u001b[0;34m(*args, **kwargs)\u001b[0m\n\u001b[1;32m    148\u001b[0m     \u001b[0mfiltered_tb\u001b[0m \u001b[0;34m=\u001b[0m \u001b[0;32mNone\u001b[0m\u001b[0;34m\u001b[0m\u001b[0;34m\u001b[0m\u001b[0m\n\u001b[1;32m    149\u001b[0m     \u001b[0;32mtry\u001b[0m\u001b[0;34m:\u001b[0m\u001b[0;34m\u001b[0m\u001b[0;34m\u001b[0m\u001b[0m\n\u001b[0;32m--> 150\u001b[0;31m       \u001b[0;32mreturn\u001b[0m \u001b[0mfn\u001b[0m\u001b[0;34m(\u001b[0m\u001b[0;34m*\u001b[0m\u001b[0margs\u001b[0m\u001b[0;34m,\u001b[0m \u001b[0;34m**\u001b[0m\u001b[0mkwargs\u001b[0m\u001b[0;34m)\u001b[0m\u001b[0;34m\u001b[0m\u001b[0;34m\u001b[0m\u001b[0m\n\u001b[0m\u001b[1;32m    151\u001b[0m     \u001b[0;32mexcept\u001b[0m \u001b[0mException\u001b[0m \u001b[0;32mas\u001b[0m \u001b[0me\u001b[0m\u001b[0;34m:\u001b[0m\u001b[0;34m\u001b[0m\u001b[0;34m\u001b[0m\u001b[0m\n\u001b[1;32m    152\u001b[0m       \u001b[0mfiltered_tb\u001b[0m \u001b[0;34m=\u001b[0m \u001b[0m_process_traceback_frames\u001b[0m\u001b[0;34m(\u001b[0m\u001b[0me\u001b[0m\u001b[0;34m.\u001b[0m\u001b[0m__traceback__\u001b[0m\u001b[0;34m)\u001b[0m\u001b[0;34m\u001b[0m\u001b[0;34m\u001b[0m\u001b[0m\n",
            "\u001b[0;32m~/opt/anaconda3/lib/python3.8/site-packages/tensorflow/python/eager/def_function.py\u001b[0m in \u001b[0;36m__call__\u001b[0;34m(self, *args, **kwds)\u001b[0m\n\u001b[1;32m    908\u001b[0m \u001b[0;34m\u001b[0m\u001b[0m\n\u001b[1;32m    909\u001b[0m       \u001b[0;32mwith\u001b[0m \u001b[0mOptionalXlaContext\u001b[0m\u001b[0;34m(\u001b[0m\u001b[0mself\u001b[0m\u001b[0;34m.\u001b[0m\u001b[0m_jit_compile\u001b[0m\u001b[0;34m)\u001b[0m\u001b[0;34m:\u001b[0m\u001b[0;34m\u001b[0m\u001b[0;34m\u001b[0m\u001b[0m\n\u001b[0;32m--> 910\u001b[0;31m         \u001b[0mresult\u001b[0m \u001b[0;34m=\u001b[0m \u001b[0mself\u001b[0m\u001b[0;34m.\u001b[0m\u001b[0m_call\u001b[0m\u001b[0;34m(\u001b[0m\u001b[0;34m*\u001b[0m\u001b[0margs\u001b[0m\u001b[0;34m,\u001b[0m \u001b[0;34m**\u001b[0m\u001b[0mkwds\u001b[0m\u001b[0;34m)\u001b[0m\u001b[0;34m\u001b[0m\u001b[0;34m\u001b[0m\u001b[0m\n\u001b[0m\u001b[1;32m    911\u001b[0m \u001b[0;34m\u001b[0m\u001b[0m\n\u001b[1;32m    912\u001b[0m       \u001b[0mnew_tracing_count\u001b[0m \u001b[0;34m=\u001b[0m \u001b[0mself\u001b[0m\u001b[0;34m.\u001b[0m\u001b[0mexperimental_get_tracing_count\u001b[0m\u001b[0;34m(\u001b[0m\u001b[0;34m)\u001b[0m\u001b[0;34m\u001b[0m\u001b[0;34m\u001b[0m\u001b[0m\n",
            "\u001b[0;32m~/opt/anaconda3/lib/python3.8/site-packages/tensorflow/python/eager/def_function.py\u001b[0m in \u001b[0;36m_call\u001b[0;34m(self, *args, **kwds)\u001b[0m\n\u001b[1;32m    940\u001b[0m       \u001b[0;31m# In this case we have created variables on the first call, so we run the\u001b[0m\u001b[0;34m\u001b[0m\u001b[0;34m\u001b[0m\u001b[0;34m\u001b[0m\u001b[0m\n\u001b[1;32m    941\u001b[0m       \u001b[0;31m# defunned version which is guaranteed to never create variables.\u001b[0m\u001b[0;34m\u001b[0m\u001b[0;34m\u001b[0m\u001b[0;34m\u001b[0m\u001b[0m\n\u001b[0;32m--> 942\u001b[0;31m       \u001b[0;32mreturn\u001b[0m \u001b[0mself\u001b[0m\u001b[0;34m.\u001b[0m\u001b[0m_stateless_fn\u001b[0m\u001b[0;34m(\u001b[0m\u001b[0;34m*\u001b[0m\u001b[0margs\u001b[0m\u001b[0;34m,\u001b[0m \u001b[0;34m**\u001b[0m\u001b[0mkwds\u001b[0m\u001b[0;34m)\u001b[0m  \u001b[0;31m# pylint: disable=not-callable\u001b[0m\u001b[0;34m\u001b[0m\u001b[0;34m\u001b[0m\u001b[0m\n\u001b[0m\u001b[1;32m    943\u001b[0m     \u001b[0;32melif\u001b[0m \u001b[0mself\u001b[0m\u001b[0;34m.\u001b[0m\u001b[0m_stateful_fn\u001b[0m \u001b[0;32mis\u001b[0m \u001b[0;32mnot\u001b[0m \u001b[0;32mNone\u001b[0m\u001b[0;34m:\u001b[0m\u001b[0;34m\u001b[0m\u001b[0;34m\u001b[0m\u001b[0m\n\u001b[1;32m    944\u001b[0m       \u001b[0;31m# Release the lock early so that multiple threads can perform the call\u001b[0m\u001b[0;34m\u001b[0m\u001b[0;34m\u001b[0m\u001b[0;34m\u001b[0m\u001b[0m\n",
            "\u001b[0;32m~/opt/anaconda3/lib/python3.8/site-packages/tensorflow/python/eager/function.py\u001b[0m in \u001b[0;36m__call__\u001b[0;34m(self, *args, **kwargs)\u001b[0m\n\u001b[1;32m   3128\u001b[0m       (graph_function,\n\u001b[1;32m   3129\u001b[0m        filtered_flat_args) = self._maybe_define_function(args, kwargs)\n\u001b[0;32m-> 3130\u001b[0;31m     return graph_function._call_flat(\n\u001b[0m\u001b[1;32m   3131\u001b[0m         filtered_flat_args, captured_inputs=graph_function.captured_inputs)  # pylint: disable=protected-access\n\u001b[1;32m   3132\u001b[0m \u001b[0;34m\u001b[0m\u001b[0m\n",
            "\u001b[0;32m~/opt/anaconda3/lib/python3.8/site-packages/tensorflow/python/eager/function.py\u001b[0m in \u001b[0;36m_call_flat\u001b[0;34m(self, args, captured_inputs, cancellation_manager)\u001b[0m\n\u001b[1;32m   1957\u001b[0m         and executing_eagerly):\n\u001b[1;32m   1958\u001b[0m       \u001b[0;31m# No tape is watching; skip to running the function.\u001b[0m\u001b[0;34m\u001b[0m\u001b[0;34m\u001b[0m\u001b[0;34m\u001b[0m\u001b[0m\n\u001b[0;32m-> 1959\u001b[0;31m       return self._build_call_outputs(self._inference_function.call(\n\u001b[0m\u001b[1;32m   1960\u001b[0m           ctx, args, cancellation_manager=cancellation_manager))\n\u001b[1;32m   1961\u001b[0m     forward_backward = self._select_forward_and_backward_functions(\n",
            "\u001b[0;32m~/opt/anaconda3/lib/python3.8/site-packages/tensorflow/python/eager/function.py\u001b[0m in \u001b[0;36mcall\u001b[0;34m(self, ctx, args, cancellation_manager)\u001b[0m\n\u001b[1;32m    596\u001b[0m       \u001b[0;32mwith\u001b[0m \u001b[0m_InterpolateFunctionError\u001b[0m\u001b[0;34m(\u001b[0m\u001b[0mself\u001b[0m\u001b[0;34m)\u001b[0m\u001b[0;34m:\u001b[0m\u001b[0;34m\u001b[0m\u001b[0;34m\u001b[0m\u001b[0m\n\u001b[1;32m    597\u001b[0m         \u001b[0;32mif\u001b[0m \u001b[0mcancellation_manager\u001b[0m \u001b[0;32mis\u001b[0m \u001b[0;32mNone\u001b[0m\u001b[0;34m:\u001b[0m\u001b[0;34m\u001b[0m\u001b[0;34m\u001b[0m\u001b[0m\n\u001b[0;32m--> 598\u001b[0;31m           outputs = execute.execute(\n\u001b[0m\u001b[1;32m    599\u001b[0m               \u001b[0mstr\u001b[0m\u001b[0;34m(\u001b[0m\u001b[0mself\u001b[0m\u001b[0;34m.\u001b[0m\u001b[0msignature\u001b[0m\u001b[0;34m.\u001b[0m\u001b[0mname\u001b[0m\u001b[0;34m)\u001b[0m\u001b[0;34m,\u001b[0m\u001b[0;34m\u001b[0m\u001b[0;34m\u001b[0m\u001b[0m\n\u001b[1;32m    600\u001b[0m               \u001b[0mnum_outputs\u001b[0m\u001b[0;34m=\u001b[0m\u001b[0mself\u001b[0m\u001b[0;34m.\u001b[0m\u001b[0m_num_outputs\u001b[0m\u001b[0;34m,\u001b[0m\u001b[0;34m\u001b[0m\u001b[0;34m\u001b[0m\u001b[0m\n",
            "\u001b[0;32m~/opt/anaconda3/lib/python3.8/site-packages/tensorflow/python/eager/execute.py\u001b[0m in \u001b[0;36mquick_execute\u001b[0;34m(op_name, num_outputs, inputs, attrs, ctx, name)\u001b[0m\n\u001b[1;32m     56\u001b[0m   \u001b[0;32mtry\u001b[0m\u001b[0;34m:\u001b[0m\u001b[0;34m\u001b[0m\u001b[0;34m\u001b[0m\u001b[0m\n\u001b[1;32m     57\u001b[0m     \u001b[0mctx\u001b[0m\u001b[0;34m.\u001b[0m\u001b[0mensure_initialized\u001b[0m\u001b[0;34m(\u001b[0m\u001b[0;34m)\u001b[0m\u001b[0;34m\u001b[0m\u001b[0;34m\u001b[0m\u001b[0m\n\u001b[0;32m---> 58\u001b[0;31m     tensors = pywrap_tfe.TFE_Py_Execute(ctx._handle, device_name, op_name,\n\u001b[0m\u001b[1;32m     59\u001b[0m                                         inputs, attrs, num_outputs)\n\u001b[1;32m     60\u001b[0m   \u001b[0;32mexcept\u001b[0m \u001b[0mcore\u001b[0m\u001b[0;34m.\u001b[0m\u001b[0m_NotOkStatusException\u001b[0m \u001b[0;32mas\u001b[0m \u001b[0me\u001b[0m\u001b[0;34m:\u001b[0m\u001b[0;34m\u001b[0m\u001b[0;34m\u001b[0m\u001b[0m\n",
            "\u001b[0;31mKeyboardInterrupt\u001b[0m: "
          ]
        }
      ],
      "source": [
        "model, X_train_0, X_valid_0, X_test_0 = model_fit_transform(model, X_train, X_train, X_valid, X_valid, X_test, X_test)"
      ]
    },
    {
      "cell_type": "code",
      "execution_count": null,
      "metadata": {},
      "outputs": [
        {
          "ename": "NameError",
          "evalue": "name 'history' is not defined",
          "output_type": "error",
          "traceback": [
            "\u001b[0;31m---------------------------------------------------------------------------\u001b[0m",
            "\u001b[0;31mNameError\u001b[0m                                 Traceback (most recent call last)",
            "\u001b[0;32m<ipython-input-16-1f67ec866379>\u001b[0m in \u001b[0;36m<module>\u001b[0;34m\u001b[0m\n\u001b[1;32m      5\u001b[0m \u001b[0mplt\u001b[0m\u001b[0;34m.\u001b[0m\u001b[0mfigure\u001b[0m\u001b[0;34m(\u001b[0m\u001b[0;34m)\u001b[0m\u001b[0;34m\u001b[0m\u001b[0;34m\u001b[0m\u001b[0m\n\u001b[1;32m      6\u001b[0m \u001b[0;34m\u001b[0m\u001b[0m\n\u001b[0;32m----> 7\u001b[0;31m \u001b[0mplt\u001b[0m\u001b[0;34m.\u001b[0m\u001b[0mplot\u001b[0m\u001b[0;34m(\u001b[0m\u001b[0mepochs\u001b[0m\u001b[0;34m,\u001b[0m \u001b[0mhistory\u001b[0m\u001b[0;34m.\u001b[0m\u001b[0mhistory\u001b[0m\u001b[0;34m[\u001b[0m\u001b[0;34m'loss'\u001b[0m\u001b[0;34m]\u001b[0m\u001b[0;34m,\u001b[0m \u001b[0;34m'-'\u001b[0m\u001b[0;34m,\u001b[0m \u001b[0mlabel\u001b[0m\u001b[0;34m=\u001b[0m\u001b[0;34m'Training loss'\u001b[0m\u001b[0;34m)\u001b[0m\u001b[0;34m\u001b[0m\u001b[0;34m\u001b[0m\u001b[0m\n\u001b[0m\u001b[1;32m      8\u001b[0m \u001b[0mplt\u001b[0m\u001b[0;34m.\u001b[0m\u001b[0mplot\u001b[0m\u001b[0;34m(\u001b[0m\u001b[0mepochs\u001b[0m\u001b[0;34m,\u001b[0m \u001b[0mhistory\u001b[0m\u001b[0;34m.\u001b[0m\u001b[0mhistory\u001b[0m\u001b[0;34m[\u001b[0m\u001b[0;34m'val_loss'\u001b[0m\u001b[0;34m]\u001b[0m\u001b[0;34m,\u001b[0m \u001b[0;34m'--'\u001b[0m\u001b[0;34m,\u001b[0m \u001b[0mlabel\u001b[0m\u001b[0;34m=\u001b[0m\u001b[0;34m'Validation loss'\u001b[0m\u001b[0;34m)\u001b[0m\u001b[0;34m\u001b[0m\u001b[0;34m\u001b[0m\u001b[0m\n\u001b[1;32m      9\u001b[0m \u001b[0mplt\u001b[0m\u001b[0;34m.\u001b[0m\u001b[0mtitle\u001b[0m\u001b[0;34m(\u001b[0m\u001b[0;34m'Training and validation loss'\u001b[0m\u001b[0;34m)\u001b[0m\u001b[0;34m\u001b[0m\u001b[0;34m\u001b[0m\u001b[0m\n",
            "\u001b[0;31mNameError\u001b[0m: name 'history' is not defined"
          ]
        },
        {
          "data": {
            "text/plain": [
              "<Figure size 432x288 with 0 Axes>"
            ]
          },
          "metadata": {},
          "output_type": "display_data"
        }
      ],
      "source": [
        "# Plot accuracy and report test error\n",
        "epochs = range(1,11)\n",
        "\n",
        "plt.figure()\n",
        "plt.plot(epochs, history.history['loss'], '-', label='Training loss')\n",
        "plt.plot(epochs, history.history['val_loss'], '--', label='Validation loss')\n",
        "plt.title('Training and validation loss')\n",
        "plt.legend()\n",
        "plt.show()\n",
        "\n",
        "# We get a loss of 0 on the test set? Seems to good to be true...\n",
        "print(f'Test set loss: {model.evaluate(X_test)[0]}')"
      ]
    },
    {
      "cell_type": "code",
      "execution_count": 10,
      "metadata": {
        "colab": {
          "base_uri": "https://localhost:8080/",
          "height": 265
        },
        "id": "d-drM6hCxIg9",
        "outputId": "f44a1ef1-c055-474e-e3f8-57009a3d7c05"
      },
      "outputs": [
        {
          "name": "stderr",
          "output_type": "stream",
          "text": [
            "/usr/local/lib/python3.7/dist-packages/ipykernel_launcher.py:4: MatplotlibDeprecationWarning: Adding an axes using the same arguments as a previous axes currently reuses the earlier instance.  In a future version, a new instance will always be created and returned.  Meanwhile, this warning can be suppressed, and the future behavior ensured, by passing a unique label to each axes instance.\n",
            "  after removing the cwd from sys.path.\n",
            "Clipping input data to the valid range for imshow with RGB data ([0..1] for floats or [0..255] for integers).\n",
            "/usr/local/lib/python3.7/dist-packages/ipykernel_launcher.py:11: MatplotlibDeprecationWarning: Adding an axes using the same arguments as a previous axes currently reuses the earlier instance.  In a future version, a new instance will always be created and returned.  Meanwhile, this warning can be suppressed, and the future behavior ensured, by passing a unique label to each axes instance.\n",
            "  # This is added back by InteractiveShellApp.init_path()\n"
          ]
        },
        {
          "data": {
            "image/png": "[encoded data removed]",
            "text/plain": [
              "<Figure size 432x288 with 2 Axes>"
            ]
          },
          "metadata": {
            "needs_background": "light"
          },
          "output_type": "display_data"
        }
      ],
      "source": [
        "img_compare(X_test[0], X_test_0[0])"
      ]
    },
    {
      "cell_type": "markdown",
      "metadata": {},
      "source": [
        "## 1. What is the size of the latent space representation of the above network?\n",
        "\n",
        "These following are the numbers for the variables of the last convultion layer (i.e. the latent space)\n",
        "\n",
        "Input volume = 8 (8x8)\\\n",
        "Kernel size = 3 (3x3)\\\n",
        "Padding = 1\\\n",
        "Stride = 1\\\n",
        "Channels = 16\n",
        "\n",
        "Size of latent space = $(\\frac{8-3+2\\cdot 1}{1}+1)^2\\cdot 16$ = 1024"
      ]
    },
    {
      "cell_type": "markdown",
      "metadata": {
        "id": "Dk7OIlU9gh7i"
      },
      "source": [
        "## 2. Try other architectures (e.g. fewer intermediate layers, different number of channels, filter sizes or stride and padding configurations) to answer questions such as: What is the impact of those in the reconstruction error after training? Is there an obvious correlation between the size of the latent space representation and the error?"
      ]
    },
    {
      "cell_type": "markdown",
      "metadata": {
        "id": "r3MIas3HhASx"
      },
      "source": [
        "### drastically improving Filter size "
      ]
    },
    {
      "cell_type": "code",
      "execution_count": 8,
      "metadata": {
        "id": "-HIQVHZ9gvZj"
      },
      "outputs": [],
      "source": [
        "model_layout01 = Sequential()\n",
        "model_layout01.add(Input(shape=sample_shape))\n",
        "model_layout01.add(Conv2D(128, kernel_size = (3,3), padding='same',  activation='relu'))\n",
        "model_layout01.add(Conv2D(92, kernel_size = (3,3), padding='same',  activation='relu'))\n",
        "model_layout01.add(MaxPooling2D(pool_size = (2,2)))\n",
        "model_layout01.add(Conv2D(78, kernel_size = (3,3), padding='same', activation='relu'))\n",
        "model_layout01.add(MaxPooling2D(pool_size = (2,2)))\n",
        "model_layout01.add(Conv2D(64, kernel_size = (3,3), padding='same', activation='relu'))\n",
        "\n",
        "model_layout01.add(UpSampling2D(size=(2,2)))\n",
        "model_layout01.add(Conv2D(32,kernel_size = (3,3), padding='same', activation='relu'))\n",
        "model_layout01.add(Conv2D(24,kernel_size = (3,3), padding='same', activation='relu'))\n",
        "model_layout01.add(Conv2D(16,kernel_size = (3,3), padding='same', activation='relu'))\n",
        "\n",
        "model_layout01.add(UpSampling2D())\n",
        "model_layout01.add(Conv2D(8,kernel_size = (3,3), padding='same', activation='relu'))\n",
        "model_layout01.add(Conv2D(3,(3,3), padding='same', activation='relu'))\n",
        "\n",
        "model_layout01.compile(\n",
        "    optimizer=keras.optimizers.Adam(learning_rate=1e-3),\n",
        "    loss=keras.losses.MeanSquaredError(),\n",
        "    metrics=[keras.metrics.MeanAbsoluteError(),\n",
        "            keras.metrics.CosineSimilarity()])\n"
      ]
    },
    {
      "cell_type": "code",
      "execution_count": 14,
      "metadata": {
        "colab": {
          "base_uri": "https://localhost:8080/"
        },
        "id": "j3nJzjmog0N-",
        "outputId": "e9459a07-7a0c-479d-8d83-15dc521eed44"
      },
      "outputs": [
        {
          "name": "stdout",
          "output_type": "stream",
          "text": [
            "Model: \"sequential_1\"\n",
            "_________________________________________________________________\n",
            "Layer (type)                 Output Shape              Param #   \n",
            "=================================================================\n",
            "conv2d_1 (Conv2D)            (None, 32, 32, 128)       3584      \n",
            "_________________________________________________________________\n",
            "conv2d_2 (Conv2D)            (None, 32, 32, 92)        106076    \n",
            "_________________________________________________________________\n",
            "max_pooling2d (MaxPooling2D) (None, 16, 16, 92)        0         \n",
            "_________________________________________________________________\n",
            "conv2d_3 (Conv2D)            (None, 16, 16, 78)        64662     \n",
            "_________________________________________________________________\n",
            "max_pooling2d_1 (MaxPooling2 (None, 8, 8, 78)          0         \n",
            "_________________________________________________________________\n",
            "conv2d_4 (Conv2D)            (None, 8, 8, 64)          44992     \n",
            "_________________________________________________________________\n",
            "up_sampling2d (UpSampling2D) (None, 16, 16, 64)        0         \n",
            "_________________________________________________________________\n",
            "conv2d_5 (Conv2D)            (None, 16, 16, 32)        18464     \n",
            "_________________________________________________________________\n",
            "conv2d_6 (Conv2D)            (None, 16, 16, 24)        6936      \n",
            "_________________________________________________________________\n",
            "conv2d_7 (Conv2D)            (None, 16, 16, 16)        3472      \n",
            "_________________________________________________________________\n",
            "up_sampling2d_1 (UpSampling2 (None, 32, 32, 16)        0         \n",
            "_________________________________________________________________\n",
            "conv2d_8 (Conv2D)            (None, 32, 32, 8)         1160      \n",
            "_________________________________________________________________\n",
            "conv2d_9 (Conv2D)            (None, 32, 32, 3)         219       \n",
            "=================================================================\n",
            "Total params: 249,565\n",
            "Trainable params: 249,565\n",
            "Non-trainable params: 0\n",
            "_________________________________________________________________\n",
            "Epoch 1/20\n",
            "1500/1500 [==============================] - 39s 25ms/step - loss: 0.0106 - mean_absolute_error: 0.0644 - cosine_similarity: 0.9845 - val_loss: 0.0038 - val_mean_absolute_error: 0.0442 - val_cosine_similarity: 0.9919\n",
            "Epoch 2/20\n",
            "1500/1500 [==============================] - 37s 25ms/step - loss: 0.0034 - mean_absolute_error: 0.0419 - cosine_similarity: 0.9928 - val_loss: 0.0028 - val_mean_absolute_error: 0.0378 - val_cosine_similarity: 0.9928\n",
            "Epoch 3/20\n",
            "1500/1500 [==============================] - 37s 25ms/step - loss: 0.0026 - mean_absolute_error: 0.0366 - cosine_similarity: 0.9931 - val_loss: 0.0021 - val_mean_absolute_error: 0.0334 - val_cosine_similarity: 0.9937\n",
            "Epoch 4/20\n",
            "1500/1500 [==============================] - 37s 25ms/step - loss: 0.0021 - mean_absolute_error: 0.0330 - cosine_similarity: 0.9933 - val_loss: 0.0020 - val_mean_absolute_error: 0.0322 - val_cosine_similarity: 0.9928\n",
            "Epoch 5/20\n",
            "1500/1500 [==============================] - 37s 25ms/step - loss: 0.0018 - mean_absolute_error: 0.0310 - cosine_similarity: 0.9934 - val_loss: 0.0016 - val_mean_absolute_error: 0.0288 - val_cosine_similarity: 0.9931\n",
            "Epoch 6/20\n",
            "1500/1500 [==============================] - 37s 25ms/step - loss: 0.0017 - mean_absolute_error: 0.0299 - cosine_similarity: 0.9934 - val_loss: 0.0016 - val_mean_absolute_error: 0.0288 - val_cosine_similarity: 0.9936\n",
            "Epoch 7/20\n",
            "1500/1500 [==============================] - 37s 25ms/step - loss: 0.0015 - mean_absolute_error: 0.0280 - cosine_similarity: 0.9936 - val_loss: 0.0014 - val_mean_absolute_error: 0.0275 - val_cosine_similarity: 0.9941\n",
            "Epoch 8/20\n",
            "1500/1500 [==============================] - 37s 25ms/step - loss: 0.0014 - mean_absolute_error: 0.0274 - cosine_similarity: 0.9936 - val_loss: 0.0013 - val_mean_absolute_error: 0.0256 - val_cosine_similarity: 0.9934\n",
            "Epoch 9/20\n",
            "1500/1500 [==============================] - 37s 25ms/step - loss: 0.0013 - mean_absolute_error: 0.0265 - cosine_similarity: 0.9937 - val_loss: 0.0012 - val_mean_absolute_error: 0.0248 - val_cosine_similarity: 0.9936\n",
            "Epoch 10/20\n",
            "1500/1500 [==============================] - 37s 25ms/step - loss: 0.0013 - mean_absolute_error: 0.0261 - cosine_similarity: 0.9937 - val_loss: 0.0012 - val_mean_absolute_error: 0.0253 - val_cosine_similarity: 0.9930\n",
            "Epoch 11/20\n",
            "1500/1500 [==============================] - 37s 25ms/step - loss: 0.0012 - mean_absolute_error: 0.0252 - cosine_similarity: 0.9937 - val_loss: 0.0012 - val_mean_absolute_error: 0.0260 - val_cosine_similarity: 0.9928\n",
            "Epoch 12/20\n",
            "1500/1500 [==============================] - 37s 25ms/step - loss: 0.0012 - mean_absolute_error: 0.0249 - cosine_similarity: 0.9936 - val_loss: 0.0011 - val_mean_absolute_error: 0.0238 - val_cosine_similarity: 0.9942\n",
            "Epoch 13/20\n",
            "1500/1500 [==============================] - 37s 25ms/step - loss: 0.0013 - mean_absolute_error: 0.0254 - cosine_similarity: 0.9930 - val_loss: 0.0012 - val_mean_absolute_error: 0.0251 - val_cosine_similarity: 0.9923\n",
            "Epoch 14/20\n",
            "1500/1500 [==============================] - 37s 25ms/step - loss: 0.0011 - mean_absolute_error: 0.0243 - cosine_similarity: 0.9930 - val_loss: 0.0010 - val_mean_absolute_error: 0.0230 - val_cosine_similarity: 0.9928\n",
            "Epoch 15/20\n",
            "1500/1500 [==============================] - 37s 25ms/step - loss: 0.0011 - mean_absolute_error: 0.0240 - cosine_similarity: 0.9932 - val_loss: 0.0013 - val_mean_absolute_error: 0.0275 - val_cosine_similarity: 0.9923\n",
            "Epoch 16/20\n",
            "1500/1500 [==============================] - 37s 25ms/step - loss: 0.0011 - mean_absolute_error: 0.0236 - cosine_similarity: 0.9932 - val_loss: 0.0016 - val_mean_absolute_error: 0.0305 - val_cosine_similarity: 0.9950\n",
            "Epoch 17/20\n",
            "1500/1500 [==============================] - 37s 25ms/step - loss: 0.0010 - mean_absolute_error: 0.0233 - cosine_similarity: 0.9933 - val_loss: 0.0010 - val_mean_absolute_error: 0.0234 - val_cosine_similarity: 0.9929\n",
            "Epoch 18/20\n",
            "1500/1500 [==============================] - 37s 25ms/step - loss: 0.0010 - mean_absolute_error: 0.0231 - cosine_similarity: 0.9933 - val_loss: 9.3887e-04 - val_mean_absolute_error: 0.0219 - val_cosine_similarity: 0.9929\n",
            "Epoch 19/20\n",
            "1500/1500 [==============================] - 37s 25ms/step - loss: 9.9746e-04 - mean_absolute_error: 0.0229 - cosine_similarity: 0.9934 - val_loss: 9.0783e-04 - val_mean_absolute_error: 0.0214 - val_cosine_similarity: 0.9937\n",
            "Epoch 20/20\n",
            "1500/1500 [==============================] - 37s 25ms/step - loss: 9.7968e-04 - mean_absolute_error: 0.0227 - cosine_similarity: 0.9934 - val_loss: 9.4764e-04 - val_mean_absolute_error: 0.0221 - val_cosine_similarity: 0.9931\n",
            "188/188 [==============================] - 2s 9ms/step - loss: 9.4764e-04 - mean_absolute_error: 0.0221 - cosine_similarity: 0.9931\n",
            "evaluations for validation set\n",
            "\t loss :  0.0009476419072598219\n",
            "\t mean_absolute_error :  0.02209530584514141\n",
            "\t cosine_similarity :  0.9930588603019714\n",
            "1500/1500 [==============================] - 9s 6ms/step\n",
            "188/188 [==============================] - 1s 6ms/step\n",
            "188/188 [==============================] - 1s 6ms/step\n"
          ]
        }
      ],
      "source": [
        "model_layout01, X_train_1, X_valid_1, X_test_1 = model_fit_transform(model_layout01, X_train, X_valid, X_test, epochs=20)"
      ]
    },
    {
      "cell_type": "code",
      "execution_count": 18,
      "metadata": {
        "colab": {
          "base_uri": "https://localhost:8080/",
          "height": 118
        },
        "id": "GqimFHGk2pHz",
        "outputId": "e3a10096-5bd3-4bf8-f5d0-074a341d71cc"
      },
      "outputs": [
        {
          "name": "stderr",
          "output_type": "stream",
          "text": [
            "/usr/local/lib/python3.7/dist-packages/ipykernel_launcher.py:4: MatplotlibDeprecationWarning: Adding an axes using the same arguments as a previous axes currently reuses the earlier instance.  In a future version, a new instance will always be created and returned.  Meanwhile, this warning can be suppressed, and the future behavior ensured, by passing a unique label to each axes instance.\n",
            "  after removing the cwd from sys.path.\n",
            "/usr/local/lib/python3.7/dist-packages/ipykernel_launcher.py:11: MatplotlibDeprecationWarning: Adding an axes using the same arguments as a previous axes currently reuses the earlier instance.  In a future version, a new instance will always be created and returned.  Meanwhile, this warning can be suppressed, and the future behavior ensured, by passing a unique label to each axes instance.\n",
            "  # This is added back by InteractiveShellApp.init_path()\n"
          ]
        },
        {
          "data": {
            "image/png": "[encoded data removed]",
            "text/plain": [
              "<Figure size 432x288 with 2 Axes>"
            ]
          },
          "metadata": {
            "needs_background": "light"
          },
          "output_type": "display_data"
        }
      ],
      "source": [
        "img_compare(X_test[1], X_test_1[1])"
      ]
    },
    {
      "cell_type": "markdown",
      "metadata": {
        "id": "DsD1KTWX46nu"
      },
      "source": [
        "### using more max_pool to shrink the model further"
      ]
    },
    {
      "cell_type": "code",
      "execution_count": 20,
      "metadata": {
        "colab": {
          "base_uri": "https://localhost:8080/"
        },
        "id": "c6qNv-IX4xOb",
        "outputId": "90e8ff25-9339-41bd-ea78-e6e864a53e15"
      },
      "outputs": [
        {
          "name": "stdout",
          "output_type": "stream",
          "text": [
            "Model: \"sequential_2\"\n",
            "_________________________________________________________________\n",
            "Layer (type)                 Output Shape              Param #   \n",
            "=================================================================\n",
            "conv2d_10 (Conv2D)           (None, 32, 32, 8)         224       \n",
            "_________________________________________________________________\n",
            "max_pooling2d_2 (MaxPooling2 (None, 16, 16, 8)         0         \n",
            "_________________________________________________________________\n",
            "conv2d_11 (Conv2D)           (None, 16, 16, 12)        876       \n",
            "_________________________________________________________________\n",
            "max_pooling2d_3 (MaxPooling2 (None, 8, 8, 12)          0         \n",
            "_________________________________________________________________\n",
            "conv2d_12 (Conv2D)           (None, 8, 8, 16)          1744      \n",
            "_________________________________________________________________\n",
            "max_pooling2d_4 (MaxPooling2 (None, 4, 4, 16)          0         \n",
            "_________________________________________________________________\n",
            "conv2d_13 (Conv2D)           (None, 4, 4, 32)          4640      \n",
            "_________________________________________________________________\n",
            "up_sampling2d_2 (UpSampling2 (None, 8, 8, 32)          0         \n",
            "_________________________________________________________________\n",
            "conv2d_14 (Conv2D)           (None, 8, 8, 16)          4624      \n",
            "_________________________________________________________________\n",
            "up_sampling2d_3 (UpSampling2 (None, 16, 16, 16)        0         \n",
            "_________________________________________________________________\n",
            "conv2d_15 (Conv2D)           (None, 16, 16, 8)         1160      \n",
            "_________________________________________________________________\n",
            "up_sampling2d_4 (UpSampling2 (None, 32, 32, 8)         0         \n",
            "_________________________________________________________________\n",
            "conv2d_16 (Conv2D)           (None, 32, 32, 3)         219       \n",
            "=================================================================\n",
            "Total params: 13,487\n",
            "Trainable params: 13,487\n",
            "Non-trainable params: 0\n",
            "_________________________________________________________________\n"
          ]
        }
      ],
      "source": [
        "model_layout02 = Sequential()\n",
        "model_layout02.add(Input(shape=sample_shape))\n",
        "model_layout02.add(Conv2D(8, kernel_size = (3,3), padding='same',  activation='relu'))\n",
        "model_layout02.add(MaxPooling2D(pool_size = (2,2), padding='same'))\n",
        "model_layout02.add(Conv2D(12, kernel_size = (3,3), padding='same', activation='relu'))\n",
        "model_layout02.add(MaxPooling2D(pool_size = (2,2)))\n",
        "model_layout02.add(Conv2D(16, kernel_size = (3,3), padding='same', activation='relu'))\n",
        "model_layout02.add(MaxPooling2D(pool_size = (2,2)))\n",
        "model_layout02.add(Conv2D(32, kernel_size = (3,3), padding='same', activation='relu'))\n",
        "model_layout02.add(UpSampling2D(size=(2,2)))\n",
        "model_layout02.add(Conv2D(16,kernel_size = (3,3), padding='same', activation='relu'))\n",
        "model_layout02.add(UpSampling2D())\n",
        "model_layout02.add(Conv2D(8,kernel_size = (3,3), padding='same', activation='relu'))\n",
        "model_layout02.add(UpSampling2D())\n",
        "model_layout02.add(Conv2D(3,(3,3), padding='same', activation='relu'))\n",
        "\n",
        "\n",
        "# compile the model_layout02\n",
        "model_layout02.compile(\n",
        "    optimizer=keras.optimizers.Adam(learning_rate=1e-3),\n",
        "    loss=keras.losses.MeanSquaredError(),\n",
        "    metrics=[keras.metrics.MeanAbsoluteError(),\n",
        "            keras.metrics.CosineSimilarity()])\n",
        "\n",
        "model_layout02.summary()"
      ]
    },
    {
      "cell_type": "code",
      "execution_count": null,
      "metadata": {
        "colab": {
          "base_uri": "https://localhost:8080/"
        },
        "id": "S3JEqDqa6MRH",
        "outputId": "04a4df4f-121b-4e42-fe74-f5cd6deda615"
      },
      "outputs": [
        {
          "name": "stdout",
          "output_type": "stream",
          "text": [
            "Model: \"sequential_2\"\n",
            "_________________________________________________________________\n",
            "Layer (type)                 Output Shape              Param #   \n",
            "=================================================================\n",
            "conv2d_10 (Conv2D)           (None, 32, 32, 8)         224       \n",
            "_________________________________________________________________\n",
            "max_pooling2d_2 (MaxPooling2 (None, 16, 16, 8)         0         \n",
            "_________________________________________________________________\n",
            "conv2d_11 (Conv2D)           (None, 16, 16, 12)        876       \n",
            "_________________________________________________________________\n",
            "max_pooling2d_3 (MaxPooling2 (None, 8, 8, 12)          0         \n",
            "_________________________________________________________________\n",
            "conv2d_12 (Conv2D)           (None, 8, 8, 16)          1744      \n",
            "_________________________________________________________________\n",
            "max_pooling2d_4 (MaxPooling2 (None, 4, 4, 16)          0         \n",
            "_________________________________________________________________\n",
            "conv2d_13 (Conv2D)           (None, 4, 4, 32)          4640      \n",
            "_________________________________________________________________\n",
            "up_sampling2d_2 (UpSampling2 (None, 8, 8, 32)          0         \n",
            "_________________________________________________________________\n",
            "conv2d_14 (Conv2D)           (None, 8, 8, 16)          4624      \n",
            "_________________________________________________________________\n",
            "up_sampling2d_3 (UpSampling2 (None, 16, 16, 16)        0         \n",
            "_________________________________________________________________\n",
            "conv2d_15 (Conv2D)           (None, 16, 16, 8)         1160      \n",
            "_________________________________________________________________\n",
            "up_sampling2d_4 (UpSampling2 (None, 32, 32, 8)         0         \n",
            "_________________________________________________________________\n",
            "conv2d_16 (Conv2D)           (None, 32, 32, 3)         219       \n",
            "=================================================================\n",
            "Total params: 13,487\n",
            "Trainable params: 13,487\n",
            "Non-trainable params: 0\n",
            "_________________________________________________________________\n",
            "Epoch 1/10\n",
            "1500/1500 [==============================] - 13s 8ms/step - loss: 0.0200 - mean_absolute_error: 0.1015 - cosine_similarity: 0.9805 - val_loss: 0.0129 - val_mean_absolute_error: 0.0835 - val_cosine_similarity: 0.9880\n",
            "Epoch 2/10\n",
            "1500/1500 [==============================] - 12s 8ms/step - loss: 0.0121 - mean_absolute_error: 0.0808 - cosine_similarity: 0.9888 - val_loss: 0.0115 - val_mean_absolute_error: 0.0785 - val_cosine_similarity: 0.9895\n",
            "Epoch 3/10\n",
            "1500/1500 [==============================] - 12s 8ms/step - loss: 0.0109 - mean_absolute_error: 0.0759 - cosine_similarity: 0.9905 - val_loss: 0.0105 - val_mean_absolute_error: 0.0744 - val_cosine_similarity: 0.9907\n",
            "Epoch 4/10\n",
            "1500/1500 [==============================] - 12s 8ms/step - loss: 0.0102 - mean_absolute_error: 0.0732 - cosine_similarity: 0.9910 - val_loss: 0.0100 - val_mean_absolute_error: 0.0721 - val_cosine_similarity: 0.9909\n",
            "Epoch 5/10\n",
            "1500/1500 [==============================] - 12s 8ms/step - loss: 0.0098 - mean_absolute_error: 0.0713 - cosine_similarity: 0.9913 - val_loss: 0.0097 - val_mean_absolute_error: 0.0712 - val_cosine_similarity: 0.9911\n",
            "Epoch 6/10\n",
            "1500/1500 [==============================] - 12s 8ms/step - loss: 0.0095 - mean_absolute_error: 0.0700 - cosine_similarity: 0.9915 - val_loss: 0.0094 - val_mean_absolute_error: 0.0698 - val_cosine_similarity: 0.9913\n",
            "Epoch 7/10\n",
            "1500/1500 [==============================] - 12s 8ms/step - loss: 0.0092 - mean_absolute_error: 0.0688 - cosine_similarity: 0.9916 - val_loss: 0.0091 - val_mean_absolute_error: 0.0687 - val_cosine_similarity: 0.9911\n",
            "Epoch 8/10\n",
            "1500/1500 [==============================] - 12s 8ms/step - loss: 0.0090 - mean_absolute_error: 0.0679 - cosine_similarity: 0.9916 - val_loss: 0.0091 - val_mean_absolute_error: 0.0686 - val_cosine_similarity: 0.9914\n",
            "Epoch 9/10\n",
            "1500/1500 [==============================] - 12s 8ms/step - loss: 0.0088 - mean_absolute_error: 0.0673 - cosine_similarity: 0.9916 - val_loss: 0.0087 - val_mean_absolute_error: 0.0668 - val_cosine_similarity: 0.9914\n",
            "Epoch 10/10\n",
            "1500/1500 [==============================] - 12s 8ms/step - loss: 0.0086 - mean_absolute_error: 0.0665 - cosine_similarity: 0.9916 - val_loss: 0.0088 - val_mean_absolute_error: 0.0675 - val_cosine_similarity: 0.9911\n",
            "188/188 [==============================] - 1s 5ms/step - loss: 0.0088 - mean_absolute_error: 0.0675 - cosine_similarity: 0.9911\n",
            "evaluations for validation set\n",
            "\t loss :  0.008767552673816681\n",
            "\t mean_absolute_error :  0.0675465315580368\n",
            "\t cosine_similarity :  0.9910891652107239\n",
            "1500/1500 [==============================] - 4s 3ms/step\n"
          ]
        }
      ],
      "source": [
        "model_layout02, X_train_2, X_valid_2, X_test_2 = model_fit_transform(model_layout02, X_train, X_valid, X_test)"
      ]
    },
    {
      "cell_type": "code",
      "execution_count": null,
      "metadata": {
        "id": "YH3yRIjy7fhX"
      },
      "outputs": [],
      "source": [
        "img_compare(X_test[1], X_test_2[1])"
      ]
    },
    {
      "cell_type": "markdown",
      "metadata": {
        "id": "3r-fTe_p7vEm"
      },
      "source": [
        "### trying setup to improve sharpness of the model"
      ]
    },
    {
      "cell_type": "code",
      "execution_count": 13,
      "metadata": {
        "colab": {
          "base_uri": "https://localhost:8080/",
          "height": 1000
        },
        "id": "CW59Wy3r733i",
        "outputId": "83eb4065-f707-4515-df0d-6cc13daae1af"
      },
      "outputs": [
        {
          "data": {
            "application/vnd.google.colaboratory.intrinsic+json": {
              "type": "string"
            },
            "text/plain": [
              "\"\\nfor layer in model_layout03.layers:\\n  # ensure stride = 1 in all layers having stride attribute.\\n  if hasattr(layer, 'strides'):\\n    setattr(layer, 'strides', 1)\\n  if hasattr(layer, 'padding'):\\n    setattr(layer, 'padding', 'same')\\n\\n\""
            ]
          },
          "execution_count": 13,
          "metadata": {},
          "output_type": "execute_result"
        }
      ],
      "source": [
        "model_layout03 = Sequential()\n",
        "model_layout03.add(Input(shape=sample_shape))\n",
        "model_layout03.add(Conv2D(32, kernel_size = (3,3), padding='same',  activation='relu'))\n",
        "model_layout03.add(MaxPooling2D(pool_size = (2,2), padding='same'))\n",
        "model_layout03.add(Conv2D(64, kernel_size = (3,3), padding='same', activation='relu'))\n",
        "model_layout03.add(MaxPooling2D(pool_size = (2,2)))\n",
        "model_layout03.add(Conv2D(128, kernel_size = (3,3), padding='same', activation='relu'))\n",
        "model_layout03.add(UpSampling2D(size=(2,2)))\n",
        "model_layout03.add(Conv2D(64,kernel_size = (3,3), padding='same', activation='relu'))\n",
        "model_layout03.add(UpSampling2D())\n",
        "model_layout03.add(Conv2D(32, kernel_size = (3,3), padding='same',  activation='relu'))\n",
        "model_layout03.add(Conv2D(16, kernel_size = (3,3), padding='same',  activation='relu'))\n",
        "model_layout03.add(Conv2D(3,(3,3), padding='same', activation='sigmoid'))\n",
        "\n",
        "\n",
        "# compile the model_layout03\n",
        "model_layout03.compile(\n",
        "    optimizer=keras.optimizers.Adam(learning_rate=1e-3),\n",
        "    loss=keras.losses.MeanSquaredError(),\n",
        "    metrics=[keras.metrics.MeanAbsoluteError(),\n",
        "            keras.metrics.CosineSimilarity()])\n"
      ]
    },
    {
      "cell_type": "code",
      "execution_count": 15,
      "metadata": {
        "colab": {
          "base_uri": "https://localhost:8080/",
          "height": 1000
        },
        "id": "ykBYQsml9WHv",
        "outputId": "cf002124-b5e6-49f7-b6f8-4f7904df25d1"
      },
      "outputs": [
        {
          "name": "stdout",
          "output_type": "stream",
          "text": [
            "Model: \"sequential_2\"\n",
            "_________________________________________________________________\n",
            "Layer (type)                 Output Shape              Param #   \n",
            "=================================================================\n",
            "conv2d_12 (Conv2D)           (None, 32, 32, 16)        448       \n",
            "_________________________________________________________________\n",
            "max_pooling2d_4 (MaxPooling2 (None, 16, 16, 16)        0         \n",
            "_________________________________________________________________\n",
            "conv2d_13 (Conv2D)           (None, 16, 16, 64)        9280      \n",
            "_________________________________________________________________\n",
            "max_pooling2d_5 (MaxPooling2 (None, 8, 8, 64)          0         \n",
            "_________________________________________________________________\n",
            "conv2d_14 (Conv2D)           (None, 8, 8, 128)         73856     \n",
            "_________________________________________________________________\n",
            "up_sampling2d_4 (UpSampling2 (None, 16, 16, 128)       0         \n",
            "_________________________________________________________________\n",
            "conv2d_15 (Conv2D)           (None, 16, 16, 64)        73792     \n",
            "_________________________________________________________________\n",
            "up_sampling2d_5 (UpSampling2 (None, 32, 32, 64)        0         \n",
            "_________________________________________________________________\n",
            "conv2d_16 (Conv2D)           (None, 32, 32, 32)        18464     \n",
            "_________________________________________________________________\n",
            "conv2d_17 (Conv2D)           (None, 32, 32, 3)         867       \n",
            "=================================================================\n",
            "Total params: 176,707\n",
            "Trainable params: 176,707\n",
            "Non-trainable params: 0\n",
            "_________________________________________________________________\n",
            "Epoch 1/10\n",
            "1500/1500 [==============================] - 25s 17ms/step - loss: 0.0012 - mean_absolute_error: 0.0252 - cosine_similarity: 0.9944 - val_loss: 0.0012 - val_mean_absolute_error: 0.0246 - val_cosine_similarity: 0.9940\n",
            "Epoch 2/10\n",
            "1500/1500 [==============================] - 24s 16ms/step - loss: 0.0012 - mean_absolute_error: 0.0248 - cosine_similarity: 0.9945 - val_loss: 0.0013 - val_mean_absolute_error: 0.0267 - val_cosine_similarity: 0.9941\n",
            "Epoch 3/10\n",
            "1500/1500 [==============================] - 24s 16ms/step - loss: 0.0012 - mean_absolute_error: 0.0245 - cosine_similarity: 0.9945 - val_loss: 0.0011 - val_mean_absolute_error: 0.0234 - val_cosine_similarity: 0.9946\n",
            "Epoch 4/10\n",
            "1500/1500 [==============================] - 25s 17ms/step - loss: 0.0011 - mean_absolute_error: 0.0242 - cosine_similarity: 0.9946 - val_loss: 0.0012 - val_mean_absolute_error: 0.0252 - val_cosine_similarity: 0.9945\n",
            "Epoch 5/10\n",
            "1500/1500 [==============================] - 25s 16ms/step - loss: 0.0011 - mean_absolute_error: 0.0240 - cosine_similarity: 0.9946 - val_loss: 0.0010 - val_mean_absolute_error: 0.0227 - val_cosine_similarity: 0.9943\n",
            "Epoch 6/10\n",
            "1500/1500 [==============================] - 25s 17ms/step - loss: 0.0011 - mean_absolute_error: 0.0237 - cosine_similarity: 0.9946 - val_loss: 0.0010 - val_mean_absolute_error: 0.0227 - val_cosine_similarity: 0.9951\n",
            "Epoch 7/10\n",
            "1500/1500 [==============================] - 25s 16ms/step - loss: 0.0011 - mean_absolute_error: 0.0235 - cosine_similarity: 0.9946 - val_loss: 0.0010 - val_mean_absolute_error: 0.0229 - val_cosine_similarity: 0.9949\n",
            "Epoch 8/10\n",
            "1500/1500 [==============================] - 25s 16ms/step - loss: 0.0011 - mean_absolute_error: 0.0233 - cosine_similarity: 0.9947 - val_loss: 0.0017 - val_mean_absolute_error: 0.0321 - val_cosine_similarity: 0.9956\n",
            "Epoch 9/10\n",
            "1500/1500 [==============================] - 24s 16ms/step - loss: 0.0011 - mean_absolute_error: 0.0231 - cosine_similarity: 0.9947 - val_loss: 0.0010 - val_mean_absolute_error: 0.0230 - val_cosine_similarity: 0.9948\n",
            "Epoch 10/10\n",
            "1500/1500 [==============================] - 24s 16ms/step - loss: 0.0010 - mean_absolute_error: 0.0230 - cosine_similarity: 0.9947 - val_loss: 0.0010 - val_mean_absolute_error: 0.0225 - val_cosine_similarity: 0.9951\n",
            "188/188 [==============================] - 2s 9ms/step - loss: 0.0010 - mean_absolute_error: 0.0225 - cosine_similarity: 0.9951\n",
            "evaluations for validation set\n",
            "\t loss :  0.0010001210030168295\n",
            "\t mean_absolute_error :  0.02246539294719696\n",
            "\t cosine_similarity :  0.9951227307319641\n",
            "1500/1500 [==============================] - 6s 4ms/step\n",
            "188/188 [==============================] - 1s 4ms/step\n",
            "188/188 [==============================] - 1s 4ms/step\n"
          ]
        },
        {
          "name": "stderr",
          "output_type": "stream",
          "text": [
            "/usr/local/lib/python3.7/dist-packages/ipykernel_launcher.py:4: MatplotlibDeprecationWarning: Adding an axes using the same arguments as a previous axes currently reuses the earlier instance.  In a future version, a new instance will always be created and returned.  Meanwhile, this warning can be suppressed, and the future behavior ensured, by passing a unique label to each axes instance.\n",
            "  after removing the cwd from sys.path.\n",
            "Clipping input data to the valid range for imshow with RGB data ([0..1] for floats or [0..255] for integers).\n",
            "/usr/local/lib/python3.7/dist-packages/ipykernel_launcher.py:11: MatplotlibDeprecationWarning: Adding an axes using the same arguments as a previous axes currently reuses the earlier instance.  In a future version, a new instance will always be created and returned.  Meanwhile, this warning can be suppressed, and the future behavior ensured, by passing a unique label to each axes instance.\n",
            "  # This is added back by InteractiveShellApp.init_path()\n"
          ]
        },
        {
          "data": {
            "image/png": "[encoded data removed]",
            "text/plain": [
              "<Figure size 432x288 with 2 Axes>"
            ]
          },
          "metadata": {
            "needs_background": "light"
          },
          "output_type": "display_data"
        }
      ],
      "source": [
        "model_layout03, X_train_3, X_valid_3, X_test_3 = model_fit_transform(model_layout03, X_train, X_valid, X_test)\n",
        "img_compare(X_test[0], X_test_3[0])"
      ]
    },
    {
      "cell_type": "markdown",
      "metadata": {
        "id": "0NwWgxYUCeDr"
      },
      "source": [
        "### model with only 1 conv. filters"
      ]
    },
    {
      "cell_type": "code",
      "execution_count": 9,
      "metadata": {
        "id": "YEdI4X0XCdL0"
      },
      "outputs": [],
      "source": [
        "model_layout04 = Sequential()\n",
        "model_layout04.add(Input(shape=sample_shape))\n",
        "model_layout04.add(Conv2D(3, kernel_size = (3,3), padding='same',  activation='relu'))\n",
        "\n",
        "\n",
        "model_layout04.compile(\n",
        "  optimizer=keras.optimizers.Adam(learning_rate=1e-3),\n",
        "  loss=keras.losses.MeanSquaredError(),\n",
        "  metrics=[keras.metrics.MeanAbsoluteError(),\n",
        "          keras.metrics.CosineSimilarity()])"
      ]
    },
    {
      "cell_type": "code",
      "execution_count": 11,
      "metadata": {
        "colab": {
          "base_uri": "https://localhost:8080/",
          "height": 744
        },
        "id": "CqBVvxw1C8ZD",
        "outputId": "02c3f7fb-8ed2-4aa6-e0b2-9c947a21b2b6"
      },
      "outputs": [
        {
          "name": "stdout",
          "output_type": "stream",
          "text": [
            "Model: \"sequential\"\n",
            "_________________________________________________________________\n",
            "Layer (type)                 Output Shape              Param #   \n",
            "=================================================================\n",
            "conv2d (Conv2D)              (None, 32, 32, 3)         84        \n",
            "=================================================================\n",
            "Total params: 84\n",
            "Trainable params: 84\n",
            "Non-trainable params: 0\n",
            "_________________________________________________________________\n",
            "Epoch 1/10\n",
            "1500/1500 [==============================] - 6s 4ms/step - loss: 0.0086 - mean_absolute_error: 0.0472 - cosine_similarity: 0.9817 - val_loss: 7.5289e-04 - val_mean_absolute_error: 0.0176 - val_cosine_similarity: 0.9949\n",
            "Epoch 2/10\n",
            "1500/1500 [==============================] - 6s 4ms/step - loss: 4.3399e-04 - mean_absolute_error: 0.0129 - cosine_similarity: 0.9965 - val_loss: 2.2831e-04 - val_mean_absolute_error: 0.0093 - val_cosine_similarity: 0.9972\n",
            "Epoch 3/10\n",
            "1500/1500 [==============================] - 6s 4ms/step - loss: 1.3080e-04 - mean_absolute_error: 0.0068 - cosine_similarity: 0.9979 - val_loss: 6.8044e-05 - val_mean_absolute_error: 0.0048 - val_cosine_similarity: 0.9981\n",
            "Epoch 4/10\n",
            "1500/1500 [==============================] - 6s 4ms/step - loss: 4.2869e-05 - mean_absolute_error: 0.0037 - cosine_similarity: 0.9985 - val_loss: 2.6276e-05 - val_mean_absolute_error: 0.0028 - val_cosine_similarity: 0.9984\n",
            "Epoch 5/10\n",
            "1500/1500 [==============================] - 6s 4ms/step - loss: 1.7317e-05 - mean_absolute_error: 0.0022 - cosine_similarity: 0.9987 - val_loss: 1.0751e-05 - val_mean_absolute_error: 0.0017 - val_cosine_similarity: 0.9985\n",
            "Epoch 6/10\n",
            "1500/1500 [==============================] - 6s 4ms/step - loss: 6.8519e-06 - mean_absolute_error: 0.0014 - cosine_similarity: 0.9987 - val_loss: 4.0686e-06 - val_mean_absolute_error: 0.0010 - val_cosine_similarity: 0.9986\n",
            "Epoch 7/10\n",
            "1500/1500 [==============================] - 6s 4ms/step - loss: 2.8517e-06 - mean_absolute_error: 9.0529e-04 - cosine_similarity: 0.9988 - val_loss: 2.0501e-06 - val_mean_absolute_error: 8.0414e-04 - val_cosine_similarity: 0.9986\n",
            "Epoch 8/10\n",
            "1500/1500 [==============================] - 6s 4ms/step - loss: 1.5766e-06 - mean_absolute_error: 7.0321e-04 - cosine_similarity: 0.9988 - val_loss: 1.8026e-06 - val_mean_absolute_error: 9.0322e-04 - val_cosine_similarity: 0.9986\n",
            "Epoch 9/10\n",
            "1500/1500 [==============================] - 6s 4ms/step - loss: 1.1557e-06 - mean_absolute_error: 6.0898e-04 - cosine_similarity: 0.9988 - val_loss: 9.2759e-07 - val_mean_absolute_error: 5.7413e-04 - val_cosine_similarity: 0.9986\n",
            "Epoch 10/10\n",
            "1500/1500 [==============================] - 6s 4ms/step - loss: 9.0192e-07 - mean_absolute_error: 5.4181e-04 - cosine_similarity: 0.9988 - val_loss: 6.3033e-07 - val_mean_absolute_error: 4.3619e-04 - val_cosine_similarity: 0.9986\n",
            "188/188 [==============================] - 1s 4ms/step - loss: 6.3033e-07 - mean_absolute_error: 4.3619e-04 - cosine_similarity: 0.9986\n",
            "evaluations for validation set\n",
            "\t loss :  6.303287705122784e-07\n",
            "\t mean_absolute_error :  0.0004361908358987421\n",
            "\t cosine_similarity :  0.9986388087272644\n",
            "1500/1500 [==============================] - 2s 2ms/step\n",
            "188/188 [==============================] - 0s 2ms/step\n",
            "188/188 [==============================] - 0s 2ms/step\n"
          ]
        },
        {
          "name": "stderr",
          "output_type": "stream",
          "text": [
            "/usr/local/lib/python3.7/dist-packages/ipykernel_launcher.py:4: MatplotlibDeprecationWarning: Adding an axes using the same arguments as a previous axes currently reuses the earlier instance.  In a future version, a new instance will always be created and returned.  Meanwhile, this warning can be suppressed, and the future behavior ensured, by passing a unique label to each axes instance.\n",
            "  after removing the cwd from sys.path.\n",
            "/usr/local/lib/python3.7/dist-packages/ipykernel_launcher.py:11: MatplotlibDeprecationWarning: Adding an axes using the same arguments as a previous axes currently reuses the earlier instance.  In a future version, a new instance will always be created and returned.  Meanwhile, this warning can be suppressed, and the future behavior ensured, by passing a unique label to each axes instance.\n",
            "  # This is added back by InteractiveShellApp.init_path()\n"
          ]
        },
        {
          "data": {
            "image/png": "[encoded data removed]",
            "text/plain": [
              "<Figure size 432x288 with 2 Axes>"
            ]
          },
          "metadata": {
            "needs_background": "light"
          },
          "output_type": "display_data"
        }
      ],
      "source": [
        "model_layout04, X_train_4, X_valid_4, X_test_4 = model_fit_transform(model_layout04, X_train, X_valid, X_test)\n",
        "img_compare(X_test[1], X_test_4[1])"
      ]
    },
    {
      "cell_type": "markdown",
      "metadata": {
        "id": "VM7s67jGEbcq"
      },
      "source": [
        "## stuff"
      ]
    },
    {
      "cell_type": "markdown",
      "metadata": {
        "id": "k7_Pp8P-Eg_W"
      },
      "source": [
        "### learn seperate model for greyscale and model for combination of color and grayscale"
      ]
    },
    {
      "cell_type": "code",
      "execution_count": 8,
      "metadata": {
        "colab": {
          "base_uri": "https://localhost:8080/",
          "height": 118
        },
        "id": "aT93fElnEOe6",
        "outputId": "c4297034-d0fa-4807-c33f-671ec0ba6c41"
      },
      "outputs": [
        {
          "name": "stderr",
          "output_type": "stream",
          "text": [
            "/usr/local/lib/python3.7/dist-packages/ipykernel_launcher.py:4: MatplotlibDeprecationWarning: Adding an axes using the same arguments as a previous axes currently reuses the earlier instance.  In a future version, a new instance will always be created and returned.  Meanwhile, this warning can be suppressed, and the future behavior ensured, by passing a unique label to each axes instance.\n",
            "  after removing the cwd from sys.path.\n",
            "/usr/local/lib/python3.7/dist-packages/ipykernel_launcher.py:8: MatplotlibDeprecationWarning: Adding an axes using the same arguments as a previous axes currently reuses the earlier instance.  In a future version, a new instance will always be created and returned.  Meanwhile, this warning can be suppressed, and the future behavior ensured, by passing a unique label to each axes instance.\n",
            "  \n"
          ]
        },
        {
          "data": {
            "image/png": "[encoded data removed]",
            "text/plain": [
              "<Figure size 432x288 with 2 Axes>"
            ]
          },
          "metadata": {
            "needs_background": "light"
          },
          "output_type": "display_data"
        }
      ],
      "source": [
        "img_compare(X_train[0], X_train_bw[0])"
      ]
    },
    {
      "cell_type": "code",
      "execution_count": 9,
      "metadata": {
        "colab": {
          "base_uri": "https://localhost:8080/",
          "height": 1000
        },
        "id": "k6qj9ERREOe7",
        "outputId": "885b52b7-afa2-44cd-82bf-913821d02cc3"
      },
      "outputs": [
        {
          "ename": "KeyboardInterrupt",
          "evalue": "ignored",
          "output_type": "error",
          "traceback": [
            "\u001b[0;31m---------------------------------------------------------------------------\u001b[0m",
            "\u001b[0;31mKeyboardInterrupt\u001b[0m                         Traceback (most recent call last)",
            "\u001b[0;32m<ipython-input-9-44947a92ba8d>\u001b[0m in \u001b[0;36m<module>\u001b[0;34m()\u001b[0m\n\u001b[1;32m      1\u001b[0m \u001b[0;31m# build the model_bw\u001b[0m\u001b[0;34m\u001b[0m\u001b[0;34m\u001b[0m\u001b[0;34m\u001b[0m\u001b[0m\n\u001b[1;32m      2\u001b[0m \u001b[0;34m\u001b[0m\u001b[0m\n\u001b[0;32m----> 3\u001b[0;31m \u001b[0mmodel_bw\u001b[0m \u001b[0;34m=\u001b[0m \u001b[0mSequential\u001b[0m\u001b[0;34m(\u001b[0m\u001b[0;34m)\u001b[0m\u001b[0;34m\u001b[0m\u001b[0;34m\u001b[0m\u001b[0m\n\u001b[0m\u001b[1;32m      4\u001b[0m \u001b[0mmodel_bw\u001b[0m\u001b[0;34m.\u001b[0m\u001b[0madd\u001b[0m\u001b[0;34m(\u001b[0m\u001b[0mInput\u001b[0m\u001b[0;34m(\u001b[0m\u001b[0mshape\u001b[0m\u001b[0;34m=\u001b[0m\u001b[0mX_train_bw\u001b[0m\u001b[0;34m[\u001b[0m\u001b[0;36m0\u001b[0m\u001b[0;34m]\u001b[0m\u001b[0;34m.\u001b[0m\u001b[0mshape\u001b[0m\u001b[0;34m)\u001b[0m\u001b[0;34m)\u001b[0m\u001b[0;34m\u001b[0m\u001b[0;34m\u001b[0m\u001b[0m\n\u001b[1;32m      5\u001b[0m \u001b[0mmodel_bw\u001b[0m\u001b[0;34m.\u001b[0m\u001b[0madd\u001b[0m\u001b[0;34m(\u001b[0m\u001b[0mConv2D\u001b[0m\u001b[0;34m(\u001b[0m\u001b[0;36m8\u001b[0m\u001b[0;34m,\u001b[0m \u001b[0mkernel_size\u001b[0m \u001b[0;34m=\u001b[0m \u001b[0;34m(\u001b[0m\u001b[0;36m3\u001b[0m\u001b[0;34m,\u001b[0m\u001b[0;36m3\u001b[0m\u001b[0;34m)\u001b[0m\u001b[0;34m,\u001b[0m \u001b[0mpadding\u001b[0m\u001b[0;34m=\u001b[0m\u001b[0;34m'same'\u001b[0m\u001b[0;34m,\u001b[0m  \u001b[0mactivation\u001b[0m\u001b[0;34m=\u001b[0m\u001b[0;34m'relu'\u001b[0m\u001b[0;34m)\u001b[0m\u001b[0;34m)\u001b[0m\u001b[0;34m\u001b[0m\u001b[0;34m\u001b[0m\u001b[0m\n",
            "\u001b[0;32m/usr/local/lib/python3.7/dist-packages/tensorflow/python/training/tracking/base.py\u001b[0m in \u001b[0;36m_method_wrapper\u001b[0;34m(self, *args, **kwargs)\u001b[0m\n\u001b[1;32m    528\u001b[0m     \u001b[0mself\u001b[0m\u001b[0;34m.\u001b[0m\u001b[0m_self_setattr_tracking\u001b[0m \u001b[0;34m=\u001b[0m \u001b[0;32mFalse\u001b[0m  \u001b[0;31m# pylint: disable=protected-access\u001b[0m\u001b[0;34m\u001b[0m\u001b[0;34m\u001b[0m\u001b[0m\n\u001b[1;32m    529\u001b[0m     \u001b[0;32mtry\u001b[0m\u001b[0;34m:\u001b[0m\u001b[0;34m\u001b[0m\u001b[0;34m\u001b[0m\u001b[0m\n\u001b[0;32m--> 530\u001b[0;31m       \u001b[0mresult\u001b[0m \u001b[0;34m=\u001b[0m \u001b[0mmethod\u001b[0m\u001b[0;34m(\u001b[0m\u001b[0mself\u001b[0m\u001b[0;34m,\u001b[0m \u001b[0;34m*\u001b[0m\u001b[0margs\u001b[0m\u001b[0;34m,\u001b[0m \u001b[0;34m**\u001b[0m\u001b[0mkwargs\u001b[0m\u001b[0;34m)\u001b[0m\u001b[0;34m\u001b[0m\u001b[0;34m\u001b[0m\u001b[0m\n\u001b[0m\u001b[1;32m    531\u001b[0m     \u001b[0;32mfinally\u001b[0m\u001b[0;34m:\u001b[0m\u001b[0;34m\u001b[0m\u001b[0;34m\u001b[0m\u001b[0m\n\u001b[1;32m    532\u001b[0m       \u001b[0mself\u001b[0m\u001b[0;34m.\u001b[0m\u001b[0m_self_setattr_tracking\u001b[0m \u001b[0;34m=\u001b[0m \u001b[0mprevious_value\u001b[0m  \u001b[0;31m# pylint: disable=protected-access\u001b[0m\u001b[0;34m\u001b[0m\u001b[0;34m\u001b[0m\u001b[0m\n",
            "\u001b[0;32m/usr/local/lib/python3.7/dist-packages/keras/engine/sequential.py\u001b[0m in \u001b[0;36m__init__\u001b[0;34m(self, layers, name)\u001b[0m\n\u001b[1;32m    106\u001b[0m     \u001b[0;31m# Skip the init in FunctionalModel since model doesn't have input/output yet\u001b[0m\u001b[0;34m\u001b[0m\u001b[0;34m\u001b[0m\u001b[0;34m\u001b[0m\u001b[0m\n\u001b[1;32m    107\u001b[0m     super(functional.Functional, self).__init__(  # pylint: disable=bad-super-call\n\u001b[0;32m--> 108\u001b[0;31m         name=name, autocast=False)\n\u001b[0m\u001b[1;32m    109\u001b[0m     \u001b[0mbase_layer\u001b[0m\u001b[0;34m.\u001b[0m\u001b[0mkeras_api_gauge\u001b[0m\u001b[0;34m.\u001b[0m\u001b[0mget_cell\u001b[0m\u001b[0;34m(\u001b[0m\u001b[0;34m'Sequential'\u001b[0m\u001b[0;34m)\u001b[0m\u001b[0;34m.\u001b[0m\u001b[0mset\u001b[0m\u001b[0;34m(\u001b[0m\u001b[0;32mTrue\u001b[0m\u001b[0;34m)\u001b[0m\u001b[0;34m\u001b[0m\u001b[0;34m\u001b[0m\u001b[0m\n\u001b[1;32m    110\u001b[0m     \u001b[0mself\u001b[0m\u001b[0;34m.\u001b[0m\u001b[0msupports_masking\u001b[0m \u001b[0;34m=\u001b[0m \u001b[0;32mTrue\u001b[0m\u001b[0;34m\u001b[0m\u001b[0;34m\u001b[0m\u001b[0m\n",
            "\u001b[0;32m/usr/local/lib/python3.7/dist-packages/tensorflow/python/training/tracking/base.py\u001b[0m in \u001b[0;36m_method_wrapper\u001b[0;34m(self, *args, **kwargs)\u001b[0m\n\u001b[1;32m    528\u001b[0m     \u001b[0mself\u001b[0m\u001b[0;34m.\u001b[0m\u001b[0m_self_setattr_tracking\u001b[0m \u001b[0;34m=\u001b[0m \u001b[0;32mFalse\u001b[0m  \u001b[0;31m# pylint: disable=protected-access\u001b[0m\u001b[0;34m\u001b[0m\u001b[0;34m\u001b[0m\u001b[0m\n\u001b[1;32m    529\u001b[0m     \u001b[0;32mtry\u001b[0m\u001b[0;34m:\u001b[0m\u001b[0;34m\u001b[0m\u001b[0;34m\u001b[0m\u001b[0m\n\u001b[0;32m--> 530\u001b[0;31m       \u001b[0mresult\u001b[0m \u001b[0;34m=\u001b[0m \u001b[0mmethod\u001b[0m\u001b[0;34m(\u001b[0m\u001b[0mself\u001b[0m\u001b[0;34m,\u001b[0m \u001b[0;34m*\u001b[0m\u001b[0margs\u001b[0m\u001b[0;34m,\u001b[0m \u001b[0;34m**\u001b[0m\u001b[0mkwargs\u001b[0m\u001b[0;34m)\u001b[0m\u001b[0;34m\u001b[0m\u001b[0;34m\u001b[0m\u001b[0m\n\u001b[0m\u001b[1;32m    531\u001b[0m     \u001b[0;32mfinally\u001b[0m\u001b[0;34m:\u001b[0m\u001b[0;34m\u001b[0m\u001b[0;34m\u001b[0m\u001b[0m\n\u001b[1;32m    532\u001b[0m       \u001b[0mself\u001b[0m\u001b[0;34m.\u001b[0m\u001b[0m_self_setattr_tracking\u001b[0m \u001b[0;34m=\u001b[0m \u001b[0mprevious_value\u001b[0m  \u001b[0;31m# pylint: disable=protected-access\u001b[0m\u001b[0;34m\u001b[0m\u001b[0;34m\u001b[0m\u001b[0m\n",
            "\u001b[0;32m/usr/local/lib/python3.7/dist-packages/keras/engine/training.py\u001b[0m in \u001b[0;36m__init__\u001b[0;34m(self, *args, **kwargs)\u001b[0m\n\u001b[1;32m    287\u001b[0m     \u001b[0mself\u001b[0m\u001b[0;34m.\u001b[0m\u001b[0m_steps_per_execution\u001b[0m \u001b[0;34m=\u001b[0m \u001b[0;32mNone\u001b[0m\u001b[0;34m\u001b[0m\u001b[0;34m\u001b[0m\u001b[0m\n\u001b[1;32m    288\u001b[0m \u001b[0;34m\u001b[0m\u001b[0m\n\u001b[0;32m--> 289\u001b[0;31m     \u001b[0mself\u001b[0m\u001b[0;34m.\u001b[0m\u001b[0m_init_batch_counters\u001b[0m\u001b[0;34m(\u001b[0m\u001b[0;34m)\u001b[0m\u001b[0;34m\u001b[0m\u001b[0;34m\u001b[0m\u001b[0m\n\u001b[0m\u001b[1;32m    290\u001b[0m     \u001b[0mself\u001b[0m\u001b[0;34m.\u001b[0m\u001b[0m_base_model_initialized\u001b[0m \u001b[0;34m=\u001b[0m \u001b[0;32mTrue\u001b[0m\u001b[0;34m\u001b[0m\u001b[0;34m\u001b[0m\u001b[0m\n\u001b[1;32m    291\u001b[0m \u001b[0;34m\u001b[0m\u001b[0m\n",
            "\u001b[0;32m/usr/local/lib/python3.7/dist-packages/tensorflow/python/training/tracking/base.py\u001b[0m in \u001b[0;36m_method_wrapper\u001b[0;34m(self, *args, **kwargs)\u001b[0m\n\u001b[1;32m    528\u001b[0m     \u001b[0mself\u001b[0m\u001b[0;34m.\u001b[0m\u001b[0m_self_setattr_tracking\u001b[0m \u001b[0;34m=\u001b[0m \u001b[0;32mFalse\u001b[0m  \u001b[0;31m# pylint: disable=protected-access\u001b[0m\u001b[0;34m\u001b[0m\u001b[0;34m\u001b[0m\u001b[0m\n\u001b[1;32m    529\u001b[0m     \u001b[0;32mtry\u001b[0m\u001b[0;34m:\u001b[0m\u001b[0;34m\u001b[0m\u001b[0;34m\u001b[0m\u001b[0m\n\u001b[0;32m--> 530\u001b[0;31m       \u001b[0mresult\u001b[0m \u001b[0;34m=\u001b[0m \u001b[0mmethod\u001b[0m\u001b[0;34m(\u001b[0m\u001b[0mself\u001b[0m\u001b[0;34m,\u001b[0m \u001b[0;34m*\u001b[0m\u001b[0margs\u001b[0m\u001b[0;34m,\u001b[0m \u001b[0;34m**\u001b[0m\u001b[0mkwargs\u001b[0m\u001b[0;34m)\u001b[0m\u001b[0;34m\u001b[0m\u001b[0;34m\u001b[0m\u001b[0m\n\u001b[0m\u001b[1;32m    531\u001b[0m     \u001b[0;32mfinally\u001b[0m\u001b[0;34m:\u001b[0m\u001b[0;34m\u001b[0m\u001b[0;34m\u001b[0m\u001b[0m\n\u001b[1;32m    532\u001b[0m       \u001b[0mself\u001b[0m\u001b[0;34m.\u001b[0m\u001b[0m_self_setattr_tracking\u001b[0m \u001b[0;34m=\u001b[0m \u001b[0mprevious_value\u001b[0m  \u001b[0;31m# pylint: disable=protected-access\u001b[0m\u001b[0;34m\u001b[0m\u001b[0;34m\u001b[0m\u001b[0m\n",
            "\u001b[0;32m/usr/local/lib/python3.7/dist-packages/keras/engine/training.py\u001b[0m in \u001b[0;36m_init_batch_counters\u001b[0;34m(self)\u001b[0m\n\u001b[1;32m    295\u001b[0m     \u001b[0;31m# `evaluate`, and `predict`.\u001b[0m\u001b[0;34m\u001b[0m\u001b[0;34m\u001b[0m\u001b[0;34m\u001b[0m\u001b[0m\n\u001b[1;32m    296\u001b[0m     \u001b[0magg\u001b[0m \u001b[0;34m=\u001b[0m \u001b[0mtf\u001b[0m\u001b[0;34m.\u001b[0m\u001b[0mVariableAggregation\u001b[0m\u001b[0;34m.\u001b[0m\u001b[0mONLY_FIRST_REPLICA\u001b[0m\u001b[0;34m\u001b[0m\u001b[0;34m\u001b[0m\u001b[0m\n\u001b[0;32m--> 297\u001b[0;31m     \u001b[0mself\u001b[0m\u001b[0;34m.\u001b[0m\u001b[0m_train_counter\u001b[0m \u001b[0;34m=\u001b[0m \u001b[0mtf\u001b[0m\u001b[0;34m.\u001b[0m\u001b[0mVariable\u001b[0m\u001b[0;34m(\u001b[0m\u001b[0;36m0\u001b[0m\u001b[0;34m,\u001b[0m \u001b[0mdtype\u001b[0m\u001b[0;34m=\u001b[0m\u001b[0;34m'int64'\u001b[0m\u001b[0;34m,\u001b[0m \u001b[0maggregation\u001b[0m\u001b[0;34m=\u001b[0m\u001b[0magg\u001b[0m\u001b[0;34m)\u001b[0m\u001b[0;34m\u001b[0m\u001b[0;34m\u001b[0m\u001b[0m\n\u001b[0m\u001b[1;32m    298\u001b[0m     \u001b[0mself\u001b[0m\u001b[0;34m.\u001b[0m\u001b[0m_test_counter\u001b[0m \u001b[0;34m=\u001b[0m \u001b[0mtf\u001b[0m\u001b[0;34m.\u001b[0m\u001b[0mVariable\u001b[0m\u001b[0;34m(\u001b[0m\u001b[0;36m0\u001b[0m\u001b[0;34m,\u001b[0m \u001b[0mdtype\u001b[0m\u001b[0;34m=\u001b[0m\u001b[0;34m'int64'\u001b[0m\u001b[0;34m,\u001b[0m \u001b[0maggregation\u001b[0m\u001b[0;34m=\u001b[0m\u001b[0magg\u001b[0m\u001b[0;34m)\u001b[0m\u001b[0;34m\u001b[0m\u001b[0;34m\u001b[0m\u001b[0m\n\u001b[1;32m    299\u001b[0m     self._predict_counter = tf.Variable(\n",
            "\u001b[0;32m/usr/local/lib/python3.7/dist-packages/tensorflow/python/ops/variables.py\u001b[0m in \u001b[0;36m__call__\u001b[0;34m(cls, *args, **kwargs)\u001b[0m\n\u001b[1;32m    266\u001b[0m       \u001b[0;32mreturn\u001b[0m \u001b[0mcls\u001b[0m\u001b[0;34m.\u001b[0m\u001b[0m_variable_v1_call\u001b[0m\u001b[0;34m(\u001b[0m\u001b[0;34m*\u001b[0m\u001b[0margs\u001b[0m\u001b[0;34m,\u001b[0m \u001b[0;34m**\u001b[0m\u001b[0mkwargs\u001b[0m\u001b[0;34m)\u001b[0m\u001b[0;34m\u001b[0m\u001b[0;34m\u001b[0m\u001b[0m\n\u001b[1;32m    267\u001b[0m     \u001b[0;32melif\u001b[0m \u001b[0mcls\u001b[0m \u001b[0;32mis\u001b[0m \u001b[0mVariable\u001b[0m\u001b[0;34m:\u001b[0m\u001b[0;34m\u001b[0m\u001b[0;34m\u001b[0m\u001b[0m\n\u001b[0;32m--> 268\u001b[0;31m       \u001b[0;32mreturn\u001b[0m \u001b[0mcls\u001b[0m\u001b[0;34m.\u001b[0m\u001b[0m_variable_v2_call\u001b[0m\u001b[0;34m(\u001b[0m\u001b[0;34m*\u001b[0m\u001b[0margs\u001b[0m\u001b[0;34m,\u001b[0m \u001b[0;34m**\u001b[0m\u001b[0mkwargs\u001b[0m\u001b[0;34m)\u001b[0m\u001b[0;34m\u001b[0m\u001b[0;34m\u001b[0m\u001b[0m\n\u001b[0m\u001b[1;32m    269\u001b[0m     \u001b[0;32melse\u001b[0m\u001b[0;34m:\u001b[0m\u001b[0;34m\u001b[0m\u001b[0;34m\u001b[0m\u001b[0m\n\u001b[1;32m    270\u001b[0m       \u001b[0;32mreturn\u001b[0m \u001b[0msuper\u001b[0m\u001b[0;34m(\u001b[0m\u001b[0mVariableMetaclass\u001b[0m\u001b[0;34m,\u001b[0m \u001b[0mcls\u001b[0m\u001b[0;34m)\u001b[0m\u001b[0;34m.\u001b[0m\u001b[0m__call__\u001b[0m\u001b[0;34m(\u001b[0m\u001b[0;34m*\u001b[0m\u001b[0margs\u001b[0m\u001b[0;34m,\u001b[0m \u001b[0;34m**\u001b[0m\u001b[0mkwargs\u001b[0m\u001b[0;34m)\u001b[0m\u001b[0;34m\u001b[0m\u001b[0;34m\u001b[0m\u001b[0m\n",
            "\u001b[0;32m/usr/local/lib/python3.7/dist-packages/tensorflow/python/ops/variables.py\u001b[0m in \u001b[0;36m_variable_v2_call\u001b[0;34m(cls, initial_value, trainable, validate_shape, caching_device, name, variable_def, dtype, import_scope, constraint, synchronization, aggregation, shape)\u001b[0m\n\u001b[1;32m    260\u001b[0m         \u001b[0msynchronization\u001b[0m\u001b[0;34m=\u001b[0m\u001b[0msynchronization\u001b[0m\u001b[0;34m,\u001b[0m\u001b[0;34m\u001b[0m\u001b[0;34m\u001b[0m\u001b[0m\n\u001b[1;32m    261\u001b[0m         \u001b[0maggregation\u001b[0m\u001b[0;34m=\u001b[0m\u001b[0maggregation\u001b[0m\u001b[0;34m,\u001b[0m\u001b[0;34m\u001b[0m\u001b[0;34m\u001b[0m\u001b[0m\n\u001b[0;32m--> 262\u001b[0;31m         shape=shape)\n\u001b[0m\u001b[1;32m    263\u001b[0m \u001b[0;34m\u001b[0m\u001b[0m\n\u001b[1;32m    264\u001b[0m   \u001b[0;32mdef\u001b[0m \u001b[0m__call__\u001b[0m\u001b[0;34m(\u001b[0m\u001b[0mcls\u001b[0m\u001b[0;34m,\u001b[0m \u001b[0;34m*\u001b[0m\u001b[0margs\u001b[0m\u001b[0;34m,\u001b[0m \u001b[0;34m**\u001b[0m\u001b[0mkwargs\u001b[0m\u001b[0;34m)\u001b[0m\u001b[0;34m:\u001b[0m\u001b[0;34m\u001b[0m\u001b[0;34m\u001b[0m\u001b[0m\n",
            "\u001b[0;32m/usr/local/lib/python3.7/dist-packages/tensorflow/python/ops/variables.py\u001b[0m in \u001b[0;36m<lambda>\u001b[0;34m(**kws)\u001b[0m\n\u001b[1;32m    241\u001b[0m                         shape=None):\n\u001b[1;32m    242\u001b[0m     \u001b[0;34m\"\"\"Call on Variable class. Useful to force the signature.\"\"\"\u001b[0m\u001b[0;34m\u001b[0m\u001b[0;34m\u001b[0m\u001b[0m\n\u001b[0;32m--> 243\u001b[0;31m     \u001b[0mprevious_getter\u001b[0m \u001b[0;34m=\u001b[0m \u001b[0;32mlambda\u001b[0m \u001b[0;34m**\u001b[0m\u001b[0mkws\u001b[0m\u001b[0;34m:\u001b[0m \u001b[0mdefault_variable_creator_v2\u001b[0m\u001b[0;34m(\u001b[0m\u001b[0;32mNone\u001b[0m\u001b[0;34m,\u001b[0m \u001b[0;34m**\u001b[0m\u001b[0mkws\u001b[0m\u001b[0;34m)\u001b[0m\u001b[0;34m\u001b[0m\u001b[0;34m\u001b[0m\u001b[0m\n\u001b[0m\u001b[1;32m    244\u001b[0m     \u001b[0;32mfor\u001b[0m \u001b[0m_\u001b[0m\u001b[0;34m,\u001b[0m \u001b[0mgetter\u001b[0m \u001b[0;32min\u001b[0m \u001b[0mops\u001b[0m\u001b[0;34m.\u001b[0m\u001b[0mget_default_graph\u001b[0m\u001b[0;34m(\u001b[0m\u001b[0;34m)\u001b[0m\u001b[0;34m.\u001b[0m\u001b[0m_variable_creator_stack\u001b[0m\u001b[0;34m:\u001b[0m  \u001b[0;31m# pylint: disable=protected-access\u001b[0m\u001b[0;34m\u001b[0m\u001b[0;34m\u001b[0m\u001b[0m\n\u001b[1;32m    245\u001b[0m       \u001b[0mprevious_getter\u001b[0m \u001b[0;34m=\u001b[0m \u001b[0m_make_getter\u001b[0m\u001b[0;34m(\u001b[0m\u001b[0mgetter\u001b[0m\u001b[0;34m,\u001b[0m \u001b[0mprevious_getter\u001b[0m\u001b[0;34m)\u001b[0m\u001b[0;34m\u001b[0m\u001b[0;34m\u001b[0m\u001b[0m\n",
            "\u001b[0;32m/usr/local/lib/python3.7/dist-packages/tensorflow/python/ops/variable_scope.py\u001b[0m in \u001b[0;36mdefault_variable_creator_v2\u001b[0;34m(next_creator, **kwargs)\u001b[0m\n\u001b[1;32m   2673\u001b[0m       \u001b[0msynchronization\u001b[0m\u001b[0;34m=\u001b[0m\u001b[0msynchronization\u001b[0m\u001b[0;34m,\u001b[0m\u001b[0;34m\u001b[0m\u001b[0;34m\u001b[0m\u001b[0m\n\u001b[1;32m   2674\u001b[0m       \u001b[0maggregation\u001b[0m\u001b[0;34m=\u001b[0m\u001b[0maggregation\u001b[0m\u001b[0;34m,\u001b[0m\u001b[0;34m\u001b[0m\u001b[0;34m\u001b[0m\u001b[0m\n\u001b[0;32m-> 2675\u001b[0;31m       shape=shape)\n\u001b[0m\u001b[1;32m   2676\u001b[0m \u001b[0;34m\u001b[0m\u001b[0m\n\u001b[1;32m   2677\u001b[0m \u001b[0;34m\u001b[0m\u001b[0m\n",
            "\u001b[0;32m/usr/local/lib/python3.7/dist-packages/tensorflow/python/ops/variables.py\u001b[0m in \u001b[0;36m__call__\u001b[0;34m(cls, *args, **kwargs)\u001b[0m\n\u001b[1;32m    268\u001b[0m       \u001b[0;32mreturn\u001b[0m \u001b[0mcls\u001b[0m\u001b[0;34m.\u001b[0m\u001b[0m_variable_v2_call\u001b[0m\u001b[0;34m(\u001b[0m\u001b[0;34m*\u001b[0m\u001b[0margs\u001b[0m\u001b[0;34m,\u001b[0m \u001b[0;34m**\u001b[0m\u001b[0mkwargs\u001b[0m\u001b[0;34m)\u001b[0m\u001b[0;34m\u001b[0m\u001b[0;34m\u001b[0m\u001b[0m\n\u001b[1;32m    269\u001b[0m     \u001b[0;32melse\u001b[0m\u001b[0;34m:\u001b[0m\u001b[0;34m\u001b[0m\u001b[0;34m\u001b[0m\u001b[0m\n\u001b[0;32m--> 270\u001b[0;31m       \u001b[0;32mreturn\u001b[0m \u001b[0msuper\u001b[0m\u001b[0;34m(\u001b[0m\u001b[0mVariableMetaclass\u001b[0m\u001b[0;34m,\u001b[0m \u001b[0mcls\u001b[0m\u001b[0;34m)\u001b[0m\u001b[0;34m.\u001b[0m\u001b[0m__call__\u001b[0m\u001b[0;34m(\u001b[0m\u001b[0;34m*\u001b[0m\u001b[0margs\u001b[0m\u001b[0;34m,\u001b[0m \u001b[0;34m**\u001b[0m\u001b[0mkwargs\u001b[0m\u001b[0;34m)\u001b[0m\u001b[0;34m\u001b[0m\u001b[0;34m\u001b[0m\u001b[0m\n\u001b[0m\u001b[1;32m    271\u001b[0m \u001b[0;34m\u001b[0m\u001b[0m\n\u001b[1;32m    272\u001b[0m \u001b[0;34m\u001b[0m\u001b[0m\n",
            "\u001b[0;32m/usr/local/lib/python3.7/dist-packages/tensorflow/python/ops/resource_variable_ops.py\u001b[0m in \u001b[0;36m__init__\u001b[0;34m(self, initial_value, trainable, collections, validate_shape, caching_device, name, dtype, variable_def, import_scope, constraint, distribute_strategy, synchronization, aggregation, shape)\u001b[0m\n\u001b[1;32m   1611\u001b[0m           \u001b[0maggregation\u001b[0m\u001b[0;34m=\u001b[0m\u001b[0maggregation\u001b[0m\u001b[0;34m,\u001b[0m\u001b[0;34m\u001b[0m\u001b[0;34m\u001b[0m\u001b[0m\n\u001b[1;32m   1612\u001b[0m           \u001b[0mshape\u001b[0m\u001b[0;34m=\u001b[0m\u001b[0mshape\u001b[0m\u001b[0;34m,\u001b[0m\u001b[0;34m\u001b[0m\u001b[0;34m\u001b[0m\u001b[0m\n\u001b[0;32m-> 1613\u001b[0;31m           distribute_strategy=distribute_strategy)\n\u001b[0m\u001b[1;32m   1614\u001b[0m \u001b[0;34m\u001b[0m\u001b[0m\n\u001b[1;32m   1615\u001b[0m   def _init_from_args(self,\n",
            "\u001b[0;32m/usr/local/lib/python3.7/dist-packages/tensorflow/python/ops/resource_variable_ops.py\u001b[0m in \u001b[0;36m_init_from_args\u001b[0;34m(self, initial_value, trainable, collections, caching_device, name, dtype, constraint, synchronization, aggregation, distribute_strategy, shape)\u001b[0m\n\u001b[1;32m   1745\u001b[0m             initial_value = ops.convert_to_tensor(initial_value,\n\u001b[1;32m   1746\u001b[0m                                                   \u001b[0mname\u001b[0m\u001b[0;34m=\u001b[0m\u001b[0;34m\"initial_value\"\u001b[0m\u001b[0;34m,\u001b[0m\u001b[0;34m\u001b[0m\u001b[0;34m\u001b[0m\u001b[0m\n\u001b[0;32m-> 1747\u001b[0;31m                                                   dtype=dtype)\n\u001b[0m\u001b[1;32m   1748\u001b[0m           \u001b[0;32mif\u001b[0m \u001b[0mshape\u001b[0m \u001b[0;32mis\u001b[0m \u001b[0;32mnot\u001b[0m \u001b[0;32mNone\u001b[0m\u001b[0;34m:\u001b[0m\u001b[0;34m\u001b[0m\u001b[0;34m\u001b[0m\u001b[0m\n\u001b[1;32m   1749\u001b[0m             \u001b[0;32mif\u001b[0m \u001b[0;32mnot\u001b[0m \u001b[0minitial_value\u001b[0m\u001b[0;34m.\u001b[0m\u001b[0mshape\u001b[0m\u001b[0;34m.\u001b[0m\u001b[0mis_compatible_with\u001b[0m\u001b[0;34m(\u001b[0m\u001b[0mshape\u001b[0m\u001b[0;34m)\u001b[0m\u001b[0;34m:\u001b[0m\u001b[0;34m\u001b[0m\u001b[0;34m\u001b[0m\u001b[0m\n",
            "\u001b[0;32m/usr/local/lib/python3.7/dist-packages/tensorflow/python/profiler/trace.py\u001b[0m in \u001b[0;36mwrapped\u001b[0;34m(*args, **kwargs)\u001b[0m\n\u001b[1;32m    161\u001b[0m         \u001b[0;32mwith\u001b[0m \u001b[0mTrace\u001b[0m\u001b[0;34m(\u001b[0m\u001b[0mtrace_name\u001b[0m\u001b[0;34m,\u001b[0m \u001b[0;34m**\u001b[0m\u001b[0mtrace_kwargs\u001b[0m\u001b[0;34m)\u001b[0m\u001b[0;34m:\u001b[0m\u001b[0;34m\u001b[0m\u001b[0;34m\u001b[0m\u001b[0m\n\u001b[1;32m    162\u001b[0m           \u001b[0;32mreturn\u001b[0m \u001b[0mfunc\u001b[0m\u001b[0;34m(\u001b[0m\u001b[0;34m*\u001b[0m\u001b[0margs\u001b[0m\u001b[0;34m,\u001b[0m \u001b[0;34m**\u001b[0m\u001b[0mkwargs\u001b[0m\u001b[0;34m)\u001b[0m\u001b[0;34m\u001b[0m\u001b[0;34m\u001b[0m\u001b[0m\n\u001b[0;32m--> 163\u001b[0;31m       \u001b[0;32mreturn\u001b[0m \u001b[0mfunc\u001b[0m\u001b[0;34m(\u001b[0m\u001b[0;34m*\u001b[0m\u001b[0margs\u001b[0m\u001b[0;34m,\u001b[0m \u001b[0;34m**\u001b[0m\u001b[0mkwargs\u001b[0m\u001b[0;34m)\u001b[0m\u001b[0;34m\u001b[0m\u001b[0;34m\u001b[0m\u001b[0m\n\u001b[0m\u001b[1;32m    164\u001b[0m \u001b[0;34m\u001b[0m\u001b[0m\n\u001b[1;32m    165\u001b[0m     \u001b[0;32mreturn\u001b[0m \u001b[0mwrapped\u001b[0m\u001b[0;34m\u001b[0m\u001b[0;34m\u001b[0m\u001b[0m\n",
            "\u001b[0;32m/usr/local/lib/python3.7/dist-packages/tensorflow/python/framework/ops.py\u001b[0m in \u001b[0;36mconvert_to_tensor\u001b[0;34m(value, dtype, name, as_ref, preferred_dtype, dtype_hint, ctx, accepted_result_types)\u001b[0m\n\u001b[1;32m   1564\u001b[0m \u001b[0;34m\u001b[0m\u001b[0m\n\u001b[1;32m   1565\u001b[0m     \u001b[0;32mif\u001b[0m \u001b[0mret\u001b[0m \u001b[0;32mis\u001b[0m \u001b[0;32mNone\u001b[0m\u001b[0;34m:\u001b[0m\u001b[0;34m\u001b[0m\u001b[0;34m\u001b[0m\u001b[0m\n\u001b[0;32m-> 1566\u001b[0;31m       \u001b[0mret\u001b[0m \u001b[0;34m=\u001b[0m \u001b[0mconversion_func\u001b[0m\u001b[0;34m(\u001b[0m\u001b[0mvalue\u001b[0m\u001b[0;34m,\u001b[0m \u001b[0mdtype\u001b[0m\u001b[0;34m=\u001b[0m\u001b[0mdtype\u001b[0m\u001b[0;34m,\u001b[0m \u001b[0mname\u001b[0m\u001b[0;34m=\u001b[0m\u001b[0mname\u001b[0m\u001b[0;34m,\u001b[0m \u001b[0mas_ref\u001b[0m\u001b[0;34m=\u001b[0m\u001b[0mas_ref\u001b[0m\u001b[0;34m)\u001b[0m\u001b[0;34m\u001b[0m\u001b[0;34m\u001b[0m\u001b[0m\n\u001b[0m\u001b[1;32m   1567\u001b[0m \u001b[0;34m\u001b[0m\u001b[0m\n\u001b[1;32m   1568\u001b[0m     \u001b[0;32mif\u001b[0m \u001b[0mret\u001b[0m \u001b[0;32mis\u001b[0m \u001b[0mNotImplemented\u001b[0m\u001b[0;34m:\u001b[0m\u001b[0;34m\u001b[0m\u001b[0;34m\u001b[0m\u001b[0m\n",
            "\u001b[0;32m/usr/local/lib/python3.7/dist-packages/tensorflow/python/framework/tensor_conversion_registry.py\u001b[0m in \u001b[0;36m_default_conversion_function\u001b[0;34m(***failed resolving arguments***)\u001b[0m\n\u001b[1;32m     50\u001b[0m \u001b[0;32mdef\u001b[0m \u001b[0m_default_conversion_function\u001b[0m\u001b[0;34m(\u001b[0m\u001b[0mvalue\u001b[0m\u001b[0;34m,\u001b[0m \u001b[0mdtype\u001b[0m\u001b[0;34m,\u001b[0m \u001b[0mname\u001b[0m\u001b[0;34m,\u001b[0m \u001b[0mas_ref\u001b[0m\u001b[0;34m)\u001b[0m\u001b[0;34m:\u001b[0m\u001b[0;34m\u001b[0m\u001b[0;34m\u001b[0m\u001b[0m\n\u001b[1;32m     51\u001b[0m   \u001b[0;32mdel\u001b[0m \u001b[0mas_ref\u001b[0m  \u001b[0;31m# Unused.\u001b[0m\u001b[0;34m\u001b[0m\u001b[0;34m\u001b[0m\u001b[0m\n\u001b[0;32m---> 52\u001b[0;31m   \u001b[0;32mreturn\u001b[0m \u001b[0mconstant_op\u001b[0m\u001b[0;34m.\u001b[0m\u001b[0mconstant\u001b[0m\u001b[0;34m(\u001b[0m\u001b[0mvalue\u001b[0m\u001b[0;34m,\u001b[0m \u001b[0mdtype\u001b[0m\u001b[0;34m,\u001b[0m \u001b[0mname\u001b[0m\u001b[0;34m=\u001b[0m\u001b[0mname\u001b[0m\u001b[0;34m)\u001b[0m\u001b[0;34m\u001b[0m\u001b[0;34m\u001b[0m\u001b[0m\n\u001b[0m\u001b[1;32m     53\u001b[0m \u001b[0;34m\u001b[0m\u001b[0m\n\u001b[1;32m     54\u001b[0m \u001b[0;34m\u001b[0m\u001b[0m\n",
            "\u001b[0;32m/usr/local/lib/python3.7/dist-packages/tensorflow/python/framework/constant_op.py\u001b[0m in \u001b[0;36mconstant\u001b[0;34m(value, dtype, shape, name)\u001b[0m\n\u001b[1;32m    270\u001b[0m   \"\"\"\n\u001b[1;32m    271\u001b[0m   return _constant_impl(value, dtype, shape, name, verify_shape=False,\n\u001b[0;32m--> 272\u001b[0;31m                         allow_broadcast=True)\n\u001b[0m\u001b[1;32m    273\u001b[0m \u001b[0;34m\u001b[0m\u001b[0m\n\u001b[1;32m    274\u001b[0m \u001b[0;34m\u001b[0m\u001b[0m\n",
            "\u001b[0;32m/usr/local/lib/python3.7/dist-packages/tensorflow/python/framework/constant_op.py\u001b[0m in \u001b[0;36m_constant_impl\u001b[0;34m(value, dtype, shape, name, verify_shape, allow_broadcast)\u001b[0m\n\u001b[1;32m    281\u001b[0m       \u001b[0;32mwith\u001b[0m \u001b[0mtrace\u001b[0m\u001b[0;34m.\u001b[0m\u001b[0mTrace\u001b[0m\u001b[0;34m(\u001b[0m\u001b[0;34m\"tf.constant\"\u001b[0m\u001b[0;34m)\u001b[0m\u001b[0;34m:\u001b[0m\u001b[0;34m\u001b[0m\u001b[0;34m\u001b[0m\u001b[0m\n\u001b[1;32m    282\u001b[0m         \u001b[0;32mreturn\u001b[0m \u001b[0m_constant_eager_impl\u001b[0m\u001b[0;34m(\u001b[0m\u001b[0mctx\u001b[0m\u001b[0;34m,\u001b[0m \u001b[0mvalue\u001b[0m\u001b[0;34m,\u001b[0m \u001b[0mdtype\u001b[0m\u001b[0;34m,\u001b[0m \u001b[0mshape\u001b[0m\u001b[0;34m,\u001b[0m \u001b[0mverify_shape\u001b[0m\u001b[0;34m)\u001b[0m\u001b[0;34m\u001b[0m\u001b[0;34m\u001b[0m\u001b[0m\n\u001b[0;32m--> 283\u001b[0;31m     \u001b[0;32mreturn\u001b[0m \u001b[0m_constant_eager_impl\u001b[0m\u001b[0;34m(\u001b[0m\u001b[0mctx\u001b[0m\u001b[0;34m,\u001b[0m \u001b[0mvalue\u001b[0m\u001b[0;34m,\u001b[0m \u001b[0mdtype\u001b[0m\u001b[0;34m,\u001b[0m \u001b[0mshape\u001b[0m\u001b[0;34m,\u001b[0m \u001b[0mverify_shape\u001b[0m\u001b[0;34m)\u001b[0m\u001b[0;34m\u001b[0m\u001b[0;34m\u001b[0m\u001b[0m\n\u001b[0m\u001b[1;32m    284\u001b[0m \u001b[0;34m\u001b[0m\u001b[0m\n\u001b[1;32m    285\u001b[0m   \u001b[0mg\u001b[0m \u001b[0;34m=\u001b[0m \u001b[0mops\u001b[0m\u001b[0;34m.\u001b[0m\u001b[0mget_default_graph\u001b[0m\u001b[0;34m(\u001b[0m\u001b[0;34m)\u001b[0m\u001b[0;34m\u001b[0m\u001b[0;34m\u001b[0m\u001b[0m\n",
            "\u001b[0;32m/usr/local/lib/python3.7/dist-packages/tensorflow/python/framework/constant_op.py\u001b[0m in \u001b[0;36m_constant_eager_impl\u001b[0;34m(ctx, value, dtype, shape, verify_shape)\u001b[0m\n\u001b[1;32m    306\u001b[0m \u001b[0;32mdef\u001b[0m \u001b[0m_constant_eager_impl\u001b[0m\u001b[0;34m(\u001b[0m\u001b[0mctx\u001b[0m\u001b[0;34m,\u001b[0m \u001b[0mvalue\u001b[0m\u001b[0;34m,\u001b[0m \u001b[0mdtype\u001b[0m\u001b[0;34m,\u001b[0m \u001b[0mshape\u001b[0m\u001b[0;34m,\u001b[0m \u001b[0mverify_shape\u001b[0m\u001b[0;34m)\u001b[0m\u001b[0;34m:\u001b[0m\u001b[0;34m\u001b[0m\u001b[0;34m\u001b[0m\u001b[0m\n\u001b[1;32m    307\u001b[0m   \u001b[0;34m\"\"\"Creates a constant on the current device.\"\"\"\u001b[0m\u001b[0;34m\u001b[0m\u001b[0;34m\u001b[0m\u001b[0m\n\u001b[0;32m--> 308\u001b[0;31m   \u001b[0mt\u001b[0m \u001b[0;34m=\u001b[0m \u001b[0mconvert_to_eager_tensor\u001b[0m\u001b[0;34m(\u001b[0m\u001b[0mvalue\u001b[0m\u001b[0;34m,\u001b[0m \u001b[0mctx\u001b[0m\u001b[0;34m,\u001b[0m \u001b[0mdtype\u001b[0m\u001b[0;34m)\u001b[0m\u001b[0;34m\u001b[0m\u001b[0;34m\u001b[0m\u001b[0m\n\u001b[0m\u001b[1;32m    309\u001b[0m   \u001b[0;32mif\u001b[0m \u001b[0mshape\u001b[0m \u001b[0;32mis\u001b[0m \u001b[0;32mNone\u001b[0m\u001b[0;34m:\u001b[0m\u001b[0;34m\u001b[0m\u001b[0;34m\u001b[0m\u001b[0m\n\u001b[1;32m    310\u001b[0m     \u001b[0;32mreturn\u001b[0m \u001b[0mt\u001b[0m\u001b[0;34m\u001b[0m\u001b[0;34m\u001b[0m\u001b[0m\n",
            "\u001b[0;32m/usr/local/lib/python3.7/dist-packages/tensorflow/python/framework/constant_op.py\u001b[0m in \u001b[0;36mconvert_to_eager_tensor\u001b[0;34m(value, ctx, dtype)\u001b[0m\n\u001b[1;32m    103\u001b[0m     \u001b[0;32mexcept\u001b[0m \u001b[0mAttributeError\u001b[0m\u001b[0;34m:\u001b[0m\u001b[0;34m\u001b[0m\u001b[0;34m\u001b[0m\u001b[0m\n\u001b[1;32m    104\u001b[0m       \u001b[0mdtype\u001b[0m \u001b[0;34m=\u001b[0m \u001b[0mdtypes\u001b[0m\u001b[0;34m.\u001b[0m\u001b[0mas_dtype\u001b[0m\u001b[0;34m(\u001b[0m\u001b[0mdtype\u001b[0m\u001b[0;34m)\u001b[0m\u001b[0;34m.\u001b[0m\u001b[0mas_datatype_enum\u001b[0m\u001b[0;34m\u001b[0m\u001b[0;34m\u001b[0m\u001b[0m\n\u001b[0;32m--> 105\u001b[0;31m   \u001b[0mctx\u001b[0m\u001b[0;34m.\u001b[0m\u001b[0mensure_initialized\u001b[0m\u001b[0;34m(\u001b[0m\u001b[0;34m)\u001b[0m\u001b[0;34m\u001b[0m\u001b[0;34m\u001b[0m\u001b[0m\n\u001b[0m\u001b[1;32m    106\u001b[0m   \u001b[0;32mreturn\u001b[0m \u001b[0mops\u001b[0m\u001b[0;34m.\u001b[0m\u001b[0mEagerTensor\u001b[0m\u001b[0;34m(\u001b[0m\u001b[0mvalue\u001b[0m\u001b[0;34m,\u001b[0m \u001b[0mctx\u001b[0m\u001b[0;34m.\u001b[0m\u001b[0mdevice_name\u001b[0m\u001b[0;34m,\u001b[0m \u001b[0mdtype\u001b[0m\u001b[0;34m)\u001b[0m\u001b[0;34m\u001b[0m\u001b[0;34m\u001b[0m\u001b[0m\n\u001b[1;32m    107\u001b[0m \u001b[0;34m\u001b[0m\u001b[0m\n",
            "\u001b[0;32m/usr/local/lib/python3.7/dist-packages/tensorflow/python/eager/context.py\u001b[0m in \u001b[0;36mensure_initialized\u001b[0;34m(self)\u001b[0m\n\u001b[1;32m    553\u001b[0m         pywrap_tfe.TFE_ContextOptionsSetRunEagerOpAsFunction(\n\u001b[1;32m    554\u001b[0m             opts, self._run_eager_op_as_function)\n\u001b[0;32m--> 555\u001b[0;31m         \u001b[0mcontext_handle\u001b[0m \u001b[0;34m=\u001b[0m \u001b[0mpywrap_tfe\u001b[0m\u001b[0;34m.\u001b[0m\u001b[0mTFE_NewContext\u001b[0m\u001b[0;34m(\u001b[0m\u001b[0mopts\u001b[0m\u001b[0;34m)\u001b[0m\u001b[0;34m\u001b[0m\u001b[0;34m\u001b[0m\u001b[0m\n\u001b[0m\u001b[1;32m    556\u001b[0m       \u001b[0;32mfinally\u001b[0m\u001b[0;34m:\u001b[0m\u001b[0;34m\u001b[0m\u001b[0;34m\u001b[0m\u001b[0m\n\u001b[1;32m    557\u001b[0m         \u001b[0mpywrap_tfe\u001b[0m\u001b[0;34m.\u001b[0m\u001b[0mTFE_DeleteContextOptions\u001b[0m\u001b[0;34m(\u001b[0m\u001b[0mopts\u001b[0m\u001b[0;34m)\u001b[0m\u001b[0;34m\u001b[0m\u001b[0;34m\u001b[0m\u001b[0m\n",
            "\u001b[0;31mKeyboardInterrupt\u001b[0m: "
          ]
        }
      ],
      "source": [
        "# build the model_bw\n",
        "\n",
        "model_bw = Sequential()\n",
        "model_bw.add(Input(shape=X_train_bw[0].shape))\n",
        "model_bw.add(Conv2D(8, kernel_size = (3,3), padding='same',  activation='relu'))\n",
        "model_bw.add(Conv2D(12, kernel_size = (3,3), padding='same',  activation='relu'))\n",
        "model_bw.add(MaxPooling2D(pool_size = (2,2)))\n",
        "model_bw.add(Conv2D(16, kernel_size = (3,3), padding='same', activation='relu'))\n",
        "model_bw.add(MaxPooling2D(pool_size = (2,2)))\n",
        "model_bw.add(Conv2D(32, kernel_size = (3,3), padding='same', activation='relu'))\n",
        "model_bw.add(Conv2D(32, kernel_size = (3,3), padding='same', activation='relu'))\n",
        "model_bw.add(UpSampling2D(size=(2,2)))\n",
        "model_bw.add(Conv2D(16,kernel_size = (3,3), padding='same', activation='relu'))\n",
        "model_bw.add(UpSampling2D())\n",
        "model_bw.add(Conv2D(12,kernel_size = (3,3), padding='same', activation='relu'))\n",
        "model_bw.add(UpSampling2D())\n",
        "model_bw.add(Conv2D(6,kernel_size = (3,3), padding='same', activation='relu'))\n",
        "model_bw.add(MaxPooling2D(pool_size = (2,2)))\n",
        "model_bw.add(Conv2D(1,(3,3), padding='same', activation='relu'))\n",
        "\n",
        "\n",
        "# compile the model_bw\n",
        "model_bw.compile(\n",
        "    optimizer=keras.optimizers.Adam(learning_rate=1e-3),\n",
        "    loss=keras.losses.MeanSquaredError(),\n",
        "    metrics=[keras.metrics.MeanAbsoluteError(),\n",
        "            keras.metrics.CosineSimilarity()])\n",
        "\n",
        "model_bw.summary()"
      ]
    },
    {
      "cell_type": "code",
      "execution_count": null,
      "metadata": {
        "id": "LFkBfLEvEOe8"
      },
      "outputs": [],
      "source": [
        "# learn model for bw representation\n",
        "\n",
        "history_bw = model_bw.fit(X_train_bw, X_train_bw, epochs=10, validation_data=(X_valid_bw, X_valid_bw), verbose=1, use_multiprocessing=True)"
      ]
    },
    {
      "cell_type": "code",
      "execution_count": null,
      "metadata": {
        "id": "DntU0H0XEOe9"
      },
      "outputs": [],
      "source": [
        "# evaluate bw model\n",
        "model_bw.evaluate(X_test_bw, X_test_bw)"
      ]
    },
    {
      "cell_type": "code",
      "execution_count": null,
      "metadata": {
        "id": "17EmNzViEOe9"
      },
      "outputs": [],
      "source": [
        "predictions_bw = model_bw.predict(X_train_bw, verbose=1)"
      ]
    },
    {
      "cell_type": "code",
      "execution_count": null,
      "metadata": {
        "id": "Sg2wENd1EOe-"
      },
      "outputs": [],
      "source": [
        "predictions_bw.shape\n",
        "X_train_comb = np.concatenate((predictions, predictions_bw),3)"
      ]
    },
    {
      "cell_type": "code",
      "execution_count": null,
      "metadata": {
        "id": "x9fXTGGXEOe-"
      },
      "outputs": [],
      "source": [
        "# build model_comb for combination of prediction model_comb\n",
        "\n",
        "model_comb = Sequential()\n",
        "model_comb.add(Input(shape=X_train_comb[0].shape))\n",
        "model_comb.add(Conv2D(8, kernel_size = (3,3), padding='same',  activation='relu'))\n",
        "model_comb.add(MaxPooling2D(pool_size = (2,2)))\n",
        "model_comb.add(Conv2D(12, kernel_size = (3,3), padding='same', activation='relu'))\n",
        "model_comb.add(MaxPooling2D(pool_size = (2,2)))\n",
        "model_comb.add(Conv2D(16, kernel_size = (3,3), padding='same', activation='relu'))\n",
        "model_comb.add(UpSampling2D(size=(2,2)))\n",
        "model_comb.add(Conv2D(12,kernel_size = (3,3), padding='same', activation='relu'))\n",
        "model_comb.add(UpSampling2D())\n",
        "model_comb.add(Conv2D(3,(3,3), padding='same', activation='relu'))\n",
        "\n",
        "\n",
        "# compile the model_comb\n",
        "model_comb.compile(\n",
        "    optimizer=keras.optimizers.Adam(learning_rate=1e-3),\n",
        "    loss=keras.losses.MeanSquaredError(),\n",
        "    metrics=[keras.metrics.MeanAbsoluteError(),\n",
        "            keras.metrics.CosineSimilarity()])\n",
        "\n",
        "model_comb.summary()"
      ]
    },
    {
      "cell_type": "code",
      "execution_count": null,
      "metadata": {
        "id": "gaRl_T_BEOe_"
      },
      "outputs": [],
      "source": [
        "history_comb = model_comb.fit(X_train_comb, X_train, epochs=7, verbose=1, use_multiprocessing=True)"
      ]
    },
    {
      "cell_type": "code",
      "execution_count": null,
      "metadata": {
        "id": "QmZ0BkcPEOe_"
      },
      "outputs": [],
      "source": [
        "predict_comb = model_comb.predict()\n",
        "\n",
        "def comp_comb_org(comb_img, org_img):\n",
        "    plt.subplot(221).imshow(org_img)\n",
        "    plt.subplot(221).set_title(f'original img: {org_img.shape}')\n",
        "    plt.subplot(222).imshow(comb_img)\n",
        "    plt.subplot(222).set_title(f'predict img: {comb_img.shape}')\n",
        "    plt.show()\n"
      ]
    },
    {
      "cell_type": "code",
      "execution_count": null,
      "metadata": {
        "id": "JP7fj4PCWjaG"
      },
      "outputs": [],
      "source": [
        "img_compare(X_train[0], predict_comb[0])"
      ]
    },
    {
      "cell_type": "code",
      "execution_count": null,
      "metadata": {
        "id": "y3sW2ZaEEOfA"
      },
      "outputs": [],
      "source": [
        "save_model(model_comb, 'models/model_pipe_comb')\n",
        "save_model(model_bw, 'models/model_pipe_bw')"
      ]
    },
    {
      "cell_type": "markdown",
      "metadata": {
        "id": "-TaOqPY9Mxqp"
      },
      "source": [
        "### try model_test for recolorization"
      ]
    },
    {
      "cell_type": "code",
      "execution_count": null,
      "metadata": {
        "colab": {
          "base_uri": "https://localhost:8080/"
        },
        "id": "6MTd2liqH5xF",
        "outputId": "6edc0ed7-a7ce-494f-899a-e3d48bdc424f"
      },
      "outputs": [
        {
          "name": "stdout",
          "output_type": "stream",
          "text": [
            "Model: \"sequential_1\"\n",
            "_________________________________________________________________\n",
            "Layer (type)                 Output Shape              Param #   \n",
            "=================================================================\n",
            "conv2d_9 (Conv2D)            (None, 32, 32, 16)        160       \n",
            "_________________________________________________________________\n",
            "max_pooling2d_2 (MaxPooling2 (None, 16, 16, 16)        0         \n",
            "_________________________________________________________________\n",
            "conv2d_10 (Conv2D)           (None, 16, 16, 32)        4640      \n",
            "_________________________________________________________________\n",
            "max_pooling2d_3 (MaxPooling2 (None, 8, 8, 32)          0         \n",
            "_________________________________________________________________\n",
            "conv2d_11 (Conv2D)           (None, 8, 8, 64)          18496     \n",
            "_________________________________________________________________\n",
            "up_sampling2d_2 (UpSampling2 (None, 16, 16, 64)        0         \n",
            "_________________________________________________________________\n",
            "conv2d_12 (Conv2D)           (None, 16, 16, 24)        13848     \n",
            "_________________________________________________________________\n",
            "conv2d_13 (Conv2D)           (None, 16, 16, 16)        3472      \n",
            "_________________________________________________________________\n",
            "up_sampling2d_3 (UpSampling2 (None, 32, 32, 16)        0         \n",
            "_________________________________________________________________\n",
            "conv2d_14 (Conv2D)           (None, 32, 32, 12)        1740      \n",
            "_________________________________________________________________\n",
            "conv2d_15 (Conv2D)           (None, 32, 32, 3)         327       \n",
            "=================================================================\n",
            "Total params: 42,683\n",
            "Trainable params: 42,683\n",
            "Non-trainable params: 0\n",
            "_________________________________________________________________\n"
          ]
        }
      ],
      "source": [
        "model_test = Sequential()\n",
        "# model_test.add(Input(shape=X_train_bw.shape))\n",
        "model_test.add(Conv2D(16, kernel_size = (3,3), padding='same',  activation='relu', input_shape=(32,32,1)))\n",
        "# model_test.add(Conv2D(8, kernel_size = (3,3), padding='same',  activation='relu'))\n",
        "# model_test.add(Conv2D(32, kernel_size = (3,3), padding='same', activation='relu'))\n",
        "model_test.add(MaxPooling2D(pool_size = (2,2)))\n",
        "# model_test.add(Conv2D(64, kernel_size = (3,3), padding='same', activation='relu'))\n",
        "model_test.add(Conv2D(32,kernel_size = (3,3), padding='same', activation='relu'))\n",
        "model_test.add(MaxPooling2D(pool_size = (2,2)))\n",
        "model_test.add(Conv2D(64,kernel_size = (3,3), padding='same', activation='relu'))\n",
        "# model_test.add(Conv2D(32,kernel_size = (3,3), padding='same', activation='relu'))\n",
        "\n",
        "model_test.add(UpSampling2D())\n",
        "model_test.add(Conv2D(24,kernel_size = (3,3), padding='same', activation='relu'))\n",
        "model_test.add(Conv2D(16,kernel_size = (3,3), padding='same', activation='relu'))\n",
        "model_test.add(UpSampling2D())\n",
        "\n",
        "model_test.add(Conv2D(12,kernel_size = (3,3), padding='same', activation='relu'))\n",
        "model_test.add(Conv2D(3,(3,3), padding='same', activation='sigmoid'))\n",
        "\n",
        "\n",
        "model_test.compile(\n",
        "    optimizer=keras.optimizers.Adam(learning_rate=1e-2),\n",
        "    loss=keras.losses.MeanSquaredError(),\n",
        "    metrics=[keras.metrics.MeanAbsoluteError(),\n",
        "            keras.metrics.CosineSimilarity(),\n",
        "             keras.metrics.Accuracy()])\n",
        "model_test.summary()\n"
      ]
    },
    {
      "cell_type": "code",
      "execution_count": null,
      "metadata": {
        "colab": {
          "base_uri": "https://localhost:8080/"
        },
        "id": "uvXKRbdplhMk",
        "outputId": "5ac09933-2b63-4ff0-85e2-9e00fb3d5a74"
      },
      "outputs": [
        {
          "name": "stdout",
          "output_type": "stream",
          "text": [
            "(48000, 32, 32, 1) (48000, 32, 32, 3)\n",
            "Epoch 1/10\n",
            "1500/1500 [==============================] - 46s 11ms/step - loss: 0.0113 - mean_absolute_error: 0.0778 - cosine_similarity: 0.9796 - accuracy: 2.2380e-07 - val_loss: 0.0087 - val_mean_absolute_error: 0.0687 - val_cosine_similarity: 0.9801 - val_accuracy: 2.1701e-07\n",
            "Epoch 2/10\n",
            "1500/1500 [==============================] - 16s 10ms/step - loss: 0.0087 - mean_absolute_error: 0.0684 - cosine_similarity: 0.9801 - accuracy: 2.5770e-07 - val_loss: 0.0084 - val_mean_absolute_error: 0.0673 - val_cosine_similarity: 0.9805 - val_accuracy: 2.1701e-07\n",
            "Epoch 3/10\n",
            "1500/1500 [==============================] - 16s 10ms/step - loss: 0.0084 - mean_absolute_error: 0.0668 - cosine_similarity: 0.9800 - accuracy: 1.7632e-07 - val_loss: 0.0079 - val_mean_absolute_error: 0.0648 - val_cosine_similarity: 0.9801 - val_accuracy: 3.7977e-07\n",
            "Epoch 4/10\n",
            "1500/1500 [==============================] - 15s 10ms/step - loss: 0.0082 - mean_absolute_error: 0.0661 - cosine_similarity: 0.9800 - accuracy: 2.0345e-07 - val_loss: 0.0079 - val_mean_absolute_error: 0.0648 - val_cosine_similarity: 0.9801 - val_accuracy: 2.1701e-07\n",
            "Epoch 5/10\n",
            "1500/1500 [==============================] - 15s 10ms/step - loss: 0.0082 - mean_absolute_error: 0.0659 - cosine_similarity: 0.9800 - accuracy: 2.2380e-07 - val_loss: 0.0078 - val_mean_absolute_error: 0.0642 - val_cosine_similarity: 0.9805 - val_accuracy: 1.0851e-07\n",
            "Epoch 6/10\n",
            "1500/1500 [==============================] - 15s 10ms/step - loss: 0.0081 - mean_absolute_error: 0.0654 - cosine_similarity: 0.9800 - accuracy: 2.5092e-07 - val_loss: 0.0081 - val_mean_absolute_error: 0.0660 - val_cosine_similarity: 0.9799 - val_accuracy: 4.3403e-07\n",
            "Epoch 7/10\n",
            "1500/1500 [==============================] - 15s 10ms/step - loss: 0.0081 - mean_absolute_error: 0.0654 - cosine_similarity: 0.9800 - accuracy: 2.9161e-07 - val_loss: 0.0081 - val_mean_absolute_error: 0.0657 - val_cosine_similarity: 0.9801 - val_accuracy: 3.7977e-07\n",
            "Epoch 8/10\n",
            "1500/1500 [==============================] - 15s 10ms/step - loss: 0.0088 - mean_absolute_error: 0.0682 - cosine_similarity: 0.9798 - accuracy: 2.7127e-07 - val_loss: 0.0086 - val_mean_absolute_error: 0.0675 - val_cosine_similarity: 0.9800 - val_accuracy: 1.6276e-07\n",
            "Epoch 9/10\n",
            "1500/1500 [==============================] - 16s 10ms/step - loss: 0.0087 - mean_absolute_error: 0.0678 - cosine_similarity: 0.9799 - accuracy: 2.6449e-07 - val_loss: 0.0083 - val_mean_absolute_error: 0.0669 - val_cosine_similarity: 0.9800 - val_accuracy: 3.2552e-07\n",
            "Epoch 10/10\n",
            "1500/1500 [==============================] - 16s 10ms/step - loss: 0.0084 - mean_absolute_error: 0.0669 - cosine_similarity: 0.9800 - accuracy: 2.5770e-07 - val_loss: 0.0081 - val_mean_absolute_error: 0.0653 - val_cosine_similarity: 0.9806 - val_accuracy: 5.4253e-07\n",
            "188/188 [==============================] - 1s 2ms/step\n"
          ]
        }
      ],
      "source": [
        "print(X_train_bw.shape, X_train.shape)\n",
        "\n",
        "model_test.fit(X_train_bw, X_train, validation_data=(X_valid_bw, X_valid), epochs=10, verbose=1)\n",
        "predictions_test_recol = model_test.predict(X_test_bw, verbose=1)"
      ]
    },
    {
      "cell_type": "code",
      "execution_count": null,
      "metadata": {
        "colab": {
          "base_uri": "https://localhost:8080/",
          "height": 249
        },
        "id": "E8sky7ayNdGZ",
        "outputId": "5c0ff95b-badf-40cf-e2a3-8e4a8f2fa4d5"
      },
      "outputs": [
        {
          "name": "stderr",
          "output_type": "stream",
          "text": [
            "/usr/local/lib/python3.7/dist-packages/ipykernel_launcher.py:4: MatplotlibDeprecationWarning: Adding an axes using the same arguments as a previous axes currently reuses the earlier instance.  In a future version, a new instance will always be created and returned.  Meanwhile, this warning can be suppressed, and the future behavior ensured, by passing a unique label to each axes instance.\n",
            "  after removing the cwd from sys.path.\n",
            "/usr/local/lib/python3.7/dist-packages/ipykernel_launcher.py:6: MatplotlibDeprecationWarning: Adding an axes using the same arguments as a previous axes currently reuses the earlier instance.  In a future version, a new instance will always be created and returned.  Meanwhile, this warning can be suppressed, and the future behavior ensured, by passing a unique label to each axes instance.\n",
            "  \n"
          ]
        },
        {
          "data": {
            "image/png": "[encoded data removed]",
            "text/plain": [
              "<Figure size 432x288 with 2 Axes>"
            ]
          },
          "metadata": {
            "needs_background": "light"
          },
          "output_type": "display_data"
        }
      ],
      "source": [
        "img_compare(X_test[1], predictions_test_recol[1])"
      ]
    },
    {
      "cell_type": "markdown",
      "metadata": {
        "id": "x1p0cmaWesex"
      },
      "source": [
        "### try 4 models for color channels/grayscales dimensions and one for combination."
      ]
    },
    {
      "cell_type": "code",
      "execution_count": 9,
      "metadata": {
        "id": "wv2EpgMNOYf-"
      },
      "outputs": [],
      "source": [
        "small_model_color = Sequential()\n",
        "small_model_color.add(Conv2D(16, (3,3), padding='same', activation='relu', input_shape=(32,32,1)))\n",
        "small_model_color.add(MaxPooling2D())\n",
        "small_model_color.add(Conv2D(32, kernel_size = (3,3), padding='same',  activation='relu'))\n",
        "small_model_color.add(MaxPooling2D())\n",
        "small_model_color.add(Conv2D(64, kernel_size = (3,3), padding='same',  activation='relu'))\n",
        "small_model_color.add(UpSampling2D())\n",
        "small_model_color.add(Conv2D(32, kernel_size = (3,3), padding='same',  activation='relu'))\n",
        "small_model_color.add(UpSampling2D())\n",
        "small_model_color.add(Conv2D(16, (3,3), padding='same', activation='relu'))\n",
        "small_model_color.add(Conv2D(1, (3,3), padding='same', activation='sigmoid'))\n",
        "\n",
        "\n",
        "small_model_color.compile(\n",
        "    optimizer=keras.optimizers.Adam(learning_rate=1e-3),\n",
        "    loss=keras.losses.MeanSquaredError(),\n",
        "    metrics=[keras.metrics.MeanAbsoluteError(),\n",
        "            keras.metrics.CosineSimilarity(),\n",
        "             keras.metrics.Accuracy()])"
      ]
    },
    {
      "cell_type": "code",
      "execution_count": 10,
      "metadata": {
        "colab": {
          "base_uri": "https://localhost:8080/"
        },
        "id": "7xVk39yeLyeq",
        "outputId": "3076d734-b7ee-4a01-b08d-45fe57a26e2e"
      },
      "outputs": [
        {
          "name": "stdout",
          "output_type": "stream",
          "text": [
            "Model: \"sequential_1\"\n",
            "_________________________________________________________________\n",
            "Layer (type)                 Output Shape              Param #   \n",
            "=================================================================\n",
            "conv2d_9 (Conv2D)            (None, 32, 32, 16)        160       \n",
            "_________________________________________________________________\n",
            "max_pooling2d_2 (MaxPooling2 (None, 16, 16, 16)        0         \n",
            "_________________________________________________________________\n",
            "conv2d_10 (Conv2D)           (None, 16, 16, 32)        4640      \n",
            "_________________________________________________________________\n",
            "max_pooling2d_3 (MaxPooling2 (None, 8, 8, 32)          0         \n",
            "_________________________________________________________________\n",
            "conv2d_11 (Conv2D)           (None, 8, 8, 64)          18496     \n",
            "_________________________________________________________________\n",
            "up_sampling2d_2 (UpSampling2 (None, 16, 16, 64)        0         \n",
            "_________________________________________________________________\n",
            "conv2d_12 (Conv2D)           (None, 16, 16, 32)        18464     \n",
            "_________________________________________________________________\n",
            "up_sampling2d_3 (UpSampling2 (None, 32, 32, 32)        0         \n",
            "_________________________________________________________________\n",
            "conv2d_13 (Conv2D)           (None, 32, 32, 16)        4624      \n",
            "_________________________________________________________________\n",
            "conv2d_14 (Conv2D)           (None, 32, 32, 1)         145       \n",
            "=================================================================\n",
            "Total params: 46,529\n",
            "Trainable params: 46,529\n",
            "Non-trainable params: 0\n",
            "_________________________________________________________________\n",
            "Epoch 1/10\n",
            "1500/1500 [==============================] - 52s 15ms/step - loss: 0.0172 - mean_absolute_error: 0.0992 - cosine_similarity: 0.9760 - accuracy: 1.0173e-07 - val_loss: 0.0112 - val_mean_absolute_error: 0.0800 - val_cosine_similarity: 0.9835 - val_accuracy: 1.6276e-07\n",
            "Epoch 2/10\n",
            "1500/1500 [==============================] - 20s 13ms/step - loss: 0.0113 - mean_absolute_error: 0.0805 - cosine_similarity: 0.9842 - accuracy: 1.0173e-07 - val_loss: 0.0102 - val_mean_absolute_error: 0.0756 - val_cosine_similarity: 0.9858 - val_accuracy: 1.6276e-07\n",
            "Epoch 3/10\n",
            "1500/1500 [==============================] - 20s 13ms/step - loss: 0.0104 - mean_absolute_error: 0.0767 - cosine_similarity: 0.9860 - accuracy: 8.1380e-08 - val_loss: 0.0097 - val_mean_absolute_error: 0.0738 - val_cosine_similarity: 0.9870 - val_accuracy: 0.0000e+00\n",
            "Epoch 4/10\n",
            "1500/1500 [==============================] - 20s 13ms/step - loss: 0.0097 - mean_absolute_error: 0.0738 - cosine_similarity: 0.9871 - accuracy: 2.0345e-07 - val_loss: 0.0092 - val_mean_absolute_error: 0.0711 - val_cosine_similarity: 0.9879 - val_accuracy: 0.0000e+00\n",
            "Epoch 5/10\n",
            "1500/1500 [==============================] - 20s 13ms/step - loss: 0.0094 - mean_absolute_error: 0.0722 - cosine_similarity: 0.9878 - accuracy: 1.8311e-07 - val_loss: 0.0089 - val_mean_absolute_error: 0.0705 - val_cosine_similarity: 0.9882 - val_accuracy: 0.0000e+00\n",
            "Epoch 6/10\n",
            "1500/1500 [==============================] - 20s 13ms/step - loss: 0.0091 - mean_absolute_error: 0.0707 - cosine_similarity: 0.9883 - accuracy: 2.4414e-07 - val_loss: 0.0085 - val_mean_absolute_error: 0.0682 - val_cosine_similarity: 0.9890 - val_accuracy: 0.0000e+00\n",
            "Epoch 7/10\n",
            "1500/1500 [==============================] - 20s 13ms/step - loss: 0.0089 - mean_absolute_error: 0.0697 - cosine_similarity: 0.9887 - accuracy: 1.8311e-07 - val_loss: 0.0084 - val_mean_absolute_error: 0.0676 - val_cosine_similarity: 0.9894 - val_accuracy: 8.1380e-07\n",
            "Epoch 8/10\n",
            "1500/1500 [==============================] - 20s 13ms/step - loss: 0.0087 - mean_absolute_error: 0.0690 - cosine_similarity: 0.9889 - accuracy: 2.4414e-07 - val_loss: 0.0083 - val_mean_absolute_error: 0.0674 - val_cosine_similarity: 0.9894 - val_accuracy: 3.2552e-07\n",
            "Epoch 9/10\n",
            "1500/1500 [==============================] - 20s 13ms/step - loss: 0.0086 - mean_absolute_error: 0.0683 - cosine_similarity: 0.9891 - accuracy: 1.2207e-07 - val_loss: 0.0083 - val_mean_absolute_error: 0.0668 - val_cosine_similarity: 0.9898 - val_accuracy: 0.0000e+00\n",
            "Epoch 10/10\n",
            "1500/1500 [==============================] - 20s 13ms/step - loss: 0.0085 - mean_absolute_error: 0.0679 - cosine_similarity: 0.9893 - accuracy: 2.4414e-07 - val_loss: 0.0081 - val_mean_absolute_error: 0.0663 - val_cosine_similarity: 0.9897 - val_accuracy: 3.2552e-07\n",
            "188/188 [==============================] - 1s 6ms/step - loss: 0.0081 - mean_absolute_error: 0.0663 - cosine_similarity: 0.9897 - accuracy: 3.2552e-07\n",
            "evaluations for validation set\n",
            "\t loss :  0.008149120025336742\n",
            "\t mean_absolute_error :  0.06629954278469086\n",
            "\t cosine_similarity :  0.9897388219833374\n",
            "\t accuracy :  3.25520829846937e-07\n",
            "1500/1500 [==============================] - 4s 3ms/step\n",
            "188/188 [==============================] - 1s 3ms/step\n",
            "188/188 [==============================] - 0s 3ms/step\n",
            "Model: \"sequential_1\"\n",
            "_________________________________________________________________\n",
            "Layer (type)                 Output Shape              Param #   \n",
            "=================================================================\n",
            "conv2d_9 (Conv2D)            (None, 32, 32, 16)        160       \n",
            "_________________________________________________________________\n",
            "max_pooling2d_2 (MaxPooling2 (None, 16, 16, 16)        0         \n",
            "_________________________________________________________________\n",
            "conv2d_10 (Conv2D)           (None, 16, 16, 32)        4640      \n",
            "_________________________________________________________________\n",
            "max_pooling2d_3 (MaxPooling2 (None, 8, 8, 32)          0         \n",
            "_________________________________________________________________\n",
            "conv2d_11 (Conv2D)           (None, 8, 8, 64)          18496     \n",
            "_________________________________________________________________\n",
            "up_sampling2d_2 (UpSampling2 (None, 16, 16, 64)        0         \n",
            "_________________________________________________________________\n",
            "conv2d_12 (Conv2D)           (None, 16, 16, 32)        18464     \n",
            "_________________________________________________________________\n",
            "up_sampling2d_3 (UpSampling2 (None, 32, 32, 32)        0         \n",
            "_________________________________________________________________\n",
            "conv2d_13 (Conv2D)           (None, 32, 32, 16)        4624      \n",
            "_________________________________________________________________\n",
            "conv2d_14 (Conv2D)           (None, 32, 32, 1)         145       \n",
            "=================================================================\n",
            "Total params: 46,529\n",
            "Trainable params: 46,529\n",
            "Non-trainable params: 0\n",
            "_________________________________________________________________\n",
            "Epoch 1/10\n",
            "1500/1500 [==============================] - 18s 12ms/step - loss: 0.0037 - mean_absolute_error: 0.0450 - cosine_similarity: 0.9929 - accuracy: 3.6621e-07 - val_loss: 0.0034 - val_mean_absolute_error: 0.0428 - val_cosine_similarity: 0.9934 - val_accuracy: 6.5104e-07\n",
            "Epoch 2/10\n",
            "1500/1500 [==============================] - 18s 12ms/step - loss: 0.0036 - mean_absolute_error: 0.0443 - cosine_similarity: 0.9932 - accuracy: 2.2380e-07 - val_loss: 0.0041 - val_mean_absolute_error: 0.0482 - val_cosine_similarity: 0.9932 - val_accuracy: 4.8828e-07\n",
            "Epoch 3/10\n",
            "1500/1500 [==============================] - 18s 12ms/step - loss: 0.0035 - mean_absolute_error: 0.0437 - cosine_similarity: 0.9933 - accuracy: 3.8656e-07 - val_loss: 0.0033 - val_mean_absolute_error: 0.0422 - val_cosine_similarity: 0.9937 - val_accuracy: 4.8828e-07\n",
            "Epoch 4/10\n",
            "1500/1500 [==============================] - 19s 13ms/step - loss: 0.0035 - mean_absolute_error: 0.0435 - cosine_similarity: 0.9935 - accuracy: 3.0518e-07 - val_loss: 0.0032 - val_mean_absolute_error: 0.0415 - val_cosine_similarity: 0.9939 - val_accuracy: 3.2552e-07\n",
            "Epoch 5/10\n",
            "1500/1500 [==============================] - 19s 13ms/step - loss: 0.0034 - mean_absolute_error: 0.0430 - cosine_similarity: 0.9936 - accuracy: 4.6794e-07 - val_loss: 0.0039 - val_mean_absolute_error: 0.0478 - val_cosine_similarity: 0.9938 - val_accuracy: 3.2552e-07\n",
            "Epoch 6/10\n",
            "1500/1500 [==============================] - 19s 13ms/step - loss: 0.0034 - mean_absolute_error: 0.0428 - cosine_similarity: 0.9937 - accuracy: 4.0690e-07 - val_loss: 0.0032 - val_mean_absolute_error: 0.0413 - val_cosine_similarity: 0.9939 - val_accuracy: 3.2552e-07\n",
            "Epoch 7/10\n",
            "1500/1500 [==============================] - 19s 13ms/step - loss: 0.0034 - mean_absolute_error: 0.0425 - cosine_similarity: 0.9937 - accuracy: 4.2725e-07 - val_loss: 0.0033 - val_mean_absolute_error: 0.0430 - val_cosine_similarity: 0.9939 - val_accuracy: 3.2552e-07\n",
            "Epoch 8/10\n",
            "1500/1500 [==============================] - 19s 13ms/step - loss: 0.0034 - mean_absolute_error: 0.0426 - cosine_similarity: 0.9938 - accuracy: 2.8483e-07 - val_loss: 0.0032 - val_mean_absolute_error: 0.0411 - val_cosine_similarity: 0.9941 - val_accuracy: 1.6276e-07\n",
            "Epoch 9/10\n",
            "1500/1500 [==============================] - 19s 13ms/step - loss: 0.0033 - mean_absolute_error: 0.0423 - cosine_similarity: 0.9938 - accuracy: 3.6621e-07 - val_loss: 0.0032 - val_mean_absolute_error: 0.0410 - val_cosine_similarity: 0.9941 - val_accuracy: 4.8828e-07\n",
            "Epoch 10/10\n",
            "1500/1500 [==============================] - 19s 13ms/step - loss: 0.0033 - mean_absolute_error: 0.0422 - cosine_similarity: 0.9939 - accuracy: 2.8483e-07 - val_loss: 0.0032 - val_mean_absolute_error: 0.0414 - val_cosine_similarity: 0.9940 - val_accuracy: 0.0000e+00\n",
            "188/188 [==============================] - 1s 6ms/step - loss: 0.0032 - mean_absolute_error: 0.0414 - cosine_similarity: 0.9940 - accuracy: 0.0000e+00\n",
            "evaluations for validation set\n",
            "\t loss :  0.0032236163970083\n",
            "\t mean_absolute_error :  0.04137526825070381\n",
            "\t cosine_similarity :  0.9940319657325745\n",
            "\t accuracy :  0.0\n",
            "1500/1500 [==============================] - 4s 3ms/step\n",
            "188/188 [==============================] - 1s 3ms/step\n",
            "188/188 [==============================] - 1s 3ms/step\n",
            "Model: \"sequential_1\"\n",
            "_________________________________________________________________\n",
            "Layer (type)                 Output Shape              Param #   \n",
            "=================================================================\n",
            "conv2d_9 (Conv2D)            (None, 32, 32, 16)        160       \n",
            "_________________________________________________________________\n",
            "max_pooling2d_2 (MaxPooling2 (None, 16, 16, 16)        0         \n",
            "_________________________________________________________________\n",
            "conv2d_10 (Conv2D)           (None, 16, 16, 32)        4640      \n",
            "_________________________________________________________________\n",
            "max_pooling2d_3 (MaxPooling2 (None, 8, 8, 32)          0         \n",
            "_________________________________________________________________\n",
            "conv2d_11 (Conv2D)           (None, 8, 8, 64)          18496     \n",
            "_________________________________________________________________\n",
            "up_sampling2d_2 (UpSampling2 (None, 16, 16, 64)        0         \n",
            "_________________________________________________________________\n",
            "conv2d_12 (Conv2D)           (None, 16, 16, 32)        18464     \n",
            "_________________________________________________________________\n",
            "up_sampling2d_3 (UpSampling2 (None, 32, 32, 32)        0         \n",
            "_________________________________________________________________\n",
            "conv2d_13 (Conv2D)           (None, 32, 32, 16)        4624      \n",
            "_________________________________________________________________\n",
            "conv2d_14 (Conv2D)           (None, 32, 32, 1)         145       \n",
            "=================================================================\n",
            "Total params: 46,529\n",
            "Trainable params: 46,529\n",
            "Non-trainable params: 0\n",
            "_________________________________________________________________\n",
            "Epoch 1/10\n",
            "1500/1500 [==============================] - 17s 11ms/step - loss: 0.0088 - mean_absolute_error: 0.0698 - cosine_similarity: 0.9871 - accuracy: 1.6276e-07 - val_loss: 0.0079 - val_mean_absolute_error: 0.0660 - val_cosine_similarity: 0.9880 - val_accuracy: 1.6276e-07\n",
            "Epoch 2/10\n",
            "1500/1500 [==============================] - 17s 12ms/step - loss: 0.0084 - mean_absolute_error: 0.0679 - cosine_similarity: 0.9874 - accuracy: 1.2207e-07 - val_loss: 0.0079 - val_mean_absolute_error: 0.0660 - val_cosine_similarity: 0.9881 - val_accuracy: 4.8828e-07\n",
            "Epoch 3/10\n",
            "1500/1500 [==============================] - 18s 12ms/step - loss: 0.0083 - mean_absolute_error: 0.0677 - cosine_similarity: 0.9875 - accuracy: 1.6276e-07 - val_loss: 0.0081 - val_mean_absolute_error: 0.0673 - val_cosine_similarity: 0.9880 - val_accuracy: 1.6276e-07\n",
            "Epoch 4/10\n",
            "1500/1500 [==============================] - 19s 13ms/step - loss: 0.0082 - mean_absolute_error: 0.0672 - cosine_similarity: 0.9875 - accuracy: 2.2380e-07 - val_loss: 0.0079 - val_mean_absolute_error: 0.0664 - val_cosine_similarity: 0.9879 - val_accuracy: 3.2552e-07\n",
            "Epoch 5/10\n",
            "1500/1500 [==============================] - 19s 13ms/step - loss: 0.0083 - mean_absolute_error: 0.0674 - cosine_similarity: 0.9875 - accuracy: 1.6276e-07 - val_loss: 0.0083 - val_mean_absolute_error: 0.0679 - val_cosine_similarity: 0.9876 - val_accuracy: 1.6276e-07\n",
            "Epoch 6/10\n",
            "1500/1500 [==============================] - 19s 13ms/step - loss: 0.0082 - mean_absolute_error: 0.0671 - cosine_similarity: 0.9876 - accuracy: 1.8311e-07 - val_loss: 0.0079 - val_mean_absolute_error: 0.0658 - val_cosine_similarity: 0.9878 - val_accuracy: 3.2552e-07\n",
            "Epoch 7/10\n",
            "1500/1500 [==============================] - 19s 13ms/step - loss: 0.0082 - mean_absolute_error: 0.0672 - cosine_similarity: 0.9876 - accuracy: 1.8311e-07 - val_loss: 0.0079 - val_mean_absolute_error: 0.0660 - val_cosine_similarity: 0.9881 - val_accuracy: 3.2552e-07\n",
            "Epoch 8/10\n",
            "1500/1500 [==============================] - 20s 13ms/step - loss: 0.0081 - mean_absolute_error: 0.0667 - cosine_similarity: 0.9876 - accuracy: 2.2380e-07 - val_loss: 0.0077 - val_mean_absolute_error: 0.0647 - val_cosine_similarity: 0.9882 - val_accuracy: 0.0000e+00\n",
            "Epoch 9/10\n",
            "1500/1500 [==============================] - 19s 13ms/step - loss: 0.0081 - mean_absolute_error: 0.0669 - cosine_similarity: 0.9876 - accuracy: 1.0173e-07 - val_loss: 0.0081 - val_mean_absolute_error: 0.0678 - val_cosine_similarity: 0.9881 - val_accuracy: 1.6276e-07\n",
            "Epoch 10/10\n",
            "1500/1500 [==============================] - 19s 13ms/step - loss: 0.0081 - mean_absolute_error: 0.0667 - cosine_similarity: 0.9876 - accuracy: 1.6276e-07 - val_loss: 0.0091 - val_mean_absolute_error: 0.0728 - val_cosine_similarity: 0.9876 - val_accuracy: 4.8828e-07\n",
            "188/188 [==============================] - 1s 6ms/step - loss: 0.0091 - mean_absolute_error: 0.0728 - cosine_similarity: 0.9876 - accuracy: 4.8828e-07\n",
            "evaluations for validation set\n",
            "\t loss :  0.009138275869190693\n",
            "\t mean_absolute_error :  0.07277292013168335\n",
            "\t cosine_similarity :  0.9875760674476624\n",
            "\t accuracy :  4.882812731921149e-07\n",
            "1500/1500 [==============================] - 4s 3ms/step\n",
            "188/188 [==============================] - 1s 3ms/step\n",
            "188/188 [==============================] - 1s 3ms/step\n",
            "Model: \"sequential_1\"\n",
            "_________________________________________________________________\n",
            "Layer (type)                 Output Shape              Param #   \n",
            "=================================================================\n",
            "conv2d_9 (Conv2D)            (None, 32, 32, 16)        160       \n",
            "_________________________________________________________________\n",
            "max_pooling2d_2 (MaxPooling2 (None, 16, 16, 16)        0         \n",
            "_________________________________________________________________\n",
            "conv2d_10 (Conv2D)           (None, 16, 16, 32)        4640      \n",
            "_________________________________________________________________\n",
            "max_pooling2d_3 (MaxPooling2 (None, 8, 8, 32)          0         \n",
            "_________________________________________________________________\n",
            "conv2d_11 (Conv2D)           (None, 8, 8, 64)          18496     \n",
            "_________________________________________________________________\n",
            "up_sampling2d_2 (UpSampling2 (None, 16, 16, 64)        0         \n",
            "_________________________________________________________________\n",
            "conv2d_12 (Conv2D)           (None, 16, 16, 32)        18464     \n",
            "_________________________________________________________________\n",
            "up_sampling2d_3 (UpSampling2 (None, 32, 32, 32)        0         \n",
            "_________________________________________________________________\n",
            "conv2d_13 (Conv2D)           (None, 32, 32, 16)        4624      \n",
            "_________________________________________________________________\n",
            "conv2d_14 (Conv2D)           (None, 32, 32, 1)         145       \n",
            "=================================================================\n",
            "Total params: 46,529\n",
            "Trainable params: 46,529\n",
            "Non-trainable params: 0\n",
            "_________________________________________________________________\n",
            "Epoch 1/10\n",
            "1500/1500 [==============================] - 18s 12ms/step - loss: 18087.0156 - mean_absolute_error: 119.8262 - cosine_similarity: 0.9988 - accuracy: 0.0011 - val_loss: 18095.7715 - val_mean_absolute_error: 120.0905 - val_cosine_similarity: 0.9990 - val_accuracy: 0.0011\n",
            "Epoch 2/10\n",
            "1500/1500 [==============================] - 19s 12ms/step - loss: 18086.9180 - mean_absolute_error: 119.8256 - cosine_similarity: 0.9988 - accuracy: 0.0011 - val_loss: 18095.7715 - val_mean_absolute_error: 120.0905 - val_cosine_similarity: 0.9990 - val_accuracy: 0.0011\n",
            "Epoch 3/10\n",
            "1500/1500 [==============================] - 20s 13ms/step - loss: 18086.9102 - mean_absolute_error: 119.8257 - cosine_similarity: 0.9988 - accuracy: 0.0011 - val_loss: 18095.7715 - val_mean_absolute_error: 120.0905 - val_cosine_similarity: 0.9990 - val_accuracy: 0.0011\n",
            "Epoch 4/10\n",
            "1500/1500 [==============================] - 20s 14ms/step - loss: 18086.9121 - mean_absolute_error: 119.8257 - cosine_similarity: 0.9988 - accuracy: 0.0011 - val_loss: 18095.7715 - val_mean_absolute_error: 120.0905 - val_cosine_similarity: 0.9990 - val_accuracy: 0.0011\n",
            "Epoch 5/10\n",
            "1500/1500 [==============================] - 21s 14ms/step - loss: 18086.9102 - mean_absolute_error: 119.8256 - cosine_similarity: 0.9988 - accuracy: 0.0011 - val_loss: 18095.7715 - val_mean_absolute_error: 120.0905 - val_cosine_similarity: 0.9990 - val_accuracy: 0.0011\n",
            "Epoch 6/10\n",
            "1500/1500 [==============================] - 21s 14ms/step - loss: 18086.9258 - mean_absolute_error: 119.8257 - cosine_similarity: 0.9988 - accuracy: 0.0011 - val_loss: 18095.7715 - val_mean_absolute_error: 120.0905 - val_cosine_similarity: 0.9990 - val_accuracy: 0.0011\n",
            "Epoch 7/10\n",
            "1500/1500 [==============================] - 21s 14ms/step - loss: 18086.9062 - mean_absolute_error: 119.8256 - cosine_similarity: 0.9988 - accuracy: 0.0011 - val_loss: 18095.7715 - val_mean_absolute_error: 120.0905 - val_cosine_similarity: 0.9990 - val_accuracy: 0.0011\n",
            "Epoch 8/10\n",
            "1500/1500 [==============================] - 21s 14ms/step - loss: 18086.9082 - mean_absolute_error: 119.8256 - cosine_similarity: 0.9988 - accuracy: 0.0011 - val_loss: 18095.7715 - val_mean_absolute_error: 120.0905 - val_cosine_similarity: 0.9990 - val_accuracy: 0.0011\n",
            "Epoch 9/10\n",
            "1500/1500 [==============================] - 20s 14ms/step - loss: 18086.9004 - mean_absolute_error: 119.8257 - cosine_similarity: 0.9988 - accuracy: 0.0011 - val_loss: 18095.7715 - val_mean_absolute_error: 120.0905 - val_cosine_similarity: 0.9990 - val_accuracy: 0.0011\n",
            "Epoch 10/10\n",
            "1500/1500 [==============================] - 20s 14ms/step - loss: 18086.9062 - mean_absolute_error: 119.8256 - cosine_similarity: 0.9988 - accuracy: 0.0011 - val_loss: 18095.7715 - val_mean_absolute_error: 120.0905 - val_cosine_similarity: 0.9990 - val_accuracy: 0.0011\n",
            "188/188 [==============================] - 1s 6ms/step - loss: 18095.7715 - mean_absolute_error: 120.0905 - cosine_similarity: 0.9990 - accuracy: 0.0011\n",
            "evaluations for validation set\n",
            "\t loss :  18095.771484375\n",
            "\t mean_absolute_error :  120.09050750732422\n",
            "\t cosine_similarity :  0.9989826083183289\n",
            "\t accuracy :  0.001133626326918602\n",
            "1500/1500 [==============================] - 4s 3ms/step\n",
            "188/188 [==============================] - 1s 3ms/step\n",
            "188/188 [==============================] - 1s 3ms/step\n"
          ]
        }
      ],
      "source": [
        "small_model_r, X_train_r, X_valid_r, X_test_r = model_fit_transform(small_model_color, X_train_bw, X_train[:,:,:,0], X_valid_bw, X_valid[:,:,:,0], X_test_bw, X_test[:,:,:,0])\n",
        "small_model_g, X_train_g, X_valid_g, X_test_g = model_fit_transform(small_model_color, X_train_bw, X_train[:,:,:,1], X_valid_bw, X_valid[:,:,:,1], X_test_bw, X_test[:,:,:,1])\n",
        "small_model_b, X_train_b, X_valid_b, X_test_b = model_fit_transform(small_model_color, X_train_bw, X_train[:,:,:,2], X_valid_bw, X_valid[:,:,:,2], X_test_bw, X_test[:,:,:,2])\n",
        "small_model_gray, X_train_gray, X_valid_gray, X_test_gray = model_fit_transform(small_model_color, X_train_bw, X_train_bw, X_valid_bw, X_valid_bw, X_test_bw, X_test_bw)"
      ]
    },
    {
      "cell_type": "code",
      "execution_count": 12,
      "metadata": {
        "id": "KSqWbuUgRTaL"
      },
      "outputs": [],
      "source": [
        "X_train_colstack = np.stack((X_train_r, X_train_g, X_train_b, X_train_gray), 3).reshape((48000,32,32,4))\n",
        "X_valid_colstack = np.stack((X_valid_r, X_valid_g, X_valid_b, X_valid_gray), 3).reshape((6000,32,32,4))\n",
        "X_test_colstack = np.stack((X_test_r, X_test_g, X_valid_b, X_valid_gray), 3).reshape((6000,32,32,4))\n"
      ]
    },
    {
      "cell_type": "code",
      "execution_count": null,
      "metadata": {
        "colab": {
          "base_uri": "https://localhost:8080/"
        },
        "id": "9K0SMXUvX_no",
        "outputId": "9d7b0e75-bf89-45dd-bbcb-5d1bc4023b93"
      },
      "outputs": [
        {
          "name": "stdout",
          "output_type": "stream",
          "text": [
            "Model: \"sequential_3\"\n",
            "_________________________________________________________________\n",
            "Layer (type)                 Output Shape              Param #   \n",
            "=================================================================\n",
            "conv2d_15 (Conv2D)           (None, 32, 32, 128)       4736      \n",
            "_________________________________________________________________\n",
            "conv2d_16 (Conv2D)           (None, 32, 32, 92)        106076    \n",
            "_________________________________________________________________\n",
            "max_pooling2d_4 (MaxPooling2 (None, 16, 16, 92)        0         \n",
            "_________________________________________________________________\n",
            "conv2d_17 (Conv2D)           (None, 16, 16, 78)        64662     \n",
            "_________________________________________________________________\n",
            "max_pooling2d_5 (MaxPooling2 (None, 8, 8, 78)          0         \n",
            "_________________________________________________________________\n",
            "conv2d_18 (Conv2D)           (None, 8, 8, 64)          44992     \n",
            "_________________________________________________________________\n",
            "up_sampling2d_4 (UpSampling2 (None, 16, 16, 64)        0         \n",
            "_________________________________________________________________\n",
            "conv2d_19 (Conv2D)           (None, 16, 16, 32)        18464     \n",
            "_________________________________________________________________\n",
            "conv2d_20 (Conv2D)           (None, 16, 16, 24)        6936      \n",
            "_________________________________________________________________\n",
            "conv2d_21 (Conv2D)           (None, 16, 16, 16)        3472      \n",
            "_________________________________________________________________\n",
            "up_sampling2d_5 (UpSampling2 (None, 32, 32, 16)        0         \n",
            "_________________________________________________________________\n",
            "conv2d_22 (Conv2D)           (None, 32, 32, 8)         1160      \n",
            "_________________________________________________________________\n",
            "conv2d_23 (Conv2D)           (None, 32, 32, 3)         219       \n",
            "=================================================================\n",
            "Total params: 250,717\n",
            "Trainable params: 250,717\n",
            "Non-trainable params: 0\n",
            "_________________________________________________________________\n",
            "Epoch 1/10\n",
            "1500/1500 [==============================] - 39s 25ms/step - loss: 0.0116 - mean_absolute_error: 0.0783 - cosine_similarity: 0.9781 - val_loss: 0.0082 - val_mean_absolute_error: 0.0669 - val_cosine_similarity: 0.9806\n",
            "Epoch 2/10\n",
            "1500/1500 [==============================] - 37s 25ms/step - loss: 0.0080 - mean_absolute_error: 0.0660 - cosine_similarity: 0.9803 - val_loss: 0.0077 - val_mean_absolute_error: 0.0651 - val_cosine_similarity: 0.9811\n",
            "Epoch 3/10\n",
            "1500/1500 [==============================] - 37s 25ms/step - loss: 0.0073 - mean_absolute_error: 0.0628 - cosine_similarity: 0.9806 - val_loss: 0.0074 - val_mean_absolute_error: 0.0630 - val_cosine_similarity: 0.9808\n",
            "Epoch 4/10\n",
            "1500/1500 [==============================] - 38s 25ms/step - loss: 0.0070 - mean_absolute_error: 0.0611 - cosine_similarity: 0.9807 - val_loss: 0.0067 - val_mean_absolute_error: 0.0597 - val_cosine_similarity: 0.9815\n",
            "Epoch 5/10\n",
            "1500/1500 [==============================] - 37s 25ms/step - loss: 0.0068 - mean_absolute_error: 0.0600 - cosine_similarity: 0.9809 - val_loss: 0.0067 - val_mean_absolute_error: 0.0593 - val_cosine_similarity: 0.9816\n",
            "Epoch 6/10\n",
            "1500/1500 [==============================] - 38s 25ms/step - loss: 0.0067 - mean_absolute_error: 0.0593 - cosine_similarity: 0.9810 - val_loss: 0.0064 - val_mean_absolute_error: 0.0581 - val_cosine_similarity: 0.9817\n",
            "Epoch 7/10\n",
            "1500/1500 [==============================] - 38s 25ms/step - loss: 0.0065 - mean_absolute_error: 0.0587 - cosine_similarity: 0.9811 - val_loss: 0.0068 - val_mean_absolute_error: 0.0598 - val_cosine_similarity: 0.9811\n",
            "Epoch 8/10\n",
            "1500/1500 [==============================] - 38s 25ms/step - loss: 0.0065 - mean_absolute_error: 0.0582 - cosine_similarity: 0.9812 - val_loss: 0.0065 - val_mean_absolute_error: 0.0585 - val_cosine_similarity: 0.9820\n",
            "Epoch 9/10\n",
            "1500/1500 [==============================] - 38s 25ms/step - loss: 0.0064 - mean_absolute_error: 0.0578 - cosine_similarity: 0.9813 - val_loss: 0.0063 - val_mean_absolute_error: 0.0572 - val_cosine_similarity: 0.9817\n",
            "Epoch 10/10\n",
            "1500/1500 [==============================] - 38s 25ms/step - loss: 0.0063 - mean_absolute_error: 0.0575 - cosine_similarity: 0.9814 - val_loss: 0.0062 - val_mean_absolute_error: 0.0563 - val_cosine_similarity: 0.9819\n",
            "188/188 [==============================] - 2s 10ms/step - loss: 0.0062 - mean_absolute_error: 0.0563 - cosine_similarity: 0.9819\n",
            "evaluations for validation set\n",
            "\t loss :  0.006185232196003199\n",
            "\t mean_absolute_error :  0.056346673518419266\n",
            "\t cosine_similarity :  0.9819119572639465\n",
            "1500/1500 [==============================] - 9s 6ms/step\n"
          ]
        }
      ],
      "source": [
        "model_comb_recol = Sequential()\n",
        "model_comb_recol.add(Input(shape=X_train_colstack[0].shape))\n",
        "model_comb_recol.add(Conv2D(128, kernel_size = (3,3), padding='same',  activation='relu'))\n",
        "model_comb_recol.add(Conv2D(92, kernel_size = (3,3), padding='same',  activation='relu'))\n",
        "model_comb_recol.add(MaxPooling2D(pool_size = (2,2)))\n",
        "model_comb_recol.add(Conv2D(78, kernel_size = (3,3), padding='same', activation='relu'))\n",
        "model_comb_recol.add(MaxPooling2D(pool_size = (2,2)))\n",
        "model_comb_recol.add(Conv2D(64, kernel_size = (3,3), padding='same', activation='relu'))\n",
        "\n",
        "model_comb_recol.add(UpSampling2D(size=(2,2)))\n",
        "model_comb_recol.add(Conv2D(32,kernel_size = (3,3), padding='same', activation='relu'))\n",
        "model_comb_recol.add(Conv2D(24,kernel_size = (3,3), padding='same', activation='relu'))\n",
        "model_comb_recol.add(Conv2D(16,kernel_size = (3,3), padding='same', activation='relu'))\n",
        "\n",
        "model_comb_recol.add(UpSampling2D())\n",
        "model_comb_recol.add(Conv2D(8,kernel_size = (3,3), padding='same', activation='relu'))\n",
        "model_comb_recol.add(Conv2D(3,(3,3), padding='same', activation='relu'))\n",
        "\n",
        "model_comb_recol.compile(\n",
        "    optimizer=keras.optimizers.Adam(learning_rate=1e-3),\n",
        "    loss=keras.losses.MeanSquaredError(),\n",
        "    metrics=[keras.metrics.MeanAbsoluteError(),\n",
        "            keras.metrics.CosineSimilarity()])\n",
        "\n",
        "model_col_comb, X_train_col_comb, X_valid_col_comb, X_test_col_comb = model_fit_transform(model_comb_recol, X_train_colstack, X_train, X_valid_colstack, X_valid, X_test_colstack, X_test)"
      ]
    },
    {
      "cell_type": "code",
      "execution_count": null,
      "metadata": {
        "id": "jOdTHdyVSTk_"
      },
      "outputs": [],
      "source": [
        "img_compare(X_test[0], X_test_col_comb[0])"
      ]
    }
  ],
  "metadata": {
    "accelerator": "GPU",
    "colab": {
      "name": "convolutional autoencoders.ipynb",
      "provenance": []
    },
    "interpreter": {
      "hash": "ddda031869fb8ce91032b63195a611ad81bb421fc11bd1c32a8661751b914dac"
    },
    "kernelspec": {
      "display_name": "Python 3.8.11 64-bit ('base': conda)",
      "name": "python3"
    },
    "language_info": {
      "codemirror_mode": {
        "name": "ipython",
        "version": 3
      },
      "file_extension": ".py",
      "mimetype": "text/x-python",
      "name": "python",
      "nbconvert_exporter": "python",
      "pygments_lexer": "ipython3",
      "version": "3.8.8"
    },
    "orig_nbformat": 4
  },
  "nbformat": 4,
  "nbformat_minor": 0
}
